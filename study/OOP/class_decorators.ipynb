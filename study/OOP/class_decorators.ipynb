{
 "cells": [
  {
   "attachments": {},
   "cell_type": "markdown",
   "metadata": {},
   "source": [
    "# Class Decorators:"
   ]
  },
  {
   "cell_type": "code",
   "execution_count": 40,
   "metadata": {},
   "outputs": [
    {
     "name": "stdout",
     "output_type": "stream",
     "text": [
      "Person(name='omkar', age=23)\n",
      "Person(name='omkar', age=23)\n",
      "Person(name='omkar', age=44)\n",
      "-----------------------------------------\n",
      "True\n",
      "False\n"
     ]
    }
   ],
   "source": [
    "class Person:\n",
    "    def __init__(self, name, age):\n",
    "        self.name = name\n",
    "        self.age = age\n",
    "\n",
    "    def __repr__(self):\n",
    "        return f\"Person(name='{self.name}', age={self.age})\"\n",
    "    \n",
    "    def __eq__(self, other):\n",
    "        if isinstance(other, Person):\n",
    "            return self.name == other.name and self.age == other.age\n",
    "        return False\n",
    "    \n",
    "##########################################\n",
    "# creating objects: \n",
    "Person1 = Person('omkar', 23)\n",
    "Person2 = Person('omkar', 23)\n",
    "Person3 = Person('omkar', 44)\n",
    "\n",
    "print(Person1)\n",
    "print(Person2)\n",
    "print(Person3)\n",
    "\n",
    "print('-----------------------------------------')\n",
    "\n",
    "print(Person1 == Person2)  \n",
    "print(Person1 == Person3)  \n"
   ]
  },
  {
   "attachments": {},
   "cell_type": "markdown",
   "metadata": {},
   "source": [
    "- it removes need of `__init__` , `__repr__` and `__eq__` methods "
   ]
  },
  {
   "cell_type": "code",
   "execution_count": 39,
   "metadata": {},
   "outputs": [
    {
     "name": "stdout",
     "output_type": "stream",
     "text": [
      "Person(name='omkar', age=2)\n",
      "Person(name='omkar', age=2)\n",
      "Person(name='omkar', age=44)\n",
      "-----------------------------------------\n",
      "True\n",
      "False\n"
     ]
    }
   ],
   "source": [
    "from dataclasses import dataclass\n",
    "\n",
    "@dataclass\n",
    "class Person:\n",
    "    name: str\n",
    "    age: int\n",
    "\n",
    "##########################################\n",
    "# creating objects: \n",
    "\n",
    "Person1 = Person('omkar', 23)\n",
    "Person2 = Person('omkar', 23)\n",
    "Person3 = Person('omkar', 44)\n",
    "\n",
    "print(Person1)\n",
    "print(Person2)\n",
    "print(Person3)\n",
    "\n",
    "print('-----------------------------------------')\n",
    "\n",
    "print(Person1 == Person2)  \n",
    "print(Person1 == Person3)  \n"
   ]
  },
  {
   "attachments": {},
   "cell_type": "markdown",
   "metadata": {},
   "source": [
    "### Custom Decorators:"
   ]
  },
  {
   "cell_type": "code",
   "execution_count": 53,
   "metadata": {},
   "outputs": [
    {
     "name": "stdout",
     "output_type": "stream",
     "text": [
      "HELLO\n"
     ]
    }
   ],
   "source": [
    "#function as decorator: function decorators:\n",
    "def uppercase_decorator(func): # nested function wrapping the inner function\n",
    "    def wrapper():\n",
    "        result = func()\n",
    "        return result.upper()\n",
    "    return wrapper\n",
    "\n",
    "\n",
    "@uppercase_decorator\n",
    "def greet():\n",
    "    return \"hello\"\n",
    "\n",
    "print(greet())  # Output: HELLO\n"
   ]
  },
  {
   "attachments": {},
   "cell_type": "markdown",
   "metadata": {},
   "source": [
    "### class decorators: "
   ]
  },
  {
   "cell_type": "code",
   "execution_count": 55,
   "metadata": {},
   "outputs": [
    {
     "name": "stdout",
     "output_type": "stream",
     "text": [
      "<class '__main__.Person'>\n",
      "Hello, John\n"
     ]
    }
   ],
   "source": [
    "def add_method_decorator(cls):\n",
    "    print(cls) # class \n",
    "    def say_hello(self):\n",
    "        return \"Hello, \" + self.name\n",
    "    \n",
    "    cls.say_hello = say_hello\n",
    "    return cls\n",
    "\n",
    "@add_method_decorator\n",
    "class Person:\n",
    "    def __init__(self, name):\n",
    "        self.name = name\n",
    "\n",
    "person = Person(\"John\")\n",
    "print(person.say_hello())  # Output: Hello, John\n"
   ]
  },
  {
   "attachments": {},
   "cell_type": "markdown",
   "metadata": {},
   "source": [
    "## Method decorators"
   ]
  },
  {
   "cell_type": "code",
   "execution_count": 50,
   "metadata": {},
   "outputs": [
    {
     "name": "stdout",
     "output_type": "stream",
     "text": [
      "HELLO\n"
     ]
    }
   ],
   "source": [
    "def uppercase_decorator(func):\n",
    "    def wrapper(self):\n",
    "        result = func(self)\n",
    "        return result.upper()\n",
    "    return wrapper\n",
    "\n",
    "class Greeting:\n",
    "    @uppercase_decorator\n",
    "    def greet(self):\n",
    "        \n",
    "        return \"hello\"\n",
    "\n",
    "greeting = Greeting()\n",
    "print(greeting.greet())  # Output: HELLO\n"
   ]
  },
  {
   "cell_type": "code",
   "execution_count": 52,
   "metadata": {},
   "outputs": [],
   "source": [
    "# method can be directly called"
   ]
  },
  {
   "cell_type": "code",
   "execution_count": 51,
   "metadata": {},
   "outputs": [
    {
     "name": "stdout",
     "output_type": "stream",
     "text": [
      "7\n"
     ]
    }
   ],
   "source": [
    "\n",
    "class MathUtils:\n",
    "    @staticmethod\n",
    "    def add(x, y):\n",
    "        return x + y\n",
    "\n",
    "result = MathUtils.add(3, 4)\n",
    "print(result)  # Output: 7"
   ]
  }
 ],
 "metadata": {
  "kernelspec": {
   "display_name": "Python 3",
   "language": "python",
   "name": "python3"
  },
  "language_info": {
   "codemirror_mode": {
    "name": "ipython",
    "version": 3
   },
   "file_extension": ".py",
   "mimetype": "text/x-python",
   "name": "python",
   "nbconvert_exporter": "python",
   "pygments_lexer": "ipython3",
   "version": "3.10.6"
  },
  "orig_nbformat": 4
 },
 "nbformat": 4,
 "nbformat_minor": 2
}
