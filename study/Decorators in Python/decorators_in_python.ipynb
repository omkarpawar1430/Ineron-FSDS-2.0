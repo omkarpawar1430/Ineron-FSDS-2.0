{
 "cells": [
  {
   "attachments": {},
   "cell_type": "markdown",
   "metadata": {},
   "source": [
    "### Decorators in Python"
   ]
  },
  {
   "attachments": {},
   "cell_type": "markdown",
   "metadata": {},
   "source": [
    "#### Prerequisites:\n",
    "A function is an instance of the Object type.\n",
    "\n",
    "You can store the function in a variable.\n",
    "\n",
    "You can pass the function as a parameter to another function.\n",
    "\n",
    "You can return the function from a function.\n",
    "\n",
    "You can store them in data structures such as hash tables, lists, …\n",
    "\n",
    "[Source](https://www.geeksforgeeks.org/decorators-in-python/)\n"
   ]
  },
  {
   "cell_type": "code",
   "execution_count": 5,
   "metadata": {},
   "outputs": [
    {
     "name": "stdout",
     "output_type": "stream",
     "text": [
      "HELLO\n",
      "HELLO\n",
      "HELLO\n"
     ]
    }
   ],
   "source": [
    "def shout(text):\n",
    "    return text.upper()\n",
    "print(shout('hello'))\n",
    "\n",
    "obj = shout # We can assign a function to variable\n",
    "print(obj(\"hello\"))\n",
    "\n",
    "val = shout('hello') # we can store the output from the function\n",
    "print(val)"
   ]
  },
  {
   "cell_type": "code",
   "execution_count": 6,
   "metadata": {},
   "outputs": [
    {
     "name": "stdout",
     "output_type": "stream",
     "text": [
      "HI, I AM CREATED BY A FUNCTION PASSED AS AN ARGUMENT.\n",
      "hi, i am created by a function passed as an argument.\n"
     ]
    }
   ],
   "source": [
    "# Python program to illustrate functions\n",
    "# can be passed as arguments to other functions\n",
    "def shout(text):\n",
    "\treturn text.upper()\n",
    "\n",
    "def whisper(text):\n",
    "\treturn text.lower()\n",
    "\n",
    "def greet(func):\n",
    "\t# storing the function in a variable\n",
    "\tgreeting = func(\"\"\"Hi, I am created by a function passed as an argument.\"\"\")\n",
    "\tprint (greeting)\n",
    "\n",
    "greet(shout)\n",
    "greet(whisper)\n"
   ]
  },
  {
   "cell_type": "code",
   "execution_count": 7,
   "metadata": {},
   "outputs": [
    {
     "name": "stdout",
     "output_type": "stream",
     "text": [
      "25\n"
     ]
    }
   ],
   "source": [
    "# Python program to illustrate functions\n",
    "# Functions can return another function\n",
    "\n",
    "def create_adder(x):\n",
    "\tdef adder(y):\n",
    "\t\treturn x+y\n",
    "\n",
    "\treturn adder\n",
    "\n",
    "add_15 = create_adder(15)\n",
    "\n",
    "print(add_15(10))\n"
   ]
  },
  {
   "cell_type": "code",
   "execution_count": 8,
   "metadata": {},
   "outputs": [
    {
     "name": "stdout",
     "output_type": "stream",
     "text": [
      "Hello, this is before function execution\n",
      "This is inside the function !!\n",
      "This is after function execution\n"
     ]
    }
   ],
   "source": [
    "# NOT Necessary: \n",
    "# defining a decorator\n",
    "def hello_decorator(func):\n",
    "\n",
    "\t# inner1 is a Wrapper function in\n",
    "\t# which the argument is called\n",
    "\t\n",
    "\t# inner function can access the outer local\n",
    "\t# functions like in this case \"func\"\n",
    "\tdef inner1():\n",
    "\t\tprint(\"Hello, this is before function execution\")\n",
    "\n",
    "\t\t# calling the actual function now\n",
    "\t\t# inside the wrapper function.\n",
    "\t\tfunc()\n",
    "\n",
    "\t\tprint(\"This is after function execution\")\n",
    "\t\t\n",
    "\treturn inner1\n",
    "\n",
    "\n",
    "# defining a function, to be called inside wrapper\n",
    "def function_to_be_used():\n",
    "\tprint(\"This is inside the function !!\")\n",
    "\n",
    "\n",
    "# passing 'function_to_be_used' inside the\n",
    "# decorator to control its behavior\n",
    "function_to_be_used = hello_decorator(function_to_be_used)\n",
    "\n",
    "\n",
    "# calling the function\n",
    "function_to_be_used()\n"
   ]
  },
  {
   "cell_type": "code",
   "execution_count": 11,
   "metadata": {},
   "outputs": [
    {
     "name": "stdout",
     "output_type": "stream",
     "text": [
      "HELLO\n"
     ]
    }
   ],
   "source": [
    "#function as decorator: \n",
    "def uppercase_decorator(func): # nested function wrapping the inner function\n",
    "    def wrapper():\n",
    "        result = func()\n",
    "        return result.upper()\n",
    "    return wrapper\n",
    "\n",
    "\n",
    "@uppercase_decorator\n",
    "def greet():\n",
    "    return \"hello\"\n",
    "\n",
    "print(greet())"
   ]
  },
  {
   "cell_type": "code",
   "execution_count": 5,
   "metadata": {},
   "outputs": [
    {
     "name": "stdout",
     "output_type": "stream",
     "text": [
      "Hello! I am Robot 1.\n",
      "\n",
      "Hello! I am Robot 2.\n",
      "I have powerful laser guns!\n"
     ]
    }
   ],
   "source": [
    "# Class decorator to add laser guns functionality to the Robot\n",
    "class LaserGunsDecorator:\n",
    "    def __init__(self, robot_class):\n",
    "        self.robot_class = robot_class\n",
    "\n",
    "    def __call__(self, *args, **kwargs):\n",
    "        robot = self.robot_class(*args, **kwargs)\n",
    "        robot.has_laser_guns = True\n",
    "        return robot\n",
    "\n",
    "# The main Robot class\n",
    "class Robot:\n",
    "    def __init__(self, robot_id):\n",
    "        self.robot_id = robot_id\n",
    "        self.has_laser_guns = False\n",
    "\n",
    "    def say_hello(self):\n",
    "        print(f\"Hello! I am Robot {self.robot_id}.\")\n",
    "        if self.has_laser_guns:\n",
    "            print(\"I have powerful laser guns!\")\n",
    "\n",
    "# Let's create a Robot with and without laser guns using the decorator\n",
    "\n",
    "@LaserGunsDecorator\n",
    "class LaserRobot(Robot):\n",
    "    pass\n",
    "\n",
    "def main():\n",
    "    robot1 = Robot(1)\n",
    "    robot1.say_hello()\n",
    "\n",
    "    print()\n",
    "\n",
    "    robot2 = LaserRobot(2)\n",
    "    robot2.say_hello()\n",
    "\n",
    "if __name__ == \"__main__\":\n",
    "    main()\n"
   ]
  },
  {
   "cell_type": "code",
   "execution_count": 4,
   "metadata": {},
   "outputs": [
    {
     "name": "stdout",
     "output_type": "stream",
     "text": [
      "Hello, John!\n"
     ]
    },
    {
     "ename": "AttributeError",
     "evalue": "'MyClass' object has no attribute 'call'",
     "output_type": "error",
     "traceback": [
      "\u001b[0;31m---------------------------------------------------------------------------\u001b[0m",
      "\u001b[0;31mAttributeError\u001b[0m                            Traceback (most recent call last)",
      "Cell \u001b[0;32mIn[4], line 20\u001b[0m\n\u001b[1;32m     18\u001b[0m my_instance \u001b[39m=\u001b[39m MyClass(\u001b[39m\"\u001b[39m\u001b[39mJohn\u001b[39m\u001b[39m\"\u001b[39m)\n\u001b[1;32m     19\u001b[0m my_instance\u001b[39m.\u001b[39mgreet()\n\u001b[0;32m---> 20\u001b[0m my_instance\u001b[39m.\u001b[39;49mcall\n",
      "\u001b[0;31mAttributeError\u001b[0m: 'MyClass' object has no attribute 'call'"
     ]
    }
   ],
   "source": [
    "class MyClassDecorator:\n",
    "    def __init__(self, cls):\n",
    "        self.cls = cls\n",
    "\n",
    "    def __call__(self, *args, **kwargs):\n",
    "        # Modify or add functionality to the entire class\n",
    "        obj = self.cls(*args, **kwargs)\n",
    "        return obj\n",
    "\n",
    "@MyClassDecorator\n",
    "class MyClass:\n",
    "    def __init__(self, name):\n",
    "        self.name = name\n",
    "\n",
    "    def greet(self):\n",
    "        print(f\"Hello, {self.name}!\")\n",
    "\n",
    "my_instance = MyClass(\"John\")\n",
    "my_instance.greet()\n",
    "\n"
   ]
  },
  {
   "cell_type": "code",
   "execution_count": 12,
   "metadata": {},
   "outputs": [
    {
     "name": "stdout",
     "output_type": "stream",
     "text": [
      "HELLO\n"
     ]
    }
   ],
   "source": [
    "def uppercase_decorator(func):\n",
    "    def wrapper(self):\n",
    "        result = func(self)\n",
    "        return result.upper()\n",
    "    return wrapper\n",
    "\n",
    "class Greeting:\n",
    "    @uppercase_decorator\n",
    "    def greet(self):\n",
    "        \n",
    "        return \"hello\"\n",
    "\n",
    "greeting = Greeting()\n",
    "print(greeting.greet())"
   ]
  },
  {
   "cell_type": "code",
   "execution_count": 13,
   "metadata": {},
   "outputs": [
    {
     "name": "stdout",
     "output_type": "stream",
     "text": [
      "Person(name='omkar', age=23)\n",
      "Person(name='omkar', age=23)\n",
      "Person(name='omkar', age=44)\n",
      "-----------------------------------------\n",
      "True\n",
      "False\n"
     ]
    }
   ],
   "source": [
    "from dataclasses import dataclass\n",
    "\n",
    "@dataclass\n",
    "class Person:\n",
    "    name: str\n",
    "    age: int\n",
    "\n",
    "# Giving the same result in 3 line of code 🤩\n",
    "##########################################\n",
    "# creating objects: \n",
    "\n",
    "Person1 = Person('omkar', 23)\n",
    "Person2 = Person('omkar', 23)\n",
    "Person3 = Person('omkar', 44)\n",
    "\n",
    "print(Person1)\n",
    "print(Person2)\n",
    "print(Person3)\n",
    "\n",
    "print('-----------------------------------------')\n",
    "\n",
    "print(Person1 == Person2)  \n",
    "print(Person1 == Person3)  "
   ]
  },
  {
   "cell_type": "code",
   "execution_count": 1,
   "metadata": {},
   "outputs": [
    {
     "name": "stdout",
     "output_type": "stream",
     "text": [
      "Laser guns activated!\n",
      "RoboBot is performing cleaning.\n",
      "Laser guns activated!\n",
      "RoboBot is performing delivering packages.\n"
     ]
    }
   ],
   "source": [
    "\n",
    "def add_laser_guns(robot_function):\n",
    "    def wrapper(*args, **kwargs):\n",
    "        # Add the laser guns functionality\n",
    "        print(\"Laser guns activated!\")\n",
    "        result = robot_function(*args, **kwargs)\n",
    "        return result\n",
    "    return wrapper\n",
    "\n",
    "\n",
    "# The Robot class\n",
    "class Robot:\n",
    "    def __init__(self, name):\n",
    "        self.name = name\n",
    "\n",
    "    @add_laser_guns\n",
    "    def perform_task(self, task):\n",
    "        print(f\"{self.name} is performing {task}.\")\n",
    "\n",
    "# Let's create a Robot and see it in action\n"
   ]
  },
  {
   "attachments": {},
   "cell_type": "markdown",
   "metadata": {},
   "source": [
    "### Chaining Decorators:"
   ]
  },
  {
   "cell_type": "code",
   "execution_count": 4,
   "metadata": {},
   "outputs": [
    {
     "name": "stdout",
     "output_type": "stream",
     "text": [
      "decorator 2 executing...\n",
      "deocorator 1 executing...\n",
      "400\n",
      "--------------------\n",
      "deocorator 1 executing...\n",
      "decorator 2 executing...\n",
      "200\n"
     ]
    }
   ],
   "source": [
    "\n",
    "def decor1(func):\n",
    "\tdef inner():\n",
    "\t\tx = func()\n",
    "\t\tprint('deocorator 1 executing...')\n",
    "\t\treturn x * x\n",
    "\treturn inner\n",
    "\n",
    "def decor2(func):\n",
    "\tdef inner():\n",
    "\t\tx = func()\n",
    "\t\tprint('decorator 2 executing...')\n",
    "\t\treturn 2 * x\n",
    "\treturn inner\n",
    "\n",
    "@decor1\n",
    "@decor2\n",
    "def num():\n",
    "\treturn 10\n",
    "\n",
    "@decor2\n",
    "@decor1\n",
    "def num2():\n",
    "\treturn 10\n",
    "\n",
    "print(num())\n",
    "print(\"--------------------\")\n",
    "print(num2())\n"
   ]
  },
  {
   "attachments": {},
   "cell_type": "markdown",
   "metadata": {},
   "source": [
    "### Real World case scenarios"
   ]
  },
  {
   "attachments": {},
   "cell_type": "markdown",
   "metadata": {},
   "source": [
    "#### log functionality "
   ]
  },
  {
   "cell_type": "code",
   "execution_count": 1,
   "metadata": {},
   "outputs": [
    {
     "name": "stdout",
     "output_type": "stream",
     "text": [
      "Function 'add' called at 2023-08-04 14:00:24\n",
      "Function 'subtract' called at 2023-08-04 14:00:24\n",
      "Function 'multiply' called at 2023-08-04 14:00:24\n",
      "Result 1: 8\n",
      "Result 2: 6\n",
      "Result 3: 12\n"
     ]
    }
   ],
   "source": [
    "import datetime\n",
    "\n",
    "def log_function_call(func):\n",
    "    def wrapper(*args, **kwargs):\n",
    "        timestamp = datetime.datetime.now().strftime(\"%Y-%m-%d %H:%M:%S\")\n",
    "        print(f\"Function '{func.__name__}' called at {timestamp}\")\n",
    "        return func(*args, **kwargs)\n",
    "    return wrapper\n",
    "\n",
    "@log_function_call\n",
    "def add(a, b):\n",
    "    return a + b\n",
    "\n",
    "@log_function_call\n",
    "def subtract(a, b):\n",
    "    return a - b\n",
    "\n",
    "@log_function_call\n",
    "def multiply(a, b):\n",
    "    return a * b\n",
    "\n",
    "# Test the decorated functions\n",
    "result1 = add(3, 5)\n",
    "result2 = subtract(10, 4)\n",
    "result3 = multiply(2, 6)\n",
    "\n",
    "print(\"Result 1:\", result1)\n",
    "print(\"Result 2:\", result2)\n",
    "print(\"Result 3:\", result3)\n"
   ]
  },
  {
   "cell_type": "code",
   "execution_count": 1,
   "metadata": {},
   "outputs": [
    {
     "name": "stdout",
     "output_type": "stream",
     "text": [
      "Laser activated!\n",
      "I'm a basic robot without a laser gun.\n",
      "Laser deactivated!\n"
     ]
    }
   ],
   "source": [
    "# Function decorator to add laser gun functionality\n",
    "def laser_gun_decorator(func):\n",
    "    def wrapper():\n",
    "        print(\"Laser activated!\")\n",
    "        func()\n",
    "        print(\"Laser deactivated!\")\n",
    "    return wrapper\n",
    "\n",
    "# Robot function without laser gun\n",
    "def basic_robot_function():\n",
    "    print(\"I'm a basic robot without a laser gun.\")\n",
    "\n",
    "# Applying the decorator to the robot function\n",
    "decorated_robot_function = laser_gun_decorator(basic_robot_function)\n",
    "\n",
    "# Calling the decorated robot function\n",
    "decorated_robot_function()\n"
   ]
  },
  {
   "cell_type": "code",
   "execution_count": 2,
   "metadata": {},
   "outputs": [
    {
     "name": "stdout",
     "output_type": "stream",
     "text": [
      "Laser activated! Pew pew!\n",
      "I'm a basic robot without a laser gun.\n",
      "Laser deactivated!\n"
     ]
    }
   ],
   "source": [
    "# Class decorator to add laser gun functionality to all robot instances\n",
    "def laser_gun_decorator(cls):\n",
    "    class DecoratedRobot(cls):\n",
    "        def shoot_laser(self):\n",
    "            print(\"Laser activated! Pew pew!\")\n",
    "            super().shoot_laser()\n",
    "            print(\"Laser deactivated!\")\n",
    "\n",
    "    return DecoratedRobot\n",
    "\n",
    "# Basic robot class without laser gun\n",
    "class BasicRobot:\n",
    "    def shoot_laser(self):\n",
    "        print(\"I'm a basic robot without a laser gun.\")\n",
    "\n",
    "# Applying the decorator to the robot class\n",
    "DecoratedRobotClass = laser_gun_decorator(BasicRobot)\n",
    "\n",
    "# Creating an instance of the decorated robot class\n",
    "robot_instance = DecoratedRobotClass()\n",
    "\n",
    "# Calling the laser-enabled method of the decorated robot\n",
    "robot_instance.shoot_laser()\n"
   ]
  },
  {
   "cell_type": "code",
   "execution_count": 3,
   "metadata": {},
   "outputs": [
    {
     "name": "stdout",
     "output_type": "stream",
     "text": [
      "Attacking enemy without a laser gun.\n",
      "Laser activated! Pew pew!\n",
      "Executing a special attack with the laser gun!\n",
      "Laser deactivated!\n",
      "Healing myself and still no laser gun.\n"
     ]
    }
   ],
   "source": [
    "# Method decorator to add laser gun functionality to specific methods\n",
    "def laser_gun_decorator(method):\n",
    "    def wrapper(self):\n",
    "        print(\"Laser activated! Pew pew!\")\n",
    "        method(self)\n",
    "        print(\"Laser deactivated!\")\n",
    "\n",
    "    return wrapper\n",
    "\n",
    "# Robot class with various specialized methods\n",
    "class Robot:\n",
    "    def attack_enemy(self):\n",
    "        print(\"Attacking enemy without a laser gun.\")\n",
    "\n",
    "    @laser_gun_decorator\n",
    "    def special_attack(self):\n",
    "        print(\"Executing a special attack with the laser gun!\")\n",
    "\n",
    "    def heal_self(self):\n",
    "        print(\"Healing myself and still no laser gun.\")\n",
    "\n",
    "# Creating an instance of the robot class\n",
    "robot_instance = Robot()\n",
    "\n",
    "# Calling the methods (including the decorated one)\n",
    "robot_instance.attack_enemy()\n",
    "robot_instance.special_attack()\n",
    "robot_instance.heal_self()\n"
   ]
  },
  {
   "cell_type": "code",
   "execution_count": null,
   "metadata": {},
   "outputs": [],
   "source": [
    "def add_laser_gun(func):\n",
    "    def wrapper():\n",
    "        print(func())\n",
    "        print(\"Attaching laser gun...\")\n",
    "        print(\"Now I am ready to fight, pew, pew!!!\")\n",
    "    return wrapper\n",
    "\n",
    "@add_laser_gun\n",
    "def basic_robot():\n",
    "    return \"I am basic robot and I can't fight.\"\n",
    "\n",
    "basic_robot()"
   ]
  },
  {
   "cell_type": "code",
   "execution_count": 1,
   "metadata": {},
   "outputs": [
    {
     "data": {
      "text/plain": [
       "'I have laser gun and I can fight'"
      ]
     },
     "execution_count": 1,
     "metadata": {},
     "output_type": "execute_result"
    }
   ],
   "source": [
    "def laser_fact(cls):\n",
    "    class manufacture_fighting_robot(cls):\n",
    "        def specs(self):\n",
    "            return \"I have laser gun and I can fight\"\n",
    "    return manufacture_fighting_robot\n",
    "\n",
    "@laser_fact\n",
    "class manufacture_basic_robot():\n",
    "    def __init__(self, name):\n",
    "        self.name = name\n",
    "    def specs(self):\n",
    "        return \"I am basic robot and I cant't fight\"\n",
    "    \n",
    "jack = manufacture_basic_robot('jack')\n",
    "\n",
    "jack.name\n",
    "jack.specs()\n"
   ]
  },
  {
   "attachments": {},
   "cell_type": "markdown",
   "metadata": {},
   "source": [
    "### built in decorators in python"
   ]
  },
  {
   "cell_type": "code",
   "execution_count": 15,
   "metadata": {},
   "outputs": [
    {
     "name": "stdout",
     "output_type": "stream",
     "text": [
      "8\n",
      "15\n"
     ]
    }
   ],
   "source": [
    "class MathOperations:\n",
    "    @staticmethod\n",
    "    def add(a, b):\n",
    "        return a + b\n",
    "\n",
    "    @staticmethod\n",
    "    def multiply(a, b):\n",
    "        return a * b\n",
    "\n",
    "# Calling static methods directly on the class without creating an instance\n",
    "sum_result = MathOperations.add(5, 3)\n",
    "product_result = MathOperations.multiply(5, 3)\n",
    "\n",
    "print(sum_result)       # Output: 8\n",
    "print(product_result)   # Output: 15\n"
   ]
  },
  {
   "cell_type": "code",
   "execution_count": 22,
   "metadata": {},
   "outputs": [
    {
     "name": "stdout",
     "output_type": "stream",
     "text": [
      "Person(name='omkar', age=23)\n",
      "Person(name='omkar', age=23)\n",
      "Person(name='omkar', age=44)\n",
      "-----------------------------------------\n",
      "True\n",
      "False\n"
     ]
    }
   ],
   "source": [
    "from dataclasses import dataclass\n",
    "\n",
    "@dataclass\n",
    "class Person:\n",
    "    name: str\n",
    "    age: int\n",
    "\n",
    "# Giving the same result in 3 line of code 🤩\n",
    "##########################################\n",
    "# creating objects: \n",
    "\n",
    "Person1 = Person('omkar', 23)\n",
    "Person2 = Person('omkar', 23)\n",
    "Person3 = Person('omkar', 44)\n",
    "\n",
    "print(Person1)\n",
    "print(Person2)\n",
    "print(Person3)\n",
    "\n",
    "print('-----------------------------------------')\n",
    "\n",
    "print(Person1 == Person2)  \n",
    "print(Person1 == Person3)  "
   ]
  },
  {
   "attachments": {},
   "cell_type": "markdown",
   "metadata": {},
   "source": [
    "1. [[@custom_decorators]]: we can create a nested function which acts as decorator\n",
    "1. `@classmethod`: Defines a class method within a class.\n",
    "2. `@property`: Defines a method as a property of a class, allowing attribute-like access.\n",
    "3. `@abstractmethod`: Declares an abstract method within an abstract base class.\n",
    "4. [[@staticmethod]]: Defines a static method within a class.\n",
    "6. `@property`: Defines a method as a property of a class, allowing attribute-like access.\n",
    "7. `@abstractmethod`: Declares an abstract method within an abstract base class.\n",
    "9. `@property`: Defines a method as a property of a class, allowing attribute-like access.\n",
    "10. `@abstractmethod`: Declares an abstract method within an abstract base class.\n",
    "11. [[@dataclass]]: Automatically generates boilerplate code for classes that hold data.\n",
    "12. `@functools.wraps`: Preserves the original function's metadata when defining decorators.\n",
    "13. `@functools.lru_cache`: Caches the results of a function, improving its performance for repeated calls with the same arguments.\n",
    "14. `@contextlib.contextmanager`: Defines a context manager using a generator function."
   ]
  }
 ],
 "metadata": {
  "kernelspec": {
   "display_name": "Python 3",
   "language": "python",
   "name": "python3"
  },
  "language_info": {
   "codemirror_mode": {
    "name": "ipython",
    "version": 3
   },
   "file_extension": ".py",
   "mimetype": "text/x-python",
   "name": "python",
   "nbconvert_exporter": "python",
   "pygments_lexer": "ipython3",
   "version": "3.10.6"
  },
  "orig_nbformat": 4
 },
 "nbformat": 4,
 "nbformat_minor": 2
}
