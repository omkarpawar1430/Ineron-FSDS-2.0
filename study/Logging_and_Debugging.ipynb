{
 "cells": [
  {
   "attachments": {},
   "cell_type": "markdown",
   "metadata": {},
   "source": [
    "# Logging and Debugging"
   ]
  },
  {
   "attachments": {},
   "cell_type": "markdown",
   "metadata": {},
   "source": [
    "Logging and debugging are important aspects of software development in Python. Logging allows developers to track the activity of the program, while debugging helps them identify and fix errors.\n",
    "\n",
    "Logging in Python is the process of recording events that occur during the execution of a program. These events can include errors, warnings, and informational messages. The main purpose of logging is to provide a record of what happened in the program, so that developers can troubleshoot problems and improve the program's performance.\n",
    "\n",
    "The logging module in Python provides different levels of logging, which are used to indicate the severity of a message. The different levels are:\n",
    "\n",
    "**DEBUG**: This level is used for messages that are only relevant during development and debugging. It provides detailed information about the program's execution and is not usually used in production environments.\n",
    "Example: \"Function X was called with argument Y\"\n",
    "\n",
    "**INFO**: This level is used to provide general information about the program's execution. It can be used to track the progress of the program and provide status updates.\n",
    "Example: \"The program has started successfully\"\n",
    "\n",
    "**WARNING**: This level is used for messages that indicate potential problems or issues that may cause errors in the program. It is usually used to alert developers to potential issues that need to be addressed.\n",
    "Example: \"The file could not be found\"\n",
    "\n",
    "**ERROR**: This level is used for messages that indicate actual errors in the program. It is used to alert developers to problems that need to be fixed.\n",
    "Example: \"Division by zero error occurred\"\n",
    "\n",
    "**CRITICAL**: This level is used for messages that indicate severe errors that may cause the program to crash or stop functioning. It is used to alert developers to critical issues that need immediate attention.\n",
    "Example: \"The database connection is lost\"\n",
    "\n",
    "In summary, logging and debugging are important aspects of software development in Python. The logging module provides different levels of logging, which are used to indicate the severity of a message. Each level has its own use and purpose, and can be used to track the progress of the program, identify potential issues, and fix errors.\n",
    "\n",
    "\n",
    "source - ChatGPT"
   ]
  },
  {
   "cell_type": "code",
   "execution_count": 1,
   "metadata": {},
   "outputs": [],
   "source": [
    "# importing module\n",
    "import logging\n",
    "\n",
    "# Create and configure logger\n",
    "logging.basicConfig(filename=\"newfile.log\",\n",
    "\t\t\t\t\tformat='%(asctime)s %(message)s',\n",
    "\t\t\t\t\tfilemode='w')\n",
    "\n",
    "# Creating an object\n",
    "logger = logging.getLogger()\n",
    "\n",
    "# Setting the threshold of logger to DEBUG\n",
    "logger.setLevel(logging.DEBUG)\n",
    "\n",
    "# Test messages\n",
    "logger.debug(\"Harmless debug Message\")\n",
    "logger.info(\"Just an information\")\n",
    "logger.warning(\"Its a Warning\")\n",
    "logger.error(\"Did you try to divide by zero\")\n",
    "logger.critical(\"Internet is down\")"
   ]
  }
 ],
 "metadata": {
  "kernelspec": {
   "display_name": "Python 3",
   "language": "python",
   "name": "python3"
  },
  "language_info": {
   "codemirror_mode": {
    "name": "ipython",
    "version": 3
   },
   "file_extension": ".py",
   "mimetype": "text/x-python",
   "name": "python",
   "nbconvert_exporter": "python",
   "pygments_lexer": "ipython3",
   "version": "3.10.2"
  },
  "orig_nbformat": 4,
  "vscode": {
   "interpreter": {
    "hash": "38519c3442d9f767135b0650f6935cb54106bd9267700919f92a37291a156600"
   }
  }
 },
 "nbformat": 4,
 "nbformat_minor": 2
}
