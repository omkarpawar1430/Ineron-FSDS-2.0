{
 "cells": [
  {
   "cell_type": "markdown",
   "metadata": {},
   "source": [
    "# Python Interview Prep"
   ]
  },
  {
   "cell_type": "code",
   "execution_count": 2,
   "metadata": {},
   "outputs": [
    {
     "data": {
      "text/plain": [
       "{22: [{'name': 'Bob', 'age': 22}, {'name': 'David', 'age': 22}],\n",
       " 28: [{'name': 'Alice', 'age': 28}, {'name': 'Charlie', 'age': 28}]}"
      ]
     },
     "execution_count": 2,
     "metadata": {},
     "output_type": "execute_result"
    }
   ],
   "source": [
    "from itertools import groupby\n",
    "\n",
    "people = [\n",
    "    {'name': 'Alice', 'age': 28},\n",
    "    {'name': 'Bob', 'age': 22},\n",
    "    {'name': 'Charlie', 'age': 28},\n",
    "    {'name': 'David', 'age': 22}\n",
    "]\n",
    "\n",
    "# Group people by age\n",
    "people.sort(key=lambda x: x['age'])\n",
    "grouped_people = {age: list(group) for age, group in groupby(people, key=lambda x: x['age'])}\n",
    "\n",
    "grouped_people\n"
   ]
  },
  {
   "cell_type": "markdown",
   "metadata": {},
   "source": [
    "-----------"
   ]
  },
  {
   "cell_type": "markdown",
   "metadata": {},
   "source": [
    "### Q. What is the difference between ffill vs bfill in pandas?"
   ]
  },
  {
   "cell_type": "code",
   "execution_count": 2,
   "metadata": {},
   "outputs": [],
   "source": [
    "import pandas as pd"
   ]
  },
  {
   "cell_type": "code",
   "execution_count": 15,
   "metadata": {},
   "outputs": [
    {
     "name": "stdout",
     "output_type": "stream",
     "text": [
      "   Data-1  Data-2  Data-3\n",
      "0     NaN    13.0     NaN\n",
      "1    11.0    14.0    15.0\n",
      "2    12.0     NaN    16.0\n",
      "   Data-1  Data-2  Data-3\n",
      "0    11.0    13.0    15.0\n",
      "1    11.0    14.0    15.0\n",
      "2    12.0     NaN    16.0\n",
      "   Data-1  Data-2  Data-3\n",
      "0     NaN    13.0     NaN\n",
      "1    11.0    14.0    15.0\n",
      "2    12.0    14.0    16.0\n"
     ]
    }
   ],
   "source": [
    "df = pd.DataFrame({'Data-1':  [None, 11, 12], \n",
    "                   'Data-2':  [13, 14, None],\n",
    "                   'Data-3':  [None, 15, 16]})\n",
    "print(df)\n",
    "bdf = df.bfill(axis='rows') # next value fills backward `NaN` value\n",
    "fdf = df.ffill(axis='rows') # previous value fills forward `NaN` value\n",
    "print(bdf)\n",
    "print(fdf)\n"
   ]
  },
  {
   "cell_type": "markdown",
   "metadata": {},
   "source": [
    "https://blog.finxter.com/pandas-dataframe-missing-data-handling-backfill-bfill-fillna-dropna-and-interpolate/"
   ]
  },
  {
   "cell_type": "code",
   "execution_count": 12,
   "metadata": {},
   "outputs": [
    {
     "data": {
      "text/html": [
       "<div>\n",
       "<style scoped>\n",
       "    .dataframe tbody tr th:only-of-type {\n",
       "        vertical-align: middle;\n",
       "    }\n",
       "\n",
       "    .dataframe tbody tr th {\n",
       "        vertical-align: top;\n",
       "    }\n",
       "\n",
       "    .dataframe thead th {\n",
       "        text-align: right;\n",
       "    }\n",
       "</style>\n",
       "<table border=\"1\" class=\"dataframe\">\n",
       "  <thead>\n",
       "    <tr style=\"text-align: right;\">\n",
       "      <th></th>\n",
       "      <th>Data-1</th>\n",
       "      <th>Data-2</th>\n",
       "      <th>Data-3</th>\n",
       "    </tr>\n",
       "  </thead>\n",
       "  <tbody>\n",
       "    <tr>\n",
       "      <th>0</th>\n",
       "      <td>11.0</td>\n",
       "      <td>13.0</td>\n",
       "      <td>15.0</td>\n",
       "    </tr>\n",
       "    <tr>\n",
       "      <th>1</th>\n",
       "      <td>11.0</td>\n",
       "      <td>14.0</td>\n",
       "      <td>15.0</td>\n",
       "    </tr>\n",
       "    <tr>\n",
       "      <th>2</th>\n",
       "      <td>12.0</td>\n",
       "      <td>NaN</td>\n",
       "      <td>16.0</td>\n",
       "    </tr>\n",
       "  </tbody>\n",
       "</table>\n",
       "</div>"
      ],
      "text/plain": [
       "   Data-1  Data-2  Data-3\n",
       "0    11.0    13.0    15.0\n",
       "1    11.0    14.0    15.0\n",
       "2    12.0     NaN    16.0"
      ]
     },
     "execution_count": 12,
     "metadata": {},
     "output_type": "execute_result"
    }
   ],
   "source": [
    "df.bfill(axis='rows') # next value fills backward `NaN` value\n"
   ]
  },
  {
   "cell_type": "code",
   "execution_count": 13,
   "metadata": {},
   "outputs": [
    {
     "data": {
      "text/html": [
       "<div>\n",
       "<style scoped>\n",
       "    .dataframe tbody tr th:only-of-type {\n",
       "        vertical-align: middle;\n",
       "    }\n",
       "\n",
       "    .dataframe tbody tr th {\n",
       "        vertical-align: top;\n",
       "    }\n",
       "\n",
       "    .dataframe thead th {\n",
       "        text-align: right;\n",
       "    }\n",
       "</style>\n",
       "<table border=\"1\" class=\"dataframe\">\n",
       "  <thead>\n",
       "    <tr style=\"text-align: right;\">\n",
       "      <th></th>\n",
       "      <th>Data-1</th>\n",
       "      <th>Data-2</th>\n",
       "      <th>Data-3</th>\n",
       "    </tr>\n",
       "  </thead>\n",
       "  <tbody>\n",
       "    <tr>\n",
       "      <th>0</th>\n",
       "      <td>NaN</td>\n",
       "      <td>13.0</td>\n",
       "      <td>NaN</td>\n",
       "    </tr>\n",
       "    <tr>\n",
       "      <th>1</th>\n",
       "      <td>11.0</td>\n",
       "      <td>14.0</td>\n",
       "      <td>15.0</td>\n",
       "    </tr>\n",
       "    <tr>\n",
       "      <th>2</th>\n",
       "      <td>12.0</td>\n",
       "      <td>14.0</td>\n",
       "      <td>16.0</td>\n",
       "    </tr>\n",
       "  </tbody>\n",
       "</table>\n",
       "</div>"
      ],
      "text/plain": [
       "   Data-1  Data-2  Data-3\n",
       "0     NaN    13.0     NaN\n",
       "1    11.0    14.0    15.0\n",
       "2    12.0    14.0    16.0"
      ]
     },
     "execution_count": 13,
     "metadata": {},
     "output_type": "execute_result"
    }
   ],
   "source": [
    "df.ffill(axis='rows') # previous value fills forward `NaN` value"
   ]
  },
  {
   "cell_type": "markdown",
   "metadata": {},
   "source": [
    "### What is the use of `finally` in exception handling?"
   ]
  },
  {
   "cell_type": "code",
   "execution_count": 1,
   "metadata": {},
   "outputs": [
    {
     "ename": "NameError",
     "evalue": "name 'pd' is not defined",
     "output_type": "error",
     "traceback": [
      "\u001b[0;31m---------------------------------------------------------------------------\u001b[0m",
      "\u001b[0;31mNameError\u001b[0m                                 Traceback (most recent call last)",
      "\u001b[1;32m/home/omkar/Omkar Pawar/Data Science/Ineuron-FSDS-2.0/study/Random_Useful_Code.ipynb Cell 10\u001b[0m line \u001b[0;36m1\n\u001b[0;32m----> <a href='vscode-notebook-cell:/home/omkar/Omkar%20Pawar/Data%20Science/Ineuron-FSDS-2.0/study/Random_Useful_Code.ipynb#X12sZmlsZQ%3D%3D?line=0'>1</a>\u001b[0m df \u001b[39m=\u001b[39m pd\u001b[39m.\u001b[39mDataFrame({\u001b[39m'\u001b[39m\u001b[39mData-1\u001b[39m\u001b[39m'\u001b[39m:  [\u001b[39mNone\u001b[39;00m, \u001b[39m11\u001b[39m, \u001b[39m12\u001b[39m], \n\u001b[1;32m      <a href='vscode-notebook-cell:/home/omkar/Omkar%20Pawar/Data%20Science/Ineuron-FSDS-2.0/study/Random_Useful_Code.ipynb#X12sZmlsZQ%3D%3D?line=1'>2</a>\u001b[0m                    \u001b[39m'\u001b[39m\u001b[39mData-2\u001b[39m\u001b[39m'\u001b[39m:  [\u001b[39m13\u001b[39m, \u001b[39m14\u001b[39m, \u001b[39mNone\u001b[39;00m],\n\u001b[1;32m      <a href='vscode-notebook-cell:/home/omkar/Omkar%20Pawar/Data%20Science/Ineuron-FSDS-2.0/study/Random_Useful_Code.ipynb#X12sZmlsZQ%3D%3D?line=2'>3</a>\u001b[0m                    \u001b[39m'\u001b[39m\u001b[39mData-3\u001b[39m\u001b[39m'\u001b[39m:  [\u001b[39mNone\u001b[39;00m, \u001b[39m15\u001b[39m, \u001b[39m16\u001b[39m]})\n\u001b[1;32m      <a href='vscode-notebook-cell:/home/omkar/Omkar%20Pawar/Data%20Science/Ineuron-FSDS-2.0/study/Random_Useful_Code.ipynb#X12sZmlsZQ%3D%3D?line=3'>4</a>\u001b[0m \u001b[39mprint\u001b[39m(df)\n\u001b[1;32m      <a href='vscode-notebook-cell:/home/omkar/Omkar%20Pawar/Data%20Science/Ineuron-FSDS-2.0/study/Random_Useful_Code.ipynb#X12sZmlsZQ%3D%3D?line=4'>5</a>\u001b[0m bdf \u001b[39m=\u001b[39m df\u001b[39m.\u001b[39mbfill(axis\u001b[39m=\u001b[39m\u001b[39m'\u001b[39m\u001b[39mrows\u001b[39m\u001b[39m'\u001b[39m) \u001b[39m# next value fills backward `NaN` value\u001b[39;00m\n",
      "\u001b[0;31mNameError\u001b[0m: name 'pd' is not defined"
     ]
    }
   ],
   "source": [
    "df = pd.DataFrame({'Data-1':  [None, 11, 12], \n",
    "                   'Data-2':  [13, 14, None],\n",
    "                   'Data-3':  [None, 15, 16]})\n",
    "print(df)\n",
    "bdf = df.bfill(axis='rows') # next value fills backward `NaN` value\n",
    "fdf = df.ffill(axis='rows') # previous value fills forward `NaN` value\n",
    "print(bdf)\n",
    "print(fdf)"
   ]
  },
  {
   "cell_type": "code",
   "execution_count": 4,
   "metadata": {},
   "outputs": [],
   "source": [
    "import pandas as pd"
   ]
  },
  {
   "cell_type": "code",
   "execution_count": 5,
   "metadata": {},
   "outputs": [
    {
     "name": "stdout",
     "output_type": "stream",
     "text": [
      "   Data-1  Data-2  Data-3\n",
      "0     NaN    13.0     NaN\n",
      "1    11.0    14.0    15.0\n",
      "2    12.0     NaN    16.0\n",
      "   Data-1  Data-2  Data-3\n",
      "0    11.0    13.0    15.0\n",
      "1    11.0    14.0    15.0\n",
      "2    12.0     NaN    16.0\n",
      "   Data-1  Data-2  Data-3\n",
      "0     NaN    13.0     NaN\n",
      "1    11.0    14.0    15.0\n",
      "2    12.0    14.0    16.0\n",
      "Hi, this is how we fill missing values\n"
     ]
    }
   ],
   "source": [
    "try:\n",
    "    df = pd.DataFrame({'Data-1':  [None, 11, 12], \n",
    "                   'Data-2':  [13, 14, None],\n",
    "                   'Data-3':  [None, 15, 16]})\n",
    "    print(df)\n",
    "    bdf = df.bfill(axis='rows') # next value fills backward `NaN` value\n",
    "    fdf = df.ffill(axis='rows') # previous value fills forward `NaN` value\n",
    "    print(bdf)\n",
    "    print(fdf)\n",
    "except Exception as e:\n",
    "    print(f\"Error: {e}\")\n",
    "finally:\n",
    "    print(\"Hi, this is how we fill missing values\")\n"
   ]
  },
  {
   "cell_type": "markdown",
   "metadata": {},
   "source": [
    "### Q What is the difference between shallow copy and deep copy?\n"
   ]
  },
  {
   "cell_type": "code",
   "execution_count": 6,
   "metadata": {},
   "outputs": [
    {
     "name": "stdout",
     "output_type": "stream",
     "text": [
      "[1, [99, 3]]\n"
     ]
    }
   ],
   "source": [
    "import copy\n",
    "\n",
    "original_list = [1, [2, 3]]\n",
    "shallow_copy = copy.copy(original_list)\n",
    "\n",
    "# Both original_list and shallow_copy share the same inner list\n",
    "shallow_copy[1][0] = 99\n",
    "print(original_list)  # Output: [1, [99, 3]]\n"
   ]
  },
  {
   "cell_type": "code",
   "execution_count": 7,
   "metadata": {},
   "outputs": [
    {
     "name": "stdout",
     "output_type": "stream",
     "text": [
      "[1, [2, 3]]\n"
     ]
    }
   ],
   "source": [
    "import copy\n",
    "\n",
    "original_list = [1, [2, 3]]\n",
    "deep_copy = copy.deepcopy(original_list)\n",
    "\n",
    "# Modifying deep_copy does not affect original_list\n",
    "deep_copy[1][0] = 99\n",
    "print(original_list)  # Output: [1, [2, 3]]\n"
   ]
  },
  {
   "cell_type": "markdown",
   "metadata": {},
   "source": [
    "### How to add and update elements in dictionary?"
   ]
  },
  {
   "cell_type": "code",
   "execution_count": 11,
   "metadata": {},
   "outputs": [],
   "source": [
    "person = {'name': 'Bob', 'age': 22}\n"
   ]
  },
  {
   "cell_type": "code",
   "execution_count": 9,
   "metadata": {},
   "outputs": [
    {
     "data": {
      "text/plain": [
       "dict"
      ]
     },
     "execution_count": 9,
     "metadata": {},
     "output_type": "execute_result"
    }
   ],
   "source": [
    "type(person)"
   ]
  },
  {
   "cell_type": "code",
   "execution_count": 13,
   "metadata": {},
   "outputs": [],
   "source": [
    "person[\"DoB\"] = \"24-JUN-2023\""
   ]
  },
  {
   "cell_type": "code",
   "execution_count": 16,
   "metadata": {},
   "outputs": [
    {
     "data": {
      "text/plain": [
       "{'name': 'Bob', 'age': 1, 'DoB': '24-JUN-2023'}"
      ]
     },
     "execution_count": 16,
     "metadata": {},
     "output_type": "execute_result"
    }
   ],
   "source": [
    "person"
   ]
  },
  {
   "cell_type": "code",
   "execution_count": 15,
   "metadata": {},
   "outputs": [],
   "source": [
    "person['age'] = 1"
   ]
  },
  {
   "cell_type": "markdown",
   "metadata": {},
   "source": [
    "### Modules Vs Packages:"
   ]
  },
  {
   "cell_type": "markdown",
   "metadata": {},
   "source": [
    "In Python, both modules and packages are used to organize and structure code, but they serve different purposes and have distinct characteristics.\n",
    "\n",
    "**Module**:\n",
    "\n",
    "1. A module is a single Python file that contains Python code. It can define variables, functions, and classes. Essentially, it's a way to encapsulate and reuse Python code.\n",
    "\n",
    "2. Modules are typically used to group related code into a single file, making it easier to manage and maintain.\n",
    "\n",
    "3. You can import and use modules in other Python scripts using the `import` statement.\n",
    "\n",
    "4. Modules have a `.py` extension, and their names are typically valid Python identifiers.\n",
    "\n",
    "5. Example of creating and using a module:\n",
    "\n",
    "   ```python\n",
    "   # mymodule.py\n",
    "   def my_function():\n",
    "       print(\"This is a function in mymodule\")\n",
    "\n",
    "   # main.py\n",
    "   import mymodule\n",
    "   mymodule.my_function()\n",
    "   ```\n",
    "\n",
    "**Package**:\n",
    "\n",
    "1. A package is a collection of modules organized within a directory hierarchy. It contains a special file called `__init__.py` (which can be empty or contain initialization code) and one or more module files.\n",
    "\n",
    "2. Packages are used to create a structured namespace for related modules. They allow you to group modules into subdirectories, making it easy to organize and access code.\n",
    "\n",
    "3. You can import specific modules from a package using dot notation. For example, `import package.module`.\n",
    "\n",
    "4. Packages are useful for organizing larger codebases and for avoiding naming conflicts.\n",
    "\n",
    "5. Example of creating and using a package:\n",
    "\n",
    "   ```\n",
    "   mypackage/\n",
    "   ├── __init__.py\n",
    "   ├── module1.py\n",
    "   ├── module2.py\n",
    "   ```\n",
    "\n",
    "   ```python\n",
    "   # module1.py\n",
    "   def func1():\n",
    "       print(\"Function 1 in module1\")\n",
    "\n",
    "   # module2.py\n",
    "   def func2():\n",
    "       print(\"Function 2 in module2\")\n",
    "\n",
    "   # main.py\n",
    "   from mypackage import module1, module2\n",
    "   module1.func1()\n",
    "   module2.func2()\n",
    "   ```\n",
    "\n",
    "In summary, a module is a single Python file that encapsulates code, while a package is a directory that contains multiple modules along with a special `__init__.py` file. Modules are typically used for smaller code components, whereas packages are used to organize larger projects and avoid naming conflicts. Both modules and packages contribute to code organization and reusability in Python."
   ]
  },
  {
   "cell_type": "markdown",
   "metadata": {},
   "source": [
    "### Global Interpreter Lock (GIL)?"
   ]
  },
  {
   "cell_type": "markdown",
   "metadata": {},
   "source": []
  }
 ],
 "metadata": {
  "kernelspec": {
   "display_name": "base",
   "language": "python",
   "name": "python3"
  },
  "language_info": {
   "codemirror_mode": {
    "name": "ipython",
    "version": 3
   },
   "file_extension": ".py",
   "mimetype": "text/x-python",
   "name": "python",
   "nbconvert_exporter": "python",
   "pygments_lexer": "ipython3",
   "version": "3.10.9"
  },
  "orig_nbformat": 4
 },
 "nbformat": 4,
 "nbformat_minor": 2
}
