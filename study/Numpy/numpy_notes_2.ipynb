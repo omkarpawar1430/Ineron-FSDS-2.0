{
 "cells": [
  {
   "cell_type": "code",
   "execution_count": 1,
   "id": "ba623f0e-75e9-4c83-8298-90d6624a75b6",
   "metadata": {},
   "outputs": [],
   "source": [
    "import numpy as np\n",
    "\n",
    "\n",
    "\n",
    "\n"
   ]
  },
  {
   "cell_type": "code",
   "execution_count": 2,
   "id": "afafaac0-50e0-4118-9c34-b4d90afd2d76",
   "metadata": {},
   "outputs": [
    {
     "data": {
      "text/plain": [
       "[0, 1, 2, 3, 4, 5, 6, 7, 8, 9]"
      ]
     },
     "execution_count": 2,
     "metadata": {},
     "output_type": "execute_result"
    }
   ],
   "source": [
    "list(range(0, 10))"
   ]
  },
  {
   "cell_type": "code",
   "execution_count": 3,
   "id": "7f5964fe-fb25-4598-bf2d-ef623570d0d2",
   "metadata": {},
   "outputs": [
    {
     "ename": "TypeError",
     "evalue": "'float' object cannot be interpreted as an integer",
     "output_type": "error",
     "traceback": [
      "\u001b[0;31m---------------------------------------------------------------------------\u001b[0m",
      "\u001b[0;31mTypeError\u001b[0m                                 Traceback (most recent call last)",
      "Cell \u001b[0;32mIn [3], line 2\u001b[0m\n\u001b[1;32m      1\u001b[0m \u001b[38;5;66;03m# range works in case of only integers.\u001b[39;00m\n\u001b[0;32m----> 2\u001b[0m \u001b[38;5;28mlist\u001b[39m(\u001b[38;5;28;43mrange\u001b[39;49m\u001b[43m(\u001b[49m\u001b[38;5;241;43m0.5\u001b[39;49m\u001b[43m,\u001b[49m\u001b[43m \u001b[49m\u001b[38;5;241;43m10\u001b[39;49m\u001b[43m)\u001b[49m)\n",
      "\u001b[0;31mTypeError\u001b[0m: 'float' object cannot be interpreted as an integer"
     ]
    }
   ],
   "source": [
    "# range works in case of only integers.\n",
    "list(range(0.5, 10))"
   ]
  },
  {
   "cell_type": "code",
   "execution_count": null,
   "id": "3f660ea7-c620-4eb0-9d02-e9072471c0bc",
   "metadata": {},
   "outputs": [],
   "source": [
    "# In numpy we can do this by using np.arange() :\n",
    "np.arange(0.5, 10)"
   ]
  },
  {
   "cell_type": "code",
   "execution_count": null,
   "id": "f986fb14-c3b7-415b-9afa-ea72ea2608a9",
   "metadata": {},
   "outputs": [],
   "source": [
    "# It also goes in negative axis and have step method too:\n",
    "\n",
    "np.arange(5, -6, -2) # (start, end(excluded), step)"
   ]
  },
  {
   "cell_type": "markdown",
   "id": "f7082cad-4566-4d8b-9a9b-bcfa89068ba5",
   "metadata": {},
   "source": [
    "----------------------------------------------------------------------------------------------"
   ]
  },
  {
   "cell_type": "code",
   "execution_count": null,
   "id": "ce83d623-66cf-4537-b646-486518c3b2ca",
   "metadata": {},
   "outputs": [],
   "source": [
    "# we can devide specific range of numbers into required chunks:\n",
    "np.linspace(1,10,20) # We are deviding numbers from 1 to 10 into 20 similar chunks"
   ]
  },
  {
   "cell_type": "code",
   "execution_count": null,
   "id": "5af5880b-1d11-49e5-9da4-d0922d1ce961",
   "metadata": {},
   "outputs": [],
   "source": [
    "np.linspace(1,10,20, retstep = True) # shows rate of steping to divide in 20"
   ]
  },
  {
   "cell_type": "markdown",
   "id": "aefced25-defb-4948-bde9-b8d3f674d834",
   "metadata": {},
   "source": [
    "---------------------------------------------------------------------------------------------------------"
   ]
  },
  {
   "cell_type": "code",
   "execution_count": null,
   "id": "737c5f20-5186-4e07-b952-4995734526ba",
   "metadata": {},
   "outputs": [],
   "source": [
    "# we can get log of our linespace using logspace: ( base is 10 by default)\n",
    "np.logspace(2,12, 24)"
   ]
  },
  {
   "cell_type": "markdown",
   "id": "afab196f-d4d5-4bc2-b0b3-fcf66d804e25",
   "metadata": {},
   "source": [
    "--------------------------------------------------------------------------------------------------------------\n"
   ]
  },
  {
   "cell_type": "code",
   "execution_count": null,
   "id": "82256760-b60a-4b29-819a-ba3a109f1f22",
   "metadata": {},
   "outputs": [],
   "source": [
    "# We can create array of zero and one as it's element:\n",
    "\n",
    "np.zeros(2)"
   ]
  },
  {
   "cell_type": "code",
   "execution_count": null,
   "id": "5be80ea5-dad6-4f5b-be6d-83fa74f04763",
   "metadata": {},
   "outputs": [],
   "source": [
    "np.zeros((2,3))"
   ]
  },
  {
   "cell_type": "code",
   "execution_count": null,
   "id": "3c216c22-1dfe-4f80-a6d6-7273e63c4743",
   "metadata": {},
   "outputs": [],
   "source": [
    "# same for ones:\n",
    "\n",
    "np.ones(4)"
   ]
  },
  {
   "cell_type": "code",
   "execution_count": null,
   "id": "c1a408f9-d77c-4892-8c58-198527582691",
   "metadata": {},
   "outputs": [],
   "source": [
    "np.ones((2, 3))"
   ]
  },
  {
   "cell_type": "code",
   "execution_count": null,
   "id": "a8601f40-4682-4407-b80f-5c8a12d6641f",
   "metadata": {},
   "outputs": [],
   "source": [
    "# we can multiply our array with other number if we want array of that specific number: \n",
    "\n",
    "np.ones((2,3)) * 5"
   ]
  },
  {
   "cell_type": "markdown",
   "id": "01e87270-3c07-4e7d-9111-bedaf42411eb",
   "metadata": {},
   "source": [
    "-----------------------------------------------------------------------------------------"
   ]
  },
  {
   "cell_type": "code",
   "execution_count": null,
   "id": "b4b822bc-03fc-46c7-805f-2e3ba20c18f8",
   "metadata": {},
   "outputs": [],
   "source": [
    "# create a empty array : "
   ]
  },
  {
   "cell_type": "code",
   "execution_count": 4,
   "id": "40d84c2a-11c2-47b4-a182-8dea8cfde3e0",
   "metadata": {},
   "outputs": [
    {
     "data": {
      "text/plain": [
       "array([[4.64208624e-310, 0.00000000e+000, 0.00000000e+000],\n",
       "       [0.00000000e+000, 0.00000000e+000, 0.00000000e+000]])"
      ]
     },
     "execution_count": 4,
     "metadata": {},
     "output_type": "execute_result"
    }
   ],
   "source": [
    "np.empty((2,3))"
   ]
  },
  {
   "cell_type": "markdown",
   "id": "f76570a2-54f9-4ac5-b855-d9b9127b6853",
   "metadata": {},
   "source": [
    "--------------------------------------------------------------------------------\n"
   ]
  },
  {
   "cell_type": "code",
   "execution_count": 5,
   "id": "22a5c5b7-f55a-49cb-9d45-624a5c6b1fd8",
   "metadata": {},
   "outputs": [
    {
     "data": {
      "text/plain": [
       "array([[1., 0., 0.],\n",
       "       [0., 1., 0.],\n",
       "       [0., 0., 1.]])"
      ]
     },
     "execution_count": 5,
     "metadata": {},
     "output_type": "execute_result"
    }
   ],
   "source": [
    "# Identity matics:  diagonal value are 1 and everything else is zero.\n",
    "\n",
    "a = np.eye(3)\n",
    "a"
   ]
  },
  {
   "cell_type": "code",
   "execution_count": 6,
   "id": "fa0c4ffc-4244-4c6f-9269-618f71fba44c",
   "metadata": {},
   "outputs": [
    {
     "data": {
      "text/plain": [
       "(3, 3)"
      ]
     },
     "execution_count": 6,
     "metadata": {},
     "output_type": "execute_result"
    }
   ],
   "source": [
    "# find info : \n",
    "a.shape"
   ]
  },
  {
   "cell_type": "code",
   "execution_count": 7,
   "id": "7ab14d34-80e2-4f06-a0a5-3ad6667cbfa5",
   "metadata": {},
   "outputs": [
    {
     "name": "stdout",
     "output_type": "stream",
     "text": [
      "2\n",
      "16\n",
      "(4, 4)\n"
     ]
    }
   ],
   "source": [
    "import numpy as np\n",
    "\n",
    "m = np.eye(4)\n",
    "\n",
    "print(m.ndim)\n",
    "print(m.size)\n",
    "print(m.shape)"
   ]
  },
  {
   "cell_type": "markdown",
   "id": "5d1ae4bf-55cf-4d3c-8847-c151863a42df",
   "metadata": {},
   "source": [
    "--------------------------------------------------------------------------------"
   ]
  },
  {
   "cell_type": "markdown",
   "id": "fed4be78-d18e-4ea9-b090-8c4b85ab9ea9",
   "metadata": {},
   "source": [
    "### Seed for random data generation: "
   ]
  },
  {
   "cell_type": "code",
   "execution_count": 8,
   "id": "67bd3a09-1136-4b23-b57a-5d51833258bb",
   "metadata": {},
   "outputs": [
    {
     "data": {
      "text/plain": [
       "array([[0.10542628, 0.10429763, 0.63628628, 0.77014728],\n",
       "       [0.74220371, 0.67740897, 0.92501645, 0.9467007 ],\n",
       "       [0.89117385, 0.04715026, 0.08342716, 0.25633705]])"
      ]
     },
     "execution_count": 8,
     "metadata": {},
     "output_type": "execute_result"
    }
   ],
   "source": [
    "np.random.rand(3,4) "
   ]
  },
  {
   "cell_type": "code",
   "execution_count": 9,
   "id": "f88761cd-7408-47a4-af26-30ea8c3f0dd2",
   "metadata": {},
   "outputs": [
    {
     "data": {
      "text/plain": [
       "array([[0.23839197, 0.39366082, 0.17849093, 0.63690577],\n",
       "       [0.26677262, 0.56709268, 0.86113733, 0.08730659],\n",
       "       [0.68841303, 0.52082902, 0.48855733, 0.78152348]])"
      ]
     },
     "execution_count": 9,
     "metadata": {},
     "output_type": "execute_result"
    }
   ],
   "source": [
    "np.random.rand(3,4) "
   ]
  },
  {
   "cell_type": "code",
   "execution_count": 10,
   "id": "e6c0995e-5e29-4911-96c2-b4a1642f66ec",
   "metadata": {},
   "outputs": [
    {
     "data": {
      "text/plain": [
       "array([[0.79704944, 0.08287952, 0.51806205, 0.50146574],\n",
       "       [0.21956093, 0.89600064, 0.63903486, 0.75033219],\n",
       "       [0.36896702, 0.92292872, 0.39390219, 0.08852879]])"
      ]
     },
     "execution_count": 10,
     "metadata": {},
     "output_type": "execute_result"
    }
   ],
   "source": [
    "np.random.rand(3,4) \n"
   ]
  },
  {
   "cell_type": "markdown",
   "id": "26d0e1b8-4fcd-4deb-8467-814ff169a2ed",
   "metadata": {},
   "source": [
    "data never stays same if we run it again we will get different set of data each time, we can use seed method to lock random data."
   ]
  },
  {
   "cell_type": "code",
   "execution_count": 11,
   "id": "279ae297-80a5-4d51-a774-ba5eda553c2b",
   "metadata": {},
   "outputs": [
    {
     "data": {
      "text/plain": [
       "array([[0.11348847, 0.97448309, 0.72873463, 0.35146781],\n",
       "       [0.70760514, 0.7996046 , 0.64556185, 0.41459961],\n",
       "       [0.70603101, 0.24664938, 0.25599243, 0.02401135]])"
      ]
     },
     "execution_count": 11,
     "metadata": {},
     "output_type": "execute_result"
    }
   ],
   "source": [
    "np.random.seed(47) # seed can be any intger, acts as reference point\n",
    "np.random.rand(3,4)"
   ]
  },
  {
   "cell_type": "code",
   "execution_count": 12,
   "id": "075849f1-cc77-42f0-b7e0-f3893c69c75e",
   "metadata": {},
   "outputs": [
    {
     "data": {
      "text/plain": [
       "array([[0.11348847, 0.97448309, 0.72873463, 0.35146781],\n",
       "       [0.70760514, 0.7996046 , 0.64556185, 0.41459961],\n",
       "       [0.70603101, 0.24664938, 0.25599243, 0.02401135]])"
      ]
     },
     "execution_count": 12,
     "metadata": {},
     "output_type": "execute_result"
    }
   ],
   "source": [
    "np.random.seed(47) \n",
    "np.random.rand(3,4)"
   ]
  },
  {
   "cell_type": "markdown",
   "id": "72de50fb-49f3-4682-888d-6364544632ac",
   "metadata": {},
   "source": [
    "--------------------------------------------------------------------------------"
   ]
  },
  {
   "cell_type": "markdown",
   "id": "d6061f8c-3bbc-4166-b022-63937faff541",
   "metadata": {},
   "source": [
    "### Accessing the required data from array:"
   ]
  },
  {
   "cell_type": "code",
   "execution_count": 13,
   "id": "852df048-b3b8-469a-bdb2-a98bde1912e9",
   "metadata": {},
   "outputs": [
    {
     "data": {
      "text/plain": [
       "array([[1., 0., 0.],\n",
       "       [0., 1., 0.],\n",
       "       [0., 0., 1.]])"
      ]
     },
     "execution_count": 13,
     "metadata": {},
     "output_type": "execute_result"
    }
   ],
   "source": [
    "a"
   ]
  },
  {
   "cell_type": "code",
   "execution_count": 14,
   "id": "1f57c26a-d065-4bd3-8244-aadc94b63c60",
   "metadata": {},
   "outputs": [
    {
     "data": {
      "text/plain": [
       "1.0"
      ]
     },
     "execution_count": 14,
     "metadata": {},
     "output_type": "execute_result"
    }
   ],
   "source": [
    "a[1][1]"
   ]
  },
  {
   "cell_type": "code",
   "execution_count": 15,
   "id": "9fc99ea0-f730-40af-9280-4937630a5fa9",
   "metadata": {},
   "outputs": [
    {
     "data": {
      "text/plain": [
       "array([[1., 0.],\n",
       "       [0., 1.]])"
      ]
     },
     "execution_count": 15,
     "metadata": {},
     "output_type": "execute_result"
    }
   ],
   "source": [
    "a[1:3,1:3] # [rows,columns]"
   ]
  },
  {
   "cell_type": "code",
   "execution_count": 16,
   "id": "00af1655-2787-44cc-8061-6dffca2ad7e6",
   "metadata": {},
   "outputs": [
    {
     "data": {
      "text/plain": [
       "array([1., 1.])"
      ]
     },
     "execution_count": 16,
     "metadata": {},
     "output_type": "execute_result"
    }
   ],
   "source": [
    "a[[0,2],[0,2]]"
   ]
  },
  {
   "cell_type": "code",
   "execution_count": 17,
   "id": "f3a34946-9a9e-47e2-b57c-9d9a15d9bf28",
   "metadata": {},
   "outputs": [
    {
     "ename": "IndexError",
     "evalue": "shape mismatch: indexing arrays could not be broadcast together with shapes (2,) (3,) ",
     "output_type": "error",
     "traceback": [
      "\u001b[0;31m---------------------------------------------------------------------------\u001b[0m",
      "\u001b[0;31mIndexError\u001b[0m                                Traceback (most recent call last)",
      "Cell \u001b[0;32mIn [17], line 1\u001b[0m\n\u001b[0;32m----> 1\u001b[0m \u001b[43ma\u001b[49m\u001b[43m[\u001b[49m\u001b[43m[\u001b[49m\u001b[38;5;241;43m0\u001b[39;49m\u001b[43m,\u001b[49m\u001b[38;5;241;43m2\u001b[39;49m\u001b[43m]\u001b[49m\u001b[43m,\u001b[49m\u001b[43m[\u001b[49m\u001b[38;5;241;43m0\u001b[39;49m\u001b[43m,\u001b[49m\u001b[38;5;241;43m2\u001b[39;49m\u001b[43m,\u001b[49m\u001b[38;5;241;43m3\u001b[39;49m\u001b[43m]\u001b[49m\u001b[43m]\u001b[49m\n",
      "\u001b[0;31mIndexError\u001b[0m: shape mismatch: indexing arrays could not be broadcast together with shapes (2,) (3,) "
     ]
    }
   ],
   "source": [
    "a[[0,2],[0,2,3]] # rows and columns must be same"
   ]
  },
  {
   "cell_type": "code",
   "execution_count": null,
   "id": "5107e6f8-25e5-449f-841c-222fecf7fa54",
   "metadata": {},
   "outputs": [],
   "source": [
    "a[[1,2],3] # acceptable as we are asking for only one column and multiple rows ... vice versa"
   ]
  },
  {
   "cell_type": "code",
   "execution_count": null,
   "id": "d568824a-3d67-495e-90af-d5b7e18bfcef",
   "metadata": {},
   "outputs": [],
   "source": [
    "a[2, [1,2]]"
   ]
  },
  {
   "cell_type": "markdown",
   "id": "4b55d0c3-22e4-4bf3-adcd-046494064a87",
   "metadata": {},
   "source": [
    "---------------------------------------------------------"
   ]
  },
  {
   "cell_type": "markdown",
   "id": "affdadc0-a2b2-45a7-958b-a584761fa451",
   "metadata": {},
   "source": [
    "### Mathematical operations "
   ]
  },
  {
   "cell_type": "code",
   "execution_count": 18,
   "id": "00e4af6e-1034-4dc6-875e-f175f4b5c48d",
   "metadata": {},
   "outputs": [],
   "source": [
    "# lets create two arrays \n",
    "import numpy as np\n",
    "m1 = np.random.randint(1,9, (3,3))\n",
    "m2 = np.random.randint(1,9, (3,3))"
   ]
  },
  {
   "cell_type": "code",
   "execution_count": 19,
   "id": "6131460a-0a7e-4adf-9e97-41ef1f0af0bc",
   "metadata": {},
   "outputs": [
    {
     "data": {
      "text/plain": [
       "array([[2, 3, 2],\n",
       "       [2, 6, 1],\n",
       "       [2, 5, 3]])"
      ]
     },
     "execution_count": 19,
     "metadata": {},
     "output_type": "execute_result"
    }
   ],
   "source": [
    "m1"
   ]
  },
  {
   "cell_type": "code",
   "execution_count": 20,
   "id": "479c3833-f51b-4d7b-a9f9-05963e3d599f",
   "metadata": {},
   "outputs": [
    {
     "data": {
      "text/plain": [
       "array([[1, 3, 7],\n",
       "       [8, 2, 5],\n",
       "       [4, 5, 6]])"
      ]
     },
     "execution_count": 20,
     "metadata": {},
     "output_type": "execute_result"
    }
   ],
   "source": [
    " m2 # in here also even we run same expression still we got different array... magic of randomness"
   ]
  },
  {
   "cell_type": "code",
   "execution_count": 21,
   "id": "ba58b95e-a2c6-4c6a-a0ee-f6880fcaf26c",
   "metadata": {},
   "outputs": [
    {
     "data": {
      "text/plain": [
       "array([[ 2,  9, 14],\n",
       "       [16, 12,  5],\n",
       "       [ 8, 25, 18]])"
      ]
     },
     "execution_count": 21,
     "metadata": {},
     "output_type": "execute_result"
    }
   ],
   "source": [
    "m1*m2 # normal multiplication: element vise"
   ]
  },
  {
   "cell_type": "code",
   "execution_count": 22,
   "id": "e22ab26f-1988-4f4c-9913-d3ab76868dd2",
   "metadata": {},
   "outputs": [
    {
     "data": {
      "text/plain": [
       "array([[34, 22, 41],\n",
       "       [54, 23, 50],\n",
       "       [54, 31, 57]])"
      ]
     },
     "execution_count": 22,
     "metadata": {},
     "output_type": "execute_result"
    }
   ],
   "source": [
    "m1@m2 # matrix multiplication: "
   ]
  },
  {
   "cell_type": "markdown",
   "id": "a94ca551-f56a-42d9-9016-6f2e681bc90a",
   "metadata": {},
   "source": [
    "if m1 have `m*n` shape and m2 have p*q shape then ...` n = p`in order to do matrix multiplication , and for normal multiplication `m = P` and `n = q`."
   ]
  },
  {
   "cell_type": "markdown",
   "id": "1f367bcf-aa54-48d1-81ff-1dde1702d21a",
   "metadata": {},
   "source": [
    "other mathematical funtions: "
   ]
  },
  {
   "cell_type": "code",
   "execution_count": 24,
   "id": "599146f7-4701-4b04-937c-fd72f6ccbb4c",
   "metadata": {},
   "outputs": [
    {
     "data": {
      "text/plain": [
       "array([[2, 3, 2],\n",
       "       [2, 6, 1],\n",
       "       [2, 5, 3]])"
      ]
     },
     "execution_count": 24,
     "metadata": {},
     "output_type": "execute_result"
    }
   ],
   "source": [
    "m1"
   ]
  },
  {
   "cell_type": "code",
   "execution_count": 23,
   "id": "a5694ef1-d534-46e1-98c0-98e022f5bf0f",
   "metadata": {},
   "outputs": [
    {
     "data": {
      "text/plain": [
       "array([[  8,  27,   8],\n",
       "       [  8, 216,   1],\n",
       "       [  8, 125,  27]])"
      ]
     },
     "execution_count": 23,
     "metadata": {},
     "output_type": "execute_result"
    }
   ],
   "source": [
    "pow(m1, 3) #power"
   ]
  },
  {
   "cell_type": "code",
   "execution_count": 25,
   "id": "63682cf7-c2e9-40bb-9610-a85b83a96619",
   "metadata": {},
   "outputs": [
    {
     "data": {
      "text/plain": [
       "array([[1.41421356, 1.73205081, 1.41421356],\n",
       "       [1.41421356, 2.44948974, 1.        ],\n",
       "       [1.41421356, 2.23606798, 1.73205081]])"
      ]
     },
     "execution_count": 25,
     "metadata": {},
     "output_type": "execute_result"
    }
   ],
   "source": [
    "np.sqrt(m1) # squar root"
   ]
  },
  {
   "cell_type": "code",
   "execution_count": 26,
   "id": "f8241d61-1257-48a7-859f-d9605583de64",
   "metadata": {},
   "outputs": [
    {
     "data": {
      "text/plain": [
       "array([[0.30103   , 0.47712125, 0.30103   ],\n",
       "       [0.30103   , 0.77815125, 0.        ],\n",
       "       [0.30103   , 0.69897   , 0.47712125]])"
      ]
     },
     "execution_count": 26,
     "metadata": {},
     "output_type": "execute_result"
    }
   ],
   "source": [
    "np.log10(m1) # log with base 10 "
   ]
  },
  {
   "cell_type": "code",
   "execution_count": 27,
   "id": "327ff395-ae0f-44ea-a0fa-b1330086faf4",
   "metadata": {},
   "outputs": [
    {
     "data": {
      "text/plain": [
       "array([[  7.3890561 ,  20.08553692,   7.3890561 ],\n",
       "       [  7.3890561 , 403.42879349,   2.71828183],\n",
       "       [  7.3890561 , 148.4131591 ,  20.08553692]])"
      ]
     },
     "execution_count": 27,
     "metadata": {},
     "output_type": "execute_result"
    }
   ],
   "source": [
    "np.exp(m1) exponent"
   ]
  },
  {
   "cell_type": "code",
   "execution_count": 28,
   "id": "2856bc07-a91a-4ca3-b47b-c089763a2ee0",
   "metadata": {},
   "outputs": [
    {
     "data": {
      "text/plain": [
       "array([[ 4,  9,  4],\n",
       "       [ 4, 36,  1],\n",
       "       [ 4, 25,  9]])"
      ]
     },
     "execution_count": 28,
     "metadata": {},
     "output_type": "execute_result"
    }
   ],
   "source": [
    "m1**2 # square"
   ]
  },
  {
   "cell_type": "markdown",
   "id": "4a5b932d-3983-4a5b-aadb-6371128725ae",
   "metadata": {},
   "source": [
    "--------------------------------------------------------------------------------------"
   ]
  },
  {
   "cell_type": "code",
   "execution_count": null,
   "id": "dea327b7-eed5-48ec-a794-face27cfb91a",
   "metadata": {},
   "outputs": [],
   "source": []
  }
 ],
 "metadata": {
  "kernelspec": {
   "display_name": "Python 3 (ipykernel)",
   "language": "python",
   "name": "python3"
  },
  "language_info": {
   "codemirror_mode": {
    "name": "ipython",
    "version": 3
   },
   "file_extension": ".py",
   "mimetype": "text/x-python",
   "name": "python",
   "nbconvert_exporter": "python",
   "pygments_lexer": "ipython3",
   "version": "3.10.6"
  }
 },
 "nbformat": 4,
 "nbformat_minor": 5
}
