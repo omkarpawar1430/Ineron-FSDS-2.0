{
 "cells": [
  {
   "attachments": {},
   "cell_type": "markdown",
   "metadata": {},
   "source": [
    "# Logging and Debugging"
   ]
  },
  {
   "attachments": {},
   "cell_type": "markdown",
   "metadata": {},
   "source": [
    "Logging and debugging are important aspects of software development in Python. Logging allows developers to track the activity of the program, while debugging helps them identify and fix errors.\n",
    "\n",
    "Logging in Python is the process of recording events that occur during the execution of a program. These events can include errors, warnings, and informational messages. The main purpose of logging is to provide a record of what happened in the program, so that developers can troubleshoot problems and improve the program's performance.\n",
    "\n",
    "The logging module in Python provides different levels of logging, which are used to indicate the severity of a message. The different levels are:\n",
    "\n",
    "**DEBUG**: This level is used for messages that are only relevant during development and debugging. It provides detailed information about the program's execution and is not usually used in production environments.\n",
    "Example: \"Function X was called with argument Y\"\n",
    "\n",
    "**INFO**: This level is used to provide general information about the program's execution. It can be used to track the progress of the program and provide status updates.\n",
    "Example: \"The program has started successfully\"\n",
    "\n",
    "**WARNING**: This level is used for messages that indicate potential problems or issues that may cause errors in the program. It is usually used to alert developers to potential issues that need to be addressed.\n",
    "Example: \"The file could not be found\"\n",
    "\n",
    "**ERROR**: This level is used for messages that indicate actual errors in the program. It is used to alert developers to problems that need to be fixed.\n",
    "Example: \"Division by zero error occurred\"\n",
    "\n",
    "**CRITICAL**: This level is used for messages that indicate severe errors that may cause the program to crash or stop functioning. It is used to alert developers to critical issues that need immediate attention.\n",
    "Example: \"The database connection is lost\"\n",
    "\n",
    "In summary, logging and debugging are important aspects of software development in Python. The logging module provides different levels of logging, which are used to indicate the severity of a message. Each level has its own use and purpose, and can be used to track the progress of the program, identify potential issues, and fix errors.\n",
    "\n",
    "\n",
    "source - ChatGPT"
   ]
  },
  {
   "cell_type": "code",
   "execution_count": 1,
   "metadata": {},
   "outputs": [],
   "source": [
    "# importing module\n",
    "import logging\n",
    "\n",
    "# Create and configure logger\n",
    "logging.basicConfig(filename=\"newfile.log\",\n",
    "\t\t\t\t\tformat='%(asctime)s %(message)s',\n",
    "\t\t\t\t\tfilemode='w')\n",
    "\n",
    "# Creating an object\n",
    "logger = logging.getLogger()\n",
    "\n",
    "# Setting the threshold of logger to DEBUG\n",
    "logger.setLevel(logging.DEBUG)\n",
    "\n",
    "# Test messages\n",
    "logger.debug(\"Harmless debug Message\")\n",
    "logger.info(\"Just an information\")\n",
    "logger.warning(\"Its a Warning\")\n",
    "logger.error(\"Did you try to divide by zero\")\n",
    "logger.critical(\"Internet is down\")"
   ]
  },
  {
   "attachments": {},
   "cell_type": "markdown",
   "metadata": {},
   "source": [
    "### example:"
   ]
  },
  {
   "attachments": {},
   "cell_type": "markdown",
   "metadata": {},
   "source": [
    "Task:\n",
    "\n",
    "1. create  logger\n",
    "2. write function which can add number of inputs\n",
    "3. log user input\n",
    "4. read log file"
   ]
  },
  {
   "cell_type": "code",
   "execution_count": 3,
   "metadata": {},
   "outputs": [
    {
     "data": {
      "text/plain": [
       "45"
      ]
     },
     "execution_count": 3,
     "metadata": {},
     "output_type": "execute_result"
    }
   ],
   "source": [
    "# creating a logger \n",
    "import logging\n",
    "\n",
    "# Create and configure logger\n",
    "logging.basicConfig(filename=\"addition.log\",\n",
    "\t\t\t\t\tformat='%(asctime)s %(message)s',\n",
    "\t\t\t\t\tfilemode='w')\n",
    "\n",
    "# Creating an object\n",
    "logger = logging.getLogger()\n",
    "\n",
    "# Setting the threshold of logger to DEBUG\n",
    "logger.setLevel(logging.DEBUG)\n",
    "\n",
    "list1 = []\n",
    "flag = True\n",
    "\n",
    "while flag:\n",
    "    num = input(\"Enter numbers(when finished write stop): \")\n",
    "    logger.info(f\"Number: {num}\")\n",
    "    if num.isdigit():\n",
    "        list1.append(int(num))\n",
    "    else:\n",
    "        flag = False\n",
    "\n",
    "\n",
    "# writing a Function\n",
    "def add():\n",
    "    result = 0 \n",
    "    for i in list1:\n",
    "        result += i \n",
    "    return result\n",
    "\n",
    "# calling function \n",
    "add()\n",
    "    \n"
   ]
  },
  {
   "cell_type": "code",
   "execution_count": 5,
   "metadata": {},
   "outputs": [
    {
     "name": "stdout",
     "output_type": "stream",
     "text": [
      "2023-02-15 10:09:15,523 Number: 5\n",
      "2023-02-15 10:09:16,992 Number: 5\n",
      "2023-02-15 10:09:18,908 Number: 78\n",
      "2023-02-15 10:09:19,793 Number: 65\n",
      "2023-02-15 10:09:20,558 Number: 25\n",
      "2023-02-15 10:09:21,704 Number: 45\n",
      "2023-02-15 10:09:23,486 Number: 852\n",
      "2023-02-15 10:09:24,931 Number: 355\n",
      "2023-02-15 10:09:26,383 Number: 85\n",
      "2023-02-15 10:09:27,251 Number: 5\n",
      "2023-02-15 10:09:28,149 Number: 25\n",
      "2023-02-15 10:09:31,635 Number: 365\n",
      "2023-02-15 10:09:35,365 Number: 0\n",
      "2023-02-15 10:09:37,400 Number: 99\n",
      "2023-02-15 10:09:41,930 Number: stop\n",
      "2023-02-15 10:10:33,309 Number: 1\n",
      "2023-02-15 10:10:34,103 Number: 2\n",
      "2023-02-15 10:10:34,695 Number: 3\n",
      "2023-02-15 10:10:35,634 Number: 4\n",
      "2023-02-15 10:10:36,203 Number: 5\n",
      "2023-02-15 10:10:36,810 Number: 6\n",
      "2023-02-15 10:10:37,877 Number: 7\n",
      "2023-02-15 10:10:38,520 Number: 8\n",
      "2023-02-15 10:10:39,917 Number: 89\n",
      "2023-02-15 10:10:41,015 Number: 12\n",
      "2023-02-15 10:10:41,881 Number: 23\n",
      "2023-02-15 10:10:42,795 Number: 45\n",
      "2023-02-15 10:10:44,272 Number: 69\n",
      "2023-02-15 10:10:45,326 Number: 87\n",
      "2023-02-15 10:10:47,781 Number: 159\n",
      "2023-02-15 10:10:49,713 Number: 753\n",
      "2023-02-15 10:10:54,143 Number: stop\n",
      "2023-02-15 10:11:32,092 Number: 1\n",
      "2023-02-15 10:11:32,773 Number: 2\n",
      "2023-02-15 10:11:33,353 Number: 3\n",
      "2023-02-15 10:11:34,008 Number: 4\n",
      "2023-02-15 10:11:34,653 Number: 5\n",
      "2023-02-15 10:11:35,232 Number: 6\n",
      "2023-02-15 10:11:36,313 Number: 7\n",
      "2023-02-15 10:11:36,984 Number: 8\n",
      "2023-02-15 10:11:37,681 Number: 9\n",
      "2023-02-15 10:11:44,780 Number: stop\n",
      "\n"
     ]
    }
   ],
   "source": [
    "with open(\"addition.log\", \"r\") as f:\n",
    "    print(f.read())\n"
   ]
  },
  {
   "cell_type": "markdown",
   "metadata": {},
   "source": []
  },
  {
   "cell_type": "markdown",
   "metadata": {},
   "source": []
  }
 ],
 "metadata": {
  "kernelspec": {
   "display_name": "Python 3",
   "language": "python",
   "name": "python3"
  },
  "language_info": {
   "codemirror_mode": {
    "name": "ipython",
    "version": 3
   },
   "file_extension": ".py",
   "mimetype": "text/x-python",
   "name": "python",
   "nbconvert_exporter": "python",
   "pygments_lexer": "ipython3",
   "version": "3.10.2"
  },
  "orig_nbformat": 4,
  "vscode": {
   "interpreter": {
    "hash": "38519c3442d9f767135b0650f6935cb54106bd9267700919f92a37291a156600"
   }
  }
 },
 "nbformat": 4,
 "nbformat_minor": 2
}
