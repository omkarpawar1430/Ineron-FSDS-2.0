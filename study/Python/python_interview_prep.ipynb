{
 "cells": [
  {
   "cell_type": "markdown",
   "metadata": {},
   "source": [
    "# Python Interview Prep"
   ]
  },
  {
   "cell_type": "markdown",
   "metadata": {},
   "source": [
    "### How to sort dictionaries based on their values?"
   ]
  },
  {
   "cell_type": "code",
   "execution_count": 4,
   "metadata": {},
   "outputs": [
    {
     "data": {
      "text/plain": [
       "{22: [{'name': 'Bob', 'age': 22}, {'name': 'David', 'age': 22}],\n",
       " 28: [{'name': 'Alice', 'age': 28}, {'name': 'Charlie', 'age': 28}]}"
      ]
     },
     "execution_count": 4,
     "metadata": {},
     "output_type": "execute_result"
    }
   ],
   "source": [
    "from itertools import groupby\n",
    "\n",
    "people = [\n",
    "    {'name': 'Alice', 'age': 28},\n",
    "    {'name': 'Bob', 'age': 22},\n",
    "    {'name': 'Charlie', 'age': 28},\n",
    "    {'name': 'David', 'age': 22}\n",
    "]\n",
    "\n",
    "# Group people by age\n",
    "people.sort(key=lambda x: x['age'])\n",
    "grouped_people = {age: list(group) for age, group in groupby(people, key=lambda x: x['age'])}\n",
    "\n",
    "grouped_people\n"
   ]
  },
  {
   "cell_type": "markdown",
   "metadata": {},
   "source": [
    "-----------"
   ]
  },
  {
   "cell_type": "markdown",
   "metadata": {},
   "source": [
    "### Q. What is the difference between ffill vs bfill in pandas?"
   ]
  },
  {
   "cell_type": "code",
   "execution_count": 5,
   "metadata": {},
   "outputs": [],
   "source": [
    "import pandas as pd"
   ]
  },
  {
   "cell_type": "code",
   "execution_count": 6,
   "metadata": {},
   "outputs": [
    {
     "name": "stdout",
     "output_type": "stream",
     "text": [
      "   Data-1  Data-2  Data-3\n",
      "0     NaN    13.0     NaN\n",
      "1    11.0    14.0    15.0\n",
      "2    12.0     NaN    16.0\n",
      "   Data-1  Data-2  Data-3\n",
      "0    11.0    13.0    15.0\n",
      "1    11.0    14.0    15.0\n",
      "2    12.0     NaN    16.0\n",
      "   Data-1  Data-2  Data-3\n",
      "0     NaN    13.0     NaN\n",
      "1    11.0    14.0    15.0\n",
      "2    12.0    14.0    16.0\n"
     ]
    }
   ],
   "source": [
    "df = pd.DataFrame({'Data-1':  [None, 11, 12], \n",
    "                   'Data-2':  [13, 14, None],\n",
    "                   'Data-3':  [None, 15, 16]})\n",
    "print(df)\n",
    "bdf = df.bfill(axis='rows') # next value fills backward `NaN` value\n",
    "fdf = df.ffill(axis='rows') # previous value fills forward `NaN` value\n",
    "print(bdf)\n",
    "print(fdf)\n"
   ]
  },
  {
   "cell_type": "markdown",
   "metadata": {},
   "source": [
    "https://blog.finxter.com/pandas-dataframe-missing-data-handling-backfill-bfill-fillna-dropna-and-interpolate/"
   ]
  },
  {
   "cell_type": "code",
   "execution_count": 7,
   "metadata": {},
   "outputs": [
    {
     "data": {
      "text/html": [
       "<div>\n",
       "<style scoped>\n",
       "    .dataframe tbody tr th:only-of-type {\n",
       "        vertical-align: middle;\n",
       "    }\n",
       "\n",
       "    .dataframe tbody tr th {\n",
       "        vertical-align: top;\n",
       "    }\n",
       "\n",
       "    .dataframe thead th {\n",
       "        text-align: right;\n",
       "    }\n",
       "</style>\n",
       "<table border=\"1\" class=\"dataframe\">\n",
       "  <thead>\n",
       "    <tr style=\"text-align: right;\">\n",
       "      <th></th>\n",
       "      <th>Data-1</th>\n",
       "      <th>Data-2</th>\n",
       "      <th>Data-3</th>\n",
       "    </tr>\n",
       "  </thead>\n",
       "  <tbody>\n",
       "    <tr>\n",
       "      <th>0</th>\n",
       "      <td>11.0</td>\n",
       "      <td>13.0</td>\n",
       "      <td>15.0</td>\n",
       "    </tr>\n",
       "    <tr>\n",
       "      <th>1</th>\n",
       "      <td>11.0</td>\n",
       "      <td>14.0</td>\n",
       "      <td>15.0</td>\n",
       "    </tr>\n",
       "    <tr>\n",
       "      <th>2</th>\n",
       "      <td>12.0</td>\n",
       "      <td>NaN</td>\n",
       "      <td>16.0</td>\n",
       "    </tr>\n",
       "  </tbody>\n",
       "</table>\n",
       "</div>"
      ],
      "text/plain": [
       "   Data-1  Data-2  Data-3\n",
       "0    11.0    13.0    15.0\n",
       "1    11.0    14.0    15.0\n",
       "2    12.0     NaN    16.0"
      ]
     },
     "execution_count": 7,
     "metadata": {},
     "output_type": "execute_result"
    }
   ],
   "source": [
    "df.bfill(axis='rows') # next value fills backward `NaN` value\n"
   ]
  },
  {
   "cell_type": "code",
   "execution_count": 8,
   "metadata": {},
   "outputs": [
    {
     "data": {
      "text/html": [
       "<div>\n",
       "<style scoped>\n",
       "    .dataframe tbody tr th:only-of-type {\n",
       "        vertical-align: middle;\n",
       "    }\n",
       "\n",
       "    .dataframe tbody tr th {\n",
       "        vertical-align: top;\n",
       "    }\n",
       "\n",
       "    .dataframe thead th {\n",
       "        text-align: right;\n",
       "    }\n",
       "</style>\n",
       "<table border=\"1\" class=\"dataframe\">\n",
       "  <thead>\n",
       "    <tr style=\"text-align: right;\">\n",
       "      <th></th>\n",
       "      <th>Data-1</th>\n",
       "      <th>Data-2</th>\n",
       "      <th>Data-3</th>\n",
       "    </tr>\n",
       "  </thead>\n",
       "  <tbody>\n",
       "    <tr>\n",
       "      <th>0</th>\n",
       "      <td>NaN</td>\n",
       "      <td>13.0</td>\n",
       "      <td>NaN</td>\n",
       "    </tr>\n",
       "    <tr>\n",
       "      <th>1</th>\n",
       "      <td>11.0</td>\n",
       "      <td>14.0</td>\n",
       "      <td>15.0</td>\n",
       "    </tr>\n",
       "    <tr>\n",
       "      <th>2</th>\n",
       "      <td>12.0</td>\n",
       "      <td>14.0</td>\n",
       "      <td>16.0</td>\n",
       "    </tr>\n",
       "  </tbody>\n",
       "</table>\n",
       "</div>"
      ],
      "text/plain": [
       "   Data-1  Data-2  Data-3\n",
       "0     NaN    13.0     NaN\n",
       "1    11.0    14.0    15.0\n",
       "2    12.0    14.0    16.0"
      ]
     },
     "execution_count": 8,
     "metadata": {},
     "output_type": "execute_result"
    }
   ],
   "source": [
    "df.ffill(axis='rows') # previous value fills forward `NaN` value"
   ]
  },
  {
   "cell_type": "markdown",
   "metadata": {},
   "source": [
    "### What is the use of `finally` in exception handling?"
   ]
  },
  {
   "cell_type": "code",
   "execution_count": 9,
   "metadata": {},
   "outputs": [
    {
     "name": "stdout",
     "output_type": "stream",
     "text": [
      "   Data-1  Data-2  Data-3\n",
      "0     NaN    13.0     NaN\n",
      "1    11.0    14.0    15.0\n",
      "2    12.0     NaN    16.0\n",
      "   Data-1  Data-2  Data-3\n",
      "0    11.0    13.0    15.0\n",
      "1    11.0    14.0    15.0\n",
      "2    12.0     NaN    16.0\n",
      "   Data-1  Data-2  Data-3\n",
      "0     NaN    13.0     NaN\n",
      "1    11.0    14.0    15.0\n",
      "2    12.0    14.0    16.0\n"
     ]
    }
   ],
   "source": [
    "df = pd.DataFrame({'Data-1':  [None, 11, 12], \n",
    "                   'Data-2':  [13, 14, None],\n",
    "                   'Data-3':  [None, 15, 16]})\n",
    "print(df)\n",
    "bdf = df.bfill(axis='rows') # next value fills backward `NaN` value\n",
    "fdf = df.ffill(axis='rows') # previous value fills forward `NaN` value\n",
    "print(bdf)\n",
    "print(fdf)"
   ]
  },
  {
   "cell_type": "code",
   "execution_count": 10,
   "metadata": {},
   "outputs": [],
   "source": [
    "import pandas as pd"
   ]
  },
  {
   "cell_type": "code",
   "execution_count": 11,
   "metadata": {},
   "outputs": [
    {
     "name": "stdout",
     "output_type": "stream",
     "text": [
      "   Data-1  Data-2  Data-3\n",
      "0     NaN    13.0     NaN\n",
      "1    11.0    14.0    15.0\n",
      "2    12.0     NaN    16.0\n",
      "   Data-1  Data-2  Data-3\n",
      "0    11.0    13.0    15.0\n",
      "1    11.0    14.0    15.0\n",
      "2    12.0     NaN    16.0\n",
      "   Data-1  Data-2  Data-3\n",
      "0     NaN    13.0     NaN\n",
      "1    11.0    14.0    15.0\n",
      "2    12.0    14.0    16.0\n",
      "Hi, this is how we fill missing values\n"
     ]
    }
   ],
   "source": [
    "try:\n",
    "    df = pd.DataFrame({'Data-1':  [None, 11, 12], \n",
    "                   'Data-2':  [13, 14, None],\n",
    "                   'Data-3':  [None, 15, 16]})\n",
    "    print(df)\n",
    "    bdf = df.bfill(axis='rows') # next value fills backward `NaN` value\n",
    "    fdf = df.ffill(axis='rows') # previous value fills forward `NaN` value\n",
    "    print(bdf)\n",
    "    print(fdf)\n",
    "except Exception as e:\n",
    "    print(f\"Error: {e}\")\n",
    "finally:\n",
    "    print(\"Hi, this is how we fill missing values\")\n"
   ]
  },
  {
   "cell_type": "markdown",
   "metadata": {},
   "source": [
    "### Q What is the difference between shallow copy and deep copy?\n"
   ]
  },
  {
   "cell_type": "code",
   "execution_count": 12,
   "metadata": {},
   "outputs": [
    {
     "name": "stdout",
     "output_type": "stream",
     "text": [
      "[1, [99, 3]]\n"
     ]
    }
   ],
   "source": [
    "import copy\n",
    "\n",
    "original_list = [1, [2, 3]]\n",
    "shallow_copy = copy.copy(original_list)\n",
    "\n",
    "# Both original_list and shallow_copy share the same inner list\n",
    "shallow_copy[1][0] = 99\n",
    "print(original_list)  # Output: [1, [99, 3]]\n"
   ]
  },
  {
   "cell_type": "code",
   "execution_count": 13,
   "metadata": {},
   "outputs": [
    {
     "name": "stdout",
     "output_type": "stream",
     "text": [
      "[1, [2, 3]]\n"
     ]
    }
   ],
   "source": [
    "import copy\n",
    "\n",
    "original_list = [1, [2, 3]]\n",
    "deep_copy = copy.deepcopy(original_list)\n",
    "\n",
    "# Modifying deep_copy does not affect original_list\n",
    "deep_copy[1][0] = 99\n",
    "print(original_list)  # Output: [1, [2, 3]]\n"
   ]
  },
  {
   "cell_type": "markdown",
   "metadata": {},
   "source": [
    "### Q. How to add and update elements in dictionary?"
   ]
  },
  {
   "cell_type": "code",
   "execution_count": 14,
   "metadata": {},
   "outputs": [],
   "source": [
    "person = {'name': 'Bob', 'age': 22}\n"
   ]
  },
  {
   "cell_type": "code",
   "execution_count": 15,
   "metadata": {},
   "outputs": [
    {
     "data": {
      "text/plain": [
       "dict"
      ]
     },
     "execution_count": 15,
     "metadata": {},
     "output_type": "execute_result"
    }
   ],
   "source": [
    "type(person)"
   ]
  },
  {
   "cell_type": "code",
   "execution_count": 16,
   "metadata": {},
   "outputs": [],
   "source": [
    "person[\"DoB\"] = \"24-JUN-2023\""
   ]
  },
  {
   "cell_type": "code",
   "execution_count": 17,
   "metadata": {},
   "outputs": [
    {
     "data": {
      "text/plain": [
       "{'name': 'Bob', 'age': 22, 'DoB': '24-JUN-2023'}"
      ]
     },
     "execution_count": 17,
     "metadata": {},
     "output_type": "execute_result"
    }
   ],
   "source": [
    "person"
   ]
  },
  {
   "cell_type": "code",
   "execution_count": 18,
   "metadata": {},
   "outputs": [],
   "source": [
    "person['age'] = 1"
   ]
  },
  {
   "cell_type": "markdown",
   "metadata": {},
   "source": [
    "### Q. What is the difference between Modules Vs Packages?"
   ]
  },
  {
   "cell_type": "markdown",
   "metadata": {},
   "source": [
    "In Python, both modules and packages are used to organize and structure code, but they serve different purposes and have distinct characteristics.\n",
    "\n",
    "**Module**:\n",
    "\n",
    "1. A module is a single Python file that contains Python code. It can define variables, functions, and classes. Essentially, it's a way to encapsulate and reuse Python code.\n",
    "\n",
    "2. Modules are typically used to group related code into a single file, making it easier to manage and maintain.\n",
    "\n",
    "3. You can import and use modules in other Python scripts using the `import` statement.\n",
    "\n",
    "4. Modules have a `.py` extension, and their names are typically valid Python identifiers.\n",
    "\n",
    "5. Example of creating and using a module:\n",
    "\n",
    "   ```python\n",
    "   # mymodule.py\n",
    "   def my_function():\n",
    "       print(\"This is a function in mymodule\")\n",
    "\n",
    "   # main.py\n",
    "   import mymodule\n",
    "   mymodule.my_function()\n",
    "   ```\n",
    "\n",
    "**Package**:\n",
    "\n",
    "1. A package is a collection of modules organized within a directory hierarchy. It contains a special file called `__init__.py` (which can be empty or contain initialization code) and one or more module files.\n",
    "\n",
    "2. Packages are used to create a structured namespace for related modules. They allow you to group modules into subdirectories, making it easy to organize and access code.\n",
    "\n",
    "3. You can import specific modules from a package using dot notation. For example, `import package.module`.\n",
    "\n",
    "4. Packages are useful for organizing larger codebases and for avoiding naming conflicts.\n",
    "\n",
    "5. Example of creating and using a package:\n",
    "\n",
    "   ```\n",
    "   mypackage/\n",
    "   ├── __init__.py\n",
    "   ├── module1.py\n",
    "   ├── module2.py\n",
    "   ```\n",
    "\n",
    "   ```python\n",
    "   # module1.py\n",
    "   def func1():\n",
    "       print(\"Function 1 in module1\")\n",
    "\n",
    "   # module2.py\n",
    "   def func2():\n",
    "       print(\"Function 2 in module2\")\n",
    "\n",
    "   # main.py\n",
    "   from mypackage import module1, module2\n",
    "   module1.func1()\n",
    "   module2.func2()\n",
    "   ```\n",
    "\n",
    "In summary, a module is a single Python file that encapsulates code, while a package is a directory that contains multiple modules along with a special `__init__.py` file. Modules are typically used for smaller code components, whereas packages are used to organize larger projects and avoid naming conflicts. Both modules and packages contribute to code organization and reusability in Python."
   ]
  },
  {
   "cell_type": "markdown",
   "metadata": {},
   "source": [
    "### Q. Global Interpreter Lock (GIL)?"
   ]
  },
  {
   "cell_type": "markdown",
   "metadata": {},
   "source": []
  },
  {
   "cell_type": "markdown",
   "metadata": {},
   "source": [
    "### Q. What is the difference between `iloc` vs `loc`?"
   ]
  },
  {
   "cell_type": "markdown",
   "metadata": {},
   "source": [
    "`iloc` in numerical indexing."
   ]
  },
  {
   "cell_type": "code",
   "execution_count": 19,
   "metadata": {},
   "outputs": [
    {
     "name": "stdout",
     "output_type": "stream",
     "text": [
      "   A   B    C\n",
      "0  1  10  100\n",
      "1  2  20  200\n",
      "2  3  30  300\n",
      "3  4  40  400\n",
      "4  5  50  500\n",
      "____________________\n",
      "   \n",
      "Value at (0, 1) using iloc: 10\n",
      "Subset using iloc:\n",
      "    A   B\n",
      "1  2  20\n",
      "2  3  30\n",
      "3  4  40\n"
     ]
    }
   ],
   "source": [
    "import pandas as pd\n",
    "\n",
    "data = {'A': [1, 2, 3, 4, 5],\n",
    "        'B': [10, 20, 30, 40, 50],\n",
    "        'C': [100, 200, 300, 400, 500]}\n",
    "\n",
    "df = pd.DataFrame(data)\n",
    "print(df)\n",
    "print(\"____________________\\n   \")\n",
    "\n",
    "# Select the first row and second column using iloc\n",
    "\n",
    "value = df.iloc[0, 1] # df.iloc[row_indices, column_indices]\n",
    "print(\"Value at (0, 1) using iloc:\", value)\n",
    "\n",
    "# Select a range of rows and columns using iloc\n",
    "subset = df.iloc[1:4, 0:2] # [included:excluded]\n",
    "print(\"Subset using iloc:\\n\", subset)"
   ]
  },
  {
   "cell_type": "markdown",
   "metadata": {},
   "source": [
    "`loc` is label indexing. "
   ]
  },
  {
   "cell_type": "code",
   "execution_count": 20,
   "metadata": {},
   "outputs": [
    {
     "name": "stdout",
     "output_type": "stream",
     "text": [
      "      A   B    C\n",
      "Row1  1  10  100\n",
      "Row2  2  20  200\n",
      "Row3  3  30  300\n",
      "Row4  4  40  400\n",
      "Row5  5  50  500\n",
      "____________________\n",
      "   \n",
      "Value at ('Row1', 'B') using loc: 10\n",
      "Subset using loc:\n",
      "       A   B\n",
      "Row1  1  10\n",
      "Row2  2  20\n",
      "Row3  3  30\n",
      "Row4  4  40\n"
     ]
    }
   ],
   "source": [
    "import pandas as pd\n",
    "\n",
    "data = {'A': [1, 2, 3, 4, 5],\n",
    "        'B': [10, 20, 30, 40, 50],\n",
    "        'C': [100, 200, 300, 400, 500]}\n",
    "\n",
    "df = pd.DataFrame(data)\n",
    "\n",
    "df.index = ['Row1', 'Row2', 'Row3', 'Row4', 'Row5']\n",
    "print(df)\n",
    "\n",
    "print(\"____________________\\n   \")\n",
    "\n",
    "# Select data by label using loc\n",
    "value = df.loc['Row1', 'B']\n",
    "print(\"Value at ('Row1', 'B') using loc:\", value)\n",
    "\n",
    "# Select a range of rows and columns using loc\n",
    "subset = df.loc['Row1':'Row4', 'A':'B']\n",
    "print(\"Subset using loc:\\n\", subset)\n"
   ]
  },
  {
   "cell_type": "markdown",
   "metadata": {},
   "source": [
    "-----------"
   ]
  },
  {
   "cell_type": "markdown",
   "metadata": {},
   "source": [
    "### Q. What is the difference between expression and statement?\n"
   ]
  },
  {
   "cell_type": "markdown",
   "metadata": {},
   "source": [
    "**expression Vs statement:**\n",
    "\n",
    "An expression can be a single value, a combination of values and operators, a function call, or any other valid combination that evaluates to a single value. \n",
    "\n",
    "```\n",
    "2 + 3\n",
    "\"Hello, \" + \"world\"\n",
    "len(\"Hello, world\")\n",
    "```\n",
    "A statement, on the other hand, is a complete line of code that performs an action, but does not return a value.\n",
    "\n",
    "```\n",
    "print(\"Hello, world\")\n",
    "a = 2 + 3\n",
    "\n",
    "```"
   ]
  },
  {
   "cell_type": "markdown",
   "metadata": {},
   "source": [
    "---------"
   ]
  },
  {
   "cell_type": "markdown",
   "metadata": {},
   "source": [
    "### Q. What is the difference between `str.find()` and `str.index()`?"
   ]
  },
  {
   "cell_type": "code",
   "execution_count": 21,
   "metadata": {},
   "outputs": [
    {
     "name": "stdout",
     "output_type": "stream",
     "text": [
      "14\n"
     ]
    },
    {
     "data": {
      "text/plain": [
       "-1"
      ]
     },
     "execution_count": 21,
     "metadata": {},
     "output_type": "execute_result"
    }
   ],
   "source": [
    "# The find() method finds the first occurrence of the specified value.\n",
    "str = \"I love to learn new things every day!\"\n",
    "print(str.find(\"n\")) # output: 14\n",
    "str.find(\"z\") # output: -1 ( when value is not present in the string returns -1)"
   ]
  },
  {
   "cell_type": "markdown",
   "metadata": {},
   "source": [
    "index() is similar to find(), but index() method raises an exception if the value is not found."
   ]
  },
  {
   "cell_type": "code",
   "execution_count": 22,
   "metadata": {},
   "outputs": [
    {
     "ename": "ValueError",
     "evalue": "substring not found",
     "output_type": "error",
     "traceback": [
      "\u001b[0;31m---------------------------------------------------------------------------\u001b[0m",
      "\u001b[0;31mValueError\u001b[0m                                Traceback (most recent call last)",
      "\u001b[1;32m/home/omkar/Omkar Pawar/Data Science/Ineuron-FSDS-2.0/study/Python/python_interview_prep.ipynb Cell 40\u001b[0m line \u001b[0;36m1\n\u001b[0;32m----> <a href='vscode-notebook-cell:/home/omkar/Omkar%20Pawar/Data%20Science/Ineuron-FSDS-2.0/study/Python/python_interview_prep.ipynb#X53sZmlsZQ%3D%3D?line=0'>1</a>\u001b[0m \u001b[39mstr\u001b[39;49m\u001b[39m.\u001b[39;49mindex(\u001b[39m\"\u001b[39;49m\u001b[39mz\u001b[39;49m\u001b[39m\"\u001b[39;49m)\n",
      "\u001b[0;31mValueError\u001b[0m: substring not found"
     ]
    }
   ],
   "source": [
    "str.index(\"z\")"
   ]
  },
  {
   "cell_type": "markdown",
   "metadata": {},
   "source": [
    "### Q. What is the difference between the list and tuple?"
   ]
  },
  {
   "cell_type": "code",
   "execution_count": 25,
   "metadata": {},
   "outputs": [
    {
     "name": "stdout",
     "output_type": "stream",
     "text": [
      "original: [1, 2, 3]\n",
      "After append: [1, 2, 3, 4]\n"
     ]
    }
   ],
   "source": [
    "# list \n",
    "\n",
    "l1 = [1, 2, 3] # written in []\n",
    "print(\"original:\", l1)\n",
    "l1.append(4)\n",
    "print(\"After append:\",l1)\n"
   ]
  },
  {
   "cell_type": "code",
   "execution_count": 27,
   "metadata": {},
   "outputs": [
    {
     "name": "stdout",
     "output_type": "stream",
     "text": [
      "original: (1, 2, 3)\n"
     ]
    },
    {
     "ename": "AttributeError",
     "evalue": "'tuple' object has no attribute 'append'",
     "output_type": "error",
     "traceback": [
      "\u001b[0;31m---------------------------------------------------------------------------\u001b[0m",
      "\u001b[0;31mAttributeError\u001b[0m                            Traceback (most recent call last)",
      "\u001b[1;32m/home/omkar/Omkar Pawar/Data Science/Ineuron-FSDS-2.0/study/Python/python_interview_prep.ipynb Cell 43\u001b[0m line \u001b[0;36m5\n\u001b[1;32m      <a href='vscode-notebook-cell:/home/omkar/Omkar%20Pawar/Data%20Science/Ineuron-FSDS-2.0/study/Python/python_interview_prep.ipynb#X62sZmlsZQ%3D%3D?line=2'>3</a>\u001b[0m t1 \u001b[39m=\u001b[39m (\u001b[39m1\u001b[39m, \u001b[39m2\u001b[39m, \u001b[39m3\u001b[39m) \u001b[39m# written in ()\u001b[39;00m\n\u001b[1;32m      <a href='vscode-notebook-cell:/home/omkar/Omkar%20Pawar/Data%20Science/Ineuron-FSDS-2.0/study/Python/python_interview_prep.ipynb#X62sZmlsZQ%3D%3D?line=3'>4</a>\u001b[0m \u001b[39mprint\u001b[39m(\u001b[39m\"\u001b[39m\u001b[39moriginal:\u001b[39m\u001b[39m\"\u001b[39m, t1)\n\u001b[0;32m----> <a href='vscode-notebook-cell:/home/omkar/Omkar%20Pawar/Data%20Science/Ineuron-FSDS-2.0/study/Python/python_interview_prep.ipynb#X62sZmlsZQ%3D%3D?line=4'>5</a>\u001b[0m t1\u001b[39m.\u001b[39;49mappend(\u001b[39m4\u001b[39m) \u001b[39m# Tuple is immutable. Hence can not be modified once created.\u001b[39;00m\n",
      "\u001b[0;31mAttributeError\u001b[0m: 'tuple' object has no attribute 'append'"
     ]
    }
   ],
   "source": [
    "# Tuple\n",
    "\n",
    "t1 = (1, 2, 3) # written in ()\n",
    "print(\"original:\", t1)\n",
    "t1.append(4) # Tuple is immutable. Hence can not be modified once created."
   ]
  },
  {
   "cell_type": "markdown",
   "metadata": {},
   "source": [
    "### Q. "
   ]
  }
 ],
 "metadata": {
  "kernelspec": {
   "display_name": "base",
   "language": "python",
   "name": "python3"
  },
  "language_info": {
   "codemirror_mode": {
    "name": "ipython",
    "version": 3
   },
   "file_extension": ".py",
   "mimetype": "text/x-python",
   "name": "python",
   "nbconvert_exporter": "python",
   "pygments_lexer": "ipython3",
   "version": "3.10.9"
  },
  "orig_nbformat": 4
 },
 "nbformat": 4,
 "nbformat_minor": 2
}
