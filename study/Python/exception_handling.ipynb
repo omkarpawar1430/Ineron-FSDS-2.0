{
 "cells": [
  {
   "attachments": {},
   "cell_type": "markdown",
   "metadata": {},
   "source": [
    "# Errors & Exception Handling"
   ]
  },
  {
   "attachments": {},
   "cell_type": "markdown",
   "metadata": {},
   "source": [
    "**1. What is tht difference between errors and exceptions?**\n",
    "\n",
    "An error in Python refers to a coding mistake in the program that prevents it from executing as intended, whereas an \n",
    "\n",
    "exception is an event that occurs during the execution of a program that disrupts the normal flow of the program's instructions.\n",
    "\n",
    " Exceptions are raised when a run-time error occurs, and can be caught and handled in the code using a `try-except` block, allowing the program to continue its execution. \n",
    " \n",
    " Errors, on the other hand, cannot be handled within the code, and typically lead to the termination of the program."
   ]
  },
  {
   "attachments": {},
   "cell_type": "markdown",
   "metadata": {},
   "source": [
    "## Errors: "
   ]
  },
  {
   "cell_type": "code",
   "execution_count": 1,
   "metadata": {},
   "outputs": [
    {
     "ename": "SyntaxError",
     "evalue": "unterminated string literal (detected at line 1) (3884575623.py, line 1)",
     "output_type": "error",
     "traceback": [
      "\u001b[1;36m  Input \u001b[1;32mIn [1]\u001b[1;36m\u001b[0m\n\u001b[1;33m    print(\"HI)\u001b[0m\n\u001b[1;37m          ^\u001b[0m\n\u001b[1;31mSyntaxError\u001b[0m\u001b[1;31m:\u001b[0m unterminated string literal (detected at line 1)\n"
     ]
    }
   ],
   "source": [
    "print(\"HI)"
   ]
  },
  {
   "cell_type": "code",
   "execution_count": 2,
   "metadata": {},
   "outputs": [
    {
     "ename": "IndentationError",
     "evalue": "expected an indented block after 'for' statement on line 1 (3059297451.py, line 2)",
     "output_type": "error",
     "traceback": [
      "\u001b[1;36m  Input \u001b[1;32mIn [2]\u001b[1;36m\u001b[0m\n\u001b[1;33m    print(i)\u001b[0m\n\u001b[1;37m    ^\u001b[0m\n\u001b[1;31mIndentationError\u001b[0m\u001b[1;31m:\u001b[0m expected an indented block after 'for' statement on line 1\n"
     ]
    }
   ],
   "source": [
    "for i in range(1, 10):\n",
    "print(i)"
   ]
  },
  {
   "cell_type": "code",
   "execution_count": 8,
   "metadata": {},
   "outputs": [
    {
     "ename": "NameError",
     "evalue": "name 'rang' is not defined",
     "output_type": "error",
     "traceback": [
      "\u001b[1;31m---------------------------------------------------------------------------\u001b[0m",
      "\u001b[1;31mNameError\u001b[0m                                 Traceback (most recent call last)",
      "\u001b[1;32md:\\code files\\Ineron FSDS 2.0\\study\\errors_and_exception_handling.ipynb Cell 6\u001b[0m in \u001b[0;36m<cell line: 1>\u001b[1;34m()\u001b[0m\n\u001b[1;32m----> <a href='vscode-notebook-cell:/d%3A/code%20files/Ineron%20FSDS%202.0/study/errors_and_exception_handling.ipynb#X13sZmlsZQ%3D%3D?line=0'>1</a>\u001b[0m \u001b[39mfor\u001b[39;00m i \u001b[39min\u001b[39;00m rang(\u001b[39m10\u001b[39m):\n\u001b[0;32m      <a href='vscode-notebook-cell:/d%3A/code%20files/Ineron%20FSDS%202.0/study/errors_and_exception_handling.ipynb#X13sZmlsZQ%3D%3D?line=1'>2</a>\u001b[0m     \u001b[39mprint\u001b[39m(i)\n",
      "\u001b[1;31mNameError\u001b[0m: name 'rang' is not defined"
     ]
    }
   ],
   "source": [
    "for i in rang(10):\n",
    "    print(i)"
   ]
  },
  {
   "cell_type": "code",
   "execution_count": 1,
   "metadata": {},
   "outputs": [
    {
     "ename": "AttributeError",
     "evalue": "'tuple' object has no attribute 'append'",
     "output_type": "error",
     "traceback": [
      "\u001b[1;31m---------------------------------------------------------------------------\u001b[0m",
      "\u001b[1;31mAttributeError\u001b[0m                            Traceback (most recent call last)",
      "\u001b[1;32md:\\code files\\Ineron FSDS 2.0\\study\\errors_and_exception_handling.ipynb Cell 7\u001b[0m in \u001b[0;36m<cell line: 2>\u001b[1;34m()\u001b[0m\n\u001b[0;32m      <a href='vscode-notebook-cell:/d%3A/code%20files/Ineron%20FSDS%202.0/study/errors_and_exception_handling.ipynb#X16sZmlsZQ%3D%3D?line=0'>1</a>\u001b[0m a \u001b[39m=\u001b[39m (\u001b[39m1\u001b[39m, \u001b[39m2\u001b[39m, \u001b[39m3\u001b[39m)\n\u001b[1;32m----> <a href='vscode-notebook-cell:/d%3A/code%20files/Ineron%20FSDS%202.0/study/errors_and_exception_handling.ipynb#X16sZmlsZQ%3D%3D?line=1'>2</a>\u001b[0m a\u001b[39m.\u001b[39;49mappend(\u001b[39m4\u001b[39m)\n",
      "\u001b[1;31mAttributeError\u001b[0m: 'tuple' object has no attribute 'append'"
     ]
    }
   ],
   "source": [
    "a = (1, 2, 3)\n",
    "a.append(4)"
   ]
  },
  {
   "cell_type": "code",
   "execution_count": 3,
   "metadata": {},
   "outputs": [
    {
     "name": "stdout",
     "output_type": "stream",
     "text": [
      "2\n"
     ]
    },
    {
     "ename": "NameError",
     "evalue": "name 'y' is not defined",
     "output_type": "error",
     "traceback": [
      "\u001b[1;31m---------------------------------------------------------------------------\u001b[0m",
      "\u001b[1;31mNameError\u001b[0m                                 Traceback (most recent call last)",
      "\u001b[1;32md:\\code files\\Ineron FSDS 2.0\\study\\errors_and_exception_handling.ipynb Cell 8\u001b[0m in \u001b[0;36m<cell line: 3>\u001b[1;34m()\u001b[0m\n\u001b[0;32m      <a href='vscode-notebook-cell:/d%3A/code%20files/Ineron%20FSDS%202.0/study/errors_and_exception_handling.ipynb#X20sZmlsZQ%3D%3D?line=0'>1</a>\u001b[0m x \u001b[39m=\u001b[39m \u001b[39m2\u001b[39m\n\u001b[0;32m      <a href='vscode-notebook-cell:/d%3A/code%20files/Ineron%20FSDS%202.0/study/errors_and_exception_handling.ipynb#X20sZmlsZQ%3D%3D?line=1'>2</a>\u001b[0m \u001b[39mprint\u001b[39m(x)\n\u001b[1;32m----> <a href='vscode-notebook-cell:/d%3A/code%20files/Ineron%20FSDS%202.0/study/errors_and_exception_handling.ipynb#X20sZmlsZQ%3D%3D?line=2'>3</a>\u001b[0m \u001b[39mprint\u001b[39m(y)\n",
      "\u001b[1;31mNameError\u001b[0m: name 'y' is not defined"
     ]
    }
   ],
   "source": [
    "x = 2\n",
    "print(x)\n",
    "print(y)"
   ]
  },
  {
   "attachments": {},
   "cell_type": "markdown",
   "metadata": {},
   "source": [
    "## Exceptions:"
   ]
  },
  {
   "cell_type": "code",
   "execution_count": 10,
   "metadata": {},
   "outputs": [
    {
     "name": "stdout",
     "output_type": "stream",
     "text": [
      "5 0\n"
     ]
    },
    {
     "ename": "ZeroDivisionError",
     "evalue": "division by zero",
     "output_type": "error",
     "traceback": [
      "\u001b[1;31m---------------------------------------------------------------------------\u001b[0m",
      "\u001b[1;31mZeroDivisionError\u001b[0m                         Traceback (most recent call last)",
      "\u001b[1;32md:\\code files\\Ineron FSDS 2.0\\study\\errors_and_exception_handling.ipynb Cell 8\u001b[0m in \u001b[0;36m<cell line: 4>\u001b[1;34m()\u001b[0m\n\u001b[0;32m      <a href='vscode-notebook-cell:/d%3A/code%20files/Ineron%20FSDS%202.0/study/errors_and_exception_handling.ipynb#X14sZmlsZQ%3D%3D?line=1'>2</a>\u001b[0m b \u001b[39m=\u001b[39m \u001b[39mint\u001b[39m(\u001b[39minput\u001b[39m(\u001b[39m\"\u001b[39m\u001b[39mvalue of b: \u001b[39m\u001b[39m\"\u001b[39m))\n\u001b[0;32m      <a href='vscode-notebook-cell:/d%3A/code%20files/Ineron%20FSDS%202.0/study/errors_and_exception_handling.ipynb#X14sZmlsZQ%3D%3D?line=2'>3</a>\u001b[0m \u001b[39mprint\u001b[39m(a, b)\n\u001b[1;32m----> <a href='vscode-notebook-cell:/d%3A/code%20files/Ineron%20FSDS%202.0/study/errors_and_exception_handling.ipynb#X14sZmlsZQ%3D%3D?line=3'>4</a>\u001b[0m c \u001b[39m=\u001b[39m a\u001b[39m/\u001b[39;49mb\n\u001b[0;32m      <a href='vscode-notebook-cell:/d%3A/code%20files/Ineron%20FSDS%202.0/study/errors_and_exception_handling.ipynb#X14sZmlsZQ%3D%3D?line=4'>5</a>\u001b[0m \u001b[39mprint\u001b[39m(c)\n",
      "\u001b[1;31mZeroDivisionError\u001b[0m: division by zero"
     ]
    }
   ],
   "source": [
    "a = int(input(\"value of a: \"))\n",
    "b = int(input(\"value of b: \"))\n",
    "print(a, b)\n",
    "c = a/b\n",
    "print(c)"
   ]
  },
  {
   "cell_type": "code",
   "execution_count": 11,
   "metadata": {},
   "outputs": [
    {
     "ename": "ValueError",
     "evalue": "invalid literal for int() with base 10: 'ten'",
     "output_type": "error",
     "traceback": [
      "\u001b[1;31m---------------------------------------------------------------------------\u001b[0m",
      "\u001b[1;31mValueError\u001b[0m                                Traceback (most recent call last)",
      "\u001b[1;32md:\\code files\\Ineron FSDS 2.0\\study\\errors_and_exception_handling.ipynb Cell 9\u001b[0m in \u001b[0;36m<cell line: 2>\u001b[1;34m()\u001b[0m\n\u001b[0;32m      <a href='vscode-notebook-cell:/d%3A/code%20files/Ineron%20FSDS%202.0/study/errors_and_exception_handling.ipynb#X15sZmlsZQ%3D%3D?line=0'>1</a>\u001b[0m a \u001b[39m=\u001b[39m \u001b[39mint\u001b[39m(\u001b[39minput\u001b[39m(\u001b[39m\"\u001b[39m\u001b[39mvalue of a: \u001b[39m\u001b[39m\"\u001b[39m))\n\u001b[1;32m----> <a href='vscode-notebook-cell:/d%3A/code%20files/Ineron%20FSDS%202.0/study/errors_and_exception_handling.ipynb#X15sZmlsZQ%3D%3D?line=1'>2</a>\u001b[0m b \u001b[39m=\u001b[39m \u001b[39mint\u001b[39;49m(\u001b[39minput\u001b[39;49m(\u001b[39m\"\u001b[39;49m\u001b[39mvalue of b: \u001b[39;49m\u001b[39m\"\u001b[39;49m))\n\u001b[0;32m      <a href='vscode-notebook-cell:/d%3A/code%20files/Ineron%20FSDS%202.0/study/errors_and_exception_handling.ipynb#X15sZmlsZQ%3D%3D?line=2'>3</a>\u001b[0m \u001b[39mprint\u001b[39m(a, b)\n\u001b[0;32m      <a href='vscode-notebook-cell:/d%3A/code%20files/Ineron%20FSDS%202.0/study/errors_and_exception_handling.ipynb#X15sZmlsZQ%3D%3D?line=3'>4</a>\u001b[0m c \u001b[39m=\u001b[39m a\u001b[39m/\u001b[39mb\n",
      "\u001b[1;31mValueError\u001b[0m: invalid literal for int() with base 10: 'ten'"
     ]
    }
   ],
   "source": [
    "a = int(input(\"value of a: \"))\n",
    "b = int(input(\"value of b: \"))\n",
    "print(a, b)\n",
    "c = a/b\n",
    "print(c)"
   ]
  },
  {
   "cell_type": "code",
   "execution_count": 4,
   "metadata": {},
   "outputs": [
    {
     "name": "stdout",
     "output_type": "stream",
     "text": [
      "['ArithmeticError', 'AssertionError', 'AttributeError', 'BaseException', 'BlockingIOError', 'BrokenPipeError', 'BufferError', 'BytesWarning', 'ChildProcessError', 'ConnectionAbortedError', 'ConnectionError', 'ConnectionRefusedError', 'ConnectionResetError', 'DeprecationWarning', 'EOFError', 'Ellipsis', 'EncodingWarning', 'EnvironmentError', 'Exception', 'False', 'FileExistsError', 'FileNotFoundError', 'FloatingPointError', 'FutureWarning', 'GeneratorExit', 'IOError', 'ImportError', 'ImportWarning', 'IndentationError', 'IndexError', 'InterruptedError', 'IsADirectoryError', 'KeyError', 'KeyboardInterrupt', 'LookupError', 'MemoryError', 'ModuleNotFoundError', 'NameError', 'None', 'NotADirectoryError', 'NotImplemented', 'NotImplementedError', 'OSError', 'OverflowError', 'PendingDeprecationWarning', 'PermissionError', 'ProcessLookupError', 'RecursionError', 'ReferenceError', 'ResourceWarning', 'RuntimeError', 'RuntimeWarning', 'StopAsyncIteration', 'StopIteration', 'SyntaxError', 'SyntaxWarning', 'SystemError', 'SystemExit', 'TabError', 'TimeoutError', 'True', 'TypeError', 'UnboundLocalError', 'UnicodeDecodeError', 'UnicodeEncodeError', 'UnicodeError', 'UnicodeTranslateError', 'UnicodeWarning', 'UserWarning', 'ValueError', 'Warning', 'WindowsError', 'ZeroDivisionError', '__IPYTHON__', '__build_class__', '__debug__', '__doc__', '__import__', '__loader__', '__name__', '__package__', '__spec__', 'abs', 'aiter', 'all', 'anext', 'any', 'ascii', 'bin', 'bool', 'breakpoint', 'bytearray', 'bytes', 'callable', 'chr', 'classmethod', 'compile', 'complex', 'copyright', 'credits', 'delattr', 'dict', 'dir', 'display', 'divmod', 'enumerate', 'eval', 'exec', 'execfile', 'filter', 'float', 'format', 'frozenset', 'get_ipython', 'getattr', 'globals', 'hasattr', 'hash', 'help', 'hex', 'id', 'input', 'int', 'isinstance', 'issubclass', 'iter', 'len', 'license', 'list', 'locals', 'map', 'max', 'memoryview', 'min', 'next', 'object', 'oct', 'open', 'ord', 'pow', 'print', 'property', 'range', 'repr', 'reversed', 'round', 'runfile', 'set', 'setattr', 'slice', 'sorted', 'staticmethod', 'str', 'sum', 'super', 'tuple', 'type', 'vars', 'zip']\n"
     ]
    }
   ],
   "source": [
    "print(dir(locals()['__builtins__'])) \n",
    "# list of all built-in functions"
   ]
  },
  {
   "attachments": {},
   "cell_type": "markdown",
   "metadata": {},
   "source": [
    "## Exception Handling:"
   ]
  },
  {
   "attachments": {},
   "cell_type": "markdown",
   "metadata": {},
   "source": [
    "These exceptions can be handled by python. We can use 4 keywords like..."
   ]
  },
  {
   "attachments": {},
   "cell_type": "markdown",
   "metadata": {},
   "source": [
    "1. try\n",
    "2. except\n",
    "3. else\n",
    "4. finally"
   ]
  },
  {
   "cell_type": "code",
   "execution_count": 5,
   "metadata": {},
   "outputs": [
    {
     "name": "stdout",
     "output_type": "stream",
     "text": [
      "5 0\n"
     ]
    },
    {
     "ename": "ZeroDivisionError",
     "evalue": "division by zero",
     "output_type": "error",
     "traceback": [
      "\u001b[1;31m---------------------------------------------------------------------------\u001b[0m",
      "\u001b[1;31mZeroDivisionError\u001b[0m                         Traceback (most recent call last)",
      "\u001b[1;32md:\\code files\\Ineron FSDS 2.0\\study\\errors_and_exception_handling.ipynb Cell 16\u001b[0m in \u001b[0;36m<cell line: 4>\u001b[1;34m()\u001b[0m\n\u001b[0;32m      <a href='vscode-notebook-cell:/d%3A/code%20files/Ineron%20FSDS%202.0/study/errors_and_exception_handling.ipynb#X22sZmlsZQ%3D%3D?line=1'>2</a>\u001b[0m b \u001b[39m=\u001b[39m \u001b[39mint\u001b[39m(\u001b[39minput\u001b[39m(\u001b[39m\"\u001b[39m\u001b[39mvalue of b: \u001b[39m\u001b[39m\"\u001b[39m))\n\u001b[0;32m      <a href='vscode-notebook-cell:/d%3A/code%20files/Ineron%20FSDS%202.0/study/errors_and_exception_handling.ipynb#X22sZmlsZQ%3D%3D?line=2'>3</a>\u001b[0m \u001b[39mprint\u001b[39m(a, b)\n\u001b[1;32m----> <a href='vscode-notebook-cell:/d%3A/code%20files/Ineron%20FSDS%202.0/study/errors_and_exception_handling.ipynb#X22sZmlsZQ%3D%3D?line=3'>4</a>\u001b[0m c \u001b[39m=\u001b[39m a\u001b[39m/\u001b[39;49mb\n\u001b[0;32m      <a href='vscode-notebook-cell:/d%3A/code%20files/Ineron%20FSDS%202.0/study/errors_and_exception_handling.ipynb#X22sZmlsZQ%3D%3D?line=4'>5</a>\u001b[0m \u001b[39mprint\u001b[39m(c)\n",
      "\u001b[1;31mZeroDivisionError\u001b[0m: division by zero"
     ]
    }
   ],
   "source": [
    "a = int(input(\"value of a: \"))\n",
    "b = int(input(\"value of b: \"))\n",
    "print(a, b)\n",
    "c = a/b\n",
    "print(c)"
   ]
  },
  {
   "cell_type": "code",
   "execution_count": 4,
   "metadata": {},
   "outputs": [
    {
     "name": "stdout",
     "output_type": "stream",
     "text": [
      "value of a: 23 \n",
      "value of b: 23\n",
      "You will get 1.0 after dividing 23 by 23\n",
      "subscribe to data decides!!!\n"
     ]
    }
   ],
   "source": [
    "# Lets try to solve this issue using python exceptions handling. \n",
    "\n",
    "try:\n",
    "    a = int(input(\"value of a: \"))\n",
    "    b = int(input(\"value of b: \"))\n",
    "    print(f\"value of a: {a} \\nvalue of b: {b}\") # \\n: new line character\n",
    "    c = a/b\n",
    "except Exception as e:\n",
    "    print(f\"Please do not enter 0 as value of b. It will raise {e} error!!!\") # executed when there is an exception\n",
    "else:\n",
    "    print(f\"You will get {c} after dividing {a} by {b}\") # executed when there is no exception. \n",
    "finally:\n",
    "    print(f\"subscribe to data decides!!!\") # executed in both conditions: with exception/without exception\n"
   ]
  },
  {
   "attachments": {},
   "cell_type": "markdown",
   "metadata": {},
   "source": [
    "In above example we can see that how the code is running it have exceptions in it. We have handled the exception using the try and except blocks."
   ]
  },
  {
   "cell_type": "code",
   "execution_count": 9,
   "metadata": {},
   "outputs": [
    {
     "name": "stdout",
     "output_type": "stream",
     "text": [
      "value of a: 15 \n",
      "value of b: 5\n",
      "3.0\n",
      "You entered valid entries :), Congratulations!!!\n"
     ]
    }
   ],
   "source": [
    "# else: in case we don't enter wrong value and code runs well and we want to get output for that, we will use \n",
    "# else block in this scenario.\n",
    "try:\n",
    "    a = int(input(\"value of a: \"))\n",
    "    b = int(input(\"value of b: \"))\n",
    "    print(f\"value of a: {a} \\nvalue of b: {b}\") #\\n: new line character\n",
    "    c = a/b\n",
    "    print(c)\n",
    "except:\n",
    "    print(\"Please do not enter 0 as value of b. It will raise an exception!!!\")\n",
    "else:\n",
    "    print(\"You entered valid entries :), Congratulations!!!\")"
   ]
  },
  {
   "cell_type": "code",
   "execution_count": 11,
   "metadata": {},
   "outputs": [
    {
     "name": "stdout",
     "output_type": "stream",
     "text": [
      "value of a: 5 \n",
      "value of b: 5\n",
      "1.0\n",
      "You entered valid entries :), Congratulations!!!\n",
      "Lets do division of some more numbers???\n"
     ]
    }
   ],
   "source": [
    "# In case we want to print output regardless of whether code is going to raise an exception. we use \n",
    "# finally block in this scenario.\n",
    "\n",
    "try:\n",
    "    a = int(input(\"value of a: \"))\n",
    "    b = int(input(\"value of b: \"))\n",
    "    print(f\"value of a: {a} \\nvalue of b: {b}\") #\\n: new line character\n",
    "    c = a/b\n",
    "    print(c)\n",
    "except:\n",
    "    print(\"Please do not enter 0 as value of b. It will raise an exception!!!\")\n",
    "else:\n",
    "    print(\"You entered valid entries :), Congratulations!!!\")\n",
    "finally:\n",
    "    print(\"Lets do division of some more numbers???\")\n"
   ]
  },
  {
   "cell_type": "code",
   "execution_count": 12,
   "metadata": {},
   "outputs": [
    {
     "name": "stdout",
     "output_type": "stream",
     "text": [
      "value of a: 15 \n",
      "value of b: 0\n",
      "Please do not enter 0 as value of b. It will raise an exception!!!\n",
      "Lets do division of some more numbers???\n"
     ]
    }
   ],
   "source": [
    "try:\n",
    "    a = int(input(\"value of a: \"))\n",
    "    b = int(input(\"value of b: \"))\n",
    "    print(f\"value of a: {a} \\nvalue of b: {b}\") #\\n: new line character\n",
    "    c = a/b\n",
    "    print(c)\n",
    "except:\n",
    "    print(\"Please do not enter 0 as value of b. It will raise an exception!!!\")\n",
    "else:\n",
    "    print(\"You entered valid entries :), Congratulations!!!\")\n",
    "finally:\n",
    "    print(\"Lets do division of some more numbers???\")"
   ]
  },
  {
   "attachments": {},
   "cell_type": "markdown",
   "metadata": {},
   "source": [
    "In both scenarios finally gets executed."
   ]
  },
  {
   "attachments": {},
   "cell_type": "markdown",
   "metadata": {},
   "source": [
    "## Examples:"
   ]
  },
  {
   "cell_type": "code",
   "execution_count": 14,
   "metadata": {},
   "outputs": [
    {
     "name": "stdout",
     "output_type": "stream",
     "text": [
      "1\n",
      "2\n",
      "3\n",
      "4\n",
      "5\n",
      "Opps!!!, <class 'IndexError'> error occurred :( \n"
     ]
    }
   ],
   "source": [
    "# e.g. 1\n",
    "\n",
    "import sys\n",
    "\n",
    "try:\n",
    "    a = [1, 2, 3, 4, 5]\n",
    "    for i in range(6):\n",
    "        print(a[i])\n",
    "except:\n",
    "    print(f\"Opps!!!, {sys.exc_info()[0]} error occurred :( \")"
   ]
  },
  {
   "cell_type": "code",
   "execution_count": 16,
   "metadata": {},
   "outputs": [
    {
     "name": "stdout",
     "output_type": "stream",
     "text": [
      "value for a:  45\n",
      "value for b:  0\n",
      "Opps!!!, <class 'ZeroDivisionError'> error occurred :( \n"
     ]
    }
   ],
   "source": [
    "# e.g. 2\n",
    "\n",
    "import sys\n",
    "\n",
    "try:\n",
    "    a = int(input(\"enter value for a: \"))\n",
    "    print(\"value for a: \", a)\n",
    "    b = int(input(\"enter value for b: \"))\n",
    "    print(\"value for b: \", b)\n",
    "    c = print(\"division: \", a/b)\n",
    "\n",
    "except:\n",
    "    print(f\"Opps!!!, {sys.exc_info()[0]} error occurred :( \")"
   ]
  },
  {
   "attachments": {},
   "cell_type": "markdown",
   "metadata": {},
   "source": [
    "We can put above code in function block to execute with multiple inputs."
   ]
  },
  {
   "cell_type": "code",
   "execution_count": 24,
   "metadata": {},
   "outputs": [],
   "source": [
    "# e.g. 3\n",
    "\n",
    "def division(a, b):\n",
    "    import sys\n",
    "\n",
    "    try:\n",
    "        print(\"division: \", a/b)\n",
    "    except:\n",
    "        print(f\"Opps!!!, {sys.exc_info()[0]} error occurred :( \")"
   ]
  },
  {
   "cell_type": "code",
   "execution_count": 25,
   "metadata": {},
   "outputs": [
    {
     "name": "stdout",
     "output_type": "stream",
     "text": [
      "division:  5.0\n",
      "Opps!!!, <class 'ZeroDivisionError'> error occurred :( \n",
      "Opps!!!, <class 'TypeError'> error occurred :( \n"
     ]
    }
   ],
   "source": [
    "division(15, 3)\n",
    "division(15, 0)\n",
    "division(15, \"five\")"
   ]
  },
  {
   "cell_type": "code",
   "execution_count": 27,
   "metadata": {},
   "outputs": [
    {
     "name": "stdout",
     "output_type": "stream",
     "text": [
      "[Errno 2] No such file or directory: 'test.txt' try to enter valid name.\n"
     ]
    }
   ],
   "source": [
    "# e.g. 4 \n",
    "\n",
    "try:\n",
    "    with open(\"test.txt\") as f:\n",
    "        content = f.read()\n",
    "except Exception as e:\n",
    "    print(e, \"try to enter valid name.\")\n"
   ]
  },
  {
   "cell_type": "code",
   "execution_count": 31,
   "metadata": {},
   "outputs": [
    {
     "name": "stdout",
     "output_type": "stream",
     "text": [
      "one\n",
      "You have entered wrong value, try again!!!\n"
     ]
    }
   ],
   "source": [
    "# e.g. 5 \n",
    "\n",
    "try:\n",
    "    value = input(\"value of x:  \")\n",
    "    print(value)\n",
    "    x = int(value)\n",
    "    \n",
    "except ValueError:\n",
    "    print(\"You have entered wrong value, try again!!!\")"
   ]
  },
  {
   "cell_type": "code",
   "execution_count": null,
   "metadata": {},
   "outputs": [],
   "source": []
  }
 ],
 "metadata": {
  "kernelspec": {
   "display_name": "Python 3",
   "language": "python",
   "name": "python3"
  },
  "language_info": {
   "codemirror_mode": {
    "name": "ipython",
    "version": 3
   },
   "file_extension": ".py",
   "mimetype": "text/x-python",
   "name": "python",
   "nbconvert_exporter": "python",
   "pygments_lexer": "ipython3",
   "version": "3.10.9"
  },
  "orig_nbformat": 4,
  "vscode": {
   "interpreter": {
    "hash": "38519c3442d9f767135b0650f6935cb54106bd9267700919f92a37291a156600"
   }
  }
 },
 "nbformat": 4,
 "nbformat_minor": 2
}
