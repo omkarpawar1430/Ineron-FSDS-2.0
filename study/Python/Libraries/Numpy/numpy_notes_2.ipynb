{
 "cells": [
  {
   "cell_type": "code",
   "execution_count": 8,
   "id": "ba623f0e-75e9-4c83-8298-90d6624a75b6",
   "metadata": {},
   "outputs": [],
   "source": [
    "import numpy as np\n"
   ]
  },
  {
   "cell_type": "code",
   "execution_count": 1,
   "id": "afafaac0-50e0-4118-9c34-b4d90afd2d76",
   "metadata": {},
   "outputs": [
    {
     "data": {
      "text/plain": [
       "[0, 1, 2, 3, 4, 5, 6, 7, 8, 9]"
      ]
     },
     "execution_count": 1,
     "metadata": {},
     "output_type": "execute_result"
    }
   ],
   "source": [
    "list(range(0, 10))"
   ]
  },
  {
   "cell_type": "code",
   "execution_count": 11,
   "id": "7f5964fe-fb25-4598-bf2d-ef623570d0d2",
   "metadata": {},
   "outputs": [
    {
     "ename": "TypeError",
     "evalue": "'float' object cannot be interpreted as an integer",
     "output_type": "error",
     "traceback": [
      "\u001b[0;31m---------------------------------------------------------------------------\u001b[0m",
      "\u001b[0;31mTypeError\u001b[0m                                 Traceback (most recent call last)",
      "\u001b[1;32m/home/omkar/Omkar Pawar/Data Science/Ineuron-FSDS-2.0/study/Python/Libraries/Numpy/numpy_notes_2.ipynb Cell 3\u001b[0m line \u001b[0;36m2\n\u001b[1;32m      <a href='vscode-notebook-cell:/home/omkar/Omkar%20Pawar/Data%20Science/Ineuron-FSDS-2.0/study/Python/Libraries/Numpy/numpy_notes_2.ipynb#W2sZmlsZQ%3D%3D?line=0'>1</a>\u001b[0m \u001b[39m# range works in case of only integers.\u001b[39;00m\n\u001b[0;32m----> <a href='vscode-notebook-cell:/home/omkar/Omkar%20Pawar/Data%20Science/Ineuron-FSDS-2.0/study/Python/Libraries/Numpy/numpy_notes_2.ipynb#W2sZmlsZQ%3D%3D?line=1'>2</a>\u001b[0m \u001b[39mlist\u001b[39m(\u001b[39mrange\u001b[39;49m(\u001b[39m0.5\u001b[39;49m, \u001b[39m10\u001b[39;49m))\n",
      "\u001b[0;31mTypeError\u001b[0m: 'float' object cannot be interpreted as an integer"
     ]
    }
   ],
   "source": [
    "# range works in case of only integers.\n",
    "list(range(0.5, 10))"
   ]
  },
  {
   "cell_type": "code",
   "execution_count": 12,
   "id": "3f660ea7-c620-4eb0-9d02-e9072471c0bc",
   "metadata": {},
   "outputs": [
    {
     "data": {
      "text/plain": [
       "array([0.5, 2.5, 4.5, 6.5, 8.5])"
      ]
     },
     "execution_count": 12,
     "metadata": {},
     "output_type": "execute_result"
    }
   ],
   "source": [
    "# In numpy we can do this by using np.arange():\n",
    "np.arange(0.5, 10, step = 2)"
   ]
  },
  {
   "cell_type": "code",
   "execution_count": 60,
   "id": "f986fb14-c3b7-415b-9afa-ea72ea2608a9",
   "metadata": {},
   "outputs": [
    {
     "data": {
      "text/plain": [
       "array([ 5,  3,  1, -1, -3, -5])"
      ]
     },
     "execution_count": 60,
     "metadata": {},
     "output_type": "execute_result"
    }
   ],
   "source": [
    "# It also goes in negative axis and have step method too:\n",
    "\n",
    "np.arange(start=5,stop= -6,step= -2) # (start, end(excluded), step)"
   ]
  },
  {
   "cell_type": "markdown",
   "id": "f7082cad-4566-4d8b-9a9b-bcfa89068ba5",
   "metadata": {},
   "source": [
    "----------------------------------------------------------------------------------------------"
   ]
  },
  {
   "cell_type": "code",
   "execution_count": 14,
   "id": "ce83d623-66cf-4537-b646-486518c3b2ca",
   "metadata": {},
   "outputs": [
    {
     "data": {
      "text/plain": [
       "array([ 1.        ,  1.47368421,  1.94736842,  2.42105263,  2.89473684,\n",
       "        3.36842105,  3.84210526,  4.31578947,  4.78947368,  5.26315789,\n",
       "        5.73684211,  6.21052632,  6.68421053,  7.15789474,  7.63157895,\n",
       "        8.10526316,  8.57894737,  9.05263158,  9.52631579, 10.        ])"
      ]
     },
     "execution_count": 14,
     "metadata": {},
     "output_type": "execute_result"
    }
   ],
   "source": [
    "# we can devide specific range of numbers into required chunks:\n",
    "np.linspace(1,10,20) # We are deviding numbers from 1 to 10 into 20 similar chunks"
   ]
  },
  {
   "cell_type": "code",
   "execution_count": 59,
   "id": "5af5880b-1d11-49e5-9da4-d0922d1ce961",
   "metadata": {},
   "outputs": [
    {
     "data": {
      "text/plain": [
       "(array([ 1.        ,  1.47368421,  1.94736842,  2.42105263,  2.89473684,\n",
       "         3.36842105,  3.84210526,  4.31578947,  4.78947368,  5.26315789,\n",
       "         5.73684211,  6.21052632,  6.68421053,  7.15789474,  7.63157895,\n",
       "         8.10526316,  8.57894737,  9.05263158,  9.52631579, 10.        ]),\n",
       " 0.47368421052631576)"
      ]
     },
     "execution_count": 59,
     "metadata": {},
     "output_type": "execute_result"
    }
   ],
   "source": [
    "np.linspace(start=1,stop= 10,num=20, retstep = True) # shows rate of steping to divide in 20"
   ]
  },
  {
   "cell_type": "markdown",
   "id": "aefced25-defb-4948-bde9-b8d3f674d834",
   "metadata": {},
   "source": [
    "---------------------------------------------------------------------------------------------------------"
   ]
  },
  {
   "cell_type": "code",
   "execution_count": 16,
   "id": "737c5f20-5186-4e07-b952-4995734526ba",
   "metadata": {},
   "outputs": [
    {
     "data": {
      "text/plain": [
       "array([1.00000000e+02, 2.72133877e+02, 7.40568469e+02, 2.01533769e+03,\n",
       "       5.48441658e+03, 1.49249555e+04, 4.06158599e+04, 1.10529514e+05,\n",
       "       3.00788252e+05, 8.18546731e+05, 2.22754295e+06, 6.06189899e+06,\n",
       "       1.64964807e+07, 4.48925126e+07, 1.22167735e+08, 3.32459793e+08,\n",
       "       9.04735724e+08, 2.46209240e+09, 6.70018750e+09, 1.82334800e+10,\n",
       "       4.96194760e+10, 1.35031404e+11, 3.67466194e+11, 1.00000000e+12])"
      ]
     },
     "execution_count": 16,
     "metadata": {},
     "output_type": "execute_result"
    }
   ],
   "source": [
    "# we can get log of our linespace using logspace: (base is 10 by default)\n",
    "np.logspace(2,12, 24)"
   ]
  },
  {
   "cell_type": "markdown",
   "id": "afab196f-d4d5-4bc2-b0b3-fcf66d804e25",
   "metadata": {},
   "source": [
    "--------------------------------------------------------------------------------------------------------------\n"
   ]
  },
  {
   "cell_type": "code",
   "execution_count": 17,
   "id": "82256760-b60a-4b29-819a-ba3a109f1f22",
   "metadata": {},
   "outputs": [
    {
     "data": {
      "text/plain": [
       "array([0., 0.])"
      ]
     },
     "execution_count": 17,
     "metadata": {},
     "output_type": "execute_result"
    }
   ],
   "source": [
    "# We can create array of zero and one as it's element:\n",
    "\n",
    "np.zeros(2)"
   ]
  },
  {
   "cell_type": "code",
   "execution_count": 18,
   "id": "5be80ea5-dad6-4f5b-be6d-83fa74f04763",
   "metadata": {},
   "outputs": [
    {
     "data": {
      "text/plain": [
       "array([[0., 0., 0.],\n",
       "       [0., 0., 0.]])"
      ]
     },
     "execution_count": 18,
     "metadata": {},
     "output_type": "execute_result"
    }
   ],
   "source": [
    "np.zeros((2,3))"
   ]
  },
  {
   "cell_type": "code",
   "execution_count": 19,
   "id": "3c216c22-1dfe-4f80-a6d6-7273e63c4743",
   "metadata": {},
   "outputs": [
    {
     "data": {
      "text/plain": [
       "array([1., 1., 1., 1.])"
      ]
     },
     "execution_count": 19,
     "metadata": {},
     "output_type": "execute_result"
    }
   ],
   "source": [
    "# same for ones:\n",
    "\n",
    "np.ones(4)"
   ]
  },
  {
   "cell_type": "code",
   "execution_count": 20,
   "id": "c1a408f9-d77c-4892-8c58-198527582691",
   "metadata": {},
   "outputs": [
    {
     "data": {
      "text/plain": [
       "array([[1., 1., 1.],\n",
       "       [1., 1., 1.]])"
      ]
     },
     "execution_count": 20,
     "metadata": {},
     "output_type": "execute_result"
    }
   ],
   "source": [
    "np.ones((2, 3))"
   ]
  },
  {
   "cell_type": "code",
   "execution_count": 21,
   "id": "a8601f40-4682-4407-b80f-5c8a12d6641f",
   "metadata": {},
   "outputs": [
    {
     "data": {
      "text/plain": [
       "array([[5., 5., 5.],\n",
       "       [5., 5., 5.]])"
      ]
     },
     "execution_count": 21,
     "metadata": {},
     "output_type": "execute_result"
    }
   ],
   "source": [
    "# we can multiply our array with other number if we want array of that specific number: \n",
    "\n",
    "np.ones((2,3)) * 5"
   ]
  },
  {
   "cell_type": "markdown",
   "id": "01e87270-3c07-4e7d-9111-bedaf42411eb",
   "metadata": {},
   "source": [
    "-----------------------------------------------------------------------------------------"
   ]
  },
  {
   "cell_type": "code",
   "execution_count": 22,
   "id": "b4b822bc-03fc-46c7-805f-2e3ba20c18f8",
   "metadata": {},
   "outputs": [],
   "source": [
    "# create a empty array : "
   ]
  },
  {
   "cell_type": "code",
   "execution_count": 64,
   "id": "40d84c2a-11c2-47b4-a182-8dea8cfde3e0",
   "metadata": {},
   "outputs": [
    {
     "data": {
      "text/plain": [
       "array([[ 1.30643886e-316,  0.00000000e+000,  1.66830158e-316],\n",
       "       [ 6.90079650e-310, -6.95893117e-196,  4.75284782e-037],\n",
       "       [-6.27685266e-167, -2.69659898e-157,  2.26176373e-309],\n",
       "       [ 8.03735577e-301,  4.32690536e-297, -1.43182480e-133],\n",
       "       [ 3.60350125e-306,  6.48601720e-310,  6.90079603e-310],\n",
       "       [ 1.63041663e-322,  1.85146793e-316,  6.90079650e-310]])"
      ]
     },
     "execution_count": 64,
     "metadata": {},
     "output_type": "execute_result"
    }
   ],
   "source": [
    "np.empty((6,3))"
   ]
  },
  {
   "cell_type": "markdown",
   "id": "f76570a2-54f9-4ac5-b855-d9b9127b6853",
   "metadata": {},
   "source": [
    "--------------------------------------------------------------------------------\n"
   ]
  },
  {
   "cell_type": "code",
   "execution_count": 66,
   "id": "22a5c5b7-f55a-49cb-9d45-624a5c6b1fd8",
   "metadata": {},
   "outputs": [
    {
     "data": {
      "text/plain": [
       "array([[1., 0., 0., 0., 0., 0., 0.],\n",
       "       [0., 1., 0., 0., 0., 0., 0.],\n",
       "       [0., 0., 1., 0., 0., 0., 0.],\n",
       "       [0., 0., 0., 1., 0., 0., 0.],\n",
       "       [0., 0., 0., 0., 1., 0., 0.],\n",
       "       [0., 0., 0., 0., 0., 1., 0.],\n",
       "       [0., 0., 0., 0., 0., 0., 1.]])"
      ]
     },
     "execution_count": 66,
     "metadata": {},
     "output_type": "execute_result"
    }
   ],
   "source": [
    "# Identity matics:  diagonal value are 1 and everything else is zero.\n",
    "\n",
    "a = np.eye(7)\n",
    "a"
   ]
  },
  {
   "cell_type": "code",
   "execution_count": 25,
   "id": "fa0c4ffc-4244-4c6f-9269-618f71fba44c",
   "metadata": {},
   "outputs": [
    {
     "data": {
      "text/plain": [
       "(3, 3)"
      ]
     },
     "execution_count": 25,
     "metadata": {},
     "output_type": "execute_result"
    }
   ],
   "source": [
    "# find info : \n",
    "a.shape"
   ]
  },
  {
   "cell_type": "code",
   "execution_count": 26,
   "id": "7ab14d34-80e2-4f06-a0a5-3ad6667cbfa5",
   "metadata": {},
   "outputs": [
    {
     "name": "stdout",
     "output_type": "stream",
     "text": [
      "2\n",
      "16\n",
      "(4, 4)\n"
     ]
    }
   ],
   "source": [
    "import numpy as np\n",
    "\n",
    "m = np.eye(4)\n",
    "\n",
    "print(m.ndim)\n",
    "print(m.size)\n",
    "print(m.shape)"
   ]
  },
  {
   "cell_type": "markdown",
   "id": "5d1ae4bf-55cf-4d3c-8847-c151863a42df",
   "metadata": {},
   "source": [
    "--------------------------------------------------------------------------------"
   ]
  },
  {
   "cell_type": "markdown",
   "id": "fed4be78-d18e-4ea9-b090-8c4b85ab9ea9",
   "metadata": {},
   "source": [
    "### Seed for random data generation: "
   ]
  },
  {
   "cell_type": "code",
   "execution_count": 27,
   "id": "67bd3a09-1136-4b23-b57a-5d51833258bb",
   "metadata": {},
   "outputs": [
    {
     "data": {
      "text/plain": [
       "array([[0.53128164, 0.65486589, 0.19160926, 0.592744  ],\n",
       "       [0.60905537, 0.42671302, 0.04761534, 0.90964786],\n",
       "       [0.65222734, 0.31855282, 0.85279544, 0.89129794]])"
      ]
     },
     "execution_count": 27,
     "metadata": {},
     "output_type": "execute_result"
    }
   ],
   "source": [
    "np.random.rand(3,4) "
   ]
  },
  {
   "cell_type": "code",
   "execution_count": 28,
   "id": "f88761cd-7408-47a4-af26-30ea8c3f0dd2",
   "metadata": {},
   "outputs": [
    {
     "data": {
      "text/plain": [
       "array([[0.12191645, 0.39783034, 0.39886613, 0.34385899],\n",
       "       [0.97687343, 0.04493904, 0.26461147, 0.72019154],\n",
       "       [0.3277368 , 0.97926328, 0.53223285, 0.51277475]])"
      ]
     },
     "execution_count": 28,
     "metadata": {},
     "output_type": "execute_result"
    }
   ],
   "source": [
    "np.random.rand(3,4) "
   ]
  },
  {
   "cell_type": "code",
   "execution_count": 29,
   "id": "e6c0995e-5e29-4911-96c2-b4a1642f66ec",
   "metadata": {},
   "outputs": [
    {
     "data": {
      "text/plain": [
       "array([[0.35475197, 0.17782592, 0.62897635, 0.118709  ],\n",
       "       [0.83103366, 0.12639911, 0.60170873, 0.18660662],\n",
       "       [0.52146919, 0.61832398, 0.85105545, 0.34433416]])"
      ]
     },
     "execution_count": 29,
     "metadata": {},
     "output_type": "execute_result"
    }
   ],
   "source": [
    "np.random.rand(3,4) \n"
   ]
  },
  {
   "cell_type": "markdown",
   "id": "26d0e1b8-4fcd-4deb-8467-814ff169a2ed",
   "metadata": {},
   "source": [
    "data never stays same if we run it again we will get different set of data each time, we can use seed method to lock random data."
   ]
  },
  {
   "cell_type": "code",
   "execution_count": 30,
   "id": "279ae297-80a5-4d51-a774-ba5eda553c2b",
   "metadata": {},
   "outputs": [
    {
     "data": {
      "text/plain": [
       "array([[0.11348847, 0.97448309, 0.72873463, 0.35146781],\n",
       "       [0.70760514, 0.7996046 , 0.64556185, 0.41459961],\n",
       "       [0.70603101, 0.24664938, 0.25599243, 0.02401135]])"
      ]
     },
     "execution_count": 30,
     "metadata": {},
     "output_type": "execute_result"
    }
   ],
   "source": [
    "np.random.seed(47) # seed can be any intger, acts as reference point\n",
    "np.random.rand(3,4) "
   ]
  },
  {
   "cell_type": "code",
   "execution_count": 31,
   "id": "075849f1-cc77-42f0-b7e0-f3893c69c75e",
   "metadata": {},
   "outputs": [
    {
     "data": {
      "text/plain": [
       "array([[0.11348847, 0.97448309, 0.72873463, 0.35146781],\n",
       "       [0.70760514, 0.7996046 , 0.64556185, 0.41459961],\n",
       "       [0.70603101, 0.24664938, 0.25599243, 0.02401135]])"
      ]
     },
     "execution_count": 31,
     "metadata": {},
     "output_type": "execute_result"
    }
   ],
   "source": [
    "np.random.seed(47) \n",
    "np.random.rand(3,4)"
   ]
  },
  {
   "cell_type": "markdown",
   "id": "72de50fb-49f3-4682-888d-6364544632ac",
   "metadata": {},
   "source": [
    "--------------------------------------------------------------------------------"
   ]
  },
  {
   "cell_type": "markdown",
   "id": "d6061f8c-3bbc-4166-b022-63937faff541",
   "metadata": {},
   "source": [
    "### Accessing the required data from array:"
   ]
  },
  {
   "cell_type": "code",
   "execution_count": 32,
   "id": "852df048-b3b8-469a-bdb2-a98bde1912e9",
   "metadata": {},
   "outputs": [],
   "source": [
    "import numpy as np\n",
    "\n",
    "a = np.array([[1, 2, 3],\n",
    "              [4, 5, 6],\n",
    "              [7, 8, 9]])\n"
   ]
  },
  {
   "cell_type": "code",
   "execution_count": 33,
   "id": "1f57c26a-d065-4bd3-8244-aadc94b63c60",
   "metadata": {},
   "outputs": [
    {
     "data": {
      "text/plain": [
       "5"
      ]
     },
     "execution_count": 33,
     "metadata": {},
     "output_type": "execute_result"
    }
   ],
   "source": [
    "a[1][1]"
   ]
  },
  {
   "cell_type": "code",
   "execution_count": 34,
   "id": "9fc99ea0-f730-40af-9280-4937630a5fa9",
   "metadata": {},
   "outputs": [
    {
     "data": {
      "text/plain": [
       "array([[5, 6],\n",
       "       [8, 9]])"
      ]
     },
     "execution_count": 34,
     "metadata": {},
     "output_type": "execute_result"
    }
   ],
   "source": [
    "a[1:3,1:3] # [rows,columns]"
   ]
  },
  {
   "cell_type": "code",
   "execution_count": 35,
   "id": "00af1655-2787-44cc-8061-6dffca2ad7e6",
   "metadata": {},
   "outputs": [
    {
     "data": {
      "text/plain": [
       "array([1, 9])"
      ]
     },
     "execution_count": 35,
     "metadata": {},
     "output_type": "execute_result"
    }
   ],
   "source": [
    "a[[0,2],[0,2]]"
   ]
  },
  {
   "cell_type": "markdown",
   "metadata": {},
   "source": [
    "a[[0, 2], [0, 2]]: This selects elements from the array at the following positions:\n",
    "\n",
    "From row 0, column 0: a[0, 0] (element 1)\n",
    "\n",
    "From row 2, column 2: a[2, 2] (element 9)"
   ]
  },
  {
   "cell_type": "code",
   "execution_count": 36,
   "id": "f3a34946-9a9e-47e2-b57c-9d9a15d9bf28",
   "metadata": {},
   "outputs": [
    {
     "ename": "IndexError",
     "evalue": "shape mismatch: indexing arrays could not be broadcast together with shapes (2,) (3,) ",
     "output_type": "error",
     "traceback": [
      "\u001b[0;31m---------------------------------------------------------------------------\u001b[0m",
      "\u001b[0;31mIndexError\u001b[0m                                Traceback (most recent call last)",
      "\u001b[1;32m/home/omkar/Omkar Pawar/Data Science/Ineuron-FSDS-2.0/study/Python/Libraries/Numpy/numpy_notes_2.ipynb Cell 39\u001b[0m line \u001b[0;36m1\n\u001b[0;32m----> <a href='vscode-notebook-cell:/home/omkar/Omkar%20Pawar/Data%20Science/Ineuron-FSDS-2.0/study/Python/Libraries/Numpy/numpy_notes_2.ipynb#X53sZmlsZQ%3D%3D?line=0'>1</a>\u001b[0m a[[\u001b[39m0\u001b[39;49m,\u001b[39m2\u001b[39;49m],[\u001b[39m0\u001b[39;49m,\u001b[39m2\u001b[39;49m,\u001b[39m3\u001b[39;49m]] \u001b[39m# rows and columns must be same\u001b[39;00m\n",
      "\u001b[0;31mIndexError\u001b[0m: shape mismatch: indexing arrays could not be broadcast together with shapes (2,) (3,) "
     ]
    }
   ],
   "source": [
    "a[[0,2],[0,2,3]] # rows and columns must be same"
   ]
  },
  {
   "cell_type": "code",
   "execution_count": 37,
   "id": "5107e6f8-25e5-449f-841c-222fecf7fa54",
   "metadata": {},
   "outputs": [
    {
     "data": {
      "text/plain": [
       "array([6, 9])"
      ]
     },
     "execution_count": 37,
     "metadata": {},
     "output_type": "execute_result"
    }
   ],
   "source": [
    "a[[1,2],2] # acceptable as we are asking for only one column and multiple rows ... vice versa"
   ]
  },
  {
   "cell_type": "code",
   "execution_count": 38,
   "id": "d568824a-3d67-495e-90af-d5b7e18bfcef",
   "metadata": {},
   "outputs": [
    {
     "data": {
      "text/plain": [
       "array([8, 9])"
      ]
     },
     "execution_count": 38,
     "metadata": {},
     "output_type": "execute_result"
    }
   ],
   "source": [
    "a[2, [1,2]]"
   ]
  },
  {
   "cell_type": "markdown",
   "id": "4b55d0c3-22e4-4bf3-adcd-046494064a87",
   "metadata": {},
   "source": [
    "---------------------------------------------------------"
   ]
  },
  {
   "cell_type": "markdown",
   "id": "affdadc0-a2b2-45a7-958b-a584761fa451",
   "metadata": {},
   "source": [
    "### Mathematical operations "
   ]
  },
  {
   "cell_type": "code",
   "execution_count": 69,
   "metadata": {},
   "outputs": [
    {
     "data": {
      "text/plain": [
       "array([[7, 5, 5],\n",
       "       [8, 3, 4],\n",
       "       [2, 3, 5]])"
      ]
     },
     "execution_count": 69,
     "metadata": {},
     "output_type": "execute_result"
    }
   ],
   "source": [
    "np.random.randint(low=1,high=9, size=(3,3))"
   ]
  },
  {
   "cell_type": "code",
   "execution_count": 39,
   "id": "00e4af6e-1034-4dc6-875e-f175f4b5c48d",
   "metadata": {},
   "outputs": [],
   "source": [
    "# lets create two arrays \n",
    "import numpy as np\n",
    "m1 = np.random.randint(1,9, (3,3))\n",
    "m2 = np.random.randint(1,9, (3,3))"
   ]
  },
  {
   "cell_type": "code",
   "execution_count": 40,
   "id": "6131460a-0a7e-4adf-9e97-41ef1f0af0bc",
   "metadata": {},
   "outputs": [
    {
     "data": {
      "text/plain": [
       "array([[2, 3, 2],\n",
       "       [2, 6, 1],\n",
       "       [2, 5, 3]])"
      ]
     },
     "execution_count": 40,
     "metadata": {},
     "output_type": "execute_result"
    }
   ],
   "source": [
    "m1"
   ]
  },
  {
   "cell_type": "code",
   "execution_count": 41,
   "id": "479c3833-f51b-4d7b-a9f9-05963e3d599f",
   "metadata": {},
   "outputs": [
    {
     "data": {
      "text/plain": [
       "array([[1, 3, 7],\n",
       "       [8, 2, 5],\n",
       "       [4, 5, 6]])"
      ]
     },
     "execution_count": 41,
     "metadata": {},
     "output_type": "execute_result"
    }
   ],
   "source": [
    " m2 # in here also even we run same expression still we got different array... magic of randomness"
   ]
  },
  {
   "cell_type": "code",
   "execution_count": 42,
   "id": "ba58b95e-a2c6-4c6a-a0ee-f6880fcaf26c",
   "metadata": {},
   "outputs": [
    {
     "data": {
      "text/plain": [
       "array([[ 2,  9, 14],\n",
       "       [16, 12,  5],\n",
       "       [ 8, 25, 18]])"
      ]
     },
     "execution_count": 42,
     "metadata": {},
     "output_type": "execute_result"
    }
   ],
   "source": [
    "m1*m2 # normal multiplication: element vise"
   ]
  },
  {
   "cell_type": "code",
   "execution_count": 43,
   "id": "e22ab26f-1988-4f4c-9913-d3ab76868dd2",
   "metadata": {},
   "outputs": [
    {
     "data": {
      "text/plain": [
       "array([[34, 22, 41],\n",
       "       [54, 23, 50],\n",
       "       [54, 31, 57]])"
      ]
     },
     "execution_count": 43,
     "metadata": {},
     "output_type": "execute_result"
    }
   ],
   "source": [
    "m1@m2 # matrix multiplication: "
   ]
  },
  {
   "cell_type": "markdown",
   "id": "a94ca551-f56a-42d9-9016-6f2e681bc90a",
   "metadata": {},
   "source": [
    "if m1 have `m*n` shape and m2 have p*q shape then ...` n = p`in order to do matrix multiplication , and for normal multiplication `m = P` and `n = q`."
   ]
  },
  {
   "cell_type": "markdown",
   "id": "1f367bcf-aa54-48d1-81ff-1dde1702d21a",
   "metadata": {},
   "source": [
    "other mathematical funtions: "
   ]
  },
  {
   "cell_type": "code",
   "execution_count": 44,
   "id": "599146f7-4701-4b04-937c-fd72f6ccbb4c",
   "metadata": {},
   "outputs": [
    {
     "data": {
      "text/plain": [
       "array([[2, 3, 2],\n",
       "       [2, 6, 1],\n",
       "       [2, 5, 3]])"
      ]
     },
     "execution_count": 44,
     "metadata": {},
     "output_type": "execute_result"
    }
   ],
   "source": [
    "m1"
   ]
  },
  {
   "cell_type": "code",
   "execution_count": 45,
   "id": "a5694ef1-d534-46e1-98c0-98e022f5bf0f",
   "metadata": {},
   "outputs": [
    {
     "data": {
      "text/plain": [
       "array([[  8,  27,   8],\n",
       "       [  8, 216,   1],\n",
       "       [  8, 125,  27]])"
      ]
     },
     "execution_count": 45,
     "metadata": {},
     "output_type": "execute_result"
    }
   ],
   "source": [
    "pow(m1, 3) #power"
   ]
  },
  {
   "cell_type": "code",
   "execution_count": 46,
   "id": "63682cf7-c2e9-40bb-9610-a85b83a96619",
   "metadata": {},
   "outputs": [
    {
     "data": {
      "text/plain": [
       "array([[1.41421356, 1.73205081, 1.41421356],\n",
       "       [1.41421356, 2.44948974, 1.        ],\n",
       "       [1.41421356, 2.23606798, 1.73205081]])"
      ]
     },
     "execution_count": 46,
     "metadata": {},
     "output_type": "execute_result"
    }
   ],
   "source": [
    "np.sqrt(m1) # squar root"
   ]
  },
  {
   "cell_type": "code",
   "execution_count": 47,
   "id": "f8241d61-1257-48a7-859f-d9605583de64",
   "metadata": {},
   "outputs": [
    {
     "data": {
      "text/plain": [
       "array([[0.30103   , 0.47712125, 0.30103   ],\n",
       "       [0.30103   , 0.77815125, 0.        ],\n",
       "       [0.30103   , 0.69897   , 0.47712125]])"
      ]
     },
     "execution_count": 47,
     "metadata": {},
     "output_type": "execute_result"
    }
   ],
   "source": [
    "np.log10(m1) # log with base 10 "
   ]
  },
  {
   "cell_type": "code",
   "execution_count": 48,
   "id": "327ff395-ae0f-44ea-a0fa-b1330086faf4",
   "metadata": {},
   "outputs": [
    {
     "data": {
      "text/plain": [
       "array([[  7.3890561 ,  20.08553692,   7.3890561 ],\n",
       "       [  7.3890561 , 403.42879349,   2.71828183],\n",
       "       [  7.3890561 , 148.4131591 ,  20.08553692]])"
      ]
     },
     "execution_count": 48,
     "metadata": {},
     "output_type": "execute_result"
    }
   ],
   "source": [
    "np.exp(m1) #exponent"
   ]
  },
  {
   "cell_type": "code",
   "execution_count": 49,
   "id": "2856bc07-a91a-4ca3-b47b-c089763a2ee0",
   "metadata": {},
   "outputs": [
    {
     "data": {
      "text/plain": [
       "array([[ 4,  9,  4],\n",
       "       [ 4, 36,  1],\n",
       "       [ 4, 25,  9]])"
      ]
     },
     "execution_count": 49,
     "metadata": {},
     "output_type": "execute_result"
    }
   ],
   "source": [
    "m1**2 # square"
   ]
  },
  {
   "cell_type": "markdown",
   "id": "4a5b932d-3983-4a5b-aadb-6371128725ae",
   "metadata": {},
   "source": [
    "--------------------------------------------------------------------------------------"
   ]
  },
  {
   "cell_type": "markdown",
   "metadata": {},
   "source": [
    "### Broadcasting"
   ]
  },
  {
   "cell_type": "markdown",
   "metadata": {},
   "source": [
    "Extra "
   ]
  },
  {
   "cell_type": "code",
   "execution_count": 55,
   "metadata": {},
   "outputs": [
    {
     "name": "stdout",
     "output_type": "stream",
     "text": [
      "[1 2 3 4]\n",
      "(4,)\n"
     ]
    }
   ],
   "source": [
    "array1 = np.array([1, 2, 3, 4])\n",
    "print(array1)\n",
    "print(array1.shape)"
   ]
  },
  {
   "cell_type": "code",
   "execution_count": 51,
   "metadata": {},
   "outputs": [
    {
     "name": "stdout",
     "output_type": "stream",
     "text": [
      "[[5]\n",
      " [6]\n",
      " [7]\n",
      " [8]]\n",
      "(4, 1)\n"
     ]
    }
   ],
   "source": [
    "\n",
    "array2 = np.array([5,6,7,8]).reshape(4, 1)\n",
    "print(array2)\n",
    "print(array2.shape)"
   ]
  },
  {
   "cell_type": "code",
   "execution_count": 52,
   "metadata": {},
   "outputs": [
    {
     "name": "stdout",
     "output_type": "stream",
     "text": [
      "[1 2 3 4]\n",
      "[[5]\n",
      " [6]\n",
      " [7]\n",
      " [8]]\n",
      "mat mul-----------\n",
      "[70]\n"
     ]
    }
   ],
   "source": [
    "\n",
    "print(array1)\n",
    "print(array2)\n",
    "print(\"mat mul-----------\")\n",
    "print(np.matmul(array1, array2))"
   ]
  },
  {
   "cell_type": "code",
   "execution_count": 53,
   "metadata": {},
   "outputs": [
    {
     "name": "stdout",
     "output_type": "stream",
     "text": [
      "[1 2 3 4]\n",
      "[[5 6 7 8]]\n",
      "mat mul -----------------------\n",
      "[70]\n"
     ]
    }
   ],
   "source": [
    "\n",
    "print(array1)\n",
    "print(array2.T)\n",
    "print(\"mat mul -----------------------\")\n",
    "print(np.matmul(array2.T, array1))\n"
   ]
  },
  {
   "cell_type": "code",
   "execution_count": 54,
   "metadata": {},
   "outputs": [
    {
     "name": "stdout",
     "output_type": "stream",
     "text": [
      "Array 1 Shape: (3,)\n",
      "Array 2 Shape: (3,)\n",
      "Matrix Multiplication Result: 32\n"
     ]
    }
   ],
   "source": [
    "import numpy as np\n",
    "\n",
    "# Create two arrays with 3 numbers in each\n",
    "array1 = np.array([1, 2, 3])\n",
    "array2 = np.array([4, 5, 6])\n",
    "\n",
    "# Display the shape of each array\n",
    "print(\"Array 1 Shape:\", array1.shape)\n",
    "print(\"Array 2 Shape:\", array2.shape)\n",
    "\n",
    "# Perform matrix multiplication\n",
    "result = np.matmul(array1, array2)\n",
    "\n",
    "# Alternatively, you can use the @ operator\n",
    "# result = array1 @ array2\n",
    "\n",
    "# Display the result\n",
    "print(\"Matrix Multiplication Result:\", result)\n"
   ]
  },
  {
   "cell_type": "code",
   "execution_count": null,
   "metadata": {},
   "outputs": [],
   "source": []
  },
  {
   "cell_type": "code",
   "execution_count": null,
   "metadata": {},
   "outputs": [],
   "source": []
  }
 ],
 "metadata": {
  "kernelspec": {
   "display_name": "Python 3 (ipykernel)",
   "language": "python",
   "name": "python3"
  },
  "language_info": {
   "codemirror_mode": {
    "name": "ipython",
    "version": 3
   },
   "file_extension": ".py",
   "mimetype": "text/x-python",
   "name": "python",
   "nbconvert_exporter": "python",
   "pygments_lexer": "ipython3",
   "version": "3.10.9"
  }
 },
 "nbformat": 4,
 "nbformat_minor": 5
}
