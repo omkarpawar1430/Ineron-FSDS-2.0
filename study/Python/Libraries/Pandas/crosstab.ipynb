{
 "cells": [
  {
   "cell_type": "code",
   "execution_count": 1,
   "metadata": {},
   "outputs": [
    {
     "name": "stdout",
     "output_type": "stream",
     "text": [
      "country  France  Germany  UK  US\n",
      "age                             \n",
      "20            0        0   1   0\n",
      "25            0        0   0   1\n",
      "28            0        1   0   0\n",
      "30            0        0   0   1\n",
      "32            1        0   0   0\n",
      "35            0        0   1   0\n",
      "38            0        1   0   0\n",
      "40            1        0   0   0\n"
     ]
    }
   ],
   "source": [
    "import pandas as pd\n",
    "\n",
    "# Create a sample DataFrame\n",
    "data = {'country': ['US', 'US', 'UK', 'UK', 'France', 'France', 'Germany', 'Germany'],\n",
    "       'age': [25, 30, 20, 35, 32, 40, 28, 38],\n",
    "       'gender': ['Male', 'Female', 'Male', 'Female', 'Female', 'Male', 'Female', 'Male']}\n",
    "df = pd.DataFrame(data)\n",
    "\n",
    "# Create a cross-tabulation of age by country\n",
    "table = pd.crosstab(df.age, df.country)\n",
    "print(table)\n"
   ]
  }
 ],
 "metadata": {
  "kernelspec": {
   "display_name": "base",
   "language": "python",
   "name": "python3"
  },
  "language_info": {
   "codemirror_mode": {
    "name": "ipython",
    "version": 3
   },
   "file_extension": ".py",
   "mimetype": "text/x-python",
   "name": "python",
   "nbconvert_exporter": "python",
   "pygments_lexer": "ipython3",
   "version": "3.10.9"
  }
 },
 "nbformat": 4,
 "nbformat_minor": 2
}
