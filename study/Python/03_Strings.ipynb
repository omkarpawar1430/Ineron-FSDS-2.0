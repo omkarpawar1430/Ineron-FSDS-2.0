{
 "cells": [
  {
   "cell_type": "markdown",
   "metadata": {},
   "source": [
    "Strings in Python are arrays of bytes representing unicode characters, so we can loop through each characters.\n",
    "\n",
    "Arrays: What is array explain?\n",
    "An array is a collection of elements of the same type placed in contiguous memory locations that can be individually referenced by using an index to a unique identifier"
   ]
  },
  {
   "cell_type": "code",
   "execution_count": 26,
   "metadata": {},
   "outputs": [
    {
     "name": "stdout",
     "output_type": "stream",
     "text": [
      "o\n",
      "p y t h o n "
     ]
    }
   ],
   "source": [
    "# Accessing elements of string:\n",
    "a = \"python\"\n",
    "print(a[4])\n",
    "\n",
    "# looping through string:\n",
    "for i in \"python\":\n",
    "    print(i, end=\" \")\n"
   ]
  },
  {
   "cell_type": "code",
   "execution_count": 27,
   "metadata": {},
   "outputs": [
    {
     "name": "stdout",
     "output_type": "stream",
     "text": [
      "6\n",
      "True\n",
      "False\n",
      "-----------------------------------\n",
      "False\n",
      "True\n"
     ]
    }
   ],
   "source": [
    "# Length of String:\n",
    "a = \"python\"\n",
    "print(len(a))\n",
    "\n",
    "\n",
    "# Check String:\n",
    "a = \"Working with python is fun.\" \n",
    "print(\"python\" in a) # Gives boolean value\n",
    "print(\"R\" in a) # Gives boolean value\n",
    "print(\"-----------------------------------\")\n",
    "print(\"python\" not in a) # Gives boolean value\n",
    "print(\"R\" not in a) # Gives boolean value\n",
    "\n",
    "# in , not in - membership operators."
   ]
  },
  {
   "cell_type": "code",
   "execution_count": 28,
   "metadata": {},
   "outputs": [
    {
     "name": "stdout",
     "output_type": "stream",
     "text": [
      " OMKAR DIPAK PAWAR \n",
      " omkar dipak pawar \n",
      "----------------------------\n",
      " Omkar Dipak Pawar \n",
      "Omkar Dipak Pawar\n"
     ]
    }
   ],
   "source": [
    "# Upper Case & lower case:\n",
    "a = \" Omkar Dipak Pawar \"\n",
    "print(a.upper())\n",
    "print(a.lower())\n",
    "# Removing Whitespace:\n",
    "print(\"----------------------------\")\n",
    "print(a)\n",
    "print(a.strip())"
   ]
  },
  {
   "cell_type": "code",
   "execution_count": 29,
   "metadata": {},
   "outputs": [
    {
     "name": "stdout",
     "output_type": "stream",
     "text": [
      " Omk$r Dip$k P$w$r \n"
     ]
    }
   ],
   "source": [
    "# Replace String:\n",
    "a = \" Omkar Dipak Pawar \"\n",
    "print(a.replace(\"a\", \"$\"))"
   ]
  },
  {
   "cell_type": "code",
   "execution_count": 30,
   "metadata": {},
   "outputs": [
    {
     "name": "stdout",
     "output_type": "stream",
     "text": [
      "['', 'Omkar', 'Dipak', 'Pawar', '']\n",
      "['how', 'you', 'doing', '???']\n",
      "['omkar']\n"
     ]
    }
   ],
   "source": [
    "# split string:gives output as string.\n",
    "a = \" Omkar Dipak Pawar \"\n",
    "print(a.split(sep=\" \")) # here space \" \" is working as separator.\n",
    "b = \"how$you$doing$???\"\n",
    "print(b.split(sep=\"$\")) # here $ is working as separator.\n",
    "c = \"omkar\"\n",
    "print(c.split()) # we must provide a separator."
   ]
  },
  {
   "cell_type": "markdown",
   "metadata": {},
   "source": [
    "## String Concatenation"
   ]
  },
  {
   "cell_type": "code",
   "execution_count": 31,
   "metadata": {},
   "outputs": [
    {
     "name": "stdout",
     "output_type": "stream",
     "text": [
      "omkarpawar\n",
      "omkar pawar\n"
     ]
    }
   ],
   "source": [
    "a = \"omkar\"\n",
    "b = \"pawar\"\n",
    "print(a + b)\n",
    "print(a + \" \" + b) # separating by using space"
   ]
  },
  {
   "cell_type": "markdown",
   "metadata": {},
   "source": [
    "## Format Strings"
   ]
  },
  {
   "cell_type": "code",
   "execution_count": 32,
   "metadata": {},
   "outputs": [
    {
     "name": "stdout",
     "output_type": "stream",
     "text": [
      "method 1 ---------------------------\n",
      "My name is John, and I am 36. My salary is 50000.\n",
      "method 2 ---------------------------\n",
      "My name is John, and I am 36. My salary is 50000.\n"
     ]
    }
   ],
   "source": [
    "age = 36\n",
    "salary = 50000\n",
    "\n",
    "print(\"method 1 ---------------------------\")\n",
    "txt = \"My name is John, and I am {}. My salary is {}.\"\n",
    "print(txt.format(age, salary))\n",
    "print(\"method 2 ---------------------------\")\n",
    "print(f\"My name is John, and I am {age}. My salary is {salary}.\") #recommended."
   ]
  },
  {
   "cell_type": "code",
   "execution_count": 33,
   "metadata": {},
   "outputs": [
    {
     "name": "stdout",
     "output_type": "stream",
     "text": [
      "I am a \"Data Scientist\" by profession.\n",
      "I am a \"data Scientist\" by profession.\n"
     ]
    }
   ],
   "source": [
    "# adding illegal characters to a string:\n",
    "print(\"I am a \\\"Data Scientist\\\" by profession.\")\n",
    "# easier way:\n",
    "print(\"\"\"I am a \"data Scientist\" by profession.\"\"\")"
   ]
  },
  {
   "cell_type": "markdown",
   "metadata": {},
   "source": [
    "## Modify Strings"
   ]
  },
  {
   "cell_type": "code",
   "execution_count": 34,
   "metadata": {},
   "outputs": [
    {
     "name": "stdout",
     "output_type": "stream",
     "text": [
      " OMKAR DIPAK PAWAR \n",
      " omkar dipak pawar \n",
      "----------------------------\n",
      " Omkar Dipak Pawar \n",
      "Omkar Dipak Pawar\n"
     ]
    }
   ],
   "source": [
    "# Upper Case & lower case:\n",
    "a = \" Omkar Dipak Pawar \"\n",
    "print(a.upper())\n",
    "print(a.lower())\n",
    "# Removing Whitespace:\n",
    "print(\"----------------------------\")\n",
    "print(a)\n",
    "print(a.strip())"
   ]
  },
  {
   "cell_type": "code",
   "execution_count": 35,
   "metadata": {},
   "outputs": [
    {
     "name": "stdout",
     "output_type": "stream",
     "text": [
      " Omk$r Dip$k P$w$r \n"
     ]
    }
   ],
   "source": [
    "# Replace String:\n",
    "a = \" Omkar Dipak Pawar \"\n",
    "print(a.replace(\"a\", \"$\"))"
   ]
  },
  {
   "cell_type": "code",
   "execution_count": 36,
   "metadata": {},
   "outputs": [
    {
     "name": "stdout",
     "output_type": "stream",
     "text": [
      "['', 'Omkar', 'Dipak', 'Pawar', '']\n",
      "['how', 'you', 'doing', '???']\n",
      "['omkar']\n"
     ]
    }
   ],
   "source": [
    "# split string:gives output as string.\n",
    "a = \" Omkar Dipak Pawar \"\n",
    "print(a.split(sep=\" \")) # here space \" \" is working as separator.\n",
    "b = \"how$you$doing$???\"\n",
    "print(b.split(sep=\"$\")) # here $ is working as separator.\n",
    "c = \"omkar\"\n",
    "print(c.split()) # we must provide a separator."
   ]
  },
  {
   "cell_type": "markdown",
   "metadata": {},
   "source": [
    "## Slicing Strings"
   ]
  },
  {
   "cell_type": "markdown",
   "metadata": {},
   "source": [
    "string[includes:excludes]\n",
    "\n",
    "string[start:end:step]"
   ]
  },
  {
   "cell_type": "code",
   "execution_count": 37,
   "metadata": {},
   "outputs": [
    {
     "name": "stdout",
     "output_type": "stream",
     "text": [
      "Omkar\n",
      "Dipak\n",
      "Pawar\n"
     ]
    }
   ],
   "source": [
    "a = \"Omkar Dipak Pawar\"\n",
    "print(a[0:5]) # indexing starts with 0, 1, 2, ...\n",
    "print(a[6:11])\n",
    "print(a[12:17])"
   ]
  },
  {
   "cell_type": "code",
   "execution_count": 46,
   "metadata": {},
   "outputs": [
    {
     "name": "stdout",
     "output_type": "stream",
     "text": [
      "Omkar\n",
      "ar Dipak Pawar\n"
     ]
    }
   ],
   "source": [
    "a = \"Omkar Dipak Pawar\"\n",
    "# slicing from the start :\n",
    "print(a[:5]) # By default it will start from index 0\n",
    "# slice to the end :\n",
    "print(a[3:]) # By default it will slice to the end"
   ]
  },
  {
   "cell_type": "code",
   "execution_count": 39,
   "metadata": {},
   "outputs": [
    {
     "name": "stdout",
     "output_type": "stream",
     "text": [
      "Pawar\n",
      "r\n"
     ]
    }
   ],
   "source": [
    "# Negative Slicing:\n",
    "a = \"Omkar Dipak Pawar\"\n",
    "print(a[-5:])\n",
    "print(a[-1])\n",
    "# Negative Slicing can be used as an alternative way. \n",
    "# ..., -3, -2, -1"
   ]
  },
  {
   "cell_type": "code",
   "execution_count": 40,
   "metadata": {},
   "outputs": [
    {
     "name": "stdout",
     "output_type": "stream",
     "text": [
      "rawaP kapiD rakmO\n",
      "P kap\n"
     ]
    }
   ],
   "source": [
    "# Negative indexing:\n",
    "print(a[::-1])\n",
    "print(a[-5:-10:-1]) #! start:end:step "
   ]
  },
  {
   "cell_type": "markdown",
   "metadata": {},
   "source": [
    "## String Methods"
   ]
  },
  {
   "cell_type": "markdown",
   "metadata": {},
   "source": [
    "### Converting String:"
   ]
  },
  {
   "cell_type": "code",
   "execution_count": 41,
   "metadata": {},
   "outputs": [
    {
     "name": "stdout",
     "output_type": "stream",
     "text": [
      "Omkar dipak pawar\n",
      "Omkar Dipak Pawar\n",
      "omkar dipak pawar\n",
      "omkar dipak pawar\n",
      "OMKAR DIPAK PAWAR\n",
      "OmKAR DIpAK paWAR\n"
     ]
    }
   ],
   "source": [
    "name = \"oMkar diPak PAwar\"\n",
    "print(name.capitalize())\n",
    "print(name.title())\n",
    "print(name.lower())\n",
    "print(name.casefold()) # lower case and casefold are similar in nature.\n",
    "print(name.upper())\n",
    "print(name.swapcase())"
   ]
  },
  {
   "cell_type": "markdown",
   "metadata": {},
   "source": [
    "### Measuring String:"
   ]
  },
  {
   "cell_type": "code",
   "execution_count": 42,
   "metadata": {},
   "outputs": [
    {
     "name": "stdout",
     "output_type": "stream",
     "text": [
      "5\n"
     ]
    }
   ],
   "source": [
    "# count()\tReturns the number of times a specified value occurs in a string\n",
    "str = \"I love to learn new things every day!\"\n",
    "print(str.count(\"e\")) # gives count of times a string occurs in a string. "
   ]
  },
  {
   "cell_type": "markdown",
   "metadata": {},
   "source": [
    "### Identify in Strings:"
   ]
  },
  {
   "cell_type": "markdown",
   "metadata": {},
   "source": [
    "What is the difference between `str.find()` and `str.index()`?"
   ]
  },
  {
   "cell_type": "code",
   "execution_count": 43,
   "metadata": {},
   "outputs": [
    {
     "name": "stdout",
     "output_type": "stream",
     "text": [
      "14\n"
     ]
    },
    {
     "data": {
      "text/plain": [
       "-1"
      ]
     },
     "execution_count": 43,
     "metadata": {},
     "output_type": "execute_result"
    }
   ],
   "source": [
    "# The find() method finds the first occurrence of the specified value.\n",
    "str = \"I love to learn new things every day!\"\n",
    "print(str.find(\"n\")) # output: 14\n",
    "str.find(\"z\") # output: -1 ( when value is not present in the string returns -1)"
   ]
  },
  {
   "cell_type": "code",
   "execution_count": 44,
   "metadata": {},
   "outputs": [
    {
     "name": "stdout",
     "output_type": "stream",
     "text": [
      "14\n"
     ]
    },
    {
     "ename": "ValueError",
     "evalue": "substring not found",
     "output_type": "error",
     "traceback": [
      "\u001b[0;31m---------------------------------------------------------------------------\u001b[0m",
      "\u001b[0;31mValueError\u001b[0m                                Traceback (most recent call last)",
      "\u001b[1;32m/home/omkar/Omkar Pawar/Data Science/Ineuron-FSDS-2.0/study/Python/03_Strings.ipynb Cell 28\u001b[0m line \u001b[0;36m3\n\u001b[1;32m      <a href='vscode-notebook-cell:/home/omkar/Omkar%20Pawar/Data%20Science/Ineuron-FSDS-2.0/study/Python/03_Strings.ipynb#X44sZmlsZQ%3D%3D?line=0'>1</a>\u001b[0m \u001b[39m# index() is similar to find(), but index() method raises an exception if the value is not found.\u001b[39;00m\n\u001b[1;32m      <a href='vscode-notebook-cell:/home/omkar/Omkar%20Pawar/Data%20Science/Ineuron-FSDS-2.0/study/Python/03_Strings.ipynb#X44sZmlsZQ%3D%3D?line=1'>2</a>\u001b[0m \u001b[39mprint\u001b[39m(\u001b[39mstr\u001b[39m\u001b[39m.\u001b[39mindex(\u001b[39m\"\u001b[39m\u001b[39mn\u001b[39m\u001b[39m\"\u001b[39m)) \u001b[39m# output: 14\u001b[39;00m\n\u001b[0;32m----> <a href='vscode-notebook-cell:/home/omkar/Omkar%20Pawar/Data%20Science/Ineuron-FSDS-2.0/study/Python/03_Strings.ipynb#X44sZmlsZQ%3D%3D?line=2'>3</a>\u001b[0m \u001b[39mstr\u001b[39;49m\u001b[39m.\u001b[39;49mindex(\u001b[39m\"\u001b[39;49m\u001b[39mz\u001b[39;49m\u001b[39m\"\u001b[39;49m)\n",
      "\u001b[0;31mValueError\u001b[0m: substring not found"
     ]
    }
   ],
   "source": [
    "# index() is similar to find(), but index() method raises an exception if the value is not found.\n",
    "print(str.index(\"n\")) # output: 14\n",
    "str.index(\"z\")"
   ]
  },
  {
   "cell_type": "code",
   "execution_count": null,
   "metadata": {},
   "outputs": [
    {
     "name": "stdout",
     "output_type": "stream",
     "text": [
      "True\n",
      "True\n"
     ]
    }
   ],
   "source": [
    "# startswith()\tReturns true if the string starts with the specified value\n",
    "name = \"Omkar\"\n",
    "result = name.startswith(\"O\")\n",
    "print(result)\n",
    "# endswith()\tReturns true if the string ends with the specified value\n",
    "result = name.endswith(\"r\")\n",
    "print(result)"
   ]
  },
  {
   "cell_type": "code",
   "execution_count": null,
   "metadata": {},
   "outputs": [
    {
     "name": "stdout",
     "output_type": "stream",
     "text": [
      "True\n"
     ]
    }
   ],
   "source": [
    "# The isdigit() method returns True if all the characters are digits, otherwise False.\n",
    "txt = \"938723\"\n",
    "result = txt.isdigit()\n",
    "print(result)"
   ]
  },
  {
   "cell_type": "markdown",
   "metadata": {},
   "source": [
    "### checking type of string:"
   ]
  },
  {
   "cell_type": "code",
   "execution_count": null,
   "metadata": {},
   "outputs": [
    {
     "name": "stdout",
     "output_type": "stream",
     "text": [
      "True\n"
     ]
    }
   ],
   "source": [
    "# The isalnum() method returns True if all the characters are alphanumeric,\n",
    "#  meaning alphabet letter (a-z) and numbers (0-9).\n",
    "s1 = \"pawaromkar1430\"\n",
    "result = s1.isalnum()\n",
    "print(result)"
   ]
  },
  {
   "cell_type": "code",
   "execution_count": null,
   "metadata": {},
   "outputs": [
    {
     "name": "stdout",
     "output_type": "stream",
     "text": [
      "True\n"
     ]
    }
   ],
   "source": [
    "# The isalpha() method returns True if all the characters are alphabet letters (a-z).\n",
    "s2 = \"Omkar\"\n",
    "result = s2.isalpha()\n",
    "print(result)"
   ]
  },
  {
   "cell_type": "code",
   "execution_count": null,
   "metadata": {},
   "outputs": [
    {
     "name": "stdout",
     "output_type": "stream",
     "text": [
      "True\n",
      "True\n",
      "True\n",
      "False\n"
     ]
    }
   ],
   "source": [
    "# The islower() method returns True if all the characters are in lower case, otherwise False.\n",
    "s3 = \"omkar\"\n",
    "result = s3.islower()\n",
    "print(result)\n",
    "# isupper() returns True if all the characters are in upper case, otherwise False.\n",
    "s4 = \"PAWAR\" # ! all characters should be upper case.\n",
    "result = s4.isupper()\n",
    "print(result)\n",
    "# istitle()\tReturns True if the string follows the rules of a title.add()\n",
    "s5 = \"Omkar Pawar\" # First letter of the each character in the string should be \n",
    "s6 = \"OMKAR\"\n",
    "print(s5.istitle())\n",
    "print(s6.istitle())"
   ]
  },
  {
   "cell_type": "code",
   "execution_count": null,
   "metadata": {},
   "outputs": [
    {
     "name": "stdout",
     "output_type": "stream",
     "text": [
      "True\n",
      "True\n",
      "False\n",
      "False\n"
     ]
    }
   ],
   "source": [
    "# isidentifier() method returns True if the string is a valid identifier else False.\n",
    "a = \"MyFolder\"\n",
    "b = \"Demo002\"\n",
    "c = \"2bring\"\n",
    "d = \"my demo\"\n",
    "\n",
    "print(a.isidentifier())\n",
    "print(b.isidentifier())\n",
    "print(c.isidentifier())\n",
    "print(d.isidentifier())"
   ]
  },
  {
   "cell_type": "markdown",
   "metadata": {},
   "source": [
    "### Operations on String"
   ]
  },
  {
   "cell_type": "code",
   "execution_count": null,
   "metadata": {},
   "outputs": [
    {
     "name": "stdout",
     "output_type": "stream",
     "text": [
      "I like to eat two apples after my workout.\n"
     ]
    }
   ],
   "source": [
    "txt = \"I like to eat two eggs after my workout.\"\n",
    "x = txt.replace(\"eggs\", \"apples\") # word eggs is replaced with apples.\n",
    "print(x)"
   ]
  },
  {
   "cell_type": "markdown",
   "metadata": {},
   "source": [
    "#### Delimiters: Split\n"
   ]
  },
  {
   "cell_type": "markdown",
   "metadata": {},
   "source": [
    "delimiter is a character or a sequence of characters used to separate or mark the boundaries between separate pieces of text or data.\n",
    "\n",
    "In many cases, delimiters are used to separate individual elements in a larger data structure, such as a list or a string. For example, in a comma-separated values (CSV) file, the comma is used as a delimiter to separate different values in each row of the file."
   ]
  },
  {
   "cell_type": "code",
   "execution_count": null,
   "metadata": {},
   "outputs": [
    {
     "name": "stdout",
     "output_type": "stream",
     "text": [
      "['Lets', 'try', 'to', 'split', 'this', 'line', 'and', 'create', 'a', 'list', 'out', 'of', 'it.']\n",
      "['lets split by using a special separator', ' shall we?']\n"
     ]
    }
   ],
   "source": [
    "txt = \"Lets try to split this line and create a list out of it.\"\n",
    "print(txt.split()) # by default split by using whitespace as a separator.\n",
    "txt = \"lets split by using a special separator, shall we?\"\n",
    "print(txt.split(\",\")) # uses provided separator to split."
   ]
  }
 ],
 "metadata": {
  "kernelspec": {
   "display_name": "base",
   "language": "python",
   "name": "python3"
  },
  "language_info": {
   "codemirror_mode": {
    "name": "ipython",
    "version": 3
   },
   "file_extension": ".py",
   "mimetype": "text/x-python",
   "name": "python",
   "nbconvert_exporter": "python",
   "pygments_lexer": "ipython3",
   "version": "3.10.9"
  }
 },
 "nbformat": 4,
 "nbformat_minor": 2
}
