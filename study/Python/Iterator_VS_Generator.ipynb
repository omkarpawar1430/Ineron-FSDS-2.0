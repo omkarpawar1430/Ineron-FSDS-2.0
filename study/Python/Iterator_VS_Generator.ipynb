{
 "cells": [
  {
   "cell_type": "markdown",
   "metadata": {},
   "source": [
    "## Iterator "
   ]
  },
  {
   "cell_type": "markdown",
   "metadata": {},
   "source": [
    "An iterator is an object that contains a countable number of values.\n",
    "\n",
    "An iterator is an object that can be iterated upon, meaning that you can traverse through all the values.\n",
    "\n",
    "Technically, in Python, an iterator is an object which implements the iterator protocol, which consist of the methods __iter__() and __next__().\n",
    "\n"
   ]
  },
  {
   "cell_type": "markdown",
   "metadata": {},
   "source": [
    "__iter__(): The iter() method is called for the initialization of an iterator. This returns an iterator object\n",
    "\n",
    "\n",
    "__next__(): The next method returns the next value for the iterable. When we use a for loop to traverse any iterable object, internally it uses the iter() method to get an iterator object, which further uses the next() method to iterate over. This method raises a StopIteration to signal the end of the iteration."
   ]
  },
  {
   "cell_type": "markdown",
   "metadata": {},
   "source": [
    "iterable objects are string, list, tuple, set and dictionary.\n"
   ]
  },
  {
   "cell_type": "code",
   "execution_count": 1,
   "metadata": {},
   "outputs": [
    {
     "name": "stdout",
     "output_type": "stream",
     "text": [
      "1\n",
      "8\n",
      "3\n",
      "7\n"
     ]
    }
   ],
   "source": [
    "# list \n",
    "my_list = [1, 8, 3, 7]\n",
    "for i in my_list:\n",
    "    print(i)"
   ]
  },
  {
   "cell_type": "code",
   "execution_count": null,
   "metadata": {},
   "outputs": [
    {
     "data": {
      "text/plain": [
       "['__add__',\n",
       " '__class__',\n",
       " '__class_getitem__',\n",
       " '__contains__',\n",
       " '__delattr__',\n",
       " '__delitem__',\n",
       " '__dir__',\n",
       " '__doc__',\n",
       " '__eq__',\n",
       " '__format__',\n",
       " '__ge__',\n",
       " '__getattribute__',\n",
       " '__getitem__',\n",
       " '__gt__',\n",
       " '__hash__',\n",
       " '__iadd__',\n",
       " '__imul__',\n",
       " '__init__',\n",
       " '__init_subclass__',\n",
       " '__iter__',\n",
       " '__le__',\n",
       " '__len__',\n",
       " '__lt__',\n",
       " '__mul__',\n",
       " '__ne__',\n",
       " '__new__',\n",
       " '__reduce__',\n",
       " '__reduce_ex__',\n",
       " '__repr__',\n",
       " '__reversed__',\n",
       " '__rmul__',\n",
       " '__setattr__',\n",
       " '__setitem__',\n",
       " '__sizeof__',\n",
       " '__str__',\n",
       " '__subclasshook__',\n",
       " 'append',\n",
       " 'clear',\n",
       " 'copy',\n",
       " 'count',\n",
       " 'extend',\n",
       " 'index',\n",
       " 'insert',\n",
       " 'pop',\n",
       " 'remove',\n",
       " 'reverse',\n",
       " 'sort']"
      ]
     },
     "metadata": {},
     "output_type": "display_data"
    }
   ],
   "source": [
    "dir(my_list)"
   ]
  },
  {
   "cell_type": "markdown",
   "metadata": {},
   "source": [
    "![image.png](attachment:image.png)\n",
    "\n",
    "\n",
    "Here we can notice ```__iter()__ ``` method. \n",
    "We can say that list is iterable."
   ]
  },
  {
   "cell_type": "markdown",
   "metadata": {},
   "source": [
    "\"iterable\" is an object capable of returning its elements one by one. This can be a sequence, like a list or a string, or a more abstract collection, like a dictionary or a set."
   ]
  },
  {
   "cell_type": "markdown",
   "metadata": {},
   "source": [
    "Iterator : An iterator is an object that implements the `__next__` method and can be used to access elements one at a time. When there are no more elements to return, the iterator raises a `StopIteration` exception to signal that it has reached the end of the sequence."
   ]
  },
  {
   "cell_type": "markdown",
   "metadata": {},
   "source": [
    "By using `__iter__` we can convert iterable objects into Iterator"
   ]
  },
  {
   "cell_type": "code",
   "execution_count": null,
   "metadata": {},
   "outputs": [
    {
     "name": "stdout",
     "output_type": "stream",
     "text": [
      "[1, 2, 3, 4]\n"
     ]
    }
   ],
   "source": [
    "print(my_list)"
   ]
  },
  {
   "cell_type": "code",
   "execution_count": null,
   "metadata": {},
   "outputs": [
    {
     "name": "stdout",
     "output_type": "stream",
     "text": [
      "<list_iterator object at 0x7f8299b17520>\n"
     ]
    }
   ],
   "source": [
    "# lets convert it into Iterator \n",
    "my_iter = iter(my_list)\n",
    "print(my_iter) # we have successfully converted the list into iterator."
   ]
  },
  {
   "cell_type": "code",
   "execution_count": null,
   "metadata": {},
   "outputs": [
    {
     "data": {
      "text/plain": [
       "list_iterator"
      ]
     },
     "metadata": {},
     "output_type": "display_data"
    }
   ],
   "source": [
    "type(my_iter)"
   ]
  },
  {
   "cell_type": "markdown",
   "metadata": {},
   "source": [
    "we can use `__next__` to iterate. We then used the next function to access elements one at a time. When there were no more elements to return, the iterator raised a StopIteration exception. "
   ]
  },
  {
   "cell_type": "code",
   "execution_count": null,
   "metadata": {},
   "outputs": [
    {
     "data": {
      "text/plain": [
       "1"
      ]
     },
     "metadata": {},
     "output_type": "display_data"
    }
   ],
   "source": [
    "next(my_iter)"
   ]
  },
  {
   "cell_type": "code",
   "execution_count": null,
   "metadata": {},
   "outputs": [
    {
     "data": {
      "text/plain": [
       "2"
      ]
     },
     "metadata": {},
     "output_type": "display_data"
    }
   ],
   "source": [
    "next(my_iter)"
   ]
  },
  {
   "cell_type": "code",
   "execution_count": null,
   "metadata": {},
   "outputs": [
    {
     "data": {
      "text/plain": [
       "3"
      ]
     },
     "metadata": {},
     "output_type": "display_data"
    }
   ],
   "source": [
    "next(my_iter)"
   ]
  },
  {
   "cell_type": "code",
   "execution_count": null,
   "metadata": {},
   "outputs": [
    {
     "data": {
      "text/plain": [
       "4"
      ]
     },
     "metadata": {},
     "output_type": "display_data"
    }
   ],
   "source": [
    "next(my_iter)"
   ]
  },
  {
   "cell_type": "code",
   "execution_count": null,
   "metadata": {},
   "outputs": [
    {
     "ename": "StopIteration",
     "evalue": "",
     "output_type": "error",
     "traceback": [
      "\u001b[0;31m---------------------------------------------------------------------------\u001b[0m\n",
      "\u001b[0;31mStopIteration\u001b[0m                             Traceback (most recent call last)\n",
      "\u001b[1;32m/home/omkar/Omkar Pawar/Data Science/Ineuron-FSDS-2.0/study/Python/Iterator and Genrator/iterator_generator_and_file_handling.ipynb Cell 59\u001b[0m line \u001b[0;36m1\n",
      "\u001b[0;32m----> <a href='vscode-notebook-cell:/home/omkar/Omkar%20Pawar/Data%20Science/Ineuron-FSDS-2.0/study/Python/Iterator%20and%20Genrator/iterator_generator_and_file_handling.ipynb#Y112sZmlsZQ%3D%3D?line=0'>1</a>\u001b[0m \u001b[39mnext\u001b[39;49m(my_iter) \u001b[39m# Gives StopIteration exception when iteration reaches the end\u001b[39;00m\n",
      "\n",
      "\u001b[0;31mStopIteration\u001b[0m: "
     ]
    }
   ],
   "source": [
    "next(my_iter) # Gives StopIteration exception when iteration reaches the end"
   ]
  },
  {
   "cell_type": "code",
   "execution_count": null,
   "metadata": {},
   "outputs": [
    {
     "data": {
      "text/plain": [
       "['__class__',\n",
       " '__delattr__',\n",
       " '__dir__',\n",
       " '__doc__',\n",
       " '__eq__',\n",
       " '__format__',\n",
       " '__ge__',\n",
       " '__getattribute__',\n",
       " '__gt__',\n",
       " '__hash__',\n",
       " '__init__',\n",
       " '__init_subclass__',\n",
       " '__iter__',\n",
       " '__le__',\n",
       " '__length_hint__',\n",
       " '__lt__',\n",
       " '__ne__',\n",
       " '__new__',\n",
       " '__next__',\n",
       " '__reduce__',\n",
       " '__reduce_ex__',\n",
       " '__repr__',\n",
       " '__setattr__',\n",
       " '__setstate__',\n",
       " '__sizeof__',\n",
       " '__str__',\n",
       " '__subclasshook__']"
      ]
     },
     "metadata": {},
     "output_type": "display_data"
    }
   ],
   "source": [
    "dir(my_iter)"
   ]
  },
  {
   "cell_type": "markdown",
   "metadata": {},
   "source": [
    "![image.png](attachment:image.png)\n",
    "\n",
    "\n",
    "In Iterator, with `__Iter__` we also have `__next__`.\n"
   ]
  },
  {
   "cell_type": "markdown",
   "metadata": {},
   "source": [
    "**Iterator Vs Iterable** \n",
    "\n",
    "In Python, an \"iterable\" is an object that can be used to produce an iterator, which is an object that implements the `__next__` method and can be used to access elements one at a time. An iterable can be any object that implements the `__iter__` method or the `__getitem__` method.\n",
    "\n",
    "An iterator, on the other hand, is an object that can be used to access elements one at a time. It's created from an iterable by passing the iterable to the `iter()` function.\n",
    "\n",
    "\n",
    "An iterable is an object capable of returning its elements one at a time. An example of an iterable is a `list`.\n",
    "\n",
    "An iterator is an object that implements the iterator protocol, which consists of the methods `__iter__()` and `__next__()`. The `__iter__` method returns the iterator object itself, and the `__next__` method returns the next value from the iterator. When there are no more values to return, the `__next__ `method should raise a StopIteration exception."
   ]
  },
  {
   "cell_type": "code",
   "execution_count": 11,
   "metadata": {},
   "outputs": [
    {
     "ename": "SyntaxError",
     "evalue": "incomplete input (1940911690.py, line 8)",
     "output_type": "error",
     "traceback": [
      "\u001b[0;36m  Cell \u001b[0;32mIn[11], line 8\u001b[0;36m\u001b[0m\n\u001b[0;31m    if self.index >= len(self.data):\u001b[0m\n\u001b[0m                                    ^\u001b[0m\n\u001b[0;31mSyntaxError\u001b[0m\u001b[0;31m:\u001b[0m incomplete input\n"
     ]
    }
   ],
   "source": [
    "class MyIterator:\n",
    "    def __init__(self, data):\n",
    "        self.data = data\n",
    "        self.index = 0\n",
    "    def __iter__(self):\n",
    "        return self\n",
    "    def __next__(self):\n",
    "        if self.index >= len(self.data):\n",
    "            raise StopIteration\n",
    "        value"
   ]
  },
  {
   "cell_type": "code",
   "execution_count": 6,
   "metadata": {},
   "outputs": [],
   "source": [
    "# custom iterator:\n",
    "\n",
    "class MyIterator:\n",
    "    def __init__(self, data):\n",
    "        self.data = data\n",
    "        self.index = 0\n",
    "    \n",
    "    def __iter__(self):\n",
    "        return self\n",
    "    \n",
    "    def __next__(self):\n",
    "        if self.index >= len(self.data):\n",
    "            raise StopIteration # once exception is raised code don't run further so no need to use else block. \n",
    "        value = self.data[self.index]\n",
    "        self.index += 1\n",
    "        return value\n",
    "\n",
    "# Usage:\n",
    "my_list = [1, 2, 3, 4, 5]\n",
    "my_iterator = MyIterator(my_list)\n"
   ]
  },
  {
   "cell_type": "code",
   "execution_count": 16,
   "metadata": {},
   "outputs": [
    {
     "ename": "StopIteration",
     "evalue": "",
     "output_type": "error",
     "traceback": [
      "\u001b[0;31m---------------------------------------------------------------------------\u001b[0m",
      "\u001b[0;31mStopIteration\u001b[0m                             Traceback (most recent call last)",
      "\u001b[1;32m/home/omkar/Omkar Pawar/Data Science/Ineuron-FSDS-2.0/study/Python/Iterator_VS_Generator.ipynb Cell 25\u001b[0m line \u001b[0;36m1\n\u001b[0;32m----> <a href='vscode-notebook-cell:/home/omkar/Omkar%20Pawar/Data%20Science/Ineuron-FSDS-2.0/study/Python/Iterator_VS_Generator.ipynb#X60sZmlsZQ%3D%3D?line=0'>1</a>\u001b[0m \u001b[39mnext\u001b[39;49m(my_iterator)\n",
      "\u001b[1;32m/home/omkar/Omkar Pawar/Data Science/Ineuron-FSDS-2.0/study/Python/Iterator_VS_Generator.ipynb Cell 25\u001b[0m line \u001b[0;36m1\n\u001b[1;32m     <a href='vscode-notebook-cell:/home/omkar/Omkar%20Pawar/Data%20Science/Ineuron-FSDS-2.0/study/Python/Iterator_VS_Generator.ipynb#X60sZmlsZQ%3D%3D?line=10'>11</a>\u001b[0m \u001b[39mdef\u001b[39;00m \u001b[39m__next__\u001b[39m(\u001b[39mself\u001b[39m):\n\u001b[1;32m     <a href='vscode-notebook-cell:/home/omkar/Omkar%20Pawar/Data%20Science/Ineuron-FSDS-2.0/study/Python/Iterator_VS_Generator.ipynb#X60sZmlsZQ%3D%3D?line=11'>12</a>\u001b[0m     \u001b[39mif\u001b[39;00m \u001b[39mself\u001b[39m\u001b[39m.\u001b[39mindex \u001b[39m>\u001b[39m\u001b[39m=\u001b[39m \u001b[39mlen\u001b[39m(\u001b[39mself\u001b[39m\u001b[39m.\u001b[39mdata):\n\u001b[0;32m---> <a href='vscode-notebook-cell:/home/omkar/Omkar%20Pawar/Data%20Science/Ineuron-FSDS-2.0/study/Python/Iterator_VS_Generator.ipynb#X60sZmlsZQ%3D%3D?line=12'>13</a>\u001b[0m         \u001b[39mraise\u001b[39;00m \u001b[39mStopIteration\u001b[39;00m\n\u001b[1;32m     <a href='vscode-notebook-cell:/home/omkar/Omkar%20Pawar/Data%20Science/Ineuron-FSDS-2.0/study/Python/Iterator_VS_Generator.ipynb#X60sZmlsZQ%3D%3D?line=13'>14</a>\u001b[0m     value \u001b[39m=\u001b[39m \u001b[39mself\u001b[39m\u001b[39m.\u001b[39mdata[\u001b[39mself\u001b[39m\u001b[39m.\u001b[39mindex]\n\u001b[1;32m     <a href='vscode-notebook-cell:/home/omkar/Omkar%20Pawar/Data%20Science/Ineuron-FSDS-2.0/study/Python/Iterator_VS_Generator.ipynb#X60sZmlsZQ%3D%3D?line=14'>15</a>\u001b[0m     \u001b[39mself\u001b[39m\u001b[39m.\u001b[39mindex \u001b[39m+\u001b[39m\u001b[39m=\u001b[39m \u001b[39m1\u001b[39m\n",
      "\u001b[0;31mStopIteration\u001b[0m: "
     ]
    }
   ],
   "source": [
    "next(my_iterator)"
   ]
  },
  {
   "cell_type": "code",
   "execution_count": null,
   "metadata": {},
   "outputs": [
    {
     "data": {
      "text/plain": [
       "list"
      ]
     },
     "metadata": {},
     "output_type": "display_data"
    }
   ],
   "source": [
    "fruits = [\"apple\", \"banana\", \"mango\", \"orange\"]\n",
    "type(fruits)"
   ]
  },
  {
   "cell_type": "code",
   "execution_count": null,
   "metadata": {},
   "outputs": [
    {
     "name": "stdout",
     "output_type": "stream",
     "text": [
      "<class 'list_iterator'>\n"
     ]
    }
   ],
   "source": [
    "# We will use fruit Iterable to create Iterator\n",
    "fruit_iter = iter(fruits)\n",
    "print(type(fruit_iter))\n"
   ]
  },
  {
   "cell_type": "code",
   "execution_count": null,
   "metadata": {},
   "outputs": [
    {
     "data": {
      "text/plain": [
       "'apple'"
      ]
     },
     "metadata": {},
     "output_type": "display_data"
    }
   ],
   "source": [
    "next(fruit_iter) # we can access all of the elements one by one"
   ]
  },
  {
   "cell_type": "code",
   "execution_count": null,
   "metadata": {},
   "outputs": [
    {
     "data": {
      "text/plain": [
       "'banana'"
      ]
     },
     "metadata": {},
     "output_type": "display_data"
    }
   ],
   "source": [
    "# When all of the items are over it gives StopIteration exception.\n",
    "next(fruit_iter)"
   ]
  },
  {
   "cell_type": "markdown",
   "metadata": {},
   "source": [
    "## Generator:"
   ]
  },
  {
   "cell_type": "markdown",
   "metadata": {},
   "source": [
    "A generator is a special type of iterator in Python. It is a way to create an iterator that generates values on-the-fly as you iterate over it, instead of having to generate all the values beforehand and store them in memory. Generators are defined using a special type of function called a generator function.\n",
    "\n",
    "A generator function is defined just like a normal function, but instead of using the return statement to return a value, a generator function uses the yield statement. When a generator function is called, it returns a generator object, which you can then iterate over using a for loop or the `next()` function. Each time the `next()` function is called on the generator object, the generator function is executed up to the next `yield` statement, and the value of the yield expression is returned. When there are no more yield statements left in the generator function, a StopIteration exception is raised.\n",
    "\n",
    "Here's an example of a generator function that generates the Fibonacci sequence:\n",
    "\n",
    "\n",
    " The advantage of using a generator is that you can generate an effectively unlimited sequence of values without having to store all of them in memory at once.\n",
    "\n",
    "\n",
    "\n",
    "\n"
   ]
  },
  {
   "cell_type": "markdown",
   "metadata": {},
   "source": [
    "When the generator function is called, it does not execute the function body immediately. Instead, it returns a generator object that can be iterated over to produce the values."
   ]
  },
  {
   "cell_type": "code",
   "execution_count": null,
   "metadata": {},
   "outputs": [],
   "source": [
    "def square(n):\n",
    "    for i in range(n):\n",
    "        return i ** 2\n"
   ]
  },
  {
   "cell_type": "code",
   "execution_count": null,
   "metadata": {},
   "outputs": [
    {
     "data": {
      "text/plain": [
       "0"
      ]
     },
     "metadata": {},
     "output_type": "display_data"
    }
   ],
   "source": [
    "square(5) # Here we are not going out put for range but just only for first element "
   ]
  },
  {
   "cell_type": "markdown",
   "metadata": {},
   "source": [
    "The `yield` statement is used in Python to define a generator function. A generator function is a special type of function that generates values on-the-fly as you iterate over it, instead of having to generate all the values beforehand and store them in memory."
   ]
  },
  {
   "cell_type": "code",
   "execution_count": null,
   "metadata": {},
   "outputs": [],
   "source": [
    "def square(n):\n",
    "    for i in range(n):\n",
    "        yield i ** 2"
   ]
  },
  {
   "cell_type": "code",
   "execution_count": null,
   "metadata": {},
   "outputs": [
    {
     "data": {
      "text/plain": [
       "generator"
      ]
     },
     "metadata": {},
     "output_type": "display_data"
    }
   ],
   "source": [
    "k = square(20)\n",
    "type(k) # we have created a Generator object."
   ]
  },
  {
   "cell_type": "code",
   "execution_count": null,
   "metadata": {},
   "outputs": [
    {
     "data": {
      "text/plain": [
       "0"
      ]
     },
     "metadata": {},
     "output_type": "display_data"
    }
   ],
   "source": [
    "next(k)"
   ]
  },
  {
   "cell_type": "code",
   "execution_count": null,
   "metadata": {},
   "outputs": [
    {
     "name": "stdout",
     "output_type": "stream",
     "text": [
      "1\n",
      "4\n",
      "9\n",
      "16\n",
      "25\n",
      "36\n",
      "49\n",
      "64\n",
      "81\n",
      "100\n",
      "121\n",
      "144\n",
      "169\n",
      "196\n",
      "225\n",
      "256\n",
      "289\n",
      "324\n",
      "361\n"
     ]
    }
   ],
   "source": [
    "for i in k:\n",
    "    print(i) "
   ]
  },
  {
   "cell_type": "code",
   "execution_count": null,
   "metadata": {},
   "outputs": [],
   "source": [
    "# example:\n",
    "list1 = [1, 2, 3, 4, 5, 6, 7, 8, 9, 10]\n",
    "iter1 = iter(list1)"
   ]
  },
  {
   "cell_type": "code",
   "execution_count": null,
   "metadata": {},
   "outputs": [
    {
     "name": "stdout",
     "output_type": "stream",
     "text": [
      "1\n",
      "2\n",
      "3\n",
      "4\n",
      "5\n",
      "6\n",
      "7\n",
      "8\n",
      "9\n",
      "10\n",
      "\n"
     ]
    }
   ],
   "source": [
    "while True:\n",
    "    try:\n",
    "        item = next(iter1)\n",
    "        print(item)\n",
    "    except Exception as e:\n",
    "        print(e)\n",
    "        break"
   ]
  },
  {
   "cell_type": "markdown",
   "metadata": {},
   "source": [
    "source: ChatGPT \n",
    "\n",
    "\n",
    "In Python, iterable, iterator, and generator are related concepts that are used to create and manage sequences of values. Here's a brief overview of the differences between these concepts:\n",
    "\n",
    "* Iterable: An iterable is any object in Python that can be used in a for loop or passed to the built-in iter function to get an iterator. In other words, an iterable is any object that implements the `__iter__` method or the `__getitem__` method. Examples of iterables include lists, tuples, dictionaries, and strings.\n",
    "\n",
    "* Iterator: An iterator is an object that implements the `__iter__` method and the `__next__` method. The `__iter__` method returns the iterator object itself, and the `__next__` method returns the next value in the sequence each time it is called. When there are no more values to return, the `__next__` method raises the StopIteration exception. You can get an iterator from an iterable by passing it to the built-in iter function or by using a for loop.\n",
    "\n",
    "* Generator: A generator is a special type of iterator that is defined using a generator function. A generator function is a function that uses the `yield` statement to generate values, instead of using the `return` statement. When a generator function is called, it returns a generator object, **which you can then iterate over**. Each time the `next()` function is called on the generator object, the generator function is executed up to the next yield statement, and the value of the yield expression is returned. When there are no more yield statements left in the generator function, a StopIteration exception is raised. Generators are a convenient way to generate sequences of values because they **allow you to generate values on-the-fly, as you iterate over them, instead of having to generate all the values beforehand and store them in memory.**\n",
    "\n",
    "So, in summary, an `iterable` is any object that can be used to generate an `iterator`, and a `generator` is a special type of iterator that is defined using a generator function and generates values on-the-fly."
   ]
  },
  {
   "cell_type": "code",
   "execution_count": null,
   "metadata": {},
   "outputs": [],
   "source": [
    "def genPrimes():\n",
    "\n",
    "    yield 2 # 2 is the first prime number\n",
    "    primes = [2] # keep track of the prime numbers generated so far\n",
    "    n = 3 # start testing for prime numbers from 3\n",
    "    \n",
    "    while True:\n",
    "        # check if n is prime by testing if it's divisible by any of the prime numbers generated so far\n",
    "        for prime in primes:\n",
    "            if n % prime == 0:\n",
    "                break # n is not prime, so move on to the next number\n",
    "        else:\n",
    "            # n is prime, so yield it and add it to the list of primes generated so far\n",
    "            yield n\n",
    "            primes.append(n)\n",
    "        \n",
    "        n += 2 # only test odd numbers for primality (even numbers are not prime, except for 2)"
   ]
  }
 ],
 "metadata": {
  "kernelspec": {
   "display_name": "base",
   "language": "python",
   "name": "python3"
  },
  "language_info": {
   "codemirror_mode": {
    "name": "ipython",
    "version": 3
   },
   "file_extension": ".py",
   "mimetype": "text/x-python",
   "name": "python",
   "nbconvert_exporter": "python",
   "pygments_lexer": "ipython3",
   "version": "3.10.9"
  }
 },
 "nbformat": 4,
 "nbformat_minor": 2
}
