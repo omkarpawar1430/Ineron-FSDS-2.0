{
 "cells": [
  {
   "cell_type": "code",
   "execution_count": 6,
   "metadata": {},
   "outputs": [],
   "source": [
    "import logging\n",
    "\n",
    "logging.basicConfig(filename= \"newfile2.log\", format='%(asctime)s - %(name)s - %(levelname)s - %(message)s', filemode='a')\n",
    "\n",
    "logger = logging.getLogger('my_logger') \n"
   ]
  },
  {
   "cell_type": "code",
   "execution_count": 9,
   "metadata": {},
   "outputs": [],
   "source": [
    "\n",
    "# Setting the threshold of logger to DEBUG\n",
    "logger.setLevel(logging.DEBUG)\n",
    "\n",
    "logger.debug('This is a debug message')\n",
    "logger.info('This is an info message')\n",
    "logger.warning('This is a warning message')\n",
    "logger.error('This is an error message')\n",
    "logger.critical('This is a critical message')\n"
   ]
  },
  {
   "cell_type": "markdown",
   "metadata": {},
   "source": [
    "### adding logging messages to separate files according to their level. "
   ]
  },
  {
   "cell_type": "code",
   "execution_count": 10,
   "metadata": {},
   "outputs": [],
   "source": [
    "import logging\n",
    "\n",
    "# Create a logger\n",
    "logger = logging.getLogger('my_logger')\n",
    "logger.setLevel(logging.DEBUG)  # Set the logger's level to the lowest level\n",
    "\n",
    "# Create a file handler for DEBUG and INFO messages\n",
    "debug_info_handler = logging.FileHandler(filename='debug_info.log', mode='a')\n",
    "debug_info_handler.setLevel(logging.DEBUG)  # Set the handler's level to DEBUG\n",
    "\n",
    "# message format\n",
    "formatter = logging.Formatter('%(asctime)s - %(name)s - %(levelname)s - %(message)s')\n",
    "\n",
    "debug_info_handler.setFormatter(formatter)\n",
    "logger.addHandler(debug_info_handler)\n",
    "\n",
    "# Create another file handler for WARNING and above\n",
    "warning_error_handler = logging.FileHandler(filename='warning_error.log', mode = 'w')\n",
    "warning_error_handler.setLevel(logging.WARNING)  # Set the handler's level to WARNING\n",
    "warning_error_handler.setFormatter(formatter)\n",
    "logger.addHandler(warning_error_handler)\n",
    "\n",
    "# Log messages at different levels\n",
    "logger.debug('This is a debug message')  # Goes to 'debug_info.log'\n",
    "logger.info('This is an info message')    # Goes to 'debug_info.log'\n",
    "logger.warning('This is a warning message')  # Goes to 'warning_error.log'\n",
    "logger.error('This is an error message')  # Goes to 'warning_error.log'\n"
   ]
  },
  {
   "cell_type": "markdown",
   "metadata": {},
   "source": [
    "let's break down the code line by line to explain its functionality:\n",
    "\n",
    "1. `import logging`: This line imports the Python `logging` module, which provides the functionality for logging messages at different levels.\n",
    "\n",
    "2. `logger = logging.getLogger('my_logger')`: Here, a logger named 'my_logger' is created using the `getLogger` function. This name is used to identify the logger and can be any string you choose.\n",
    "\n",
    "3. `logger.setLevel(logging.DEBUG)`: The logger's level is set to `logging.DEBUG`, which is the lowest level and will allow all log messages, including DEBUG, INFO, WARNING, ERROR, and CRITICAL, to be processed by this logger.\n",
    "\n",
    "4. `debug_info_handler = logging.FileHandler('debug_info.log')`: This line creates a `FileHandler` named 'debug_info_handler,' which is responsible for handling log messages of certain levels. It specifies that log messages of level DEBUG and higher should be processed.\n",
    "\n",
    "5. `debug_info_handler.setLevel(logging.DEBUG)`: The level for the 'debug_info_handler' is set to `logging.DEBUG`, meaning it will handle log messages of DEBUG and higher levels.\n",
    "\n",
    "6. `formatter = logging.Formatter('%(asctime)s - %(name)s - %(levelname)s - %(message)s')`: A `Formatter` is created to define the format of log messages. This format includes placeholders for the timestamp, logger name, log level, and the log message itself.\n",
    "\n",
    "7. `debug_info_handler.setFormatter(formatter)`: The 'debug_info_handler' is configured with the formatter created in the previous line, ensuring that log messages processed by this handler are formatted according to the specified format.\n",
    "\n",
    "8. `logger.addHandler(debug_info_handler)`: The 'debug_info_handler' is added to the logger, indicating that log messages of level DEBUG and higher will be processed by this handler and written to the 'debug_info.log' file.\n",
    "\n",
    "9. `warning_error_handler = logging.FileHandler('warning_error.log')`: A second `FileHandler` named 'warning_error_handler' is created, which is intended to handle log messages of WARNING and higher levels.\n",
    "\n",
    "10. `warning_error_handler.setLevel(logging.WARNING)`: The level for the 'warning_error_handler' is set to `logging.WARNING`, indicating that it will handle log messages of WARNING and ERROR levels.\n",
    "\n",
    "11. `warning_error_handler.setFormatter(formatter)`: Similar to the 'debug_info_handler,' the 'warning_error_handler' is configured with the same formatter for consistent log message formatting.\n",
    "\n",
    "12. `logger.addHandler(warning_error_handler)`: The 'warning_error_handler' is added to the logger, signifying that log messages of level WARNING and higher will be processed by this handler and written to the 'warning_error.log' file.\n",
    "\n",
    "13. Logging messages at different levels: Finally, log messages of different levels are recorded using the `logger.debug()`, `logger.info()`, `logger.warning()`, and `logger.error()` functions. The logger directs these messages to the appropriate handlers based on their log levels, resulting in log entries in the corresponding log files.\n",
    "\n",
    "This code illustrates how to configure multiple log handlers with different log levels, allowing you to separate log messages into different log files based on their severity."
   ]
  },
  {
   "cell_type": "code",
   "execution_count": 11,
   "metadata": {},
   "outputs": [
    {
     "name": "stderr",
     "output_type": "stream",
     "text": [
      "2023-11-04 11:48:15,318 - my_logger - INFO - This is an info message\n",
      "2023-11-04 11:48:15,321 - my_logger - WARNING - This is a warning message\n",
      "2023-11-04 11:48:15,323 - my_logger - ERROR - This is an error message\n",
      "2023-11-04 11:48:15,324 - my_logger - CRITICAL - This is a critical message\n"
     ]
    }
   ],
   "source": [
    "import logging\n",
    "\n",
    "# Create a logger\n",
    "logger = logging.getLogger('my_logger')\n",
    "logger.setLevel(logging.DEBUG)\n",
    "\n",
    "# Create a formatter with your desired log message format\n",
    "formatter = logging.Formatter('%(asctime)s - %(name)s - %(levelname)s - %(message)s')\n",
    "\n",
    "# Create a file handler to log to a file\n",
    "file_handler = logging.FileHandler('my_log_file.log')\n",
    "file_handler.setLevel(logging.DEBUG)  # Set the desired log level for file logging\n",
    "file_handler.setFormatter(formatter)\n",
    "\n",
    "# Create a stream handler to log to the console\n",
    "console_handler = logging.StreamHandler()\n",
    "console_handler.setLevel(logging.INFO)  # Set the desired log level for console logging\n",
    "console_handler.setFormatter(formatter)\n",
    "\n",
    "# Add both handlers to the logger\n",
    "logger.addHandler(file_handler)\n",
    "logger.addHandler(console_handler)\n",
    "\n",
    "# Now you can log messages, and they will be logged to both the file and the console\n",
    "logger.debug('This is a debug message')\n",
    "logger.info('This is an info message')\n",
    "logger.warning('This is a warning message')\n",
    "logger.error('This is an error message')\n",
    "logger.critical('This is a critical message')\n"
   ]
  }
 ],
 "metadata": {
  "kernelspec": {
   "display_name": "base",
   "language": "python",
   "name": "python3"
  },
  "language_info": {
   "codemirror_mode": {
    "name": "ipython",
    "version": 3
   },
   "file_extension": ".py",
   "mimetype": "text/x-python",
   "name": "python",
   "nbconvert_exporter": "python",
   "pygments_lexer": "ipython3",
   "version": "3.10.9"
  }
 },
 "nbformat": 4,
 "nbformat_minor": 2
}
