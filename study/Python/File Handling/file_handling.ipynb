{
 "cells": [
  {
   "attachments": {},
   "cell_type": "markdown",
   "metadata": {},
   "source": [
    "# File Handling, Iterator and Generator"
   ]
  },
  {
   "attachments": {},
   "cell_type": "markdown",
   "metadata": {},
   "source": [
    "## File Handling"
   ]
  },
  {
   "attachments": {},
   "cell_type": "markdown",
   "metadata": {},
   "source": [
    "File handling in Python refers to the ability to manipulate files on a computer, such as creating, reading, updating, and deleting files. It involves using functions and methods from the built-in \"os\" and \"open()\" modules. The \"open()\" function is used to open a file and returns a file object, which provides methods for reading, writing, and closing the file. The \"os\" module provides functions for interacting with the file system, such as renaming, deleting, and creating directories."
   ]
  },
  {
   "attachments": {},
   "cell_type": "markdown",
   "metadata": {},
   "source": [
    "r: open an existing file for a read operation.\n",
    "\n",
    "w: open an existing file for a write operation. If the file already contains some data then it will be overridden but if the file is not present then it creates the file as well.\n",
    "\n",
    "a:  open an existing file for append operation. It won’t override existing data.\n",
    "\n",
    " r+:  To read and write data into the file. The previous data in the file will be overridden.\n",
    "\n",
    "w+: To write and read data. It will override existing data.\n",
    "\n",
    "a+: To append and read data from the file. It won’t override existing data."
   ]
  },
  {
   "cell_type": "code",
   "execution_count": 1,
   "metadata": {},
   "outputs": [
    {
     "data": {
      "text/plain": [
       "'/home/omkar/Omkar Pawar/Data Science/Ineuron-FSDS-2.0/study/Python/File Handling'"
      ]
     },
     "execution_count": 1,
     "metadata": {},
     "output_type": "execute_result"
    }
   ],
   "source": [
    "pwd() # current working directory."
   ]
  },
  {
   "cell_type": "code",
   "execution_count": 2,
   "metadata": {},
   "outputs": [
    {
     "name": "stdout",
     "output_type": "stream",
     "text": [
      "file_handling.ipynb\n"
     ]
    }
   ],
   "source": [
    "%ls # Gives list of files in current directory."
   ]
  },
  {
   "attachments": {},
   "cell_type": "markdown",
   "metadata": {},
   "source": [
    "If you are going to open a file within the dir then just add name of the file otherwise you have to specify directory.\n"
   ]
  },
  {
   "attachments": {},
   "cell_type": "markdown",
   "metadata": {},
   "source": [
    "open() function provides several modes for file handling \n",
    "\n"
   ]
  },
  {
   "attachments": {},
   "cell_type": "markdown",
   "metadata": {},
   "source": [
    "### Write:"
   ]
  },
  {
   "attachments": {},
   "cell_type": "markdown",
   "metadata": {},
   "source": [
    "1. 'w' (write-only): opens the file for writing, but you cannot read from it. If the file already exists, its content will be overwritten. If the file does not exist, it will be created."
   ]
  },
  {
   "cell_type": "code",
   "execution_count": 4,
   "metadata": {},
   "outputs": [],
   "source": [
    "f = open(\"test1.txt\", \"w\")\n",
    "f.write(\"Hello, I am data scientist. I am excited to solve real world problems using my data skills.\")\n",
    "f.close() # It is good habit to close the file so it will not mess up the code."
   ]
  },
  {
   "attachments": {},
   "cell_type": "markdown",
   "metadata": {},
   "source": [
    "### Read:\n"
   ]
  },
  {
   "attachments": {},
   "cell_type": "markdown",
   "metadata": {},
   "source": [
    "2. 'r' (read-only): opens the file for reading, but you cannot write to it. If the file does not exist, a FileNotFoundError is raised."
   ]
  },
  {
   "cell_type": "code",
   "execution_count": 5,
   "metadata": {},
   "outputs": [
    {
     "data": {
      "text/plain": [
       "'Hello, I am data scientist. I am excited to solve real world problems using my data skills.'"
      ]
     },
     "execution_count": 5,
     "metadata": {},
     "output_type": "execute_result"
    }
   ],
   "source": [
    "f = open(\"test1.txt\", \"r\")\n",
    "f.read()"
   ]
  },
  {
   "cell_type": "code",
   "execution_count": 6,
   "metadata": {},
   "outputs": [
    {
     "data": {
      "text/plain": [
       "''"
      ]
     },
     "execution_count": 6,
     "metadata": {},
     "output_type": "execute_result"
    }
   ],
   "source": [
    "f.read() # After reading for the first time, cursor will go the end of the file."
   ]
  },
  {
   "cell_type": "code",
   "execution_count": 8,
   "metadata": {},
   "outputs": [
    {
     "data": {
      "text/plain": [
       "0"
      ]
     },
     "execution_count": 8,
     "metadata": {},
     "output_type": "execute_result"
    }
   ],
   "source": [
    "f.seek(0) # we can move the cursor to the beginning by giving position"
   ]
  },
  {
   "cell_type": "code",
   "execution_count": 9,
   "metadata": {},
   "outputs": [
    {
     "data": {
      "text/plain": [
       "'Hello, I am data scientist. I am excited to solve real world problems using my data skills.'"
      ]
     },
     "execution_count": 9,
     "metadata": {},
     "output_type": "execute_result"
    }
   ],
   "source": [
    "f.read() # cursor will read from idex 0 i.e. start of the file"
   ]
  },
  {
   "cell_type": "code",
   "execution_count": 10,
   "metadata": {},
   "outputs": [
    {
     "data": {
      "text/plain": [
       "'Hello, I am d'"
      ]
     },
     "execution_count": 10,
     "metadata": {},
     "output_type": "execute_result"
    }
   ],
   "source": [
    "f.seek(0)\n",
    "f.read(13) # It can read specified number of indexes"
   ]
  },
  {
   "cell_type": "code",
   "execution_count": 11,
   "metadata": {},
   "outputs": [
    {
     "data": {
      "text/plain": [
       "'Hello, I am data scientist. I am excited to solve real world problems using my data skills.'"
      ]
     },
     "execution_count": 11,
     "metadata": {},
     "output_type": "execute_result"
    }
   ],
   "source": [
    "f.seek(0)\n",
    "f.readline() "
   ]
  },
  {
   "cell_type": "code",
   "execution_count": 12,
   "metadata": {},
   "outputs": [],
   "source": [
    "f.close()"
   ]
  },
  {
   "cell_type": "code",
   "execution_count": 13,
   "metadata": {},
   "outputs": [],
   "source": [
    "f = open(\"test2.txt\", \"w\")\n",
    "f.write(\"line 1\\nline 2\\nline 3\\nline 4\\nline 5\\nline 6\\nline 7\\nline 8\\n\")\n",
    "f.close()"
   ]
  },
  {
   "cell_type": "code",
   "execution_count": 15,
   "metadata": {},
   "outputs": [
    {
     "data": {
      "text/plain": [
       "'line 1\\n'"
      ]
     },
     "execution_count": 15,
     "metadata": {},
     "output_type": "execute_result"
    }
   ],
   "source": [
    "# Here now we have created file test2.txt with multiple lines in it.\n",
    "# We can read that data line by line\n",
    "f = open(\"test2.txt\", 'r')\n",
    "f.readline()"
   ]
  },
  {
   "cell_type": "code",
   "execution_count": 16,
   "metadata": {},
   "outputs": [
    {
     "data": {
      "text/plain": [
       "'line 2\\n'"
      ]
     },
     "execution_count": 16,
     "metadata": {},
     "output_type": "execute_result"
    }
   ],
   "source": [
    "f.readline()"
   ]
  },
  {
   "cell_type": "code",
   "execution_count": 17,
   "metadata": {},
   "outputs": [
    {
     "data": {
      "text/plain": [
       "'line 3\\n'"
      ]
     },
     "execution_count": 17,
     "metadata": {},
     "output_type": "execute_result"
    }
   ],
   "source": [
    "f.readline() # used for line by line reading"
   ]
  },
  {
   "cell_type": "code",
   "execution_count": 19,
   "metadata": {},
   "outputs": [
    {
     "data": {
      "text/plain": [
       "['line 1\\n',\n",
       " 'line 2\\n',\n",
       " 'line 3\\n',\n",
       " 'line 4\\n',\n",
       " 'line 5\\n',\n",
       " 'line 6\\n',\n",
       " 'line 7\\n',\n",
       " 'line 8\\n']"
      ]
     },
     "execution_count": 19,
     "metadata": {},
     "output_type": "execute_result"
    }
   ],
   "source": [
    "f = open(\"test2.txt\", \"r\")\n",
    "f.seek(0)\n",
    "f.readlines() # read entire file line by line and gives output as whole file\n",
    "\n"
   ]
  },
  {
   "cell_type": "code",
   "execution_count": 20,
   "metadata": {},
   "outputs": [],
   "source": [
    "f.close()"
   ]
  },
  {
   "attachments": {},
   "cell_type": "markdown",
   "metadata": {},
   "source": [
    "#### Read Vs Readlines"
   ]
  },
  {
   "attachments": {},
   "cell_type": "markdown",
   "metadata": {},
   "source": [
    "The readline and readlines methods in Python are used for reading data from a file. However, they differ in the way they return the data.\n",
    "\n",
    "**readline** is a method that returns a single line of the file as a string. It can be used in a loop to read the entire file line by line.\n",
    "\n",
    "VS\n",
    "\n",
    "**readlines** is a method that reads the entire file and returns it as a list of strings, where each string is a line from the file.\n",
    "\n",
    "In general, readline is more memory efficient than readlines if you're working with large files, since it reads and returns one line at a time. However, readlines can be more convenient for small files since it returns the entire contents of the file in a single list."
   ]
  },
  {
   "attachments": {},
   "cell_type": "markdown",
   "metadata": {},
   "source": [
    "### Append:"
   ]
  },
  {
   "attachments": {},
   "cell_type": "markdown",
   "metadata": {},
   "source": [
    "'a' (append): opens the file for writing, but appends data to the end of the file instead of overwriting its content. If the file does not exist, it will be created."
   ]
  },
  {
   "cell_type": "code",
   "execution_count": 21,
   "metadata": {},
   "outputs": [],
   "source": [
    "f = open(\"test2.txt\", \"a\")\n",
    "f.write(\"Hi, append me\") # Does not overwrite existing file.\n",
    "f.close()"
   ]
  },
  {
   "cell_type": "code",
   "execution_count": 22,
   "metadata": {},
   "outputs": [],
   "source": [
    "f = open(\"test3.txt\", \"a\")\n",
    "f.write(\"Hi\\n How are you?\\n\")\n",
    "f.close()"
   ]
  },
  {
   "cell_type": "code",
   "execution_count": null,
   "metadata": {},
   "outputs": [],
   "source": []
  },
  {
   "attachments": {},
   "cell_type": "markdown",
   "metadata": {},
   "source": [
    "### Exclusive:"
   ]
  },
  {
   "attachments": {},
   "cell_type": "markdown",
   "metadata": {},
   "source": [
    "'x' (exclusive creation): creates a new file for writing, but raises a FileExistsError if the file already exists"
   ]
  },
  {
   "cell_type": "code",
   "execution_count": 23,
   "metadata": {},
   "outputs": [
    {
     "ename": "FileExistsError",
     "evalue": "[Errno 17] File exists: 'test4.txt'",
     "output_type": "error",
     "traceback": [
      "\u001b[1;31m---------------------------------------------------------------------------\u001b[0m",
      "\u001b[1;31mFileExistsError\u001b[0m                           Traceback (most recent call last)",
      "\u001b[1;32md:\\code files\\Ineron FSDS 2.0\\study\\iterator_generator_and_file_handling.ipynb Cell 36\u001b[0m in \u001b[0;36m<cell line: 1>\u001b[1;34m()\u001b[0m\n\u001b[1;32m----> <a href='vscode-notebook-cell:/d%3A/code%20files/Ineron%20FSDS%202.0/study/iterator_generator_and_file_handling.ipynb#X50sZmlsZQ%3D%3D?line=0'>1</a>\u001b[0m f \u001b[39m=\u001b[39m \u001b[39mopen\u001b[39;49m(\u001b[39m\"\u001b[39;49m\u001b[39mtest4.txt\u001b[39;49m\u001b[39m\"\u001b[39;49m, \u001b[39m\"\u001b[39;49m\u001b[39mx\u001b[39;49m\u001b[39m\"\u001b[39;49m)\n\u001b[0;32m      <a href='vscode-notebook-cell:/d%3A/code%20files/Ineron%20FSDS%202.0/study/iterator_generator_and_file_handling.ipynb#X50sZmlsZQ%3D%3D?line=1'>2</a>\u001b[0m f\u001b[39m.\u001b[39mwrite(\u001b[39m\"\u001b[39m\u001b[39mI am one of kind and you can\u001b[39m\u001b[39m'\u001b[39m\u001b[39mt replace me\u001b[39m\u001b[39m\"\u001b[39m)\n\u001b[0;32m      <a href='vscode-notebook-cell:/d%3A/code%20files/Ineron%20FSDS%202.0/study/iterator_generator_and_file_handling.ipynb#X50sZmlsZQ%3D%3D?line=2'>3</a>\u001b[0m f\u001b[39m.\u001b[39mclose()\n",
      "\u001b[1;31mFileExistsError\u001b[0m: [Errno 17] File exists: 'test4.txt'"
     ]
    }
   ],
   "source": [
    "f = open(\"test4.txt\", \"x\")\n",
    "f.write(\"I am one of kind and you can't replace me\")\n",
    "f.close()"
   ]
  },
  {
   "cell_type": "code",
   "execution_count": null,
   "metadata": {},
   "outputs": [
    {
     "ename": "FileExistsError",
     "evalue": "[Errno 17] File exists: 'test4.txt'",
     "output_type": "error",
     "traceback": [
      "\u001b[1;31m---------------------------------------------------------------------------\u001b[0m",
      "\u001b[1;31mFileExistsError\u001b[0m                           Traceback (most recent call last)",
      "\u001b[1;32md:\\code files\\Ineron FSDS 2.0\\study\\iterator_generator_and_file_handling.ipynb Cell 36\u001b[0m in \u001b[0;36m<cell line: 1>\u001b[1;34m()\u001b[0m\n\u001b[1;32m----> <a href='vscode-notebook-cell:/d%3A/code%20files/Ineron%20FSDS%202.0/study/iterator_generator_and_file_handling.ipynb#X52sZmlsZQ%3D%3D?line=0'>1</a>\u001b[0m f \u001b[39m=\u001b[39m \u001b[39mopen\u001b[39;49m(\u001b[39m\"\u001b[39;49m\u001b[39mtest4.txt\u001b[39;49m\u001b[39m\"\u001b[39;49m, \u001b[39m\"\u001b[39;49m\u001b[39mx\u001b[39;49m\u001b[39m\"\u001b[39;49m)\n\u001b[0;32m      <a href='vscode-notebook-cell:/d%3A/code%20files/Ineron%20FSDS%202.0/study/iterator_generator_and_file_handling.ipynb#X52sZmlsZQ%3D%3D?line=1'>2</a>\u001b[0m f\u001b[39m.\u001b[39mwrite(\u001b[39m\"\u001b[39m\u001b[39mIt\u001b[39m\u001b[39m'\u001b[39m\u001b[39ms useless to even try...\u001b[39m\u001b[39m\"\u001b[39m)\n\u001b[0;32m      <a href='vscode-notebook-cell:/d%3A/code%20files/Ineron%20FSDS%202.0/study/iterator_generator_and_file_handling.ipynb#X52sZmlsZQ%3D%3D?line=2'>3</a>\u001b[0m f\u001b[39m.\u001b[39mclose()\n",
      "\u001b[1;31mFileExistsError\u001b[0m: [Errno 17] File exists: 'test4.txt'"
     ]
    }
   ],
   "source": [
    "f = open(\"test4.txt\", \"x\") # error: FileExistsError: [Errno 17] File exists: 'test4.txt'\n",
    "f.write(\"It's useless to even try...\")\n",
    "f.close()"
   ]
  },
  {
   "cell_type": "code",
   "execution_count": null,
   "metadata": {},
   "outputs": [],
   "source": [
    "f = open(\"test4.txt\", \"a\")\n",
    "f.write(\"Don't feel sad at least You can append me anytime :)\")\n",
    "f.close()"
   ]
  },
  {
   "cell_type": "code",
   "execution_count": null,
   "metadata": {},
   "outputs": [
    {
     "name": "stdout",
     "output_type": "stream",
     "text": [
      "I am one of kind and you can't replace meDon't feel sad at least You can append me anytime :)\n"
     ]
    }
   ],
   "source": [
    "# we can use with keyword to automatically close the file \n",
    "with open(\"test4.txt\", \"r\") as f:\n",
    "    x = f.read()\n",
    "print(x)"
   ]
  }
 ],
 "metadata": {
  "kernelspec": {
   "display_name": "Python 3",
   "language": "python",
   "name": "python3"
  },
  "language_info": {
   "codemirror_mode": {
    "name": "ipython",
    "version": 3
   },
   "file_extension": ".py",
   "mimetype": "text/x-python",
   "name": "python",
   "nbconvert_exporter": "python",
   "pygments_lexer": "ipython3",
   "version": "3.10.9"
  },
  "orig_nbformat": 4,
  "vscode": {
   "interpreter": {
    "hash": "38519c3442d9f767135b0650f6935cb54106bd9267700919f92a37291a156600"
   }
  }
 },
 "nbformat": 4,
 "nbformat_minor": 2
}
