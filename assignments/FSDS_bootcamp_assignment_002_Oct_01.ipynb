{
  "cells": [
    {
      "cell_type": "markdown",
      "metadata": {
        "id": "cyOfbWCdOjEr"
      },
      "source": [
        "# ASSIGNMENTS - Compulsory\n",
        "## Send it before 0000 hrs IST or 12 AM Wednesday\n",
        "\n",
        "## NOTE: Evaluation will be done before next class.\n",
        "\n",
        "## HOW TO SUBMIT: -\n",
        "Download this notebook, Solve it and upload in the google form given in the mail."
      ]
    },
    {
      "cell_type": "markdown",
      "metadata": {
        "id": "GT4IytkJMNa-"
      },
      "source": [
        "\n",
        "1. What is indentation error? Why indentation is important? Give one simple example?\n",
        "\n",
        "2. Correct the following code and write the comment where you made the correction?\n",
        "\n",
        "  ```python\n",
        "  class_started = bool(input(\"Hey friend, is class started?: [0-False/1-True]\"))\n",
        "\n",
        "  if class_started:\n",
        "      print(\"Since class started...\")\n",
        "      print(\"Lets concentrate\")\n",
        "  else:\n",
        "      print(\"Since class is not started...\")\n",
        "      print(\"let's revise\")    \n",
        "  ```\n",
        "\n",
        "  **HINT:** Refer your data type conversion class\n",
        "\n",
        "3. Use if else condition to verify that dataype of `input()` method in python is always string.\n",
        "\n",
        "4. Take 3 variables and assign integer values to them. Find the largest variable, by only using the if and else conditions.\n",
        "\n",
        "\n",
        "5. What would be the solution?\n",
        "    1. True\n",
        "    2. False\n",
        "\n",
        "    ```python\n",
        "    a = 6\n",
        "    b = 10\n",
        "    print( not ( not a == 10 or not b == 10) )\n",
        "    ```\n",
        "    \n",
        "6. Find the answer as well as find out the reason behind the result? -\n",
        "    - case 1:\n",
        "        ```python\n",
        "        A = 5.0\n",
        "        B = 10/2\n",
        "        print(A is B)\n",
        "        ```\n",
        "    - case 2:\n",
        "        ```python\n",
        "        A = 5.0\n",
        "        B = int(10/2)\n",
        "        print(A is B)\n",
        "        ```\n",
        "    - case 3:\n",
        "        ```python\n",
        "        A = 5.0\n",
        "        B = float(10/2)\n",
        "        print(A is B)\n",
        "        ```"
      ]
    },
    {
      "cell_type": "markdown",
      "metadata": {
        "id": "a_4kbBVWNY-4"
      },
      "source": [
        "### Try to understand the following examples and answer the question based on it - \n",
        "    \n",
        "**Arithmatic Operators**\n",
        "\n",
        "|Operation|Meaning|\n",
        "|:-:|:-:|\n",
        "| **+** |addition|\n",
        "| **-** |subtraction|\n",
        "| **\\*** |multiplication|\n",
        "| **/** |true division|\n",
        "| **//** |integer division|\n",
        "| **%** |the modulo operator|\n",
        "\n",
        "\n",
        "Here `+`, `-`, `*`, `/` are regular arithmatic operators. Lets look at the `//` and `%` operators\n",
        "\n",
        "Usecase or examples - \n",
        "    \n",
        "```python\n",
        "var_a = 5\n",
        "var_b = 25\n",
        "integer_division = var_b // var_a\n",
        "print(f\"integer division: {var_b}/{var_a}={integer_division}\")\n",
        "```\n",
        "\n",
        "OUTPUT: integer division: 25/5=5\n",
        "\n",
        "```python\n",
        "var_a = 3\n",
        "var_b = 25\n",
        "integer_division = var_b // var_a\n",
        "print(f\"integer division: {var_b}/{var_a}={integer_division}\")\n",
        "```\n",
        "\n",
        "OUTPUT: integer division: 25/3=8\n",
        "\n",
        "```python\n",
        "var_a = 5\n",
        "var_b = 25\n",
        "remainder = var_b % var_a\n",
        "print(f\"remainder: {var_b}/{var_a} is {remainder}\")\n",
        "```\n",
        "\n",
        "OUTPUT: remainder: 25/5 is 0\n",
        "\n",
        "```python\n",
        "var_a = 3\n",
        "var_b = 25\n",
        "remainder = var_b % var_a\n",
        "print(f\"remainder: {var_b}/{var_a} is {remainder}\")\n",
        "```\n",
        "\n",
        "OUTPUT: remainder: 25/3 is 1\n",
        "\n"
      ]
    },
    {
      "cell_type": "markdown",
      "metadata": {
        "id": "v288WPlMNxmM"
      },
      "source": [
        "### Answer below questions on the above theory - \n",
        "\n",
        "7. Write a program that asks the user to enter a number. You should print out a message to the user, either “That number is divisible by either 3 or 5”, or “That number is not divisible by either 3 or 5”. Be sure to consider the data type of the input you are taking in from the user. Use a single if/else block to solve this problem.\n",
        "\n",
        "8. Take user input for length and width. Then calculate the area of rectangle. Also print as per length and width whether its a square of rectangle.\n",
        "\n",
        "9. Take two variable radius_1 and radius_2 and calculate the area of circle_1 and circle_2. Also print which circle has large area. If area is equal then print area is equal.\n",
        "\n",
        "10. Check whether a year is leap year or not. Use nested if...else to solve this problem. A leap year is exactly divisible by 4 except for century years (years ending with 00). The century year is a leap year only if it is perfectly divisible by 400."
      ]
    },
    {
      "attachments": {},
      "cell_type": "markdown",
      "metadata": {
        "id": "XumyqFp6MHnv"
      },
      "source": [
        "# Answeers:"
      ]
    },
    {
      "attachments": {},
      "cell_type": "markdown",
      "metadata": {},
      "source": [
        "#### 1. What is indentation error? Why indentation is important? Give one simple example?\n"
      ]
    },
    {
      "attachments": {},
      "cell_type": "markdown",
      "metadata": {},
      "source": [
        "Indentation error occurs when we don't leave proper space after if else statements. \n",
        "Indentation is important because it helps python to understand what to run within if else statements.\n",
        "Not Giving proper Indentation causes errors and bugs in our code."
      ]
    },
    {
      "cell_type": "code",
      "execution_count": 1,
      "metadata": {},
      "outputs": [
        {
          "name": "stdout",
          "output_type": "stream",
          "text": [
            "Value of A and B is different.\n"
          ]
        }
      ],
      "source": [
        "# Example of Indentation:\n",
        "A = 5\n",
        "B = 6\n",
        "if A == B:\n",
        "    print(\"Value of A and B are same.\") # Here Giving indentation tells python to run this code within if statement. \n",
        "else:\n",
        "    print(\"Value of A and B is different.\") # Here Giving indentation tells python to run this code within else statement. "
      ]
    },
    {
      "attachments": {},
      "cell_type": "markdown",
      "metadata": {},
      "source": [
        "#### 2. Correct the following code and write the comment where you made the correction?"
      ]
    },
    {
      "cell_type": "code",
      "execution_count": 6,
      "metadata": {},
      "outputs": [
        {
          "data": {
            "text/plain": [
              "True"
            ]
          },
          "execution_count": 6,
          "metadata": {},
          "output_type": "execute_result"
        }
      ],
      "source": [
        "x = bool(input(\"0- false | 1- true : \")) # It shows True even if I enter 1 LOL :)\n",
        "x"
      ]
    },
    {
      "cell_type": "code",
      "execution_count": 7,
      "metadata": {},
      "outputs": [
        {
          "name": "stdout",
          "output_type": "stream",
          "text": [
            "Since class is not started...\n",
            "let's revise\n"
          ]
        }
      ],
      "source": [
        "class_started = bool(int(input(\"Hey friend, is class started?: [0-False/1-True]\")))\n",
        "# When we take any input from the user it is always in the form of string, thats why it was necessary to convert it \n",
        "# into integer by using typecasting.\n",
        "if class_started:\n",
        "   print(\"Since class started...\")\n",
        "   print(\"Lets concentrate\")\n",
        "else:\n",
        "   print(\"Since class is not started...\")\n",
        "   print(\"let's revise\")"
      ]
    },
    {
      "attachments": {},
      "cell_type": "markdown",
      "metadata": {},
      "source": [
        "#### 3. Use if else condition to verify that dataype of input() method in python is always string."
      ]
    },
    {
      "cell_type": "code",
      "execution_count": 11,
      "metadata": {},
      "outputs": [
        {
          "name": "stdout",
          "output_type": "stream",
          "text": [
            "Data type of input 3 + 4j is String.\n"
          ]
        }
      ],
      "source": [
        "# to verify datatype of input() method:\n",
        "\n",
        "a = input(\"Enter any value(int, float, bool, complex etx): \")\n",
        "if type(a) == str:\n",
        "    print(f\"Data type of input {a} is String.\")\n",
        "else:\n",
        "    print(f\"Data type of input {a} is {type(a)}.\")"
      ]
    },
    {
      "attachments": {},
      "cell_type": "markdown",
      "metadata": {},
      "source": [
        "After running the all data types in above code we can say that No matter what type of data we enter in input function it give string data type as output. For this reason we need to be aware of this fact and use typecasting while it is necessary."
      ]
    },
    {
      "attachments": {},
      "cell_type": "markdown",
      "metadata": {},
      "source": [
        "#### 4. Take 3 variables and assign integer values to them. Find the largest variable, by only using the if and else conditions."
      ]
    },
    {
      "cell_type": "code",
      "execution_count": 20,
      "metadata": {},
      "outputs": [
        {
          "name": "stdout",
          "output_type": "stream",
          "text": [
            "85 is the largest number among 45, 85, 65\n"
          ]
        }
      ],
      "source": [
        "# to find largest number from given 3 numbers:\n",
        "num1 = input(\"enter first value: \")\n",
        "num2 = input(\"enter second value: \")\n",
        "num3 = input(\"enter third value: \")\n",
        "# Honestly I took some help from google :)\n",
        "largest_num = num1\n",
        "if largest_num < num2:\n",
        "    largest_num = num2\n",
        "if largest_num < num3:\n",
        "    largest_num = num3\n",
        "print(f\"{largest_num} is the largest number among {num1}, {num2}, {num3}\")"
      ]
    },
    {
      "attachments": {},
      "cell_type": "markdown",
      "metadata": {},
      "source": [
        "#### 5. What would be the solution?\n",
        "\n",
        "1. True\n",
        "\n",
        "2. False\n",
        "a = 6\n",
        "b = 10\n",
        "print( not ( not a == 10 or not b == 10) )\n",
        "\n",
        "answer = False"
      ]
    },
    {
      "cell_type": "code",
      "execution_count": 22,
      "metadata": {},
      "outputs": [
        {
          "name": "stdout",
          "output_type": "stream",
          "text": [
            "False\n"
          ]
        }
      ],
      "source": [
        "a = 6\n",
        "b = 10\n",
        "print( not ( not a == 10 or not b == 10) )\n",
        "# Answer verified!!!\n"
      ]
    },
    {
      "attachments": {},
      "cell_type": "markdown",
      "metadata": {},
      "source": [
        "#### 6. Find the answer as well as find out the reason behind the result? -"
      ]
    },
    {
      "cell_type": "code",
      "execution_count": 23,
      "metadata": {},
      "outputs": [
        {
          "name": "stdout",
          "output_type": "stream",
          "text": [
            "False\n"
          ]
        }
      ],
      "source": [
        "# case 1:\n",
        "A = 5.0\n",
        "B = 10/2\n",
        "print(A is B) "
      ]
    },
    {
      "cell_type": "code",
      "execution_count": 24,
      "metadata": {},
      "outputs": [
        {
          "name": "stdout",
          "output_type": "stream",
          "text": [
            "False\n"
          ]
        }
      ],
      "source": [
        "# case 2:\n",
        "A = 5.0\n",
        "B = int(10/2)\n",
        "print(A is B)"
      ]
    },
    {
      "cell_type": "code",
      "execution_count": 25,
      "metadata": {},
      "outputs": [
        {
          "name": "stdout",
          "output_type": "stream",
          "text": [
            "False\n"
          ]
        }
      ],
      "source": [
        "# case 3:\n",
        "A = 5.0\n",
        "B = float(10/2)\n",
        "print(A is B)"
      ]
    },
    {
      "attachments": {},
      "cell_type": "markdown",
      "metadata": {},
      "source": [
        "Ans: \n",
        "is operator uses value as well as location of object to compare.\n",
        "Hence it gives false even though value of A and B are equal."
      ]
    },
    {
      "attachments": {},
      "cell_type": "markdown",
      "metadata": {},
      "source": [
        "#### 7. Write a program that asks the user to enter a number. You should print out a message to the user, either “That number is divisible by either 3 or 5”, or “That number is not divisible by either 3 or 5”. Be sure to consider the data type of the input you are taking in from the user. Use a single if/else block to solve this problem.\n"
      ]
    },
    {
      "cell_type": "code",
      "execution_count": 2,
      "metadata": {},
      "outputs": [
        {
          "name": "stdout",
          "output_type": "stream",
          "text": [
            "7 is not divisible by either 3 or 5.\n"
          ]
        }
      ],
      "source": [
        "x = int(input(\"Enter your number to check divisibility by 3/5: \"))\n",
        "\n",
        "if x%3 == 0 or x%5 == 0:\n",
        "    print(f\"{x} is divisible by either 3 or 5.\")\n",
        "else:\n",
        "    print(f\"{x} is not divisible by either 3 or 5.\")\n",
        "\n"
      ]
    },
    {
      "attachments": {},
      "cell_type": "markdown",
      "metadata": {},
      "source": [
        "#### 8. Take user input for length and width. Then calculate the area of rectangle. Also print as per length and width whether its a square of rectangle."
      ]
    },
    {
      "cell_type": "code",
      "execution_count": 7,
      "metadata": {},
      "outputs": [
        {
          "name": "stdout",
          "output_type": "stream",
          "text": [
            "It's a Rectangle!!!.\n",
            "Area of the rectangle is: 2080.\n"
          ]
        }
      ],
      "source": [
        "length = int(input(\"Enter Length: \"))\n",
        "width = int(input(\"Enter Width: \"))\n",
        "if length == width:\n",
        "    print(\"It's a Square!!!.\")\n",
        "    area = length * 2\n",
        "    print(f\"Area of the square is: {area}.\")\n",
        "else:\n",
        "    print(\"It's a Rectangle!!!.\")\n",
        "    area = length * width\n",
        "    print(f\"Area of the rectangle is: {area}.\")"
      ]
    },
    {
      "attachments": {},
      "cell_type": "markdown",
      "metadata": {},
      "source": [
        "#### 9. Take two variable radius_1 and radius_2 and calculate the area of circle_1 and circle_2. Also print which circle has large area. If area is equal then print area is equal."
      ]
    },
    {
      "cell_type": "code",
      "execution_count": 11,
      "metadata": {},
      "outputs": [
        {
          "name": "stdout",
          "output_type": "stream",
          "text": [
            "area of first circle: 78.5\n",
            "area of second circle: 28.26\n",
            "circle_1 have larger area than circle_2\n"
          ]
        }
      ],
      "source": [
        "# Finding the area of two circles and comparing them:\n",
        "\n",
        "radius_1 = int(input(\"Enter radius of first circle: \"))\n",
        "radius_2 = int(input(\"Enter radius of second circle: \"))\n",
        "\n",
        "area_1 = 3.14 * (radius_1 ** 2)\n",
        "print(f\"area of first circle: {area_1}\")\n",
        "area_2 = 3.14 * (radius_2 ** 2)\n",
        "print(f\"area of second circle: {area_2}\")\n",
        "\n",
        "\n",
        "if area_1 == area_2:\n",
        "    print(\"circle_1 and circle_2 both have equal area.\" )\n",
        "if area_2 > area_1:\n",
        "    print(\"circle_2 have larger area than circle_1\")\n",
        "else:\n",
        "    print(\"circle_1 have larger area than circle_2\")\n"
      ]
    },
    {
      "attachments": {},
      "cell_type": "markdown",
      "metadata": {},
      "source": [
        "#### 10. Check whether a year is leap year or not. Use nested if...else to solve this problem. A leap year is exactly divisible by 4 except for century years (years ending with 00). The century year is a leap year only if it is perfectly divisible by 400."
      ]
    },
    {
      "cell_type": "code",
      "execution_count": 12,
      "metadata": {},
      "outputs": [
        {
          "name": "stdout",
          "output_type": "stream",
          "text": [
            "not leap year\n"
          ]
        }
      ],
      "source": [
        "year = int(input(\"Which year do you want to check? \"))\n",
        "if year % 4 == 0:\n",
        "  if year % 100 == 0:\n",
        "    if year % 400 == 0:\n",
        "      print(\"leap year.\")\n",
        "    else:\n",
        "      print(\"not leap year\")\n",
        "  elif year % 400 == 0:\n",
        "      print(\"leap year.\")\n",
        "  else:\n",
        "    print(\"Not leap year.\")    \n",
        "else:\n",
        "  print(\"not leap year\")"
      ]
    },
    {
      "attachments": {},
      "cell_type": "markdown",
      "metadata": {},
      "source": [
        "link : https://www.mathsisfun.com/leap-years.html"
      ]
    }
  ],
  "metadata": {
    "colab": {
      "provenance": [],
      "toc_visible": true
    },
    "kernelspec": {
      "display_name": "Python 3",
      "language": "python",
      "name": "python3"
    },
    "language_info": {
      "codemirror_mode": {
        "name": "ipython",
        "version": 3
      },
      "file_extension": ".py",
      "mimetype": "text/x-python",
      "name": "python",
      "nbconvert_exporter": "python",
      "pygments_lexer": "ipython3",
      "version": "3.10.2"
    },
    "vscode": {
      "interpreter": {
        "hash": "38519c3442d9f767135b0650f6935cb54106bd9267700919f92a37291a156600"
      }
    }
  },
  "nbformat": 4,
  "nbformat_minor": 0
}
