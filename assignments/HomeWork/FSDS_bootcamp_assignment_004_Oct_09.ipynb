{
  "cells": [
    {
      "cell_type": "markdown",
      "metadata": {
        "id": "dkGbTD94s6CD"
      },
      "source": [
        "# ASSIGNMENTS \n",
        "## Send it before 0000 hrs IST or 12 AM Wednesday\n",
        "\n",
        "## NOTE: Evaluation will be done before next class.\n",
        "\n",
        "## HOW TO SUBMIT: -\n",
        "Download this notebook, Solve it and upload in the google form given in the mail."
      ]
    },
    {
      "cell_type": "markdown",
      "metadata": {
        "id": "n3FuI-mutNl6"
      },
      "source": [
        "## control flow and conditional statements"
      ]
    },
    {
      "cell_type": "markdown",
      "metadata": {
        "id": "NCW2epdyuJ-a"
      },
      "source": [
        "Q1. Find the largest number from the given list, use for loop.\n",
        "\n",
        "```\n",
        "numbers = [12, 75, 150, 180, 145, 525, 50]\n",
        "```"
      ]
    },
    {
      "cell_type": "code",
      "execution_count": 3,
      "metadata": {},
      "outputs": [
        {
          "name": "stdout",
          "output_type": "stream",
          "text": [
            "[12, 75, 150, 180, 145, 525, 50]\n",
            "In a given list of numbers 525 is largest number.\n"
          ]
        }
      ],
      "source": [
        "# To find the largest number from given list:\n",
        "numbers = [12, 75, 150, 180, 145, 525, 50]\n",
        "print(numbers)\n",
        "\n",
        "largest_number = numbers[0]\n",
        "for i in numbers:\n",
        "    if i > largest_number:\n",
        "        largest_number = i   \n",
        "print(f\"In a given list of numbers {largest_number} is largest number.\")    \n"
      ]
    },
    {
      "cell_type": "markdown",
      "metadata": {
        "id": "Qsg0i1fTwEQj"
      },
      "source": [
        "Q2. Print all the even number between (1, 12)."
      ]
    },
    {
      "cell_type": "code",
      "execution_count": 4,
      "metadata": {},
      "outputs": [
        {
          "name": "stdout",
          "output_type": "stream",
          "text": [
            "2 is even number.\n",
            "4 is even number.\n",
            "6 is even number.\n",
            "8 is even number.\n",
            "10 is even number.\n",
            "12 is even number.\n"
          ]
        }
      ],
      "source": [
        "# to print all the even numbers between 1 and 12:\n",
        "for i in range(1,13):\n",
        "    if i % 2 == 0:\n",
        "        print(f\"{i} is even number.\")"
      ]
    },
    {
      "cell_type": "markdown",
      "metadata": {
        "id": "WG2QcDDhwi4a"
      },
      "source": [
        "Q3. Calculate the sum of all numbers from 1 to a given number\n",
        "    \n",
        "    Expected Output:\n",
        "\n",
        "    Enter number 10\n",
        "    \n",
        "    Sum is:  55\n"
      ]
    },
    {
      "cell_type": "code",
      "execution_count": 17,
      "metadata": {},
      "outputs": [
        {
          "name": "stdout",
          "output_type": "stream",
          "text": [
            "Sum of all numbers till 10: 55\n"
          ]
        }
      ],
      "source": [
        "# Calculate sum of all numbers from 1 to a given number:\n",
        "num = int(input(\"Enter a number: \"))\n",
        "\n",
        "sum = 0\n",
        "\n",
        "for i in range(1, num + 1):  # added 1 extra to num because range don't include end number.\n",
        "    sum = sum + i\n",
        "\n",
        "print(f\"Sum of all numbers till {num}: {sum}\")\n"
      ]
    },
    {
      "attachments": {},
      "cell_type": "markdown",
      "metadata": {
        "id": "mc7lLUm5f4Cq"
      },
      "source": [
        "Q4. Write a program to display only those numbers from a list that satisfy the following conditions\n",
        "\n",
        "- The number must be divisible by five\n",
        "\n",
        "- If the number is greater than 150, then skip it and move to the next number\n",
        "\n",
        "- If the number is greater than 500, then stop the loop"
      ]
    },
    {
      "cell_type": "code",
      "execution_count": 21,
      "metadata": {
        "id": "P3Ct2ocKf6Hy"
      },
      "outputs": [
        {
          "name": "stdout",
          "output_type": "stream",
          "text": [
            "75\n",
            "150\n",
            "145\n"
          ]
        }
      ],
      "source": [
        "# Given:\n",
        "numbers = [12, 75, 150, 180, 145, 525, 50]\n",
        "\n",
        "\n",
        "for i in numbers:\n",
        "\n",
        "    if i % 5 ==0:\n",
        "        if i > 500:\n",
        "            break\n",
        "        if i>150:\n",
        "            continue\n",
        "        print(i)"
      ]
    },
    {
      "cell_type": "markdown",
      "metadata": {
        "id": "rrxWvy7nMnAs"
      },
      "source": [
        "Q5. Print the given list in reverse order.\n",
        "\n",
        "```\n",
        "list1 = [10, 20, 30, 40, 50]\n",
        "```"
      ]
    },
    {
      "cell_type": "code",
      "execution_count": 23,
      "metadata": {
        "id": "z-GDgPn3Nr0y"
      },
      "outputs": [
        {
          "name": "stdout",
          "output_type": "stream",
          "text": [
            "50,40,30,20,10,"
          ]
        }
      ],
      "source": [
        "list1 = [10, 20, 30, 40, 50]\n",
        "for i in reversed(list1):\n",
        "    print(i,end=\",\")"
      ]
    }
  ],
  "metadata": {
    "colab": {
      "provenance": [],
      "toc_visible": true
    },
    "kernelspec": {
      "display_name": "Python 3",
      "language": "python",
      "name": "python3"
    },
    "language_info": {
      "codemirror_mode": {
        "name": "ipython",
        "version": 3
      },
      "file_extension": ".py",
      "mimetype": "text/x-python",
      "name": "python",
      "nbconvert_exporter": "python",
      "pygments_lexer": "ipython3",
      "version": "3.10.2 (tags/v3.10.2:a58ebcc, Jan 17 2022, 14:12:15) [MSC v.1929 64 bit (AMD64)]"
    },
    "vscode": {
      "interpreter": {
        "hash": "38519c3442d9f767135b0650f6935cb54106bd9267700919f92a37291a156600"
      }
    }
  },
  "nbformat": 4,
  "nbformat_minor": 0
}
