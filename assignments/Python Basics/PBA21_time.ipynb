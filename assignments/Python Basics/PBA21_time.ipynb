{
 "cells": [
  {
   "attachments": {},
   "cell_type": "markdown",
   "metadata": {},
   "source": [
    "# Python Basic | Assignment 21"
   ]
  },
  {
   "attachments": {},
   "cell_type": "markdown",
   "metadata": {},
   "source": [
    "Link to [Questions](https://drive.google.com/file/d/1b2jWpoy7ve89SkAgkOYYvwK6Cew0aphY/view) "
   ]
  },
  {
   "attachments": {},
   "cell_type": "markdown",
   "metadata": {},
   "source": [
    "### Q 1 | Ans:"
   ]
  },
  {
   "attachments": {},
   "cell_type": "markdown",
   "metadata": {},
   "source": [
    "Add the current date to the text file today.txt as a string."
   ]
  },
  {
   "cell_type": "code",
   "execution_count": 2,
   "metadata": {},
   "outputs": [],
   "source": [
    "from datetime import datetime,date\n",
    "  \n",
    "filename = date.today()\n",
    "\n",
    "with open(\"today.txt\", \"w\") as file:\n",
    "    file.write(str(date.today()))"
   ]
  },
  {
   "attachments": {},
   "cell_type": "markdown",
   "metadata": {},
   "source": [
    "### Q 2 | Ans:"
   ]
  },
  {
   "attachments": {},
   "cell_type": "markdown",
   "metadata": {},
   "source": [
    "Read the text file today.txt into the string today_string"
   ]
  },
  {
   "cell_type": "code",
   "execution_count": 3,
   "metadata": {},
   "outputs": [
    {
     "name": "stdout",
     "output_type": "stream",
     "text": [
      "2023-03-30\n"
     ]
    }
   ],
   "source": [
    "with open('today.txt', 'r') as file:\n",
    "    today_string = file.read()\n",
    "    print(today_string)"
   ]
  },
  {
   "attachments": {},
   "cell_type": "markdown",
   "metadata": {},
   "source": [
    "### Q 3 | Ans:"
   ]
  },
  {
   "attachments": {},
   "cell_type": "markdown",
   "metadata": {},
   "source": [
    "Parse the date from today_string."
   ]
  },
  {
   "cell_type": "code",
   "execution_count": 12,
   "metadata": {},
   "outputs": [
    {
     "data": {
      "text/plain": [
       "datetime.datetime(2023, 3, 30, 0, 0)"
      ]
     },
     "execution_count": 12,
     "metadata": {},
     "output_type": "execute_result"
    }
   ],
   "source": [
    "datetime.strptime(today_string,\"%Y-%m-%d\")"
   ]
  },
  {
   "attachments": {},
   "cell_type": "markdown",
   "metadata": {},
   "source": [
    "### Q 4 | Ans:"
   ]
  },
  {
   "attachments": {},
   "cell_type": "markdown",
   "metadata": {},
   "source": [
    "List the files in your current directory"
   ]
  },
  {
   "cell_type": "code",
   "execution_count": 15,
   "metadata": {},
   "outputs": [
    {
     "data": {
      "text/plain": [
       "'d:\\\\DS Study\\\\code files\\\\Ineuron FSDS 2.0\\\\assignments\\\\Python Basics'"
      ]
     },
     "execution_count": 15,
     "metadata": {},
     "output_type": "execute_result"
    }
   ],
   "source": [
    "pwd"
   ]
  },
  {
   "cell_type": "code",
   "execution_count": 14,
   "metadata": {},
   "outputs": [
    {
     "data": {
      "text/plain": [
       "['decrypted-pdf.pdf',\n",
       " 'demo.csv',\n",
       " 'demo2.csv',\n",
       " 'demo3.csv',\n",
       " 'demo4.csv',\n",
       " 'ds.docx',\n",
       " 'ds.pdf',\n",
       " 'encrypted-pdf.pdf',\n",
       " 'hellothere.docx',\n",
       " 'image.jpeg',\n",
       " 'modified_image.jpeg',\n",
       " 'PBA12_PyPDF2.ipynb',\n",
       " 'PBA13_CSV_n_JSON.ipynb',\n",
       " 'PBA14_PIL.ipynb',\n",
       " 'PBA15_Time.ipynb',\n",
       " 'PBA16_lists.ipynb',\n",
       " 'PBA17_elif.ipynb',\n",
       " 'PBA18_modules.ipynb',\n",
       " 'PBA19_OOP.ipynb',\n",
       " 'PBA20_redis.ipynb',\n",
       " 'PBA21_time.ipynb',\n",
       " 'PBA22_Prog.ipynb',\n",
       " 'PBAx_title.ipynb',\n",
       " 'python_basics_assignment_01.ipynb',\n",
       " 'python_basics_assignment_02.ipynb',\n",
       " 'python_basics_assignment_03.ipynb',\n",
       " 'python_basics_assignment_04.ipynb',\n",
       " 'python_basics_assignment_05.ipynb',\n",
       " 'python_basics_assignment_06.ipynb',\n",
       " 'python_basics_assignment_07.ipynb',\n",
       " 'python_basics_assignment_08.ipynb',\n",
       " 'python_basics_assignment_09.ipynb',\n",
       " 'python_basics_assignment_10.ipynb',\n",
       " 'python_basics_assignment_11.ipynb',\n",
       " 'sample.pdf',\n",
       " 'sample_rotated.pdf',\n",
       " 'test.txt',\n",
       " 'today.txt',\n",
       " 'zoo.py',\n",
       " '__pycache__']"
      ]
     },
     "execution_count": 14,
     "metadata": {},
     "output_type": "execute_result"
    }
   ],
   "source": [
    "import os \n",
    "os.listdir()"
   ]
  },
  {
   "attachments": {},
   "cell_type": "markdown",
   "metadata": {},
   "source": [
    "### Q 5 | Ans:"
   ]
  },
  {
   "attachments": {},
   "cell_type": "markdown",
   "metadata": {},
   "source": [
    "Create a list of all of the files in your parent directory (minimum five files should be available)."
   ]
  },
  {
   "cell_type": "code",
   "execution_count": 18,
   "metadata": {},
   "outputs": [
    {
     "name": "stdout",
     "output_type": "stream",
     "text": [
      "Present Directory d:\\DS Study\\code files\\Ineuron FSDS 2.0\\assignments\\Python Basics\n",
      "d:\\DS Study\\code files\\Ineuron FSDS 2.0\\assignments\n"
     ]
    },
    {
     "data": {
      "text/plain": [
       "['HomeWork', 'Python Basics', 'Python Programming']"
      ]
     },
     "execution_count": 18,
     "metadata": {},
     "output_type": "execute_result"
    }
   ],
   "source": [
    "import os \n",
    "  \n",
    "# current directory \n",
    "current_dir = os.getcwd() \n",
    "print(\"Present Directory\", current_dir) \n",
    "  \n",
    "# parent directory \n",
    "parent_dir = os.path.abspath(os.path.join(current_dir, os.pardir))\n",
    "dir_path = parent_dir\n",
    "print(parent_dir)\n",
    "os.listdir(parent_dir)\n"
   ]
  },
  {
   "cell_type": "code",
   "execution_count": 20,
   "metadata": {},
   "outputs": [],
   "source": [
    "os.chdir(dir_path)\n",
    "lis = [\"a\", \"b\", \"c\", \"d\", \"e\"]\n",
    "for i in lis:\n",
    "    with open(f\"{i}.txt\", \"w\") as f:\n",
    "        f.write(\"Demo file for assignment PBA 21\")"
   ]
  },
  {
   "cell_type": "code",
   "execution_count": 21,
   "metadata": {},
   "outputs": [
    {
     "name": "stdout",
     "output_type": "stream",
     "text": [
      "['a.txt', 'b.txt', 'c.txt', 'd.txt', 'e.txt']\n"
     ]
    }
   ],
   "source": [
    "res = []\n",
    "\n",
    "for path in os.listdir(dir_path):\n",
    "    \n",
    "    if os.path.isfile(os.path.join(dir_path, path)):\n",
    "        res.append(path)\n",
    "print(res)"
   ]
  },
  {
   "attachments": {},
   "cell_type": "markdown",
   "metadata": {},
   "source": [
    "### Q 6 | Ans:"
   ]
  },
  {
   "attachments": {},
   "cell_type": "markdown",
   "metadata": {},
   "source": [
    "Use multiprocessing to create three separate processes. Make each one wait a random number of\n",
    "seconds between one and five, print the current time, and then exit."
   ]
  },
  {
   "cell_type": "code",
   "execution_count": 36,
   "metadata": {},
   "outputs": [
    {
     "name": "stdout",
     "output_type": "stream",
     "text": [
      "Process MainProcess waited for 5 seconds and printed at 19:54:36\n",
      "Process MainProcess waited for 5 seconds and printed at 19:54:41\n",
      "Process MainProcess waited for 3 seconds and printed at 19:54:44\n"
     ]
    }
   ],
   "source": [
    "import multiprocessing\n",
    "import random\n",
    "import time\n",
    "from datetime import datetime\n",
    "\n",
    "def wait_and_print():\n",
    "    wait_time = random.randint(1, 5)\n",
    "    time.sleep(wait_time)\n",
    "    current_time = datetime.now().strftime(\"%H:%M:%S\")\n",
    "    print(f\"Process {multiprocessing.current_process().name} waited for {wait_time} seconds and printed at {current_time}\")\n",
    "\n",
    "if __name__ == '__main__':\n",
    "    processes = []\n",
    "    for i in range(3):\n",
    "        p = multiprocessing.Process(target=wait_and_print(), name=f\"Process-{i+1}\")\n",
    "        processes.append(p)\n",
    "        p.start()\n",
    "\n",
    "    for p in processes:\n",
    "        p.join()\n"
   ]
  },
  {
   "attachments": {},
   "cell_type": "markdown",
   "metadata": {},
   "source": [
    "### Q 7 | Ans:"
   ]
  },
  {
   "attachments": {},
   "cell_type": "markdown",
   "metadata": {},
   "source": [
    "Create a date object of your day of birth."
   ]
  },
  {
   "cell_type": "code",
   "execution_count": 39,
   "metadata": {},
   "outputs": [
    {
     "name": "stdout",
     "output_type": "stream",
     "text": [
      "1999-09-24\n"
     ]
    }
   ],
   "source": [
    "import datetime\n",
    "\n",
    "d = datetime.date(1999,9, 24)\n",
    "print(d)"
   ]
  },
  {
   "attachments": {},
   "cell_type": "markdown",
   "metadata": {},
   "source": [
    "### Q 8 | Ans:"
   ]
  },
  {
   "cell_type": "markdown",
   "metadata": {},
   "source": [
    "What day of the week was your day of birth?"
   ]
  },
  {
   "cell_type": "code",
   "execution_count": 46,
   "metadata": {},
   "outputs": [
    {
     "data": {
      "text/plain": [
       "'1999-09-24'"
      ]
     },
     "execution_count": 46,
     "metadata": {},
     "output_type": "execute_result"
    }
   ],
   "source": [
    "d = str(d)\n",
    "d"
   ]
  },
  {
   "cell_type": "code",
   "execution_count": 49,
   "metadata": {},
   "outputs": [
    {
     "name": "stdout",
     "output_type": "stream",
     "text": [
      "Friday\n"
     ]
    }
   ],
   "source": [
    "# Python program to Find day of\n",
    "# the week for a given date\n",
    "import datetime\n",
    "import calendar\n",
    "\n",
    "def findDay(date):\n",
    "\tborn = datetime.datetime.strptime(date, '%Y-%m-%d').weekday()\n",
    "\treturn (calendar.day_name[born])\n",
    "\n",
    "# Driver program\n",
    "\n",
    "\n",
    "print(findDay(d))\n"
   ]
  },
  {
   "attachments": {},
   "cell_type": "markdown",
   "metadata": {},
   "source": [
    "### Q 9 | Ans:"
   ]
  },
  {
   "attachments": {},
   "cell_type": "markdown",
   "metadata": {},
   "source": [
    "When will you be (or when were you) 10,000 days old?"
   ]
  },
  {
   "cell_type": "code",
   "execution_count": 51,
   "metadata": {},
   "outputs": [
    {
     "name": "stdout",
     "output_type": "stream",
     "text": [
      "You will be 10,000 days old on 2018-02-09\n"
     ]
    }
   ],
   "source": [
    "import datetime\n",
    "\n",
    "birthdate = datetime.date(1990, 9, 24)\n",
    "\n",
    "# Calculate the date when you will be (or were) 10,000 days old\n",
    "ten_thousand_days = datetime.timedelta(days=10000)\n",
    "ten_thousand_days_old_date = birthdate + ten_thousand_days\n",
    "\n",
    "print(f\"You will be 10,000 days old on {ten_thousand_days_old_date}\")\n"
   ]
  },
  {
   "attachments": {},
   "cell_type": "markdown",
   "metadata": {},
   "source": [
    "### The End"
   ]
  }
 ],
 "metadata": {
  "kernelspec": {
   "display_name": "Python 3",
   "language": "python",
   "name": "python3"
  },
  "language_info": {
   "codemirror_mode": {
    "name": "ipython",
    "version": 3
   },
   "file_extension": ".py",
   "mimetype": "text/x-python",
   "name": "python",
   "nbconvert_exporter": "python",
   "pygments_lexer": "ipython3",
   "version": "3.10.2"
  },
  "orig_nbformat": 4
 },
 "nbformat": 4,
 "nbformat_minor": 2
}
