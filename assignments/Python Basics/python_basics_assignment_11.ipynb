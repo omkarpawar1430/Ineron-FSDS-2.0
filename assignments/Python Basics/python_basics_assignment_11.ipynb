{
 "cells": [
  {
   "attachments": {},
   "cell_type": "markdown",
   "metadata": {},
   "source": [
    "# Python Basic | Assignment 11"
   ]
  },
  {
   "attachments": {},
   "cell_type": "markdown",
   "metadata": {},
   "source": [
    "Question Link: https://drive.google.com/file/d/1WJmDgj8QovzW0Y2zUlkFSznqf1klsZwj/view"
   ]
  },
  {
   "attachments": {},
   "cell_type": "markdown",
   "metadata": {},
   "source": [
    "### Que 1 | Ans: "
   ]
  },
  {
   "attachments": {},
   "cell_type": "markdown",
   "metadata": {},
   "source": [
    "In logging we can use a condition with `assert` keyword for getting Exception with our custom exception.\n",
    "In below example, if `spam` is negative integer `assert` will raise an exception with sentence \"spam must be a non-negative integer\".  `assert` gets activated whenever boolean value from condition is false. "
   ]
  },
  {
   "cell_type": "code",
   "execution_count": 6,
   "metadata": {},
   "outputs": [
    {
     "ename": "AssertionError",
     "evalue": "spam must be a non-negative integer",
     "output_type": "error",
     "traceback": [
      "\u001b[1;31m---------------------------------------------------------------------------\u001b[0m",
      "\u001b[1;31mAssertionError\u001b[0m                            Traceback (most recent call last)",
      "\u001b[1;32md:\\DS Study\\code files\\Ineuron FSDS 2.0\\assignments\\Python Basics\\python_basics_assignment_11.ipynb Cell 4\u001b[0m in \u001b[0;36m<cell line: 3>\u001b[1;34m()\u001b[0m\n\u001b[0;32m      <a href='vscode-notebook-cell:/d%3A/DS%20Study/code%20files/Ineuron%20FSDS%202.0/assignments/Python%20Basics/python_basics_assignment_11.ipynb#W5sZmlsZQ%3D%3D?line=0'>1</a>\u001b[0m \u001b[39mimport\u001b[39;00m \u001b[39mlogging\u001b[39;00m\n\u001b[0;32m      <a href='vscode-notebook-cell:/d%3A/DS%20Study/code%20files/Ineuron%20FSDS%202.0/assignments/Python%20Basics/python_basics_assignment_11.ipynb#W5sZmlsZQ%3D%3D?line=1'>2</a>\u001b[0m spam \u001b[39m=\u001b[39m \u001b[39m-\u001b[39m\u001b[39m3\u001b[39m\n\u001b[1;32m----> <a href='vscode-notebook-cell:/d%3A/DS%20Study/code%20files/Ineuron%20FSDS%202.0/assignments/Python%20Basics/python_basics_assignment_11.ipynb#W5sZmlsZQ%3D%3D?line=2'>3</a>\u001b[0m \u001b[39massert\u001b[39;00m spam \u001b[39m>\u001b[39m\u001b[39m=\u001b[39m \u001b[39m0\u001b[39m, \u001b[39m\"\u001b[39m\u001b[39mspam must be a non-negative integer\u001b[39m\u001b[39m\"\u001b[39m\n",
      "\u001b[1;31mAssertionError\u001b[0m: spam must be a non-negative integer"
     ]
    }
   ],
   "source": [
    "import logging\n",
    "spam = -3\n",
    "assert spam >= 0, \"spam must be a non-negative integer\"\n"
   ]
  },
  {
   "attachments": {},
   "cell_type": "markdown",
   "metadata": {},
   "source": [
    "### Que 2 | Ans: "
   ]
  },
  {
   "attachments": {},
   "cell_type": "markdown",
   "metadata": {},
   "source": [
    "Q. Write an assert statement that triggers an AssertionError if the variables eggs and bacon contain\n",
    "strings that are the same as each other, even if their cases are different (that is, &#39;hello&#39; and &#39;hello&#39; are\n",
    "considered the same, and &#39;goodbye&#39; and &#39;GOODbye&#39; are also considered the same)."
   ]
  },
  {
   "cell_type": "code",
   "execution_count": 8,
   "metadata": {},
   "outputs": [
    {
     "ename": "AssertionError",
     "evalue": "Values must not be same regardless of casing",
     "output_type": "error",
     "traceback": [
      "\u001b[1;31m---------------------------------------------------------------------------\u001b[0m",
      "\u001b[1;31mAssertionError\u001b[0m                            Traceback (most recent call last)",
      "\u001b[1;32md:\\DS Study\\code files\\Ineuron FSDS 2.0\\assignments\\Python Basics\\python_basics_assignment_11.ipynb Cell 8\u001b[0m in \u001b[0;36m<cell line: 5>\u001b[1;34m()\u001b[0m\n\u001b[0;32m      <a href='vscode-notebook-cell:/d%3A/DS%20Study/code%20files/Ineuron%20FSDS%202.0/assignments/Python%20Basics/python_basics_assignment_11.ipynb#X11sZmlsZQ%3D%3D?line=1'>2</a>\u001b[0m bacon \u001b[39m=\u001b[39m \u001b[39m\"\u001b[39m\u001b[39mgoodbye\u001b[39m\u001b[39m\"\u001b[39m\n\u001b[0;32m      <a href='vscode-notebook-cell:/d%3A/DS%20Study/code%20files/Ineuron%20FSDS%202.0/assignments/Python%20Basics/python_basics_assignment_11.ipynb#X11sZmlsZQ%3D%3D?line=2'>3</a>\u001b[0m eggs \u001b[39m=\u001b[39m \u001b[39m\"\u001b[39m\u001b[39mGOODbye\u001b[39m\u001b[39m\"\u001b[39m\n\u001b[1;32m----> <a href='vscode-notebook-cell:/d%3A/DS%20Study/code%20files/Ineuron%20FSDS%202.0/assignments/Python%20Basics/python_basics_assignment_11.ipynb#X11sZmlsZQ%3D%3D?line=4'>5</a>\u001b[0m \u001b[39massert\u001b[39;00m bacon\u001b[39m.\u001b[39mcasefold() \u001b[39m!=\u001b[39m eggs\u001b[39m.\u001b[39mcasefold(), \u001b[39m\"\u001b[39m\u001b[39mValues must not be same regardless of casing\u001b[39m\u001b[39m\"\u001b[39m\n",
      "\u001b[1;31mAssertionError\u001b[0m: Values must not be same regardless of casing"
     ]
    }
   ],
   "source": [
    "import logging \n",
    "bacon = \"goodbye\"\n",
    "eggs = \"GOODbye\"\n",
    "\n",
    "assert bacon.casefold() != eggs.casefold(), \"Values must not be same regardless of casing\"\n"
   ]
  },
  {
   "attachments": {},
   "cell_type": "markdown",
   "metadata": {},
   "source": [
    "### Que 3 | Ans: "
   ]
  },
  {
   "cell_type": "code",
   "execution_count": 13,
   "metadata": {},
   "outputs": [
    {
     "ename": "AssertionError",
     "evalue": "Write a correct code",
     "output_type": "error",
     "traceback": [
      "\u001b[1;31m---------------------------------------------------------------------------\u001b[0m",
      "\u001b[1;31mAssertionError\u001b[0m                            Traceback (most recent call last)",
      "\u001b[1;32md:\\DS Study\\code files\\Ineuron FSDS 2.0\\assignments\\Python Basics\\python_basics_assignment_11.ipynb Cell 10\u001b[0m in \u001b[0;36m<cell line: 4>\u001b[1;34m()\u001b[0m\n\u001b[0;32m      <a href='vscode-notebook-cell:/d%3A/DS%20Study/code%20files/Ineuron%20FSDS%202.0/assignments/Python%20Basics/python_basics_assignment_11.ipynb#X16sZmlsZQ%3D%3D?line=1'>2</a>\u001b[0m \u001b[39mimport\u001b[39;00m \u001b[39mlogging\u001b[39;00m \n\u001b[0;32m      <a href='vscode-notebook-cell:/d%3A/DS%20Study/code%20files/Ineuron%20FSDS%202.0/assignments/Python%20Basics/python_basics_assignment_11.ipynb#X16sZmlsZQ%3D%3D?line=2'>3</a>\u001b[0m \u001b[39m#sample code without error\u001b[39;00m\n\u001b[1;32m----> <a href='vscode-notebook-cell:/d%3A/DS%20Study/code%20files/Ineuron%20FSDS%202.0/assignments/Python%20Basics/python_basics_assignment_11.ipynb#X16sZmlsZQ%3D%3D?line=3'>4</a>\u001b[0m \u001b[39massert\u001b[39;00m \u001b[39mFalse\u001b[39;00m, \u001b[39m\"\u001b[39m\u001b[39mWrite a correct code\u001b[39m\u001b[39m\"\u001b[39m\n",
      "\u001b[1;31mAssertionError\u001b[0m: Write a correct code"
     ]
    }
   ],
   "source": [
    "# Q: Create an assert statement that throws an AssertionError every time.\n",
    "import logging \n",
    "#sample code without error\n",
    "assert False, \"Write a correct code\"\n"
   ]
  },
  {
   "attachments": {},
   "cell_type": "markdown",
   "metadata": {},
   "source": [
    "### Que 4 | Ans: "
   ]
  },
  {
   "attachments": {},
   "cell_type": "markdown",
   "metadata": {},
   "source": [
    " Importing logging module and setting up the configuration is essential."
   ]
  },
  {
   "cell_type": "code",
   "execution_count": 4,
   "metadata": {},
   "outputs": [
    {
     "name": "stderr",
     "output_type": "stream",
     "text": [
      "ERROR:root:division by zero\n"
     ]
    },
    {
     "name": "stdout",
     "output_type": "stream",
     "text": [
      "division by zero\n"
     ]
    }
   ],
   "source": [
    "import logging\n",
    "# to use logging we need to first import logging module\n",
    "\n",
    "logging.basicConfig(filename=\"error.log\", format='%(message)s', level = logging.DEBUG)\n",
    "# without configuration of where to save files we can not store log messages\n",
    "try: \n",
    "    result = 20/0\n",
    "except Exception as e:\n",
    "    logging.error(e)\n",
    "    print(e)\n",
    "\n",
    "# These two lines should be in our code in order to be able to log. "
   ]
  },
  {
   "attachments": {},
   "cell_type": "markdown",
   "metadata": {},
   "source": [
    "### Que 5 | Ans: "
   ]
  },
  {
   "attachments": {},
   "cell_type": "markdown",
   "metadata": {},
   "source": [
    "5. What are the two lines that your program must have in order to have logging.debug() send a\n",
    "logging message to a file named programLog.txt?"
   ]
  },
  {
   "cell_type": "code",
   "execution_count": null,
   "metadata": {},
   "outputs": [],
   "source": [
    "import logging \n",
    "# 1 without importing logging logging.debug will not work\n",
    "logging.basicConfig(level = logging.DEBUG, filename=\"programLog.txt\", format=\"%(asctime)s,%(levelname)s,%(message)s\") # we can set any format\n",
    "# 2 configuration is required for giving file to store all debugging information\n"
   ]
  },
  {
   "attachments": {},
   "cell_type": "markdown",
   "metadata": {},
   "source": [
    "### Que 6 | Ans:"
   ]
  },
  {
   "attachments": {},
   "cell_type": "markdown",
   "metadata": {},
   "source": [
    "DEBUG: This level is used for debugging purposes and provides the most detailed information about the application's behavior.\n",
    "\n",
    "INFO: This level is used to log informational messages that do not indicate any errors or problems but are useful for understanding the application's behavior.\n",
    "\n",
    "WARNING: This level is used to log warning messages that indicate potential problems or errors that may need to be addressed.\n",
    "\n",
    "ERROR: This level is used to log error messages that indicate a problem or error that needs to be addressed.\n",
    "\n",
    "CRITICAL: The highest level of logging, which is used to log critical errors that may cause the application to stop working or crash."
   ]
  },
  {
   "attachments": {},
   "cell_type": "markdown",
   "metadata": {},
   "source": [
    "### Que 7 | Ans: "
   ]
  },
  {
   "cell_type": "code",
   "execution_count": 2,
   "metadata": {},
   "outputs": [],
   "source": [
    "import logging\n",
    "logging.disable(logging.CRITICAL + 1)\n",
    "# critical is the highest value in the log, by adding 1 to the critical it disables the all other levels.\n"
   ]
  },
  {
   "attachments": {},
   "cell_type": "markdown",
   "metadata": {},
   "source": [
    "### Que 8 | Ans: \n"
   ]
  },
  {
   "attachments": {},
   "cell_type": "markdown",
   "metadata": {},
   "source": [
    "Using logging messages is a better way to display messages from your program than using `print()`. Logging allows you to control how messages are displayed, such as setting different levels for different types of messages, and sending messages to different places. This is easier to manage than using `print()`. Using logging is also more efficient and is a standard way of handling messages in production applications."
   ]
  },
  {
   "attachments": {},
   "cell_type": "markdown",
   "metadata": {},
   "source": [
    "### Que 9 | Ans: \n"
   ]
  },
  {
   "attachments": {},
   "cell_type": "markdown",
   "metadata": {},
   "source": [
    "Step Over: This button allows you to execute the current line of code and then move to the next line of code. If the current line of code contains a function call, the function call is executed, but the debugger does not stop at the first line of the called function. Instead, it continues to execute the remaining lines of code in the current function.\n",
    "\n",
    "Step In: This button allows you to step into a function call and execute the first line of code in the called function. If the called function has any additional function calls, the debugger stops at the first line of code in the called function.\n",
    "\n",
    "Step Out: This button allows you to step out of the current function and return to the calling function. If the current function has any remaining lines of code after the function call, the debugger executes those lines before returning to the calling function."
   ]
  },
  {
   "attachments": {},
   "cell_type": "markdown",
   "metadata": {},
   "source": [
    "### Que 10 | Ans: \n"
   ]
  },
  {
   "attachments": {},
   "cell_type": "markdown",
   "metadata": {},
   "source": [
    "when you click the \"Continue\" button in a debugger, the debugger will continue executing your program without interruption until it encounters a breakpoint, an unhandled exception, or a signal or system event that causes it to stop."
   ]
  },
  {
   "attachments": {},
   "cell_type": "markdown",
   "metadata": {},
   "source": [
    "### Que 11 | Ans: "
   ]
  },
  {
   "attachments": {},
   "cell_type": "markdown",
   "metadata": {},
   "source": [
    "A breakpoint is a tool in a debugger that allows you to pause the execution of your program at a specific point in your code. This helps you examine the program's state, check the values of variables, and step through your code line by line. By setting breakpoints in strategic locations, you can quickly identify and fix bugs in your code."
   ]
  }
 ],
 "metadata": {
  "kernelspec": {
   "display_name": "Python 3",
   "language": "python",
   "name": "python3"
  },
  "language_info": {
   "codemirror_mode": {
    "name": "ipython",
    "version": 3
   },
   "file_extension": ".py",
   "mimetype": "text/x-python",
   "name": "python",
   "nbconvert_exporter": "python",
   "pygments_lexer": "ipython3",
   "version": "3.10.2"
  },
  "orig_nbformat": 4
 },
 "nbformat": 4,
 "nbformat_minor": 2
}
