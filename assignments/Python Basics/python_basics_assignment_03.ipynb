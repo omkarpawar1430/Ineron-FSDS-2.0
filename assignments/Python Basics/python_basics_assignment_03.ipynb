{
 "cells": [
  {
   "attachments": {},
   "cell_type": "markdown",
   "metadata": {},
   "source": [
    "# Python Basic | Assignment 03"
   ]
  },
  {
   "attachments": {},
   "cell_type": "markdown",
   "metadata": {},
   "source": [
    "### 1. Why are functions advantageous to have in your programs?"
   ]
  },
  {
   "attachments": {},
   "cell_type": "markdown",
   "metadata": {},
   "source": [
    "**Ans:** \n",
    "\n",
    "1. Functions can save our time by avoiding repeat writing of certain blocks of code. We can use same block of code as many times as we want by calling that function at any instance.\n",
    "2. Functions can make our writing code more efficient and it is easy to maintain too.\n",
    "3. Improves readability of the code.  \n",
    "4. Functions are more flexible and they improve performance of the code.\n"
   ]
  },
  {
   "attachments": {},
   "cell_type": "markdown",
   "metadata": {},
   "source": [
    "### 2. When does the code in a function run: when it's specified or when it's called?"
   ]
  },
  {
   "attachments": {},
   "cell_type": "markdown",
   "metadata": {},
   "source": [
    "**Ans:**\n",
    "\n",
    "After creating the function, In order to run our line of code within the function, we need to call the function. We also need to give required parameters if needed."
   ]
  },
  {
   "cell_type": "code",
   "execution_count": 4,
   "metadata": {},
   "outputs": [
    {
     "name": "stdout",
     "output_type": "stream",
     "text": [
      "Lets go fast and furious!!! at speed 120 ...\n"
     ]
    }
   ],
   "source": [
    "# Example:\n",
    "def car(speed):\n",
    "    print(f\"Lets go fast and furious!!! at speed {speed} ...\")\n",
    "\n",
    "# in order to run the code within function car, we need to call it.\n",
    "\n",
    "car(120) # without calling the function, code in function care will not be executed."
   ]
  },
  {
   "attachments": {},
   "cell_type": "markdown",
   "metadata": {},
   "source": [
    "### 3. What statement creates a function?"
   ]
  },
  {
   "attachments": {},
   "cell_type": "markdown",
   "metadata": {},
   "source": [
    "**Ans:**\n",
    "by using `def` statement we can create a new function.\n"
   ]
  },
  {
   "cell_type": "code",
   "execution_count": 5,
   "metadata": {},
   "outputs": [
    {
     "data": {
      "text/plain": [
       "60"
      ]
     },
     "execution_count": 5,
     "metadata": {},
     "output_type": "execute_result"
    }
   ],
   "source": [
    "#example:\n",
    "def addition(a, b): # By using def we can create a new function.\n",
    "    return a + b\n",
    "addition(10, 50)"
   ]
  },
  {
   "attachments": {},
   "cell_type": "markdown",
   "metadata": {},
   "source": [
    "### 4. What is the difference between a function and a function call?"
   ]
  },
  {
   "attachments": {},
   "cell_type": "markdown",
   "metadata": {},
   "source": [
    "**Ans:**\n",
    "1. Function: The function is a block of code that we write inside a def statement. \n",
    "2. Function call: The function call is a method that we use to run the code within the function.\n",
    "\n",
    "in short, function is the actual code, while a function call is an instruction to run that code with a specific set of inputs."
   ]
  },
  {
   "attachments": {},
   "cell_type": "markdown",
   "metadata": {},
   "source": [
    "### 5. How many global scopes are there in a Python program? How many local scopes?\n"
   ]
  },
  {
   "attachments": {},
   "cell_type": "markdown",
   "metadata": {},
   "source": [
    "**Ans:**\n",
    "In python we have two types of scopes that are globle and local Scope:\n",
    "\n",
    "Global Scope: A global scope refers to the main body of a program and is defined outside of all functions. Variables defined in the global scope are called global variables and are accessible from anywhere in the program, including inside functions. To declare a global variable in Python, you use the `global` keyword in front of the variable name.\n",
    "\n",
    "Local Scope: A local scope refers to the variables defined inside a function. Variables defined in the local scope are called local variables, and they are only accessible within the function in which they are defined. When a function is called, a new local scope is created, and when the function returns, the local scope is destroyed.\n",
    "\n"
   ]
  },
  {
   "attachments": {},
   "cell_type": "markdown",
   "metadata": {},
   "source": [
    "### 6. What happens to variables in a local scope when the function call returns?\n"
   ]
  },
  {
   "attachments": {},
   "cell_type": "markdown",
   "metadata": {},
   "source": [
    "**Ans:**\n",
    "When a function is called, a new local scope is created, and when the function returns, the local scope is destroyed.\n"
   ]
  },
  {
   "attachments": {},
   "cell_type": "markdown",
   "metadata": {},
   "source": [
    "### 7. What is the concept of a return value? Is it possible to have a return value in an expression?\n"
   ]
  },
  {
   "attachments": {},
   "cell_type": "markdown",
   "metadata": {},
   "source": [
    "**Ans:**\n",
    "Return value is the value that we get after executing the function. We use `return` keyword to get the value. We can assign this value to a variable or use it as parameter for the another function, Hence we can defiantly use return value in expression also. "
   ]
  },
  {
   "cell_type": "code",
   "execution_count": 2,
   "metadata": {},
   "outputs": [
    {
     "name": "stdout",
     "output_type": "stream",
     "text": [
      "500\n"
     ]
    }
   ],
   "source": [
    "# Example:\n",
    "def sqr(n):\n",
    "    return n * n\n",
    "\n",
    "area = sqr(10) + sqr(20) # As we can see that we are using return value in this expression.\n",
    "\n",
    "print(area)\n"
   ]
  },
  {
   "attachments": {},
   "cell_type": "markdown",
   "metadata": {},
   "source": [
    "### 8. If a function does not have a return statement, what is the return value of a call to that function?"
   ]
  },
  {
   "attachments": {},
   "cell_type": "markdown",
   "metadata": {},
   "source": [
    "**Ans:**\n",
    "\n",
    "If a function does not have a return statement, the function will return `None`."
   ]
  },
  {
   "cell_type": "code",
   "execution_count": 4,
   "metadata": {},
   "outputs": [
    {
     "name": "stdout",
     "output_type": "stream",
     "text": [
      "This is my function 1, with out return value!!!\n",
      "None\n"
     ]
    }
   ],
   "source": [
    "# Example:\n",
    "\n",
    "def my_fun1():\n",
    "    print(\"This is my function 1, with out return value!!!\")\n",
    "\n",
    "# let't try to store value of above function\n",
    "\n",
    "result = my_fun1()\n",
    "\n",
    "print(result) # Gives None"
   ]
  },
  {
   "attachments": {},
   "cell_type": "markdown",
   "metadata": {},
   "source": [
    "### 9. How do you make a function variable refer to the global variable?\n"
   ]
  },
  {
   "attachments": {},
   "cell_type": "markdown",
   "metadata": {},
   "source": [
    "We can access gloabal variable in local scope but we can't access local variable in global scope."
   ]
  },
  {
   "cell_type": "code",
   "execution_count": 11,
   "metadata": {},
   "outputs": [
    {
     "name": "stdout",
     "output_type": "stream",
     "text": [
      "Your Height is 185!!!, Good Welcome to the army, You are qualified, How's the Josh?\n"
     ]
    },
    {
     "ename": "NameError",
     "evalue": "name 'required_height' is not defined",
     "output_type": "error",
     "traceback": [
      "\u001b[1;31m---------------------------------------------------------------------------\u001b[0m",
      "\u001b[1;31mNameError\u001b[0m                                 Traceback (most recent call last)",
      "\u001b[1;32md:\\code files\\Ineron FSDS 2.0\\assignments\\Python Basics\\python_basics_assignment_03.ipynb Cell 24\u001b[0m in \u001b[0;36m<cell line: 18>\u001b[1;34m()\u001b[0m\n\u001b[0;32m     <a href='vscode-notebook-cell:/d%3A/code%20files/Ineron%20FSDS%202.0/assignments/Python%20Basics/python_basics_assignment_03.ipynb#X40sZmlsZQ%3D%3D?line=14'>15</a>\u001b[0m recruitment()\n\u001b[0;32m     <a href='vscode-notebook-cell:/d%3A/code%20files/Ineron%20FSDS%202.0/assignments/Python%20Basics/python_basics_assignment_03.ipynb#X40sZmlsZQ%3D%3D?line=16'>17</a>\u001b[0m \u001b[39m# Let't try to access local variable outside its local scope.\u001b[39;00m\n\u001b[1;32m---> <a href='vscode-notebook-cell:/d%3A/code%20files/Ineron%20FSDS%202.0/assignments/Python%20Basics/python_basics_assignment_03.ipynb#X40sZmlsZQ%3D%3D?line=17'>18</a>\u001b[0m \u001b[39mprint\u001b[39m(required_height)\n",
      "\u001b[1;31mNameError\u001b[0m: name 'required_height' is not defined"
     ]
    }
   ],
   "source": [
    "# Example:\n",
    "\n",
    "global height \n",
    "height = int(input(\"enter your height in cm: \")) # global variable\n",
    "\n",
    "def recruitment():\n",
    "    required_height = 170  # local variable\n",
    "    # We can access gloabal variable height in local scope of recruitment\n",
    "    if height >= required_height: \n",
    "        print(f\"Your Height is {height}!!!, Good Welcome to the army, You are qualified, How's the Josh?\")\n",
    "    else:\n",
    "        print(\"Better luck next time.\")\n",
    "\n",
    "# calling function        \n",
    "recruitment()\n",
    "\n",
    "# Let't try to access local variable outside its local scope.\n",
    "print(required_height) # NameError: name 'required_height' is not defined"
   ]
  },
  {
   "attachments": {},
   "cell_type": "markdown",
   "metadata": {},
   "source": [
    "By using  `global` Keyword before the variable name in local scope we can make it accessible even outside of the local scope."
   ]
  },
  {
   "cell_type": "code",
   "execution_count": 20,
   "metadata": {},
   "outputs": [
    {
     "name": "stdout",
     "output_type": "stream",
     "text": [
      "10\n"
     ]
    }
   ],
   "source": [
    "def val():\n",
    "    global x\n",
    "    x = 10\n",
    "\n",
    "\n",
    "print(x) # we can access local variable x outside the function by using global keyword"
   ]
  },
  {
   "attachments": {},
   "cell_type": "markdown",
   "metadata": {},
   "source": [
    "### 10. What is the data type of None?\n"
   ]
  },
  {
   "attachments": {},
   "cell_type": "markdown",
   "metadata": {},
   "source": [
    "Data type of None is   `NoneType`."
   ]
  },
  {
   "cell_type": "code",
   "execution_count": 22,
   "metadata": {},
   "outputs": [
    {
     "name": "stdout",
     "output_type": "stream",
     "text": [
      "<class 'NoneType'>\n"
     ]
    }
   ],
   "source": [
    "print(type(None)) "
   ]
  },
  {
   "attachments": {},
   "cell_type": "markdown",
   "metadata": {},
   "source": [
    "### 11. What does the sentence import areallyourpetsnamederic do?\n"
   ]
  },
  {
   "cell_type": "code",
   "execution_count": 23,
   "metadata": {},
   "outputs": [
    {
     "ename": "ModuleNotFoundError",
     "evalue": "No module named 'areallyourpetsnamederic'",
     "output_type": "error",
     "traceback": [
      "\u001b[1;31m---------------------------------------------------------------------------\u001b[0m",
      "\u001b[1;31mModuleNotFoundError\u001b[0m                       Traceback (most recent call last)",
      "\u001b[1;32md:\\code files\\Ineron FSDS 2.0\\assignments\\Python Basics\\python_basics_assignment_03.ipynb Cell 31\u001b[0m in \u001b[0;36m<cell line: 1>\u001b[1;34m()\u001b[0m\n\u001b[1;32m----> <a href='vscode-notebook-cell:/d%3A/code%20files/Ineron%20FSDS%202.0/assignments/Python%20Basics/python_basics_assignment_03.ipynb#X46sZmlsZQ%3D%3D?line=0'>1</a>\u001b[0m \u001b[39mimport\u001b[39;00m \u001b[39mareallyourpetsnamederic\u001b[39;00m\n",
      "\u001b[1;31mModuleNotFoundError\u001b[0m: No module named 'areallyourpetsnamederic'"
     ]
    }
   ],
   "source": [
    "import areallyourpetsnamederic"
   ]
  },
  {
   "attachments": {},
   "cell_type": "markdown",
   "metadata": {},
   "source": [
    "LOL, We don't have such module in python so it is raising an exception.\n",
    "By using `import` keyword we can access different modules in python."
   ]
  },
  {
   "attachments": {},
   "cell_type": "markdown",
   "metadata": {},
   "source": [
    "### 12. If you had a bacon() feature in a spam module, what would you call it after importing spam?\n"
   ]
  },
  {
   "attachments": {},
   "cell_type": "markdown",
   "metadata": {},
   "source": [
    "import statement imports the `spam` module, making all of its functions and variables available for use in our code. we can then call the `bacon()` function by referencing it as `spam.bacon().`"
   ]
  },
  {
   "attachments": {},
   "cell_type": "markdown",
   "metadata": {},
   "source": [
    "### 13. What can you do to save a programme from crashing if it encounters an error?\n"
   ]
  },
  {
   "attachments": {},
   "cell_type": "markdown",
   "metadata": {},
   "source": [
    "**Ans:**\n",
    "\n",
    "1. We can try Debugging our code. As python shows which line is giving error so we can trace that error and resolve it.\n",
    "2. We can use try using exception handling. By writing our code in `try` and `except`, we can prevent our code from crashing.\n",
    "3. \n"
   ]
  },
  {
   "attachments": {},
   "cell_type": "markdown",
   "metadata": {},
   "source": [
    "### 14. What is the purpose of the try clause? What is the purpose of the except clause?\n"
   ]
  },
  {
   "attachments": {},
   "cell_type": "markdown",
   "metadata": {},
   "source": [
    "**Ans:**\n",
    "\n",
    "`try`: try clause is used to write our code that may produce errors and crash our code. \n",
    "\n",
    "`except`: except clause is used to write our code that will be executed when we face an exception in try clause.\n"
   ]
  },
  {
   "cell_type": "code",
   "execution_count": 24,
   "metadata": {},
   "outputs": [
    {
     "name": "stdout",
     "output_type": "stream",
     "text": [
      "Cannot divide by zero\n"
     ]
    }
   ],
   "source": [
    "try:\n",
    "    result = 10 / 0\n",
    "except ZeroDivisionError:\n",
    "    print(\"Cannot divide by zero\")\n"
   ]
  }
 ],
 "metadata": {
  "kernelspec": {
   "display_name": "Python 3",
   "language": "python",
   "name": "python3"
  },
  "language_info": {
   "codemirror_mode": {
    "name": "ipython",
    "version": 3
   },
   "file_extension": ".py",
   "mimetype": "text/x-python",
   "name": "python",
   "nbconvert_exporter": "python",
   "pygments_lexer": "ipython3",
   "version": "3.10.2"
  },
  "orig_nbformat": 4,
  "vscode": {
   "interpreter": {
    "hash": "38519c3442d9f767135b0650f6935cb54106bd9267700919f92a37291a156600"
   }
  }
 },
 "nbformat": 4,
 "nbformat_minor": 2
}
