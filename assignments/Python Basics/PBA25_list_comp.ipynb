{
 "cells": [
  {
   "attachments": {},
   "cell_type": "markdown",
   "metadata": {},
   "source": [
    "# Python Basic | Assignment 25"
   ]
  },
  {
   "attachments": {},
   "cell_type": "markdown",
   "metadata": {},
   "source": [
    "Link to [Questions](https://drive.google.com/file/d/19vv_RAEP-otVZZsKUjUzxwvlqDPvhu8u/view) "
   ]
  },
  {
   "attachments": {},
   "cell_type": "markdown",
   "metadata": {},
   "source": [
    "### Q 1 | Ans:"
   ]
  },
  {
   "cell_type": "code",
   "execution_count": 2,
   "metadata": {},
   "outputs": [
    {
     "data": {
      "text/plain": [
       "[0, 1, 4, 9, 16, 25, 36, 49, 64, 81]"
      ]
     },
     "execution_count": 2,
     "metadata": {},
     "output_type": "execute_result"
    }
   ],
   "source": [
    "[x**2 for x in range(10)] # do the calculations in one go"
   ]
  },
  {
   "cell_type": "code",
   "execution_count": 3,
   "metadata": {},
   "outputs": [],
   "source": [
    "obj = (x**2 for x in range(10)) # creates generator and performs one by one as we hit run cell"
   ]
  },
  {
   "cell_type": "code",
   "execution_count": 9,
   "metadata": {},
   "outputs": [
    {
     "data": {
      "text/plain": [
       "25"
      ]
     },
     "execution_count": 9,
     "metadata": {},
     "output_type": "execute_result"
    }
   ],
   "source": [
    "next(obj) # it generates number when you click run... and gives StopIteration error when all of the iterations are over."
   ]
  },
  {
   "attachments": {},
   "cell_type": "markdown",
   "metadata": {},
   "source": [
    "### Q 2 | Ans:"
   ]
  },
  {
   "cell_type": "markdown",
   "metadata": {},
   "source": [
    "An iterator is an object that implements the iterator protocol, which consists of the methods __iter__ and __next__. Iterators are used to traverse a sequence of values, one at a time, without loading them all into memory at once.\n",
    "\n",
    "A generator is a type of iterator that is defined using a function that includes the yield keyword. When the generator function is called, it returns a generator object that implements the iterator protocol. Generators are used to generate a sequence of values on-the-fly, based on some criteria specified within the generator function.\n",
    "\n",
    "In other words, a generator is a specific type of iterator that is defined using a function with the yield keyword. The yield keyword is used to temporarily suspend the execution of the function and return a value to the caller. When the function is called again, execution resumes from where it left off, allowing the function to generate a sequence of values on-the-fly without storing them all in memory at once."
   ]
  },
  {
   "attachments": {},
   "cell_type": "markdown",
   "metadata": {},
   "source": [
    "### Q 3 | Ans:"
   ]
  },
  {
   "attachments": {},
   "cell_type": "markdown",
   "metadata": {},
   "source": [
    "It includes the `yield` keyword somewhere in its body. This is the key characteristic that distinguishes a generator function from a regular function"
   ]
  },
  {
   "attachments": {},
   "cell_type": "markdown",
   "metadata": {},
   "source": [
    "### Q 4 | Ans:"
   ]
  },
  {
   "attachments": {},
   "cell_type": "markdown",
   "metadata": {},
   "source": [
    " The `yield` keyword is used to temporarily suspend the execution of the function and return a value to the caller. When the function is called again, execution resumes from where it left off, allowing the function to generate a sequence of values on-the-fly without storing them all in memory at once."
   ]
  },
  {
   "attachments": {},
   "cell_type": "markdown",
   "metadata": {},
   "source": [
    "### Q 5 | Ans:"
   ]
  },
  {
   "attachments": {},
   "cell_type": "markdown",
   "metadata": {},
   "source": [
    "map() calls and list comprehensions are two ways to apply a function to every element of an iterable in Python. Here are some comparisons and contrasts between the two:\n",
    "\n",
    "Syntax: List comprehensions have a more concise and readable syntax than map() calls. They are also more flexible, allowing you to combine mapping and filtering operations in a single expression.\n",
    "\n",
    "Functionality: List comprehensions are more powerful than map() calls because they allow you to apply arbitrary expressions and conditional statements to each element of the iterable. map() can only apply a single function to each element.\n",
    "\n",
    "Performance: In some cases, map() can be faster than a list comprehension, especially when dealing with large lists. This is because map() is implemented in C and can take advantage of lower-level optimizations. However, the difference in performance is usually negligible, and list comprehensions are still very fast.\n",
    "\n",
    "Return value: map() returns an iterator that produces the mapped values on demand. List comprehensions return a list containing all the mapped values. If you only need to iterate over the mapped values once, map() can be more memory-efficient.\n",
    "\n",
    "In general, if you need to apply a simple function to every element of an iterable, map() can be a good choice. If you need more complex functionality or want a more readable syntax, list comprehensions are often the better option."
   ]
  },
  {
   "attachments": {},
   "cell_type": "markdown",
   "metadata": {},
   "source": [
    "### The End"
   ]
  }
 ],
 "metadata": {
  "kernelspec": {
   "display_name": "Python 3",
   "language": "python",
   "name": "python3"
  },
  "language_info": {
   "codemirror_mode": {
    "name": "ipython",
    "version": 3
   },
   "file_extension": ".py",
   "mimetype": "text/x-python",
   "name": "python",
   "nbconvert_exporter": "python",
   "pygments_lexer": "ipython3",
   "version": "3.10.6"
  },
  "orig_nbformat": 4
 },
 "nbformat": 4,
 "nbformat_minor": 2
}
