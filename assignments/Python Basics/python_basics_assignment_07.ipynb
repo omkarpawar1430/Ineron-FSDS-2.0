{
 "cells": [
  {
   "attachments": {},
   "cell_type": "markdown",
   "metadata": {},
   "source": [
    "# Python Basic | Assignment 07"
   ]
  },
  {
   "attachments": {},
   "cell_type": "markdown",
   "metadata": {},
   "source": [
    "Question link: https://drive.google.com/file/d/1E3uDapOHdmoR15v8RTLjPeOJN_RvMUZH/view"
   ]
  },
  {
   "attachments": {},
   "cell_type": "markdown",
   "metadata": {},
   "source": [
    "### Q 1 | Ans:"
   ]
  },
  {
   "attachments": {},
   "cell_type": "markdown",
   "metadata": {},
   "source": [
    "feature responsible for generating Regex objects is the `re` module, which provides support for regular expressions. The `re.compile()` function is used to compile a regular expression pattern into a Regex object. Once you have a Regex object, you can use its various methods to search for and manipulate text that matches the pattern."
   ]
  },
  {
   "attachments": {},
   "cell_type": "markdown",
   "metadata": {},
   "source": [
    "### Q 2 | Ans:"
   ]
  },
  {
   "attachments": {},
   "cell_type": "markdown",
   "metadata": {},
   "source": [
    "Raw strings are often used in Regex objects because regular expressions frequently contain backslashes (\\) and other special characters, which have special meanings in Python string literals. By using raw strings (denoted by the prefix r), Python interprets the backslashes in a regular expression as literal backslashes, rather than escape characters. This means that you can include backslashes in your regular expressions without having to escape them with additional backslashes, which can make the expression easier to read and understand."
   ]
  },
  {
   "cell_type": "code",
   "execution_count": 4,
   "metadata": {},
   "outputs": [
    {
     "name": "stdout",
     "output_type": "stream",
     "text": [
      "we use \n",
      " as new line character\n",
      "we use \\n as new line character\n"
     ]
    }
   ],
   "source": [
    "# For Example: \n",
    "import re \n",
    "print(\"we use \\n as new line character\") # Here we want to use show \\n , but it have special meaning in python i.e. we can't print it as we want to print.add()\n",
    "print(r\"we use \\n as new line character\") # by using raw string we say that any special character will be in python string is not meaningful it is just a string."
   ]
  },
  {
   "attachments": {},
   "cell_type": "markdown",
   "metadata": {},
   "source": [
    "### Q 3 | Ans: "
   ]
  },
  {
   "attachments": {},
   "cell_type": "markdown",
   "metadata": {},
   "source": [
    "Return value for search is `match` object. The Match object contains information about the match, such as the starting and ending indices of the match, as well as the matched string itself. You can use various methods of the Match object to access this information, such as `start()`, `end()`, and `group()`."
   ]
  },
  {
   "cell_type": "code",
   "execution_count": 10,
   "metadata": {},
   "outputs": [
    {
     "name": "stdout",
     "output_type": "stream",
     "text": [
      "Match found: <re.Match object; span=(0, 5), match='Hello'>\n"
     ]
    }
   ],
   "source": [
    "import re\n",
    "\n",
    "pattern = r'Hello'\n",
    "text = 'Hello, World!'\n",
    "\n",
    "match = re.search(pattern, text)\n",
    "\n",
    "if match:\n",
    "    print('Match found:', match)\n",
    "else:\n",
    "    print('No match found.')\n",
    "\n"
   ]
  },
  {
   "attachments": {},
   "cell_type": "markdown",
   "metadata": {},
   "source": [
    "### Q 4 | Ans:\n"
   ]
  },
  {
   "attachments": {},
   "cell_type": "markdown",
   "metadata": {},
   "source": [
    "In Python, you can get the actual strings that match a pattern using the `group()` method of the Match object returned by the `re.match()` or `re.search()` functions."
   ]
  },
  {
   "cell_type": "code",
   "execution_count": 11,
   "metadata": {},
   "outputs": [
    {
     "name": "stdout",
     "output_type": "stream",
     "text": [
      "Match found: Hello, World!\n",
      "Captured group: World\n"
     ]
    }
   ],
   "source": [
    "import re\n",
    "\n",
    "pattern = r'Hello, (\\w+)!'\n",
    "text = 'Hello, World!'\n",
    "\n",
    "match = re.search(pattern, text)\n",
    "\n",
    "if match:\n",
    "    print('Match found:', match.group())  \n",
    "    print('Captured group:', match.group(1))  \n",
    "else:\n",
    "    print('No match found.')\n"
   ]
  },
  {
   "attachments": {},
   "cell_type": "markdown",
   "metadata": {},
   "source": [
    "### Q 5 | Ans:"
   ]
  },
  {
   "cell_type": "code",
   "execution_count": 1,
   "metadata": {},
   "outputs": [
    {
     "name": "stdout",
     "output_type": "stream",
     "text": [
      "123-456-7890\n",
      "123\n",
      "456-7890\n"
     ]
    }
   ],
   "source": [
    "import re\n",
    "\n",
    "pattern = r'(\\d\\d\\d)-(\\d\\d\\d-\\d\\d\\d\\d)'\n",
    "text = 'My phone number is 123-456-7890'\n",
    "\n",
    "match = re.search(pattern, text)\n",
    "\n",
    "if match:\n",
    "    # Access the entire match using group(0)\n",
    "    print(match.group(0))  # Output: '123-456-7890'\n",
    "    \n",
    "    # Access the first captured group using group(1)\n",
    "    print(match.group(1))  # Output: '123'\n",
    "    \n",
    "    # Access the second captured group using group(2)\n",
    "    print(match.group(2))  # Output: '456-7890'"
   ]
  },
  {
   "attachments": {},
   "cell_type": "markdown",
   "metadata": {},
   "source": [
    "1. `group(0)` - covers the entire match, including both capturing groups and any non-captured characters. Therefore, `group(0)` will return the entire string that matched the regex pattern.\n",
    "2. `group(1)` - corresponds to the first capturing group (\\d\\d\\d), which matches three consecutive digits. This group captures the first three digits of the phone number.\n",
    "3. `group(2)` - corresponds to the second capturing group (\\d\\d\\d-\\d\\d\\d\\d), which matches a hyphen-separated group of six digits. This group captures the last seven digits of the phone number."
   ]
  },
  {
   "attachments": {},
   "cell_type": "markdown",
   "metadata": {},
   "source": [
    "### Q 6 | Ans:"
   ]
  },
  {
   "attachments": {},
   "cell_type": "markdown",
   "metadata": {},
   "source": [
    "In standard regular expression syntax, parentheses have a special meaning, as they are used to define capturing groups. If you want to match a literal left or right parenthesis, you need to escape it by placing a backslash in front of it, like `\\( or \\)`."
   ]
  },
  {
   "cell_type": "code",
   "execution_count": 9,
   "metadata": {},
   "outputs": [
    {
     "name": "stdout",
     "output_type": "stream",
     "text": [
      "(123)-234\n"
     ]
    }
   ],
   "source": [
    "import re\n",
    "pattern = r'\\(\\d\\d\\d\\)-(\\d\\d\\d)'  # due to using \\ it becomes literal string\n",
    "mystr = '(123)-234'\n",
    "match = re.search(pattern, mystr)\n",
    "print(match.group()) # by default 0"
   ]
  },
  {
   "cell_type": "code",
   "execution_count": 8,
   "metadata": {},
   "outputs": [
    {
     "name": "stdout",
     "output_type": "stream",
     "text": [
      "None\n"
     ]
    }
   ],
   "source": [
    "import re\n",
    "pattern = r'(\\d\\d\\d)-(\\d\\d\\d)' # Here parenthesis have meaning as group\n",
    "mystr = '(123)-234'\n",
    "match = re.search(pattern, mystr)\n",
    "print(match)"
   ]
  },
  {
   "attachments": {},
   "cell_type": "markdown",
   "metadata": {},
   "source": [
    "### Q 7 | Ans: \n"
   ]
  },
  {
   "attachments": {},
   "cell_type": "markdown",
   "metadata": {},
   "source": [
    "The `findall()` method returns a list of strings when the regular expression being searched for does not contain any capturing groups. If the regular expression contains one or more capturing groups, then `findall()` returns a list of tuples where each tuple represents a match and contains the captured groups."
   ]
  },
  {
   "cell_type": "code",
   "execution_count": 7,
   "metadata": {},
   "outputs": [],
   "source": [
    "my_str = \"Hello, My name is Omkar and I will be Data Scientist soon, Believe it. My mail is datasci@gmail.com and My phone number is (923)-(23234)!!!\""
   ]
  },
  {
   "cell_type": "code",
   "execution_count": 15,
   "metadata": {},
   "outputs": [
    {
     "data": {
      "text/plain": [
       "['Data Scientist']"
      ]
     },
     "execution_count": 15,
     "metadata": {},
     "output_type": "execute_result"
    }
   ],
   "source": [
    "# Case 1 - \n",
    "import re\n",
    "\n",
    "pattern = r'Data Scientist' # We are not trying to capture group.\n",
    "match = re.findall(pattern, my_str)\n",
    "match"
   ]
  },
  {
   "cell_type": "code",
   "execution_count": 14,
   "metadata": {},
   "outputs": [
    {
     "data": {
      "text/plain": [
       "[('datasci@gmail.com', ''), ('', '(923)-(23234)')]"
      ]
     },
     "execution_count": 14,
     "metadata": {},
     "output_type": "execute_result"
    }
   ],
   "source": [
    "# Case 2 - \n",
    "import re \n",
    "pattern = r'(\\w+@\\w+.com) | (\\(\\d\\d\\d\\)-\\(\\d\\d\\d\\d\\d\\))' # we are capturing group of characters\n",
    "\n",
    "match = re.findall(pattern, my_str)\n",
    "match"
   ]
  },
  {
   "attachments": {},
   "cell_type": "markdown",
   "metadata": {},
   "source": [
    "### Q 8 | Ans:"
   ]
  },
  {
   "attachments": {},
   "cell_type": "markdown",
   "metadata": {},
   "source": [
    "the `|` character is known as the alternation or OR operator. It allows you to match any one of a set of alternatives."
   ]
  },
  {
   "cell_type": "code",
   "execution_count": 17,
   "metadata": {},
   "outputs": [
    {
     "data": {
      "text/plain": [
       "[('datasci@gmail.com', ''), ('', '(923)-(23234)')]"
      ]
     },
     "execution_count": 17,
     "metadata": {},
     "output_type": "execute_result"
    }
   ],
   "source": [
    "import re \n",
    "my_str = \"Hello, My name is Omkar and I will be Data Scientist soon, Believe it. My mail is datasci@gmail.com and My phone number is (923)-(23234)!!!\"\n",
    "pattern = r'(\\w+@\\w+.com) | (\\(\\d\\d\\d\\)-\\(\\d\\d\\d\\d\\d\\))' # we are capturing group of characters\n",
    "\n",
    "match = re.findall(pattern, my_str)\n",
    "match"
   ]
  },
  {
   "attachments": {},
   "cell_type": "markdown",
   "metadata": {},
   "source": [
    "### Q 9 | Ans:"
   ]
  },
  {
   "attachments": {},
   "cell_type": "markdown",
   "metadata": {},
   "source": [
    "In regular expressions, the dot character (.) represents a wildcard that matches any single character except for a newline character (\\n). For example, the regular expression \"h.t\" would match \"hot\", \"hat\", \"hit\", and any other three-character string that starts with \"h\" and ends with \"t\", with any single character in between."
   ]
  }
 ],
 "metadata": {
  "kernelspec": {
   "display_name": "Python 3",
   "language": "python",
   "name": "python3"
  },
  "language_info": {
   "codemirror_mode": {
    "name": "ipython",
    "version": 3
   },
   "file_extension": ".py",
   "mimetype": "text/x-python",
   "name": "python",
   "nbconvert_exporter": "python",
   "pygments_lexer": "ipython3",
   "version": "3.10.2"
  },
  "orig_nbformat": 4
 },
 "nbformat": 4,
 "nbformat_minor": 2
}
