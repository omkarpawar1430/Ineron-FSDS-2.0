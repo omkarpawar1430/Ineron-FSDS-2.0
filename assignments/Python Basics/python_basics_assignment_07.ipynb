{
 "cells": [
  {
   "attachments": {},
   "cell_type": "markdown",
   "metadata": {},
   "source": [
    "# Python Basic | Assignment 07"
   ]
  },
  {
   "attachments": {},
   "cell_type": "markdown",
   "metadata": {},
   "source": [
    "Question link: https://drive.google.com/file/d/1E3uDapOHdmoR15v8RTLjPeOJN_RvMUZH/view"
   ]
  },
  {
   "attachments": {},
   "cell_type": "markdown",
   "metadata": {},
   "source": [
    "### Q 1 | Ans:"
   ]
  },
  {
   "attachments": {},
   "cell_type": "markdown",
   "metadata": {},
   "source": [
    "feature responsible for generating Regex objects is the `re` module, which provides support for regular expressions. The `re.compile()` function is used to compile a regular expression pattern into a Regex object. Once you have a Regex object, you can use its various methods to search for and manipulate text that matches the pattern."
   ]
  },
  {
   "attachments": {},
   "cell_type": "markdown",
   "metadata": {},
   "source": [
    "### Q 2 | Ans:"
   ]
  },
  {
   "attachments": {},
   "cell_type": "markdown",
   "metadata": {},
   "source": [
    "Raw strings are often used in Regex objects because regular expressions frequently contain backslashes (\\) and other special characters, which have special meanings in Python string literals. By using raw strings (denoted by the prefix r), Python interprets the backslashes in a regular expression as literal backslashes, rather than escape characters. This means that you can include backslashes in your regular expressions without having to escape them with additional backslashes, which can make the expression easier to read and understand."
   ]
  },
  {
   "cell_type": "code",
   "execution_count": 4,
   "metadata": {},
   "outputs": [
    {
     "name": "stdout",
     "output_type": "stream",
     "text": [
      "we use \n",
      " as new line character\n",
      "we use \\n as new line character\n"
     ]
    }
   ],
   "source": [
    "# For Example: \n",
    "import re \n",
    "print(\"we use \\n as new line character\") # Here we want to use show \\n , but it have special meaning in python i.e. we can't print it as we want to print.add()\n",
    "print(r\"we use \\n as new line character\") # by using raw string we say that any special character will be in python string is not meaningful it is just a string."
   ]
  },
  {
   "attachments": {},
   "cell_type": "markdown",
   "metadata": {},
   "source": [
    "### Q 3 | Ans: "
   ]
  },
  {
   "attachments": {},
   "cell_type": "markdown",
   "metadata": {},
   "source": [
    "Return value for search is `match` object. The Match object contains information about the match, such as the starting and ending indices of the match, as well as the matched string itself. You can use various methods of the Match object to access this information, such as `start()`, `end()`, and `group()`."
   ]
  },
  {
   "cell_type": "code",
   "execution_count": 4,
   "metadata": {},
   "outputs": [
    {
     "name": "stdout",
     "output_type": "stream",
     "text": [
      "Match found: <re.Match object; span=(0, 5), match='Hello'>\n",
      "match object:  Hello\n",
      "start:  0\n",
      "end:  5\n"
     ]
    }
   ],
   "source": [
    "import re\n",
    "\n",
    "pattern = r'Hello'\n",
    "text = 'Hello, World!'\n",
    "\n",
    "match = re.search(pattern, text)\n",
    "\n",
    "if match:\n",
    "    print('Match found:', match)\n",
    "    print(\"match object: \",match.group())\n",
    "    print(\"start: \", match.start())\n",
    "    print(\"end: \", match.end())\n",
    "else:\n",
    "    print('No match found.')\n",
    "\n",
    "\n"
   ]
  },
  {
   "attachments": {},
   "cell_type": "markdown",
   "metadata": {},
   "source": [
    "### Q 4 | Ans:\n"
   ]
  },
  {
   "attachments": {},
   "cell_type": "markdown",
   "metadata": {},
   "source": [
    "In Python, you can get the actual strings that match a pattern using the `group()` method of the Match object returned by the `re.match()` or `re.search()` functions."
   ]
  },
  {
   "cell_type": "code",
   "execution_count": 11,
   "metadata": {},
   "outputs": [
    {
     "name": "stdout",
     "output_type": "stream",
     "text": [
      "Match found: Hello, World!\n",
      "Captured group: World\n"
     ]
    }
   ],
   "source": [
    "import re\n",
    "\n",
    "pattern = r'Hello, (\\w+)!'\n",
    "text = 'Hello, World!'\n",
    "\n",
    "match = re.search(pattern, text)\n",
    "\n",
    "if match:\n",
    "    print('Match found:', match.group())  \n",
    "    print('Captured group:', match.group(1))  \n",
    "else:\n",
    "    print('No match found.')\n"
   ]
  },
  {
   "attachments": {},
   "cell_type": "markdown",
   "metadata": {},
   "source": [
    "### Q 5 | Ans:"
   ]
  },
  {
   "attachments": {},
   "cell_type": "markdown",
   "metadata": {},
   "source": [
    "1. `group(0)` - covers the entire match, including both capturing groups and any non-captured characters. Therefore, `group(0)` will return the entire string that matched the regex pattern.\n",
    "2. `group(1)` - corresponds to the first capturing group (\\d\\d\\d), which matches three consecutive digits. This group captures the first three digits of the phone number.\n",
    "3. `group(2)` - corresponds to the second capturing group (\\d\\d\\d-\\d\\d\\d\\d), which matches a hyphen-separated group of six digits. This group captures the last seven digits of the phone number."
   ]
  },
  {
   "cell_type": "code",
   "execution_count": 2,
   "metadata": {},
   "outputs": [
    {
     "name": "stdout",
     "output_type": "stream",
     "text": [
      "123-456-7890-5487\n",
      "123\n",
      "456-7890\n",
      "5487\n"
     ]
    }
   ],
   "source": [
    "import re\n",
    "\n",
    "pattern = r'(\\d\\d\\d)-(\\d\\d\\d-\\d\\d\\d\\d)-(\\d\\d\\d\\d)'\n",
    "text = 'My phone number is 123-456-7890-5487'\n",
    "\n",
    "match = re.search(pattern, text)\n",
    "\n",
    "if match:\n",
    "    # Access the entire match using group(0)\n",
    "    print(match.group(0))  # Output: '123-456-7890'\n",
    "    \n",
    "    # Access the first captured group using group(1)\n",
    "    print(match.group(1))  # Output: '123'\n",
    "    \n",
    "    # Access the second captured group using group(2)\n",
    "    print(match.group(2))  # Output: '456-7890'\n",
    "    print(match.group(3))"
   ]
  },
  {
   "attachments": {},
   "cell_type": "markdown",
   "metadata": {},
   "source": [
    "### Q 6 | Ans:"
   ]
  },
  {
   "attachments": {},
   "cell_type": "markdown",
   "metadata": {},
   "source": [
    "In standard regular expression syntax, parentheses have a special meaning, as they are used to define capturing groups. If you want to match a literal left or right parenthesis, you need to escape it by placing a backslash in front of it, like `\\( or \\)`."
   ]
  },
  {
   "cell_type": "code",
   "execution_count": 9,
   "metadata": {},
   "outputs": [
    {
     "name": "stdout",
     "output_type": "stream",
     "text": [
      "(123)-234\n"
     ]
    }
   ],
   "source": [
    "import re\n",
    "pattern = r'\\(\\d\\d\\d\\)-(\\d\\d\\d)'  # due to using \\ it becomes literal string\n",
    "mystr = '(123)-234'\n",
    "match = re.search(pattern, mystr)\n",
    "print(match.group()) # by default 0"
   ]
  },
  {
   "cell_type": "code",
   "execution_count": 8,
   "metadata": {},
   "outputs": [
    {
     "name": "stdout",
     "output_type": "stream",
     "text": [
      "None\n"
     ]
    }
   ],
   "source": [
    "import re\n",
    "pattern = r'(\\d\\d\\d)-(\\d\\d\\d)' # Here parenthesis have meaning as group\n",
    "mystr = '(123)-234'\n",
    "match = re.search(pattern, mystr)\n",
    "print(match)"
   ]
  },
  {
   "attachments": {},
   "cell_type": "markdown",
   "metadata": {},
   "source": [
    "### Q 7 | Ans: \n"
   ]
  },
  {
   "attachments": {},
   "cell_type": "markdown",
   "metadata": {},
   "source": [
    "The `findall()` method returns a list of strings when the regular expression being searched for does not contain any capturing groups. If the regular expression contains one or more capturing groups, then `findall()` returns a list of tuples where each tuple represents a match and contains the captured groups."
   ]
  },
  {
   "cell_type": "code",
   "execution_count": 7,
   "metadata": {},
   "outputs": [],
   "source": [
    "my_str = \"Hello, My name is Omkar and I will be Data Scientist soon, Believe it. My mail is datasci@gmail.com and My phone number is (923)-(23234)!!!\""
   ]
  },
  {
   "cell_type": "code",
   "execution_count": 15,
   "metadata": {},
   "outputs": [
    {
     "data": {
      "text/plain": [
       "['Data Scientist']"
      ]
     },
     "execution_count": 15,
     "metadata": {},
     "output_type": "execute_result"
    }
   ],
   "source": [
    "# Case 1 - \n",
    "import re\n",
    "\n",
    "pattern = r'Data Scientist' # We are not trying to capture group.\n",
    "match = re.findall(pattern, my_str)\n",
    "match"
   ]
  },
  {
   "cell_type": "code",
   "execution_count": 14,
   "metadata": {},
   "outputs": [
    {
     "data": {
      "text/plain": [
       "[('datasci@gmail.com', ''), ('', '(923)-(23234)')]"
      ]
     },
     "execution_count": 14,
     "metadata": {},
     "output_type": "execute_result"
    }
   ],
   "source": [
    "# Case 2 - \n",
    "import re \n",
    "pattern = r'(\\w+@\\w+.com) | (\\(\\d\\d\\d\\)-\\(\\d\\d\\d\\d\\d\\))' # we are capturing group of characters\n",
    "\n",
    "match = re.findall(pattern, my_str)\n",
    "match"
   ]
  },
  {
   "attachments": {},
   "cell_type": "markdown",
   "metadata": {},
   "source": [
    "### Q 8 | Ans:"
   ]
  },
  {
   "attachments": {},
   "cell_type": "markdown",
   "metadata": {},
   "source": [
    "the `|` character is known as the alternation or OR operator. It allows you to match any one of a set of alternatives."
   ]
  },
  {
   "cell_type": "code",
   "execution_count": 17,
   "metadata": {},
   "outputs": [
    {
     "data": {
      "text/plain": [
       "[('datasci@gmail.com', ''), ('', '(923)-(23234)')]"
      ]
     },
     "execution_count": 17,
     "metadata": {},
     "output_type": "execute_result"
    }
   ],
   "source": [
    "import re \n",
    "my_str = \"Hello, My name is Omkar and I will be Data Scientist soon, Believe it. My mail is datasci@gmail.com and My phone number is (923)-(23234)!!!\"\n",
    "pattern = r'(\\w+@\\w+.com) | (\\(\\d\\d\\d\\)-\\(\\d\\d\\d\\d\\d\\))' # we are capturing group of characters\n",
    "\n",
    "match = re.findall(pattern, my_str)\n",
    "match"
   ]
  },
  {
   "attachments": {},
   "cell_type": "markdown",
   "metadata": {},
   "source": [
    "### Q 9 | Ans:"
   ]
  },
  {
   "attachments": {},
   "cell_type": "markdown",
   "metadata": {},
   "source": [
    "`\".\"` : a Wild Card in RegEx"
   ]
  },
  {
   "attachments": {},
   "cell_type": "markdown",
   "metadata": {},
   "source": [
    "In regular expressions, the dot character `(.)` represents a wildcard that matches any single character except for a newline character `(\\n)`. For example, the regular expression `\"h.t\"` would match `\"hot\", \"hat\", \"hit\"`, and any other three-character string that starts with `\"h\"` and ends with `\"t\"`, with any single character in between."
   ]
  },
  {
   "cell_type": "code",
   "execution_count": 3,
   "metadata": {},
   "outputs": [
    {
     "data": {
      "text/plain": [
       "['hat', 'hit', 'hot']"
      ]
     },
     "execution_count": 3,
     "metadata": {},
     "output_type": "execute_result"
    }
   ],
   "source": [
    "# Example : \n",
    "import re\n",
    "my_str = \"My hat was hit by hot air, let's hop in the car and buy new one\"\n",
    "pattern = r'h.t' # We are not trying to capture group.\n",
    "match = re.findall(pattern, my_str)\n",
    "match"
   ]
  },
  {
   "attachments": {},
   "cell_type": "markdown",
   "metadata": {},
   "source": [
    "However, if we pass the `re.DOTALL` flag as the second argument to `re.compile()`, then the `.` character will match any character, including a newline character. This flag makes the regular expression pattern `\"dot-all\"`, meaning that the `.` character will match any character in the input string."
   ]
  },
  {
   "attachments": {},
   "cell_type": "markdown",
   "metadata": {},
   "source": [
    "### Q 10 | Ans: \n"
   ]
  },
  {
   "attachments": {},
   "cell_type": "markdown",
   "metadata": {},
   "source": [
    "In regular expressions, the `+` and `*` characters are quantifiers that indicate how many occurrences of the preceding character or group should be matched. The difference between `+` and `*` is that `+` requires at least one occurrence of the preceding character or group, while `*` allows for zero or more occurrences."
   ]
  },
  {
   "cell_type": "code",
   "execution_count": 19,
   "metadata": {},
   "outputs": [
    {
     "name": "stdout",
     "output_type": "stream",
     "text": [
      "For str 1\n",
      "<re.Match object; span=(6, 7), match='a'>\n",
      "For str 2\n",
      "None\n",
      "----------------------------------------------------\n",
      "For str 1\n",
      "<re.Match object; span=(0, 0), match=''>\n",
      "For str 2\n",
      "<re.Match object; span=(0, 0), match=''>\n"
     ]
    }
   ],
   "source": [
    "# for Example:\n",
    "import re\n",
    "my_str = \"Cockroach!!! aaaaaaaaaa\"\n",
    "my_str2 = \"LOL\"\n",
    "pattern = r\"a+\"\n",
    "print(\"For str 1\")\n",
    "print(re.search(pattern, my_str))\n",
    "print(\"For str 2\")\n",
    "print(re.search(pattern, my_str2))\n",
    "print(\"----------------------------------------------------\")\n",
    "pattern = r\"a*\"\n",
    "print(\"For str 1\")\n",
    "print(re.search(pattern, my_str))\n",
    "print(\"For str 2\")\n",
    "print(re.search(pattern, my_str2))"
   ]
  },
  {
   "attachments": {},
   "cell_type": "markdown",
   "metadata": {},
   "source": [
    "The output shows that the first regular expression pattern `r\"a+\"` matched 10 `\"a\"` characters in `my_str`, but didn't match anything in `my_str2`. The second regular expression pattern `r\"a*\"` matched an empty string at the beginning of both `my_str` and `my_str2`. This is because the `*` character matches zero or more occurrences of the preceding character, so it matches the empty string at the beginning of both strings."
   ]
  },
  {
   "attachments": {},
   "cell_type": "markdown",
   "metadata": {},
   "source": [
    "### Q 11 | Ans:\n"
   ]
  },
  {
   "attachments": {},
   "cell_type": "markdown",
   "metadata": {},
   "source": [
    "In regular expressions, curly braces `{}` are used to specify the number of occurrences of the preceding character or group. The expression `{4}` means that the preceding character or group should appear exactly `4` times. On the other hand, the expression `{4,5}` means that the preceding character or group should appear at least` 4` times and at most `5` times."
   ]
  },
  {
   "cell_type": "code",
   "execution_count": 3,
   "metadata": {},
   "outputs": [
    {
     "name": "stdout",
     "output_type": "stream",
     "text": [
      "I saw a python below my bed, I should call at 911.\n"
     ]
    }
   ],
   "source": [
    "import re\n",
    "my_str = \"Hello sir, Call 911 in case of emergency. & call 833823324 for food delivery.\"\n",
    "pattern = r\"\\d{3}\"\n",
    "match = re.search(pattern, my_str)\n",
    "print(f\"I saw a python below my bed, I should call at {match.group()}.\")"
   ]
  },
  {
   "cell_type": "code",
   "execution_count": 5,
   "metadata": {},
   "outputs": [
    {
     "name": "stdout",
     "output_type": "stream",
     "text": [
      "I saw python below my bed, what should I do? I forgot the emergency number...\n",
      "I only remember that it was short with 3 to 5 digits, got it 911\n"
     ]
    }
   ],
   "source": [
    "import re \n",
    "my_str = \"Hello sir, Call 911 in case of emergency & call 833823324 for food delivery.\"\n",
    "pattern = r\"\\d{3,5}\"\n",
    "match = re.search(pattern, my_str)\n",
    "print(f\"I saw python below my bed, what should I do? I forgot the emergency number...\\nI only remember that it was short with 3 to 5 digits, got it {match.group()}\")"
   ]
  },
  {
   "attachments": {},
   "cell_type": "markdown",
   "metadata": {},
   "source": [
    "### Q 12 | Ans: \n"
   ]
  },
  {
   "attachments": {},
   "cell_type": "markdown",
   "metadata": {},
   "source": [
    "\\d: This shorthand character class matches any digit from 0 to 9. For example, the regular expression \"\\d+\" would match any string that contains one or more digits, such as \"123\", \"4567\", or \"0\".\n"
   ]
  },
  {
   "cell_type": "code",
   "execution_count": 7,
   "metadata": {},
   "outputs": [
    {
     "name": "stdout",
     "output_type": "stream",
     "text": [
      "Savdhan India, Never tell your OTP to anyone. Your OTP is 234334. Keep it safe.\n"
     ]
    }
   ],
   "source": [
    "# Example:\n",
    "import re\n",
    "my_str = \"My OTP is 234334.\"\n",
    "pattern = r\"\\d{6}\"\n",
    "match = re.search(pattern, my_str)\n",
    "print(f\"Savdhan India, Never tell your OTP to anyone. Your OTP is {match.group()}. Keep it safe.\")"
   ]
  },
  {
   "attachments": {},
   "cell_type": "markdown",
   "metadata": {},
   "source": [
    "\n",
    "\\w: This shorthand character class matches any word character, which includes all uppercase and lowercase letters, digits, and underscores. For example, the regular expression \"\\w+\" would match any string that contains one or more word characters, such as \"hello\", \"world123\", or \"my_variable\".\n"
   ]
  },
  {
   "cell_type": "code",
   "execution_count": 2,
   "metadata": {},
   "outputs": [
    {
     "name": "stdout",
     "output_type": "stream",
     "text": [
      "Hey, Yo I just got my mail. It is datascience@gmail.com.\n"
     ]
    }
   ],
   "source": [
    "# for example: \n",
    "import re \n",
    "my_str = \"Your mail is created successfully. Here is your mail address: datascience@gmail.com\"\n",
    "pattern = r\"\\w+@\\w+.com\"\n",
    "match = re.search(pattern, my_str)\n",
    "print(f\"Hey, Yo I just got my mail. It is {match.group()}.\")"
   ]
  },
  {
   "cell_type": "markdown",
   "metadata": {},
   "source": [
    "\n",
    "\\s: This shorthand character class matches any whitespace character, including spaces, tabs, and line breaks. For example, the regular expression \"\\s+\" would match any string that contains one or more whitespace characters, such as \" \", \"\\t\\t\", or \"\\n\\n\"."
   ]
  },
  {
   "cell_type": "code",
   "execution_count": 4,
   "metadata": {},
   "outputs": [
    {
     "name": "stdout",
     "output_type": "stream",
     "text": [
      "[' ', '   ', ' ', ' ', '   ', ' ', ' ', ' ']\n"
     ]
    }
   ],
   "source": [
    "# for example: \n",
    "import re \n",
    "my_str = \"I have   habit to press   space key multiple times\"\n",
    "pattern = r\"\\s+\"\n",
    "match = re.findall(pattern, my_str)\n",
    "print(match)"
   ]
  },
  {
   "attachments": {},
   "cell_type": "markdown",
   "metadata": {},
   "source": [
    "### Q 13 | Ans:\n"
   ]
  },
  {
   "attachments": {},
   "cell_type": "markdown",
   "metadata": {},
   "source": [
    "\\D matches any character that is not a digit (0-9).\n",
    "\n",
    "\\W matches any character that is not a word character, which includes letters, digits, and underscores. This includes punctuation and special characters.\n",
    "\n",
    "\\S matches any character that is not a whitespace character, which includes spaces, tabs, and line breaks.\n",
    "\n",
    "These shorthand character classes can be useful when we want to match everything except a specific type of character, or when we want to negate a regular expression pattern that matches a specific type of character."
   ]
  },
  {
   "cell_type": "code",
   "execution_count": 6,
   "metadata": {},
   "outputs": [
    {
     "name": "stdout",
     "output_type": "stream",
     "text": [
      "['abc', 'def']\n"
     ]
    }
   ],
   "source": [
    "# For example:\n",
    "import re\n",
    "pattern = r\"\\D+\"\n",
    "string = \"abc123def456\"\n",
    "matches = re.findall(pattern, string)\n",
    "print(matches)\n"
   ]
  },
  {
   "attachments": {},
   "cell_type": "markdown",
   "metadata": {},
   "source": [
    "### Q 14| Ans: "
   ]
  },
  {
   "attachments": {},
   "cell_type": "markdown",
   "metadata": {},
   "source": [
    "`.*`  is a greedy quantifier that matches any character (except for line breaks) zero or more times. This means that it will match as many characters as possible, while still allowing the rest of the regular expression pattern to match. For example, the regular expression `a.*b` would match the string `\"aabbccbbddeebbb\"`, returning `\"aabccbbddeeb\"` as a match."
   ]
  },
  {
   "cell_type": "code",
   "execution_count": 11,
   "metadata": {},
   "outputs": [
    {
     "name": "stdout",
     "output_type": "stream",
     "text": [
      "['aabbccbbddeebbb']\n"
     ]
    }
   ],
   "source": [
    "# For example: \n",
    "import re \n",
    "my_str = \"aabbccbbddeebbb\"\n",
    "pattern = r\"a.*b\"\n",
    "match = re.findall(pattern, my_str)\n",
    "print(match)"
   ]
  },
  {
   "attachments": {},
   "cell_type": "markdown",
   "metadata": {},
   "source": [
    "On the other hand, `.*?` is a non-greedy quantifier that also matches any character zero or more times, but it matches as few characters as possible, while still allowing the rest of the regular expression pattern to match. For example, the regular expression `a.*?b` would match the same string `\"aabbccbbddeebbb\"`, but it would return `\"aab\"` as a match.\n",
    "\n"
   ]
  },
  {
   "cell_type": "code",
   "execution_count": 13,
   "metadata": {},
   "outputs": [
    {
     "name": "stdout",
     "output_type": "stream",
     "text": [
      "['aab']\n"
     ]
    }
   ],
   "source": [
    "import re \n",
    "my_str = \"aabbccbbddeebbb\"\n",
    "pattern = r\"a.*?b\"\n",
    "match = re.findall(pattern, my_str)\n",
    "print(match)"
   ]
  },
  {
   "attachments": {},
   "cell_type": "markdown",
   "metadata": {},
   "source": [
    "### Q 15 | Ans:"
   ]
  },
  {
   "attachments": {},
   "cell_type": "markdown",
   "metadata": {},
   "source": [
    "`r\"[0-9a-z]+\"` is the syntax for matching both strings and numbers."
   ]
  },
  {
   "cell_type": "code",
   "execution_count": 16,
   "metadata": {},
   "outputs": [
    {
     "name": "stdout",
     "output_type": "stream",
     "text": [
      "hello123\n"
     ]
    }
   ],
   "source": [
    "import re\n",
    "pattern = r\"[0-9a-z]+\" # will capture all the alpha numeric characters\n",
    "string = \"hello123 mic testing...\"\n",
    "match = re.search(pattern, string)\n",
    "print(match.group(0))\n"
   ]
  },
  {
   "attachments": {},
   "cell_type": "markdown",
   "metadata": {},
   "source": [
    "### Q 16 | Ans: \n"
   ]
  },
  {
   "attachments": {},
   "cell_type": "markdown",
   "metadata": {},
   "source": [
    "To make a regular expression case-insensitive in Python's re module, you can use the `re.IGNORECASE` flag. This flag tells the re module to ignore the case of the text when matching the regular expression pattern."
   ]
  },
  {
   "cell_type": "code",
   "execution_count": 17,
   "metadata": {},
   "outputs": [
    {
     "name": "stdout",
     "output_type": "stream",
     "text": [
      "Hello\n",
      "HELLO\n",
      "heLLo\n"
     ]
    }
   ],
   "source": [
    "import re\n",
    "pattern = r\"hello\"\n",
    "regex = re.compile(pattern, re.IGNORECASE) # making the regular expression case-insensitive\n",
    "\n",
    "string1 = \"Hello World\"\n",
    "string2 = \"HELLO World\"\n",
    "string3 = \"heLLo World\"\n",
    "\n",
    "match1 = regex.search(string1)\n",
    "match2 = regex.search(string2)\n",
    "match3 = regex.search(string3)\n",
    "\n",
    "print(match1.group(0))\n",
    "print(match2.group(0))\n",
    "print(match3.group(0))\n"
   ]
  },
  {
   "attachments": {},
   "cell_type": "markdown",
   "metadata": {},
   "source": [
    "### Q 17 | Ans: "
   ]
  },
  {
   "attachments": {},
   "cell_type": "markdown",
   "metadata": {},
   "source": [
    "In Python's re module, the `.` character in a regular expression pattern normally matches any character except for a newline character `(\\n)`. So, for example, the pattern `a.b` would match a string that contains an `\"a\"` character, followed by any character `(except \\n)`, followed by a `\"b\"` character.\n",
    "\n",
    "However, if you pass the `re.DOTALL` flag as the second argument to `re.compile()`, then the `.` character will match any character, including a newline character. This flag makes the regular expression pattern `\"dot-all\"`, meaning that the `.` character will match any character in the input string."
   ]
  },
  {
   "cell_type": "code",
   "execution_count": 18,
   "metadata": {},
   "outputs": [
    {
     "name": "stdout",
     "output_type": "stream",
     "text": [
      "None\n",
      "hello\n",
      "world\n"
     ]
    }
   ],
   "source": [
    "import re\n",
    "pattern = r\"hello.world\"\n",
    "string = \"hello\\nworld\"\n",
    "\n",
    "# pattern without the DOTALL flag\n",
    "regex1 = re.compile(pattern)\n",
    "\n",
    "# pattern with the DOTALL flag\n",
    "regex2 = re.compile(pattern, re.DOTALL)\n",
    "\n",
    "# Test\n",
    "match1 = regex1.search(string)\n",
    "match2 = regex2.search(string)\n",
    "\n",
    "# Print the results \n",
    "print(match1)  # returns None, since the pattern doesn't match across the newline\n",
    "print(match2.group(0))  # returns \"hello\\nworld\", since the DOTALL flag makes the . match the newline character\n"
   ]
  },
  {
   "attachments": {},
   "cell_type": "markdown",
   "metadata": {},
   "source": [
    "### Q 18 | Ans: "
   ]
  },
  {
   "attachments": {},
   "cell_type": "markdown",
   "metadata": {},
   "source": [
    "If `numRegex = re.compile(r'\\d+')`, then calling `numRegex.sub('X', '11 drummers, 10 pipers, five rings, 4 hens')` will replace all occurrences of one or more digits in the input string with the letter `\"X\"`.\n",
    "\n",
    "Therefore, the resulting string will be `'X drummers, X pipers, five rings, X hens'`. The three substrings that match the pattern `\\d+` (i.e., \"11\", \"10\", and \"4\") have been replaced with `\"X\"`. The other substrings in the input string have not been modified."
   ]
  },
  {
   "cell_type": "code",
   "execution_count": 22,
   "metadata": {},
   "outputs": [
    {
     "name": "stdout",
     "output_type": "stream",
     "text": [
      "X drummers, X pipers, five rings, X hens\n"
     ]
    }
   ],
   "source": [
    "import re\n",
    "numRegex = re.compile(r'\\d+')\n",
    "string = '11 drummers, 10 pipers, five rings, 4 hens' \n",
    "new_string = numRegex.sub('X', string) # all of the digits from the string will be replaced with string.\n",
    "print(new_string)\n"
   ]
  },
  {
   "attachments": {},
   "cell_type": "markdown",
   "metadata": {},
   "source": [
    "### Q 19 | Ans:"
   ]
  },
  {
   "attachments": {},
   "cell_type": "markdown",
   "metadata": {},
   "source": [
    "Passing `re.VERBOS`E as the second argument to the `re.compile()` function in Python allows you to use verbose mode in the regular expression pattern.\n",
    "\n",
    "Verbose mode is a feature of Python's re module that allows you to write regular expression patterns in a more readable and organized way, by ignoring whitespace and comments within the pattern. When verbose mode is enabled, you can add whitespace, comments, and line breaks to your regular expression pattern without affecting its behavior. It's similar to using `#` for comments for more readability."
   ]
  },
  {
   "cell_type": "code",
   "execution_count": 27,
   "metadata": {},
   "outputs": [
    {
     "name": "stdout",
     "output_type": "stream",
     "text": [
      "Phone number found: 123) 456-7890\n"
     ]
    }
   ],
   "source": [
    "import re\n",
    "\n",
    "# pattern to match a U.S. phone number\n",
    "phone_pattern = re.compile(r'''\n",
    "    # Match the area code (optional)\n",
    "    (\\d{3})?     # Optional area code, enclosed in parentheses\n",
    "    \\D*          # Optional non-digit characters between area code and exchange for space\n",
    "    (\\d{3})      # Exchange (first three digits)\n",
    "    \\D*          # Optional non-digit characters between exchange and line number\n",
    "    (\\d{4})      # Line number (last four digits)\n",
    "''', re.VERBOSE)\n",
    "\n",
    "# Test \n",
    "phone_number = \"(123) 456-7890\"\n",
    "match = phone_pattern.search(phone_number)\n",
    "\n",
    "if match:\n",
    "    print(\"Phone number found:\", match.group())\n",
    "else:\n",
    "    print(\"Phone number not found\")\n"
   ]
  },
  {
   "attachments": {},
   "cell_type": "markdown",
   "metadata": {},
   "source": [
    "### Q 20 | Ans: "
   ]
  },
  {
   "attachments": {},
   "cell_type": "markdown",
   "metadata": {},
   "source": [
    "we will use `pattern = re.compile(r'^\\d{1,3}(,\\d{3})*$')`. \n",
    "\n",
    "`^`: Matches the start of the string.\n",
    "\n",
    "`\\d{1,3}`: Matches 1 to 3 digits\n",
    "\n",
    "`(,\\d{3})*`: Matches zero or more occurrences of a comma followed by exactly 3 digits\n",
    "\n",
    "`$`: Matches the end of the string"
   ]
  },
  {
   "cell_type": "code",
   "execution_count": 28,
   "metadata": {},
   "outputs": [
    {
     "name": "stdout",
     "output_type": "stream",
     "text": [
      "42 matches\n",
      "1,234 matches\n",
      "6,368,745 matches\n",
      "12,34,567 does not match\n",
      "1234 does not match\n"
     ]
    }
   ],
   "source": [
    "import re\n",
    "\n",
    "pattern = re.compile(r'^\\d{1,3}(,\\d{3})*$')\n",
    "\n",
    "# Test \n",
    "strings = ['42', '1,234', '6,368,745', '12,34,567', '1234']\n",
    "for s in strings:\n",
    "    if pattern.match(s):\n",
    "        print(s, 'matches')\n",
    "    else:\n",
    "        print(s, 'does not match')\n"
   ]
  },
  {
   "attachments": {},
   "cell_type": "markdown",
   "metadata": {},
   "source": [
    "### Q 21 | Ans: "
   ]
  },
  {
   "attachments": {},
   "cell_type": "markdown",
   "metadata": {},
   "source": [
    "We will use `pattern = re.compile(r'^[A-Z][a-zA-Z]*\\sWatanabe$')`\n",
    "\n",
    "`^`: Matches the start of the string\n",
    "\n",
    "`[A-Z][a-zA-Z]*`: Matches a single uppercase letter followed by zero or more lowercase or uppercase letters for the first name\n",
    "\n",
    "`\\s`: Matches a whitespace character (space, tab, or newline)\n",
    "\n",
    "`Watanabe`: Matches the last name \"Watanabe\"\n",
    "\n",
    "`$`: Matches the end of the string"
   ]
  },
  {
   "cell_type": "code",
   "execution_count": 1,
   "metadata": {},
   "outputs": [
    {
     "name": "stdout",
     "output_type": "stream",
     "text": [
      "Haruto Watanabe matches\n",
      "Alice Watanabe matches\n",
      "RoboCop Watanabe matches\n",
      "haruto Watanabe does not match\n",
      "Mr. Watanabe does not match\n",
      "Watanabe does not match\n",
      "Haruto watanabe does not match\n"
     ]
    }
   ],
   "source": [
    "import re\n",
    "pattern = re.compile(r'^[A-Z][a-zA-Z]*\\sWatanabe$')\n",
    "\n",
    "# Test\n",
    "strings = ['Haruto Watanabe', 'Alice Watanabe', 'RoboCop Watanabe', 'haruto Watanabe', 'Mr. Watanabe', 'Watanabe', 'Haruto watanabe']\n",
    "for s in strings:\n",
    "    if pattern.match(s):\n",
    "        print(s, 'matches')\n",
    "    else:\n",
    "        print(s, 'does not match')\n"
   ]
  },
  {
   "attachments": {},
   "cell_type": "markdown",
   "metadata": {},
   "source": [
    "### Q 22 | Ans: "
   ]
  },
  {
   "attachments": {},
   "cell_type": "markdown",
   "metadata": {},
   "source": [
    "How would you write a regex that matches a sentence where the first word is either Alice, Bob,\n",
    "or Carol; the second word is either eats, pets, or throws; the third word is apples, cats, or baseballs;\n",
    "and the sentence ends with a period? This regex should be case-insensitive. \n",
    "**It must match the following:**\n",
    "\n",
    "&#39;Alice eats apples.&#39;\n",
    "\n",
    "&#39;Bob pets cats.&#39;\n",
    "\n",
    "&#39;Carol throws baseballs.&#39;\n",
    "\n",
    "&#39;Alice throws Apples.&#39;\n",
    "\n",
    "&#39;BOB EATS CATS.&#39;\n",
    "\n",
    "**but not the following:**\n",
    "\n",
    "&#39;RoboCop eats apples.&#39;\n",
    "\n",
    "&#39;ALICE THROWS FOOTBALLS.&#39;\n",
    "\n",
    "&#39;Carol eats 7 cats.&#39;"
   ]
  },
  {
   "cell_type": "code",
   "execution_count": 38,
   "metadata": {},
   "outputs": [
    {
     "name": "stdout",
     "output_type": "stream",
     "text": [
      "Alice eats apples matches\n",
      "Bob pets cats matches\n",
      "Carol throws baseballs matches\n",
      "Alice throws Apples matches\n",
      "BOB EATS CATS matches\n",
      "RoboCop eats apples does not match\n",
      "ALICE THROWS FOOTBALLS does not match\n",
      "Carol eats 7 cats does not match\n"
     ]
    }
   ],
   "source": [
    "import re\n",
    "core = r'^(alice|bob|carol)\\s(eats|pets|throws)\\s(apples|cats|baseballs)$'\n",
    "pattern = re.compile(core, re.IGNORECASE)\n",
    "\n",
    "# Test\n",
    "strings = ['Alice eats apples', 'Bob pets cats', 'Carol throws baseballs', 'Alice throws Apples', 'BOB EATS CATS', 'RoboCop eats apples', 'ALICE THROWS FOOTBALLS', 'Carol eats 7 cats']\n",
    "for s in strings:\n",
    "    if pattern.match(s):\n",
    "        print(s, 'matches')\n",
    "    else:\n",
    "        print(s, 'does not match')"
   ]
  },
  {
   "cell_type": "markdown",
   "metadata": {},
   "source": [
    "# The End # "
   ]
  }
 ],
 "metadata": {
  "kernelspec": {
   "display_name": "Python 3",
   "language": "python",
   "name": "python3"
  },
  "language_info": {
   "codemirror_mode": {
    "name": "ipython",
    "version": 3
   },
   "file_extension": ".py",
   "mimetype": "text/x-python",
   "name": "python",
   "nbconvert_exporter": "python",
   "pygments_lexer": "ipython3",
   "version": "3.10.2"
  },
  "orig_nbformat": 4
 },
 "nbformat": 4,
 "nbformat_minor": 2
}
