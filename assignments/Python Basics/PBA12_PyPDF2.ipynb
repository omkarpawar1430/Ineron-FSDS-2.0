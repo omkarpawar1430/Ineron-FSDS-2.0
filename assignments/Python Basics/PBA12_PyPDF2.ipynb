{
 "cells": [
  {
   "attachments": {},
   "cell_type": "markdown",
   "metadata": {},
   "source": [
    "# Python Basic | Assignment 12"
   ]
  },
  {
   "attachments": {},
   "cell_type": "markdown",
   "metadata": {},
   "source": [
    "Question Link: https://drive.google.com/file/d/1saNxL1eSkuGhlZ8IXLqXRHZg9AS7YfAS/view"
   ]
  },
  {
   "attachments": {},
   "cell_type": "markdown",
   "metadata": {},
   "source": [
    "### Q.1 | Ans: "
   ]
  },
  {
   "attachments": {},
   "cell_type": "markdown",
   "metadata": {},
   "source": [
    "pdf files are binary files so while opening them we for reading and writing we should use `rb` and `wb`."
   ]
  },
  {
   "cell_type": "code",
   "execution_count": 43,
   "metadata": {},
   "outputs": [
    {
     "name": "stdout",
     "output_type": "stream",
     "text": [
      " A Simple PDF File \n",
      " This is a small demonstration .pdf file - \n",
      " just for use in the Virtual Mechanics tutorials. More text. And more \n",
      " text. And more text. And more text. And more text. \n",
      " And more text. And more text. And more text. And more text. And more \n",
      " text. And more text. Boring, zzzzz. And more text. And more text. And \n",
      " more text. And more text. And more text. And more text. And more text. \n",
      " And more text. And more text. \n",
      " And more text. And more text. And more text. And more text. And more \n",
      " text. And more text. And more text. Even more. Continued on page 2 ...\n"
     ]
    }
   ],
   "source": [
    "from PyPDF2 import PdfReader\n",
    "pdfObj = open('sample.pdf', 'rb')\n",
    "reader = PdfReader(pdfObj)\n",
    "number_of_pages = len(reader.pages)\n",
    "page = reader.pages[0]\n",
    "text = page.extract_text()\n",
    "print(text)"
   ]
  },
  {
   "attachments": {},
   "cell_type": "markdown",
   "metadata": {},
   "source": [
    "### Q.2 | Ans : "
   ]
  },
  {
   "cell_type": "code",
   "execution_count": 45,
   "metadata": {},
   "outputs": [
    {
     "name": "stdout",
     "output_type": "stream",
     "text": [
      " Simple PDF File 2 \n",
      " ...continued from page 1. Yet more text. And more text. And more text. \n",
      " And more text. And more text. And more text. And more text. And more \n",
      " text. Oh, how boring typing this stuff. But not as boring as watching \n",
      " paint dry. And more text. And more text. And more text. And more text. \n",
      " Boring.  More, a little more text. The end, and just as well. \n"
     ]
    }
   ],
   "source": [
    "page = reader.pages[1] # my pdf file have 2 pages only so i did for page no. 2 instead of 5\n",
    "text = page.extract_text()\n",
    "print(text)"
   ]
  },
  {
   "attachments": {},
   "cell_type": "markdown",
   "metadata": {},
   "source": [
    "### Q 3 | Ans: "
   ]
  },
  {
   "cell_type": "code",
   "execution_count": 46,
   "metadata": {},
   "outputs": [
    {
     "name": "stdout",
     "output_type": "stream",
     "text": [
      "2\n"
     ]
    }
   ],
   "source": [
    "print(len(reader.pages))"
   ]
  },
  {
   "attachments": {},
   "cell_type": "markdown",
   "metadata": {},
   "source": [
    "### Q 4 | Ans: "
   ]
  },
  {
   "cell_type": "code",
   "execution_count": 55,
   "metadata": {},
   "outputs": [
    {
     "ename": "TypeError",
     "evalue": "'method' object is not subscriptable",
     "output_type": "error",
     "traceback": [
      "\u001b[1;31m---------------------------------------------------------------------------\u001b[0m",
      "\u001b[1;31mTypeError\u001b[0m                                 Traceback (most recent call last)",
      "\u001b[1;32md:\\DS Study\\code files\\Ineuron FSDS 2.0\\assignments\\Python Basics\\PBA12_PyPDF2.ipynb Cell 11\u001b[0m in \u001b[0;36m<cell line: 8>\u001b[1;34m()\u001b[0m\n\u001b[0;32m      <a href='vscode-notebook-cell:/d%3A/DS%20Study/code%20files/Ineuron%20FSDS%202.0/assignments/Python%20Basics/PBA12_PyPDF2.ipynb#X10sZmlsZQ%3D%3D?line=5'>6</a>\u001b[0m num \u001b[39m=\u001b[39m \u001b[39mlen\u001b[39m(reader\u001b[39m.\u001b[39mpages)\n\u001b[0;32m      <a href='vscode-notebook-cell:/d%3A/DS%20Study/code%20files/Ineuron%20FSDS%202.0/assignments/Python%20Basics/PBA12_PyPDF2.ipynb#X10sZmlsZQ%3D%3D?line=7'>8</a>\u001b[0m \u001b[39mfor\u001b[39;00m idx \u001b[39min\u001b[39;00m \u001b[39mrange\u001b[39m(num):\n\u001b[1;32m----> <a href='vscode-notebook-cell:/d%3A/DS%20Study/code%20files/Ineuron%20FSDS%202.0/assignments/Python%20Basics/PBA12_PyPDF2.ipynb#X10sZmlsZQ%3D%3D?line=8'>9</a>\u001b[0m     page \u001b[39m=\u001b[39m reader\u001b[39m.\u001b[39;49mgetPage[idx]\n\u001b[0;32m     <a href='vscode-notebook-cell:/d%3A/DS%20Study/code%20files/Ineuron%20FSDS%202.0/assignments/Python%20Basics/PBA12_PyPDF2.ipynb#X10sZmlsZQ%3D%3D?line=9'>10</a>\u001b[0m     text \u001b[39m=\u001b[39m page\u001b[39m.\u001b[39mextract_text()\n\u001b[0;32m     <a href='vscode-notebook-cell:/d%3A/DS%20Study/code%20files/Ineuron%20FSDS%202.0/assignments/Python%20Basics/PBA12_PyPDF2.ipynb#X10sZmlsZQ%3D%3D?line=10'>11</a>\u001b[0m     out\u001b[39m.\u001b[39maddPage(text)\n",
      "\u001b[1;31mTypeError\u001b[0m: 'method' object is not subscriptable"
     ]
    }
   ],
   "source": [
    "from PyPDF2 import PdfReader, PdfWriter\n",
    "pdfObj = open('sample.pdf', 'rb')\n",
    "reader = PdfReader(pdfObj)\n",
    "\n",
    "out = PdfWriter()\n",
    "num = len(reader.pages)\n",
    "\n",
    "for idx in range(num):\n",
    "    page = reader.getPage[idx]\n",
    "    text = page.extract_text()\n",
    "    out.addPage(text)\n",
    "\n",
    "password = \"swordfish\"\n",
    "out.encrypt(password)\n",
    "\n",
    "with open(\"myfile_encrypted.pdf\", \"wb\") as f:\n",
    "    out.write(f)"
   ]
  },
  {
   "cell_type": "code",
   "execution_count": null,
   "metadata": {},
   "outputs": [],
   "source": []
  }
 ],
 "metadata": {
  "kernelspec": {
   "display_name": "Python 3",
   "language": "python",
   "name": "python3"
  },
  "language_info": {
   "codemirror_mode": {
    "name": "ipython",
    "version": 3
   },
   "file_extension": ".py",
   "mimetype": "text/x-python",
   "name": "python",
   "nbconvert_exporter": "python",
   "pygments_lexer": "ipython3",
   "version": "3.10.2"
  },
  "orig_nbformat": 4
 },
 "nbformat": 4,
 "nbformat_minor": 2
}
