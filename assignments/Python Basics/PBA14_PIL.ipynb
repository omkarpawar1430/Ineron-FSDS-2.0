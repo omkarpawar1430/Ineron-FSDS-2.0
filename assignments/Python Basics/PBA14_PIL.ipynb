{
 "cells": [
  {
   "attachments": {},
   "cell_type": "markdown",
   "metadata": {},
   "source": [
    "# Python Basic | Assignment 14"
   ]
  },
  {
   "attachments": {},
   "cell_type": "markdown",
   "metadata": {},
   "source": [
    "[Questions](https://drive.google.com/file/d/12LKGc367_TZkauqpPF-V1LPAmVRQbWri/view)"
   ]
  },
  {
   "attachments": {},
   "cell_type": "markdown",
   "metadata": {},
   "source": [
    "### Q 1 | Ans: "
   ]
  },
  {
   "cell_type": "markdown",
   "metadata": {},
   "source": [
    "RGBA stands for Red Green Blue Alpha, and it is a color model used to represent colors in digital images. The alpha channel represents the level of opacity or transparency of the color."
   ]
  },
  {
   "attachments": {},
   "cell_type": "markdown",
   "metadata": {},
   "source": [
    "### Q 2 | Ans: "
   ]
  },
  {
   "cell_type": "code",
   "execution_count": 1,
   "metadata": {},
   "outputs": [
    {
     "data": {
      "text/plain": [
       "(255, 0, 0, 255)"
      ]
     },
     "execution_count": 1,
     "metadata": {},
     "output_type": "execute_result"
    }
   ],
   "source": [
    "from PIL import ImageColor\n",
    "# Get the rgba value for given color\n",
    "ImageColor.getcolor('RED', 'RGBA')"
   ]
  },
  {
   "cell_type": "code",
   "execution_count": 3,
   "metadata": {},
   "outputs": [
    {
     "name": "stdout",
     "output_type": "stream",
     "text": [
      "(168, 150, 136)\n"
     ]
    }
   ],
   "source": [
    "from PIL import Image\n",
    "image = Image.open('image.jpeg')\n",
    "# Get the RGBA value of the pixel at position (x=100, y=200)\n",
    "rgba_value = image.getpixel((100, 200))\n",
    "print(rgba_value)"
   ]
  },
  {
   "attachments": {},
   "cell_type": "markdown",
   "metadata": {},
   "source": [
    "### Q 3 | Ans: "
   ]
  },
  {
   "attachments": {},
   "cell_type": "markdown",
   "metadata": {},
   "source": [
    "box tuple is a tuple of four integers that represents a rectangular region in an image. The four integers in the tuple represent the left, upper, right, and lower coordinates of the rectangle, respectively."
   ]
  },
  {
   "cell_type": "code",
   "execution_count": null,
   "metadata": {},
   "outputs": [],
   "source": [
    "# (left, upper, right, lower)\n",
    "from PIL import Image\n",
    "\n",
    "\n",
    "image = Image.open('image.jpeg')\n",
    "\n",
    "# Define the region to crop using a box tuple\n",
    "box = (100, 100, 300, 300)\n",
    "cropped_image = image.crop(box)\n",
    "cropped_image.show()\n"
   ]
  },
  {
   "attachments": {},
   "cell_type": "markdown",
   "metadata": {},
   "source": [
    "### Q 4 | Ans: "
   ]
  },
  {
   "cell_type": "code",
   "execution_count": 1,
   "metadata": {},
   "outputs": [
    {
     "data": {
      "text/plain": [
       "(1600, 900)"
      ]
     },
     "execution_count": 1,
     "metadata": {},
     "output_type": "execute_result"
    }
   ],
   "source": [
    "from PIL import Image\n",
    "image = Image.open(\"image.jpeg\")\n",
    "image.size"
   ]
  },
  {
   "attachments": {},
   "cell_type": "markdown",
   "metadata": {},
   "source": [
    "### Q 5 | Ans: "
   ]
  },
  {
   "cell_type": "code",
   "execution_count": 2,
   "metadata": {},
   "outputs": [],
   "source": [
    "from PIL import Image\n",
    "\n",
    "image = Image.open(\"image.jpeg\")\n",
    "box = (50, 0, 100, 50)\n",
    "cropped_image = image.crop(box)\n",
    "\n",
    "cropped_image.show()\n"
   ]
  },
  {
   "attachments": {},
   "cell_type": "markdown",
   "metadata": {},
   "source": [
    "### Q 6 | Ans: "
   ]
  },
  {
   "cell_type": "code",
   "execution_count": 4,
   "metadata": {},
   "outputs": [],
   "source": [
    "from PIL import Image\n",
    "\n",
    "\n",
    "image = Image.open(\"image.jpeg\")\n",
    "box = (50, 0, 100, 50)\n",
    "cropped_image = image.crop(box)\n",
    "\n",
    "# Save the modified image to a file\n",
    "image.save(\"modified_image.jpeg\", format=\"JPEG\")\n",
    "cropped_image.show()\n",
    "\n"
   ]
  },
  {
   "attachments": {},
   "cell_type": "markdown",
   "metadata": {},
   "source": [
    "### Q 7 | Ans: \n"
   ]
  },
  {
   "attachments": {},
   "cell_type": "markdown",
   "metadata": {},
   "source": [
    "Pillow's shape-drawing code is contained in the ImageDraw module, which is part of the Pillow library. The ImageDraw module provides methods for drawing various shapes, such as lines, rectangles, ellipses, and polygons, on Image objects."
   ]
  },
  {
   "cell_type": "markdown",
   "metadata": {},
   "source": [
    "### Q 8 | Ans: "
   ]
  },
  {
   "cell_type": "markdown",
   "metadata": {},
   "source": [
    "To create an ImageDraw object, you can call the ImageDraw.Draw() method and pass in an Image object as an argument. This creates an ImageDraw object that is associated with the input Image object, and allows you to draw shapes and text directly on the image."
   ]
  },
  {
   "attachments": {},
   "cell_type": "markdown",
   "metadata": {},
   "source": [
    "### The End"
   ]
  }
 ],
 "metadata": {
  "kernelspec": {
   "display_name": "Python 3",
   "language": "python",
   "name": "python3"
  },
  "language_info": {
   "codemirror_mode": {
    "name": "ipython",
    "version": 3
   },
   "file_extension": ".py",
   "mimetype": "text/x-python",
   "name": "python",
   "nbconvert_exporter": "python",
   "pygments_lexer": "ipython3",
   "version": "3.10.2"
  },
  "orig_nbformat": 4
 },
 "nbformat": 4,
 "nbformat_minor": 2
}
