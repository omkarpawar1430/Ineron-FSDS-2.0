{
 "cells": [
  {
   "attachments": {},
   "cell_type": "markdown",
   "metadata": {},
   "source": [
    "# Python Basic | Assignment 09"
   ]
  },
  {
   "attachments": {},
   "cell_type": "markdown",
   "metadata": {},
   "source": [
    "Question Link: https://drive.google.com/file/d/1XeCnrWjGwHEKUaDjyIZ3GjZlMb6Rpq4w/view"
   ]
  },
  {
   "attachments": {},
   "cell_type": "markdown",
   "metadata": {},
   "source": [
    "### Que 1| ans: "
   ]
  },
  {
   "attachments": {},
   "cell_type": "markdown",
   "metadata": {},
   "source": [
    "A relative path is a file or directory path that is expressed relative to the current working directory of a program or a user's current location in a file system. It does not start from the root directory of the file system, but rather from the current directory or a directory that is relative to the current directory."
   ]
  },
  {
   "attachments": {},
   "cell_type": "markdown",
   "metadata": {},
   "source": [
    "### Que 2 | Ans: "
   ]
  },
  {
   "attachments": {},
   "cell_type": "markdown",
   "metadata": {},
   "source": [
    "An absolute path starts with the root directory of the file system. Absolute paths provide the full and specific location of a file or directory in the file system, starting from the root directory, and are useful when it is necessary to refer to a specific location in the file system."
   ]
  },
  {
   "attachments": {},
   "cell_type": "markdown",
   "metadata": {},
   "source": [
    "### Que 3 | Ans: "
   ]
  },
  {
   "attachments": {},
   "cell_type": "markdown",
   "metadata": {},
   "source": [
    "`os.getcwd()` Gives current working directory"
   ]
  },
  {
   "cell_type": "code",
   "execution_count": 1,
   "metadata": {},
   "outputs": [
    {
     "data": {
      "text/plain": [
       "'d:\\\\DS Study\\\\code files\\\\Ineuron FSDS 2.0\\\\assignments\\\\Python Basics'"
      ]
     },
     "execution_count": 1,
     "metadata": {},
     "output_type": "execute_result"
    }
   ],
   "source": [
    "import os \n",
    "os.getcwd() # Gives current working directory"
   ]
  },
  {
   "attachments": {},
   "cell_type": "markdown",
   "metadata": {},
   "source": [
    "By using `os.chdir()` for changing our working directory"
   ]
  },
  {
   "cell_type": "code",
   "execution_count": 7,
   "metadata": {},
   "outputs": [],
   "source": [
    "os.chdir('d:\\\\DS Study\\\\code files\\\\Ineuron FSDS 2.0\\\\projects')"
   ]
  },
  {
   "cell_type": "code",
   "execution_count": 8,
   "metadata": {},
   "outputs": [
    {
     "data": {
      "text/plain": [
       "'d:\\\\DS Study\\\\code files\\\\Ineuron FSDS 2.0\\\\projects'"
      ]
     },
     "execution_count": 8,
     "metadata": {},
     "output_type": "execute_result"
    }
   ],
   "source": [
    "os.getcwd() # we have successfully changed the working directory\n"
   ]
  },
  {
   "cell_type": "code",
   "execution_count": 9,
   "metadata": {},
   "outputs": [
    {
     "data": {
      "text/plain": [
       "'d:\\\\DS Study\\\\code files\\\\Ineuron FSDS 2.0\\\\assignments\\\\Python Basics'"
      ]
     },
     "execution_count": 9,
     "metadata": {},
     "output_type": "execute_result"
    }
   ],
   "source": [
    "# changing back to the original directory: \n",
    "os.chdir('d:\\\\DS Study\\\\code files\\\\Ineuron FSDS 2.0\\\\assignments\\\\Python Basics')\n",
    "os.getcwd()"
   ]
  },
  {
   "attachments": {},
   "cell_type": "markdown",
   "metadata": {},
   "source": [
    "### Que 4 | Ans: \n"
   ]
  },
  {
   "attachments": {},
   "cell_type": "markdown",
   "metadata": {},
   "source": [
    "The `\".\"` folder is used to refer to the current directory. For example, if you're in the directory `\"/home/user\"`, then the `\".\"` folder refers to `\"/home/user\"`.\n",
    "\n",
    "The `\"..\"` folder is used to refer to the parent directory. For example, if you're in the directory `\"/home/user\"`, then the `\"..\" `folder refers to `\"/home\"`."
   ]
  },
  {
   "attachments": {},
   "cell_type": "markdown",
   "metadata": {},
   "source": [
    "### Que 5 | Ans: "
   ]
  },
  {
   "attachments": {},
   "cell_type": "markdown",
   "metadata": {},
   "source": [
    "In the path `\"C:\\bacon\\eggs\\spam.txt\"`, `\"C:\\bacon\\eggs\"` is the directory or folder name, and `\"spam.txt\"` is the base name or file name."
   ]
  },
  {
   "attachments": {},
   "cell_type": "markdown",
   "metadata": {},
   "source": [
    "### Que 6 | Ans:  "
   ]
  },
  {
   "cell_type": "markdown",
   "metadata": {},
   "source": [
    "The three mode arguments that can be passed to the open() function in Python are:\n",
    "\n",
    "\"r\" - read mode: This is the default mode and it allows the file to be read.\n",
    "\n",
    "\"w\" - write mode: This mode allows the file to be written to. If the file already exists, the contents of the file will be overwritten. If the file does not exist, a new file will be created.\n",
    "\n",
    "\"a\" - append mode: This mode allows new data to be added to the end of an existing file. If the file does not exist, a new file will be created."
   ]
  },
  {
   "attachments": {},
   "cell_type": "markdown",
   "metadata": {},
   "source": [
    "### Que 7 | Ans: "
   ]
  },
  {
   "attachments": {},
   "cell_type": "markdown",
   "metadata": {},
   "source": [
    "This mode allows the file to be written to. If the file already exists, the contents of the file will be overwritten. If the file does not exist, a new file will be created."
   ]
  },
  {
   "attachments": {},
   "cell_type": "markdown",
   "metadata": {},
   "source": [
    "### Que 8 | Ans: "
   ]
  },
  {
   "cell_type": "markdown",
   "metadata": {},
   "source": [
    "read() returns the entire content of a file as a single string, while readlines() returns a list of strings, where each string represents a single line of the file."
   ]
  },
  {
   "attachments": {},
   "cell_type": "markdown",
   "metadata": {},
   "source": [
    "### Que 9 | Ans: "
   ]
  },
  {
   "attachments": {},
   "cell_type": "markdown",
   "metadata": {},
   "source": [
    "shelf is a persistent, dictionary-like object that is used to store key-value pairs on disk. A shelf value is similar to a dictionary in that it consists of key-value pairs, but it is stored as a binary file on disk rather than in memory."
   ]
  }
 ],
 "metadata": {
  "kernelspec": {
   "display_name": "Python 3",
   "language": "python",
   "name": "python3"
  },
  "language_info": {
   "codemirror_mode": {
    "name": "ipython",
    "version": 3
   },
   "file_extension": ".py",
   "mimetype": "text/x-python",
   "name": "python",
   "nbconvert_exporter": "python",
   "pygments_lexer": "ipython3",
   "version": "3.10.2"
  },
  "orig_nbformat": 4
 },
 "nbformat": 4,
 "nbformat_minor": 2
}
