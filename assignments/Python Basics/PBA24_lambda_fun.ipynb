{
 "cells": [
  {
   "attachments": {},
   "cell_type": "markdown",
   "metadata": {},
   "source": [
    "# Python Basic | Assignment 24"
   ]
  },
  {
   "attachments": {},
   "cell_type": "markdown",
   "metadata": {},
   "source": [
    "Link to [Questions](https://drive.google.com/file/d/1L5j15Uz6FWjWytv5BicpcviByzRO8Gl8/view) "
   ]
  },
  {
   "attachments": {},
   "cell_type": "markdown",
   "metadata": {},
   "source": [
    "### Q 1 | Ans:"
   ]
  },
  {
   "attachments": {},
   "cell_type": "markdown",
   "metadata": {},
   "source": [
    "both def statements and lambda expressions can be used to create functions in Python, but def statements are used to define named functions with a block of code, while lambda expressions are used to create anonymous functions with a single expression."
   ]
  },
  {
   "cell_type": "code",
   "execution_count": 6,
   "metadata": {},
   "outputs": [
    {
     "name": "stdout",
     "output_type": "stream",
     "text": [
      "5\n"
     ]
    }
   ],
   "source": [
    "add = lambda x, y: x + y # used for one liner functions\n",
    "\n",
    "result = add(2, 3)\n",
    "print(result)\n"
   ]
  },
  {
   "cell_type": "code",
   "execution_count": 5,
   "metadata": {},
   "outputs": [
    {
     "name": "stdout",
     "output_type": "stream",
     "text": [
      "5\n"
     ]
    }
   ],
   "source": [
    "def add(x, y):\n",
    "    return x + y\n",
    "\n",
    "result = add(2, 3)\n",
    "print(result)\n",
    "\n"
   ]
  },
  {
   "attachments": {},
   "cell_type": "markdown",
   "metadata": {},
   "source": [
    "### Q 2 | Ans:"
   ]
  },
  {
   "attachments": {},
   "cell_type": "markdown",
   "metadata": {},
   "source": [
    "lambda expressions in Python provides several benefits such as concise syntax, anonymous functions, support for functional programming, improved code readability, and faster execution for small functions. This makes lambda expressions a useful tool for writing clean, efficient, and readable code in Python."
   ]
  },
  {
   "attachments": {},
   "cell_type": "markdown",
   "metadata": {},
   "source": [
    "### Q 3 | Ans:"
   ]
  },
  {
   "cell_type": "code",
   "execution_count": 2,
   "metadata": {},
   "outputs": [
    {
     "data": {
      "text/plain": [
       "[2, 4, 6, 8, 10]"
      ]
     },
     "execution_count": 2,
     "metadata": {},
     "output_type": "execute_result"
    }
   ],
   "source": [
    "# map:\n",
    "\n",
    "new_list = list(map(lambda x: x * 2, [1, 2, 3, 4, 5])) # works with operations\n",
    "new_list \n"
   ]
  },
  {
   "cell_type": "code",
   "execution_count": 4,
   "metadata": {},
   "outputs": [
    {
     "data": {
      "text/plain": [
       "[2, 4]"
      ]
     },
     "execution_count": 4,
     "metadata": {},
     "output_type": "execute_result"
    }
   ],
   "source": [
    "#filter:\n",
    "\n",
    "new_list = list(filter(lambda x: x % 2 == 0, [1, 2, 3, 4, 5])) # works with condition\n",
    "new_list"
   ]
  },
  {
   "cell_type": "code",
   "execution_count": 10,
   "metadata": {},
   "outputs": [
    {
     "name": "stdout",
     "output_type": "stream",
     "text": [
      "15\n",
      "15\n"
     ]
    }
   ],
   "source": [
    "#reduce:\n",
    "from functools import reduce\n",
    "\n",
    "numbers = [1, 2, 3, 4, 5]\n",
    "total = reduce(lambda x, y: x + y, numbers)\n",
    "# (((((1)+2)+3)+4)+5)\n",
    "print((((((1)+2)+3)+4)+5))\n",
    "\n",
    "print(total)  # Output: 15\n",
    "\n"
   ]
  },
  {
   "attachments": {},
   "cell_type": "markdown",
   "metadata": {},
   "source": [
    "### Q 4 | Ans:"
   ]
  },
  {
   "cell_type": "markdown",
   "metadata": {},
   "source": [
    "function annotations in Python are a way to add metadata to function parameters and return values, which can be used for documentation, static analysis, and type checking purposes."
   ]
  },
  {
   "cell_type": "code",
   "execution_count": 8,
   "metadata": {},
   "outputs": [
    {
     "data": {
      "text/plain": [
       "'Hello, omkar! You are 23 years old.'"
      ]
     },
     "execution_count": 8,
     "metadata": {},
     "output_type": "execute_result"
    }
   ],
   "source": [
    "def greet(name: str, age: int) -> str:\n",
    "    return f\"Hello, {name}! You are {age} years old.\"\n",
    "\n",
    "greet(\"omkar\", 23)\n"
   ]
  },
  {
   "attachments": {},
   "cell_type": "markdown",
   "metadata": {},
   "source": [
    "### Q 5 | Ans:"
   ]
  },
  {
   "attachments": {},
   "cell_type": "markdown",
   "metadata": {},
   "source": [
    "Recursive functions are functions that call themselves within their own definition. "
   ]
  },
  {
   "cell_type": "code",
   "execution_count": 12,
   "metadata": {},
   "outputs": [
    {
     "data": {
      "text/plain": [
       "120"
      ]
     },
     "execution_count": 12,
     "metadata": {},
     "output_type": "execute_result"
    }
   ],
   "source": [
    "def factorial(n):\n",
    "    if n == 0:\n",
    "        return 1\n",
    "    else:\n",
    "        return n * factorial(n-1)\n",
    "\n",
    "factorial(5)\n"
   ]
  },
  {
   "attachments": {},
   "cell_type": "markdown",
   "metadata": {},
   "source": [
    "### Q 6 | Ans:"
   ]
  },
  {
   "attachments": {},
   "cell_type": "markdown",
   "metadata": {},
   "source": [
    "Choose a descriptive name for the function.\n",
    "\n",
    "Write a docstring that explains the purpose of the function and how to use it.\n",
    "\n",
    "Validate input parameters to ensure they meet expected requirements.\n",
    "\n",
    "Organize the function in a clear and logical way, and use comments when necessary.\n",
    "\n",
    "Divide complex functions into smaller, more manageable functions.\n",
    "\n",
    "Include error handling to prevent the program from crashing.\n",
    "\n",
    "Write efficient code to optimize performance.\n",
    "\n",
    "Test the function thoroughly under different conditions.\n",
    "\n",
    "Use version control to track changes to the function over time."
   ]
  },
  {
   "attachments": {},
   "cell_type": "markdown",
   "metadata": {},
   "source": [
    "### Q 7 | Ans:"
   ]
  },
  {
   "attachments": {},
   "cell_type": "markdown",
   "metadata": {},
   "source": [
    "Return statements: Functions can use return statements to send a value or values back to the caller.\n",
    "\n",
    "Print statements: Functions can use print statements to display output directly to the console or terminal.\n",
    "\n",
    "Global variables: Functions can modify or read global variables to communicate results to the caller.\n",
    "\n",
    "Exceptions: Functions can raise exceptions to indicate that an error or exceptional condition has occurred.\n",
    "\n",
    "Callbacks: Functions can accept callback functions as arguments, which the caller can use to process the results.\n",
    "\n",
    "Yield statements: Functions can use yield statements to return a generator object that can be used to iterate over a sequence of values."
   ]
  },
  {
   "attachments": {},
   "cell_type": "markdown",
   "metadata": {},
   "source": [
    "### The End"
   ]
  }
 ],
 "metadata": {
  "kernelspec": {
   "display_name": "Python 3",
   "language": "python",
   "name": "python3"
  },
  "language_info": {
   "codemirror_mode": {
    "name": "ipython",
    "version": 3
   },
   "file_extension": ".py",
   "mimetype": "text/x-python",
   "name": "python",
   "nbconvert_exporter": "python",
   "pygments_lexer": "ipython3",
   "version": "3.10.6"
  },
  "orig_nbformat": 4
 },
 "nbformat": 4,
 "nbformat_minor": 2
}
