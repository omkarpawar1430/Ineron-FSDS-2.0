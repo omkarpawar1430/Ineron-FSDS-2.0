{
 "cells": [
  {
   "attachments": {},
   "cell_type": "markdown",
   "metadata": {},
   "source": [
    "# Python Basic | Assignment 10"
   ]
  },
  {
   "attachments": {},
   "cell_type": "markdown",
   "metadata": {},
   "source": [
    "Question Link: https://drive.google.com/file/d/1yJUkFnTU8Dwio2DeGFindxapm7ZX1SW9/view"
   ]
  },
  {
   "attachments": {},
   "cell_type": "markdown",
   "metadata": {},
   "source": [
    "### Que 1 | Ans: "
   ]
  },
  {
   "attachments": {},
   "cell_type": "markdown",
   "metadata": {},
   "source": [
    "`shutil.copy(src, dst)` is used to copy a single file from the source path `(src)` to the destination path `(dst)`. If the dst path exists, the function will overwrite it. If it does not exist, a new file will be created."
   ]
  },
  {
   "attachments": {},
   "cell_type": "markdown",
   "metadata": {},
   "source": [
    "`shutil.copytree(src, dst)` is used to recursively copy a directory and its contents from the source path `(src)` to the destination path `(dst)`. If the `dst` directory already exists, the function will raise an error. If it does not exist, a new directory will be created."
   ]
  },
  {
   "attachments": {},
   "cell_type": "markdown",
   "metadata": {},
   "source": [
    "### Que 2 | Ans: "
   ]
  },
  {
   "attachments": {},
   "cell_type": "markdown",
   "metadata": {},
   "source": [
    "The function used to rename files in the `shutil` module is `shutil.move(src, dst)`. This function moves a file or a directory tree from the source path `(src)` to the destination path `(dst)`. If the dst path already exists, the function will overwrite it. If it does not exist, the function will rename the file or directory to the new destination."
   ]
  },
  {
   "attachments": {},
   "cell_type": "markdown",
   "metadata": {},
   "source": [
    "### Que 3 | Ans:"
   ]
  },
  {
   "attachments": {},
   "cell_type": "markdown",
   "metadata": {},
   "source": [
    "The `shutil` module provides the `shutil.rmtree(path)` function, which deletes a directory tree and its contents permanently. Once you use `shutil.rmtree()`, the files are gone and cannot be recovered. It is a more aggressive method of deleting files and directories.\n",
    "\n",
    "On the other hand, the send2trash module provides the `send2trash.send2trash(path)` function, which moves a file or directory to the system's trash or recycle bin, depending on the platform. The files can be restored from the trash or recycle bin if needed."
   ]
  },
  {
   "attachments": {},
   "cell_type": "markdown",
   "metadata": {},
   "source": [
    "### Que 4 | Ans:"
   ]
  },
  {
   "attachments": {},
   "cell_type": "markdown",
   "metadata": {},
   "source": [
    "The `ZipFile` method that is equivalent to File objects' `open()` method is `ZipFile()` itself.\n",
    "\n",
    "The `ZipFile()` constructor is used to open a ZIP archive file, and it returns a ZipFile object that can be used to read, write, and manipulate the contents of the archive."
   ]
  },
  {
   "attachments": {},
   "cell_type": "markdown",
   "metadata": {},
   "source": [
    "### Que 5 | Ans: \n"
   ]
  },
  {
   "cell_type": "code",
   "execution_count": null,
   "metadata": {},
   "outputs": [],
   "source": [
    "import os\n",
    "import shutil\n",
    "folder_to_search = \"/path/to/folder\"\n",
    "file_extension = \".pdf\" \n",
    "destination_folder = \"/path/to/destination\"\n",
    "if not os.path.exists(destination_folder):\n",
    "    os.makedirs(destination_folder)\n",
    "\n",
    "for root, dirs, files in os.walk(folder_to_search):\n",
    "    for file in files:\n",
    "        if file.endswith(file_extension):\n",
    "            file_path = os.path.join(root, file)\n",
    "            destination_path = os.path.join(destination_folder, file)\n",
    "            shutil.copyfile(file_path, destination_path)\n",
    "            print(f\"Copied {file} to {destination_folder}\")"
   ]
  }
 ],
 "metadata": {
  "language_info": {
   "name": "python"
  },
  "orig_nbformat": 4
 },
 "nbformat": 4,
 "nbformat_minor": 2
}
