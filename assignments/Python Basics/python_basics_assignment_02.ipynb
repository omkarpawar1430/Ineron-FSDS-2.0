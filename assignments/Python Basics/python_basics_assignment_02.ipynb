{
 "cells": [
  {
   "cell_type": "markdown",
   "metadata": {},
   "source": [
    "# Python Basic | Assignment 02"
   ]
  },
  {
   "attachments": {},
   "cell_type": "markdown",
   "metadata": {},
   "source": [
    "### 1.What are the two values of the Boolean data type? How do you write them?"
   ]
  },
  {
   "attachments": {},
   "cell_type": "markdown",
   "metadata": {},
   "source": [
    "The two values of the Boolean data type are \"True\" and \"False\". We can use these values in conditional statements, loops and wherever we have to make binary decisions.\n",
    "True - 1\n",
    "False - 0"
   ]
  },
  {
   "cell_type": "code",
   "execution_count": 4,
   "metadata": {},
   "outputs": [],
   "source": [
    "x =  True\n",
    "y = False"
   ]
  },
  {
   "cell_type": "code",
   "execution_count": 3,
   "metadata": {},
   "outputs": [
    {
     "name": "stdout",
     "output_type": "stream",
     "text": [
      "keep the work going\n",
      "keep the work going\n",
      "keep the work going\n",
      "keep the work going\n",
      "keep the work going\n"
     ]
    }
   ],
   "source": [
    "flag = True\n",
    "while flag:\n",
    "    for i in range(5):\n",
    "      print(\"keep the work going\")\n",
    "      if i == 4:\n",
    "        flag = False"
   ]
  },
  {
   "attachments": {},
   "cell_type": "markdown",
   "metadata": {},
   "source": [
    "### 2. What are the three different types of Boolean operators?\n"
   ]
  },
  {
   "attachments": {},
   "cell_type": "markdown",
   "metadata": {},
   "source": [
    "Three types of boolean operators are as follows:\n",
    "1. And \n",
    "2. OR\n",
    "3. NOT"
   ]
  },
  {
   "attachments": {},
   "cell_type": "markdown",
   "metadata": {},
   "source": [
    "### 3. Make a list of each Boolean operator's truth tables (i.e. every possible combination of Boolean values for the operator and what it evaluate ).\n"
   ]
  },
  {
   "attachments": {},
   "cell_type": "markdown",
   "metadata": {},
   "source": [
    "We have And , OR & Not as boolean operators.\n",
    "\n",
    "Truth = 1\n",
    "False = 0\n",
    "\n",
    "x | y | x and y\n",
    "---------|----------|---------\n",
    " 1 | 1 | 1\n",
    " 1 | 0 | 0\n",
    " 0 | 1 | 0\n",
    " 0 | 0 | 0\n",
    "\n",
    "---------------------------------------------------\n",
    "\n",
    "x | y | x or y\n",
    "---------|----------|---------\n",
    " 1 | 1 | 1\n",
    " 1 | 0 | 1\n",
    " 0 | 1 | 1\n",
    " 0 | 0 | 0\n",
    "\n",
    "\n",
    "--------------------------------------------------\n",
    "\n",
    "x | x not | \n",
    "---------|----------|\n",
    " 1 | 0 | \n",
    " 0 | 1 | \n",
    " "
   ]
  },
  {
   "attachments": {},
   "cell_type": "markdown",
   "metadata": {},
   "source": [
    "### 4. What are the values of the following expressions?\n"
   ]
  },
  {
   "attachments": {},
   "cell_type": "markdown",
   "metadata": {},
   "source": [
    "1. (5 > 4) and (3 == 5) \n",
    "\n",
    "ans: 1 and 0 = 0 \n",
    "```\n",
    "False\n",
    "```\n",
    "2. not (5 > 4)\n",
    "\n",
    "ans: not 1 = 0\n",
    "```\n",
    "False\n",
    "```\n",
    "\n",
    "3. (5 > 4) or (3 == 5)\n",
    "\n",
    "ans: 1 or 0 = 1\n",
    "```\n",
    "True\n",
    "```\n",
    "\n",
    "4. not ((5 > 4) or (3 == 5))\n",
    "\n",
    "ans: not(1 or 0) = 0\n",
    "```\n",
    "False\n",
    "```\n",
    "\n",
    "5. (True and True) and (True == False)\n",
    "\n",
    "ans: 1 and 0 = 0\n",
    "```\n",
    "False\n",
    "```\n",
    "\n",
    "6. (not False) or (not True)\n",
    "ans: 1 or 0 = 1 \n",
    "```\n",
    "True\n",
    "```"
   ]
  },
  {
   "cell_type": "code",
   "execution_count": 2,
   "metadata": {},
   "outputs": [
    {
     "name": "stdout",
     "output_type": "stream",
     "text": [
      "ans1 False\n",
      "ans2 False\n",
      "ans3 True\n",
      "ans4 False\n",
      "ans5 False\n",
      "ans6 True\n"
     ]
    }
   ],
   "source": [
    "# Cross Verification of above answers:\n",
    "print(\"ans1\", (5 > 4) and (3 == 5))\n",
    "print(\"ans2\", not (5 > 4))\n",
    "print(\"ans3\", (5 > 4) or (3 == 5))\n",
    "print(\"ans4\", not ((5 > 4) or (3 == 5)))\n",
    "print(\"ans5\", (True and True) and (True == False))\n",
    "print(\"ans6\", (not False) or (not True))"
   ]
  },
  {
   "attachments": {},
   "cell_type": "markdown",
   "metadata": {},
   "source": [
    "### 5. What are the six comparison operators?"
   ]
  },
  {
   "attachments": {},
   "cell_type": "markdown",
   "metadata": {},
   "source": [
    "Comparison operators compares values and returns the boolean output."
   ]
  },
  {
   "attachments": {},
   "cell_type": "markdown",
   "metadata": {},
   "source": [
    "1. Equal : \n",
    "```\n",
    "== \n",
    "\n",
    "```\n",
    "compares two values to look if they are same."
   ]
  },
  {
   "cell_type": "code",
   "execution_count": 3,
   "metadata": {},
   "outputs": [
    {
     "data": {
      "text/plain": [
       "True"
      ]
     },
     "execution_count": 3,
     "metadata": {},
     "output_type": "execute_result"
    }
   ],
   "source": [
    "1 == 1"
   ]
  },
  {
   "cell_type": "code",
   "execution_count": 4,
   "metadata": {},
   "outputs": [
    {
     "data": {
      "text/plain": [
       "False"
      ]
     },
     "execution_count": 4,
     "metadata": {},
     "output_type": "execute_result"
    }
   ],
   "source": [
    "1 == 2"
   ]
  },
  {
   "attachments": {},
   "cell_type": "markdown",
   "metadata": {},
   "source": [
    "2. not equal : \n",
    "```\n",
    "!=\n",
    "\n",
    "```\n",
    "compares two values to look if they are different."
   ]
  },
  {
   "cell_type": "code",
   "execution_count": 5,
   "metadata": {},
   "outputs": [
    {
     "data": {
      "text/plain": [
       "True"
      ]
     },
     "execution_count": 5,
     "metadata": {},
     "output_type": "execute_result"
    }
   ],
   "source": [
    "1 != 2"
   ]
  },
  {
   "cell_type": "code",
   "execution_count": 6,
   "metadata": {},
   "outputs": [
    {
     "data": {
      "text/plain": [
       "False"
      ]
     },
     "execution_count": 6,
     "metadata": {},
     "output_type": "execute_result"
    }
   ],
   "source": [
    "1 != 1"
   ]
  },
  {
   "attachments": {},
   "cell_type": "markdown",
   "metadata": {},
   "source": [
    "3. Greater than: \n",
    "```\n",
    ">\n",
    "```\n",
    "\n",
    "compares two values to look if one value is greater than the other."
   ]
  },
  {
   "cell_type": "code",
   "execution_count": 1,
   "metadata": {},
   "outputs": [
    {
     "data": {
      "text/plain": [
       "True"
      ]
     },
     "execution_count": 1,
     "metadata": {},
     "output_type": "execute_result"
    }
   ],
   "source": [
    "2 > 1"
   ]
  },
  {
   "cell_type": "code",
   "execution_count": 2,
   "metadata": {},
   "outputs": [
    {
     "data": {
      "text/plain": [
       "False"
      ]
     },
     "execution_count": 2,
     "metadata": {},
     "output_type": "execute_result"
    }
   ],
   "source": [
    "1 > 2 "
   ]
  },
  {
   "attachments": {},
   "cell_type": "markdown",
   "metadata": {},
   "source": [
    "4. Less than\n",
    "```\n",
    "<\n",
    "```\n",
    "\n",
    "compares two values to look if one is less than the other."
   ]
  },
  {
   "cell_type": "code",
   "execution_count": 3,
   "metadata": {},
   "outputs": [
    {
     "data": {
      "text/plain": [
       "True"
      ]
     },
     "execution_count": 3,
     "metadata": {},
     "output_type": "execute_result"
    }
   ],
   "source": [
    "1 < 2"
   ]
  },
  {
   "cell_type": "code",
   "execution_count": 4,
   "metadata": {},
   "outputs": [
    {
     "data": {
      "text/plain": [
       "False"
      ]
     },
     "execution_count": 4,
     "metadata": {},
     "output_type": "execute_result"
    }
   ],
   "source": [
    "2 < 1 "
   ]
  },
  {
   "attachments": {},
   "cell_type": "markdown",
   "metadata": {},
   "source": [
    "5. Greater than equal to\n",
    "```\n",
    ">=\n",
    "```\n",
    "\n",
    "compares two values to look if one value is greater than or equal to with another."
   ]
  },
  {
   "cell_type": "code",
   "execution_count": 5,
   "metadata": {},
   "outputs": [
    {
     "data": {
      "text/plain": [
       "True"
      ]
     },
     "execution_count": 5,
     "metadata": {},
     "output_type": "execute_result"
    }
   ],
   "source": [
    "1 >= 0"
   ]
  },
  {
   "cell_type": "code",
   "execution_count": 6,
   "metadata": {},
   "outputs": [
    {
     "data": {
      "text/plain": [
       "True"
      ]
     },
     "execution_count": 6,
     "metadata": {},
     "output_type": "execute_result"
    }
   ],
   "source": [
    "1 >= 1"
   ]
  },
  {
   "attachments": {},
   "cell_type": "markdown",
   "metadata": {},
   "source": [
    "6. Less than equal to:\n",
    "```\n",
    "<= \n",
    "```\n",
    "\n",
    "compares two values to look if one value is less than or equal to the other."
   ]
  },
  {
   "cell_type": "code",
   "execution_count": 7,
   "metadata": {},
   "outputs": [
    {
     "data": {
      "text/plain": [
       "True"
      ]
     },
     "execution_count": 7,
     "metadata": {},
     "output_type": "execute_result"
    }
   ],
   "source": [
    "0 <= 1"
   ]
  },
  {
   "cell_type": "code",
   "execution_count": 8,
   "metadata": {},
   "outputs": [
    {
     "data": {
      "text/plain": [
       "True"
      ]
     },
     "execution_count": 8,
     "metadata": {},
     "output_type": "execute_result"
    }
   ],
   "source": [
    "0 <= 0"
   ]
  },
  {
   "attachments": {},
   "cell_type": "markdown",
   "metadata": {},
   "source": [
    "### 6. How do you tell the difference between the equal to and assignment operators?Describe a condition and when you would use one."
   ]
  },
  {
   "attachments": {},
   "cell_type": "markdown",
   "metadata": {},
   "source": [
    "The \"equal to\" operator (==) is used to compare the equality of two values, while the \"assignment\" operator (=) is used to assign a value to a variable."
   ]
  },
  {
   "cell_type": "code",
   "execution_count": 15,
   "metadata": {},
   "outputs": [
    {
     "name": "stdout",
     "output_type": "stream",
     "text": [
      "You are eligible to apply for job of Agni Veer Soldier.\n"
     ]
    }
   ],
   "source": [
    "\"\"\" \n",
    "When we want to assign the value to a variable and we want to perform \n",
    "when Certain conditions are met. First we will assign a value to a variable, then we will \n",
    "check if our condition is satisfied or not then only we will execute the code.\n",
    "\"\"\"\n",
    "# For example:\n",
    "\n",
    "age = 18 # Here we are assigning  value 18 to a variable age.\n",
    "\n",
    "if age == 18: # We are checking if our condition is satisfied. Which will give as True of False as output.\n",
    "    print(\"You are eligible to apply for job of Agni Veer Soldier.\")\n",
    "else:\n",
    "    print(\"Either it's too late or it's too early. Thanks for showing your interest.\")\n"
   ]
  },
  {
   "cell_type": "markdown",
   "metadata": {},
   "source": [
    "### 7. Identify the three blocks in this code:\n"
   ]
  },
  {
   "attachments": {},
   "cell_type": "markdown",
   "metadata": {},
   "source": [
    "```\n",
    "spam = 0\n",
    "if spam == 10:\n",
    "    print('eggs')\n",
    "if spam > 5:\n",
    "    print('bacon')\n",
    "else:\n",
    "    print('ham')\n",
    "    print('spam')\n",
    "    print('spam')\n",
    "\n",
    "```"
   ]
  },
  {
   "attachments": {},
   "cell_type": "markdown",
   "metadata": {},
   "source": [
    "There are two if blocks and one else black."
   ]
  },
  {
   "cell_type": "code",
   "execution_count": 17,
   "metadata": {},
   "outputs": [
    {
     "name": "stdout",
     "output_type": "stream",
     "text": [
      "ham\n",
      "spam\n",
      "spam\n"
     ]
    }
   ],
   "source": [
    "spam = 0\n",
    "if spam == 10:\n",
    "    print('eggs') # first block of code\n",
    "if spam > 5:\n",
    "    print('bacon') # second block of code\n",
    "else:\n",
    "    print('ham') # third block of code\n",
    "    print('spam')\n",
    "    print('spam')"
   ]
  },
  {
   "attachments": {},
   "cell_type": "markdown",
   "metadata": {},
   "source": [
    "### 8. Write code that prints Hello if 1 is stored in spam, prints Howdy if 2 is stored in spam, and prints Greetings! if anything else is stored in spam."
   ]
  },
  {
   "cell_type": "code",
   "execution_count": 24,
   "metadata": {},
   "outputs": [
    {
     "name": "stdout",
     "output_type": "stream",
     "text": [
      "Input 2\n",
      "Howdy\n"
     ]
    }
   ],
   "source": [
    "spam = int(input(\" Enter a numeric value:  \"))\n",
    "print(\"Input\", spam)\n",
    "\n",
    "if spam == 1: \n",
    "    print(\"Hello\")\n",
    "elif spam == 2:\n",
    "    print(\"Howdy\")\n",
    "else:\n",
    "    print(\"Greetings\")"
   ]
  },
  {
   "attachments": {},
   "cell_type": "markdown",
   "metadata": {},
   "source": [
    "###  9.If your programme is stuck in an endless loop, what keys you’ll press?"
   ]
  },
  {
   "attachments": {},
   "cell_type": "markdown",
   "metadata": {},
   "source": [
    "we will press stop execution key. "
   ]
  },
  {
   "cell_type": "code",
   "execution_count": 26,
   "metadata": {},
   "outputs": [
    {
     "ename": "KeyboardInterrupt",
     "evalue": "",
     "output_type": "error",
     "traceback": [
      "\u001b[1;31m---------------------------------------------------------------------------\u001b[0m",
      "\u001b[1;31mKeyboardInterrupt\u001b[0m                         Traceback (most recent call last)",
      "\u001b[1;32md:\\code files\\Ineron FSDS 2.0\\assignments\\Python Basics\\python_basics_assignment_02.ipynb Cell 43\u001b[0m in \u001b[0;36m<cell line: 2>\u001b[1;34m()\u001b[0m\n\u001b[0;32m      <a href='vscode-notebook-cell:/d%3A/code%20files/Ineron%20FSDS%202.0/assignments/Python%20Basics/python_basics_assignment_02.ipynb#X65sZmlsZQ%3D%3D?line=0'>1</a>\u001b[0m flag \u001b[39m=\u001b[39m \u001b[39mTrue\u001b[39;00m\n\u001b[1;32m----> <a href='vscode-notebook-cell:/d%3A/code%20files/Ineron%20FSDS%202.0/assignments/Python%20Basics/python_basics_assignment_02.ipynb#X65sZmlsZQ%3D%3D?line=1'>2</a>\u001b[0m \u001b[39mwhile\u001b[39;00m flag:\n\u001b[0;32m      <a href='vscode-notebook-cell:/d%3A/code%20files/Ineron%20FSDS%202.0/assignments/Python%20Basics/python_basics_assignment_02.ipynb#X65sZmlsZQ%3D%3D?line=2'>3</a>\u001b[0m     x \u001b[39m=\u001b[39m \u001b[39m13\u001b[39m\n",
      "\u001b[1;31mKeyboardInterrupt\u001b[0m: "
     ]
    }
   ],
   "source": [
    "flag = True\n",
    "while flag:\n",
    "    x = 13 "
   ]
  },
  {
   "cell_type": "markdown",
   "metadata": {},
   "source": [
    "### 10. How can you tell the difference between break and continue?"
   ]
  },
  {
   "attachments": {},
   "cell_type": "markdown",
   "metadata": {},
   "source": [
    "```\n",
    "break \n",
    "continue\n",
    "pass\n",
    "```\n",
    "\n",
    "These three are control flow statements. "
   ]
  },
  {
   "attachments": {},
   "cell_type": "markdown",
   "metadata": {},
   "source": [
    "When the interpreter encounters a break statement inside a loop, it immediately exits the loop and continues with the next statement after the loop."
   ]
  },
  {
   "attachments": {},
   "cell_type": "markdown",
   "metadata": {},
   "source": [
    "The continue statement, on the other hand, is used to skip the current iteration of the loop and continue with the next iteration. When the interpreter encounters a continue statement inside a loop, it skips the remaining statements in the current iteration and moves on to the next iteration."
   ]
  },
  {
   "cell_type": "code",
   "execution_count": 30,
   "metadata": {},
   "outputs": [
    {
     "name": "stdout",
     "output_type": "stream",
     "text": [
      "0\n",
      "1\n",
      "2\n"
     ]
    }
   ],
   "source": [
    "for i in range(5):\n",
    "    if i == 3:\n",
    "        break # breaks the entire loop , i.e. i = 3\n",
    "    print(i)"
   ]
  },
  {
   "cell_type": "code",
   "execution_count": 31,
   "metadata": {},
   "outputs": [
    {
     "name": "stdout",
     "output_type": "stream",
     "text": [
      "0\n",
      "1\n",
      "2\n",
      "4\n"
     ]
    }
   ],
   "source": [
    "for i in range(5):\n",
    "    if i == 3:\n",
    "        continue # skips the current iteration , i.e. i = 3\n",
    "    print(i)"
   ]
  },
  {
   "cell_type": "code",
   "execution_count": 33,
   "metadata": {},
   "outputs": [
    {
     "name": "stdout",
     "output_type": "stream",
     "text": [
      "0\n",
      "1\n",
      "2\n",
      "3\n",
      "4\n"
     ]
    }
   ],
   "source": [
    "# pass is used to just fill up the indentation and do nothing.\n",
    "for i in range(5):\n",
    "    if i == 3:\n",
    "        pass # Does nothing, chill mentos life :)\n",
    "    print(i)"
   ]
  },
  {
   "cell_type": "markdown",
   "metadata": {},
   "source": [
    "### 11. In a for loop, what is the difference between range(10), range(0, 10), and range(0, 10, 1)?"
   ]
  },
  {
   "cell_type": "code",
   "execution_count": 34,
   "metadata": {},
   "outputs": [
    {
     "name": "stdout",
     "output_type": "stream",
     "text": [
      "0\n",
      "1\n",
      "2\n",
      "3\n",
      "4\n",
      "5\n",
      "6\n",
      "7\n",
      "8\n",
      "9\n"
     ]
    }
   ],
   "source": [
    "for i in range(10):\n",
    "    print(i)"
   ]
  },
  {
   "cell_type": "code",
   "execution_count": 35,
   "metadata": {},
   "outputs": [
    {
     "name": "stdout",
     "output_type": "stream",
     "text": [
      "0\n",
      "1\n",
      "2\n",
      "3\n",
      "4\n",
      "5\n",
      "6\n",
      "7\n",
      "8\n",
      "9\n"
     ]
    }
   ],
   "source": [
    "for i in range(0, 10):\n",
    "    print(i)"
   ]
  },
  {
   "cell_type": "code",
   "execution_count": 36,
   "metadata": {},
   "outputs": [
    {
     "name": "stdout",
     "output_type": "stream",
     "text": [
      "0\n",
      "1\n",
      "2\n",
      "3\n",
      "4\n",
      "5\n",
      "6\n",
      "7\n",
      "8\n",
      "9\n"
     ]
    }
   ],
   "source": [
    "for i in range(0, 10, 1):\n",
    "    print(i)"
   ]
  },
  {
   "cell_type": "code",
   "execution_count": 44,
   "metadata": {},
   "outputs": [
    {
     "name": "stdout",
     "output_type": "stream",
     "text": [
      "[0, 1, 2, 3, 4, 5, 6, 7, 8, 9]\n",
      "[0, 1, 2, 3, 4, 5, 6, 7, 8, 9]\n",
      "[0, 1, 2, 3, 4, 5, 6, 7, 8, 9]\n"
     ]
    }
   ],
   "source": [
    "# As we can see that there is not difference between the output of three different ways of\n",
    "# writing range function\n",
    "# range(start, end, step) \n",
    "r1 = range(10) # only value for end is given, by default start is 0 and step is 1.\n",
    "print(list(r1))\n",
    "r2 = range(0, 10) # only value for end and start is given, by default step is 1.\n",
    "print(list(r2))\n",
    "r3 = range(0, 10, 1)\n",
    "print(list(r3))"
   ]
  },
  {
   "cell_type": "code",
   "execution_count": 46,
   "metadata": {},
   "outputs": [
    {
     "name": "stdout",
     "output_type": "stream",
     "text": [
      "[0, 1, 2, 3, 4, 5, 6, 7, 8, 9]\n",
      "[5, 6, 7, 8, 9]\n",
      "[5, 7, 9]\n"
     ]
    }
   ],
   "source": [
    "r4 = range(10) # only value for end is given, by default start is 0 and step is 1.\n",
    "print(list(r4))\n",
    "r5 = range(5, 10) # we have start value as 5 and end value as 10(which is excluded)\n",
    "print(list(r5))\n",
    "r6 = range(5, 10, 2) # we have given step value as 2 which will make it jump by 2 points.\n",
    "print(list(r6))"
   ]
  },
  {
   "attachments": {},
   "cell_type": "markdown",
   "metadata": {},
   "source": [
    "### 12. Write a short program that prints the numbers 1 to 10 using a for loop. Then write an equivalent program that prints the numbers 1 to 10 using a while loop."
   ]
  },
  {
   "cell_type": "code",
   "execution_count": 47,
   "metadata": {},
   "outputs": [
    {
     "name": "stdout",
     "output_type": "stream",
     "text": [
      "1\n",
      "2\n",
      "3\n",
      "4\n",
      "5\n",
      "6\n",
      "7\n",
      "8\n",
      "9\n",
      "10\n"
     ]
    }
   ],
   "source": [
    "for i in range(1, 11):\n",
    "    print(i)"
   ]
  },
  {
   "cell_type": "code",
   "execution_count": 48,
   "metadata": {},
   "outputs": [
    {
     "name": "stdout",
     "output_type": "stream",
     "text": [
      "1\n",
      "2\n",
      "3\n",
      "4\n",
      "5\n",
      "6\n",
      "7\n",
      "8\n",
      "9\n",
      "10\n"
     ]
    }
   ],
   "source": [
    "flag = True\n",
    "i = 1\n",
    "while flag:\n",
    "    if i <= 10:\n",
    "        print(i)\n",
    "        i = i + 1\n",
    "    else:\n",
    "        flag = False"
   ]
  },
  {
   "attachments": {},
   "cell_type": "markdown",
   "metadata": {},
   "source": [
    "### 13. If you had a function named bacon() inside a module named spam, how would you call it after importing spam?"
   ]
  },
  {
   "attachments": {},
   "cell_type": "markdown",
   "metadata": {},
   "source": [
    "```\n",
    "\n",
    "spam.bacon()\n",
    "```"
   ]
  },
  {
   "attachments": {},
   "cell_type": "markdown",
   "metadata": {},
   "source": [
    "Here, spam is the name of the module and bacon is the name of the function. To call the function, we can use the syntax \n",
    "\n",
    "```\n",
    "module_name.function_name().\n",
    "```"
   ]
  },
  {
   "cell_type": "markdown",
   "metadata": {},
   "source": []
  }
 ],
 "metadata": {
  "kernelspec": {
   "display_name": "Python 3",
   "language": "python",
   "name": "python3"
  },
  "language_info": {
   "codemirror_mode": {
    "name": "ipython",
    "version": 3
   },
   "file_extension": ".py",
   "mimetype": "text/x-python",
   "name": "python",
   "nbconvert_exporter": "python",
   "pygments_lexer": "ipython3",
   "version": "3.10.2"
  },
  "orig_nbformat": 4,
  "vscode": {
   "interpreter": {
    "hash": "38519c3442d9f767135b0650f6935cb54106bd9267700919f92a37291a156600"
   }
  }
 },
 "nbformat": 4,
 "nbformat_minor": 2
}
