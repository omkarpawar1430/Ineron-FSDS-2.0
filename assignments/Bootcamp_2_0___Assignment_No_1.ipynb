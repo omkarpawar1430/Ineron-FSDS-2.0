{
  "cells": [
    {
      "attachments": {},
      "cell_type": "markdown",
      "metadata": {
        "id": "Q66rsrE48yhP"
      },
      "source": [
        "#### 1. Find out all the types of error that we have encountered in our lecture and why? Also include the examples."
      ]
    },
    {
      "cell_type": "markdown",
      "metadata": {
        "id": "wh-uBEw39TIP"
      },
      "source": [
        "1. NameError: name 'Ten' is not defined"
      ]
    },
    {
      "cell_type": "code",
      "execution_count": 1,
      "metadata": {
        "colab": {
          "base_uri": "https://localhost:8080/",
          "height": 187
        },
        "id": "D--hHGFG8oSj",
        "outputId": "169ec8fa-53e1-4a90-c226-a9ea6ff6fc21"
      },
      "outputs": [
        {
          "ename": "NameError",
          "evalue": "ignored",
          "output_type": "error",
          "traceback": [
            "\u001b[0;31m---------------------------------------------------------------------------\u001b[0m",
            "\u001b[0;31mNameError\u001b[0m                                 Traceback (most recent call last)",
            "\u001b[0;32m<ipython-input-1-c9b4aacf061c>\u001b[0m in \u001b[0;36m<module>\u001b[0;34m\u001b[0m\n\u001b[1;32m      1\u001b[0m \u001b[0mTEN\u001b[0m \u001b[0;34m=\u001b[0m \u001b[0;36m10\u001b[0m\u001b[0;34m\u001b[0m\u001b[0;34m\u001b[0m\u001b[0m\n\u001b[0;32m----> 2\u001b[0;31m \u001b[0mprint\u001b[0m\u001b[0;34m(\u001b[0m\u001b[0mten\u001b[0m\u001b[0;34m)\u001b[0m\u001b[0;34m\u001b[0m\u001b[0;34m\u001b[0m\u001b[0m\n\u001b[0m",
            "\u001b[0;31mNameError\u001b[0m: name 'ten' is not defined"
          ]
        }
      ],
      "source": [
        "TEN = 10\n",
        "print(ten)"
      ]
    },
    {
      "cell_type": "markdown",
      "metadata": {
        "id": "WOczhSg--GBy"
      },
      "source": [
        "** Case sensitivity in Python:** \n",
        "\n",
        "Python is case sensitive language. That is why when we tried to print ten instead of TEN. it is showing us error."
      ]
    },
    {
      "cell_type": "markdown",
      "metadata": {
        "id": "FXdqWjS5_FNu"
      },
      "source": [
        "2. TypeError: 'str' object is not callable"
      ]
    },
    {
      "cell_type": "code",
      "execution_count": 2,
      "metadata": {
        "colab": {
          "base_uri": "https://localhost:8080/",
          "height": 187
        },
        "id": "7xchPrz7_zbC",
        "outputId": "d6ac8af5-ab4b-4847-e4a5-f94ee7f7f4e1"
      },
      "outputs": [
        {
          "ename": "TypeError",
          "evalue": "ignored",
          "output_type": "error",
          "traceback": [
            "\u001b[0;31m---------------------------------------------------------------------------\u001b[0m",
            "\u001b[0;31mTypeError\u001b[0m                                 Traceback (most recent call last)",
            "\u001b[0;32m<ipython-input-2-05e6b03b1e12>\u001b[0m in \u001b[0;36m<module>\u001b[0;34m\u001b[0m\n\u001b[1;32m      1\u001b[0m \u001b[0mprint\u001b[0m \u001b[0;34m=\u001b[0m \u001b[0;34m\"Hello Friends\"\u001b[0m\u001b[0;34m\u001b[0m\u001b[0;34m\u001b[0m\u001b[0m\n\u001b[0;32m----> 2\u001b[0;31m \u001b[0mprint\u001b[0m\u001b[0;34m(\u001b[0m\u001b[0mprint\u001b[0m\u001b[0;34m)\u001b[0m\u001b[0;34m\u001b[0m\u001b[0;34m\u001b[0m\u001b[0m\n\u001b[0m",
            "\u001b[0;31mTypeError\u001b[0m: 'str' object is not callable"
          ]
        }
      ],
      "source": [
        "print = \"Hello Friends\"\n",
        "print(print)"
      ]
    },
    {
      "cell_type": "markdown",
      "metadata": {
        "id": "TUL8BwpjA1RO"
      },
      "source": [
        "Here word print is a Reserved keywords in python so even though we assigned value to it. we ran into error while running the cell."
      ]
    },
    {
      "attachments": {},
      "cell_type": "markdown",
      "metadata": {},
      "source": [
        "#### 2. Take input A and B and print their sum, mul, div, square of the nos "
      ]
    },
    {
      "cell_type": "code",
      "execution_count": 4,
      "metadata": {},
      "outputs": [
        {
          "name": "stdout",
          "output_type": "stream",
          "text": [
            "sum of 2.0 and 3.0 is 5.0\n",
            "Multiplication of 2.0 and 3.0 is 6.0\n",
            "Division of 2.0 and 3.0 is 0.6666666666666666\n",
            "\n",
            "Square of 2.0  is 4.0. \n",
            "Square of 3.0 is 9.0.\n",
            "\n"
          ]
        }
      ],
      "source": [
        "\n",
        "A = float(input(\"Enter a first number =  \"))\n",
        "B = float(input(\"Enter a second number =  \"))\n",
        "Sum = A + B\n",
        "print(f\"sum of {A} and {B} is {Sum}\")\n",
        "mult = A * B\n",
        "print(f\"Multiplication of {A} and {B} is {mult}\")\n",
        "div = A / B\n",
        "print(f\"Division of {A} and {B} is {div}\")\n",
        "sqr_A, sqr_B = A * A, B * B\n",
        "print(f\"\"\"\n",
        "Square of {A}  is {sqr_A}. \n",
        "Square of {B} is {sqr_B}.\n",
        "\"\"\") "
      ]
    },
    {
      "attachments": {},
      "cell_type": "markdown",
      "metadata": {},
      "source": [
        "#### 3. How many reserve keywords are there in python and why we should not use them as a variable name."
      ]
    },
    {
      "attachments": {},
      "cell_type": "markdown",
      "metadata": {},
      "source": [
        "ans: There are 33 reserved words in python. Every reserved word in python have its own meaning and by using those as variables, it causes errors in the code."
      ]
    },
    {
      "attachments": {},
      "cell_type": "markdown",
      "metadata": {
        "id": "1drbCswDFHYy"
      },
      "source": [
        "#### 4. Create email ids with the user inputs. in the following format - lastname.firstname@gmail.com\n"
      ]
    },
    {
      "cell_type": "code",
      "execution_count": 1,
      "metadata": {
        "colab": {
          "base_uri": "https://localhost:8080/",
          "height": 241
        },
        "id": "dtlD6YIy-hfI",
        "outputId": "ab5ae43a-7219-4bfe-f29e-04f6075ff203"
      },
      "outputs": [
        {
          "name": "stdout",
          "output_type": "stream",
          "text": [
            "pawar.omkar@gmail.com\n"
          ]
        }
      ],
      "source": [
        "# To Create Gmail address using last and first name of user:\n",
        "\n",
        "first_name = input(\"Enter your first name: \")\n",
        "last_name = input(\"Enter your last name: \")\n",
        "\n",
        "print(f\"{last_name}.{first_name}@gmail.com\")\n"
      ]
    },
    {
      "attachments": {},
      "cell_type": "markdown",
      "metadata": {},
      "source": [
        "#### 5. Try to print the following lines -\n",
        "1. Hi I'm Sunny\n",
        "2. My address is 22\\3\n",
        "3. I earn 20$ daily."
      ]
    },
    {
      "cell_type": "code",
      "execution_count": 5,
      "metadata": {},
      "outputs": [
        {
          "name": "stdout",
          "output_type": "stream",
          "text": [
            "\n",
            "Hi I'm Omkar,\n",
            "My address is Maharashtra,\n",
            "I earn 100$ daily.\n",
            "\n"
          ]
        }
      ],
      "source": [
        "name = input(\"Enter name = \")\n",
        "address = input(\"Enter address = \")\n",
        "income = input(\"Enter income = \")\n",
        "print(f\"\"\"\n",
        "Hi I'm {name},\n",
        "My address is {address},\n",
        "I earn {income}$ daily.\n",
        "\"\"\")"
      ]
    },
    {
      "attachments": {},
      "cell_type": "markdown",
      "metadata": {},
      "source": [
        "#### 6. Take user input (name, address, date of birth etc) to fill a form for your college and print their email IDs"
      ]
    },
    {
      "cell_type": "code",
      "execution_count": 7,
      "metadata": {},
      "outputs": [
        {
          "name": "stdout",
          "output_type": "stream",
          "text": [
            "\n",
            "Name: omkar\n",
            "Address: Maharashtra\n",
            "DOJ: 2022\n",
            "\n",
            "Hey omkar, Welcome to Dataverse Collage, \n",
            "Your new email address is 'omkar2022@gmail.com' .\n",
            "\n"
          ]
        }
      ],
      "source": [
        "name = input(\"Enter your name: \")\n",
        "address = input(\"Enter your address: \")\n",
        "date_of_joining = input(\"Enter year of joining: \")\n",
        "print(f\"\"\"\n",
        "Name: {name}\n",
        "Address: {address}\n",
        "DOJ: {date_of_joining}\n",
        "\n",
        "Hey {name}, Welcome to Dataverse Collage, \n",
        "Your new email address is '{name}{date_of_joining}@gmail.com' .\n",
        "\"\"\")"
      ]
    },
    {
      "attachments": {},
      "cell_type": "markdown",
      "metadata": {},
      "source": [
        "#### 7. Convert the following -\n",
        "1. \"22.4\" into integer\n",
        "2. \"22\" into complex no."
      ]
    },
    {
      "cell_type": "code",
      "execution_count": 9,
      "metadata": {},
      "outputs": [
        {
          "name": "stdout",
          "output_type": "stream",
          "text": [
            "<class 'float'>\n",
            "22\n",
            "___________________________________\n",
            "<class 'int'>\n",
            "(22+0j)\n"
          ]
        }
      ],
      "source": [
        "# typecasting:\n",
        "print(type(22.4))\n",
        "print(int(22.4))\n",
        "\n",
        "print(\"___________________________________\")\n",
        "\n",
        "print(type(22))\n",
        "print(complex(22))"
      ]
    },
    {
      "cell_type": "code",
      "execution_count": 1,
      "metadata": {},
      "outputs": [],
      "source": [
        "# hi \n",
        "z = 78\n"
      ]
    },
    {
      "cell_type": "code",
      "execution_count": 2,
      "metadata": {},
      "outputs": [
        {
          "data": {
            "text/plain": [
              "78"
            ]
          },
          "execution_count": 2,
          "metadata": {},
          "output_type": "execute_result"
        }
      ],
      "source": [
        "z"
      ]
    },
    {
      "cell_type": "code",
      "execution_count": null,
      "metadata": {},
      "outputs": [],
      "source": []
    }
  ],
  "metadata": {
    "colab": {
      "provenance": []
    },
    "kernelspec": {
      "display_name": "Python 3",
      "language": "python",
      "name": "python3"
    },
    "language_info": {
      "codemirror_mode": {
        "name": "ipython",
        "version": 3
      },
      "file_extension": ".py",
      "mimetype": "text/x-python",
      "name": "python",
      "nbconvert_exporter": "python",
      "pygments_lexer": "ipython3",
      "version": "3.10.2 (tags/v3.10.2:a58ebcc, Jan 17 2022, 14:12:15) [MSC v.1929 64 bit (AMD64)]"
    },
    "vscode": {
      "interpreter": {
        "hash": "38519c3442d9f767135b0650f6935cb54106bd9267700919f92a37291a156600"
      }
    }
  },
  "nbformat": 4,
  "nbformat_minor": 0
}
