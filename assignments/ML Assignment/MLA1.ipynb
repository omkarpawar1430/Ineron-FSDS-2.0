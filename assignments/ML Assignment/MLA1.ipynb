{
 "cells": [
  {
   "attachments": {},
   "cell_type": "markdown",
   "metadata": {},
   "source": [
    "# Machine Learning Assignment 1"
   ]
  },
  {
   "attachments": {},
   "cell_type": "markdown",
   "metadata": {},
   "source": [
    "Link to [Questions](https://drive.google.com/file/d/14tdTD4OqanGZF_vUzcitWO25QAXnHyT_/view) "
   ]
  },
  {
   "attachments": {},
   "cell_type": "markdown",
   "metadata": {},
   "source": [
    "### Q 1 | Ans:"
   ]
  },
  {
   "attachments": {},
   "cell_type": "markdown",
   "metadata": {},
   "source": [
    "machine learning is the process of training a machine to recognize patterns in data, so that it can make predictions or decisions based on that data."
   ]
  },
  {
   "attachments": {},
   "cell_type": "markdown",
   "metadata": {},
   "source": [
    "### Q 2 | Ans:"
   ]
  },
  {
   "attachments": {},
   "cell_type": "markdown",
   "metadata": {},
   "source": [
    "Machine learning is used to automate tasks, make predictions, and improve decision-making in natural language processing, computer vision, speech recognition, recommendation systems, fraud detection, medical diagnosis, and stock market prediction."
   ]
  },
  {
   "attachments": {},
   "cell_type": "markdown",
   "metadata": {},
   "source": [
    "### Q 3 | Ans:"
   ]
  },
  {
   "attachments": {},
   "cell_type": "markdown",
   "metadata": {},
   "source": [
    "\n",
    "A labeled training set is a set of data that is used to train a machine learning model. The data in a labeled training set is labeled with the desired output. For example, if you are training a model to classify images of cats and dogs, the labeled training set would contain images of cats and dogs, each of which is labeled with the correct animal."
   ]
  },
  {
   "attachments": {},
   "cell_type": "markdown",
   "metadata": {},
   "source": [
    "### Q 4 | Ans:"
   ]
  },
  {
   "attachments": {},
   "cell_type": "markdown",
   "metadata": {},
   "source": [
    "\n",
    "The two most important tasks that are supervised are classification and regression.\n",
    "\n",
    "Classification is the task of assigning a label to an input. For example, you could use classification to classify images of cats and dogs, or to classify emails as spam or not spam.\n",
    "\n",
    "Regression is the task of predicting a continuous value. For example, you could use regression to predict the price of a house, or to predict the number of sales a company will make in a given month."
   ]
  },
  {
   "attachments": {},
   "cell_type": "markdown",
   "metadata": {},
   "source": [
    "### Q 5 | Ans:"
   ]
  },
  {
   "attachments": {},
   "cell_type": "markdown",
   "metadata": {},
   "source": [
    "Clustering is the task of grouping similar data points together. For example, you could use clustering to group customers into different segments, or to group genes into different pathways.\n",
    "\n",
    "Anomaly detection is the task of finding unusual data points. For example, you could use anomaly detection to find fraudulent transactions, or to find defects in manufactured products.\n",
    "\n",
    "Dimensionality reduction is the task of reducing the number of features in a dataset. For example, you could use dimensionality reduction to make it easier to visualize data, or to improve the performance of machine learning models.\n",
    "\n",
    "Association rule learning is the task of finding relationships between different items in a dataset. For example, you could use association rule learning to find products that are often purchased together, or to find symptoms that are often associated with a particular disease."
   ]
  },
  {
   "attachments": {},
   "cell_type": "markdown",
   "metadata": {},
   "source": [
    "### Q 6 | Ans:"
   ]
  },
  {
   "attachments": {},
   "cell_type": "markdown",
   "metadata": {},
   "source": [
    "\n",
    "The best machine learning model to make a robot walk through various unfamiliar terrains is reinforcement learning. Reinforcement learning is a type of machine learning that allows an agent to learn how to behave in an environment by trial and error. The agent is rewarded for taking actions that lead to desired outcomes, and penalized for taking actions that lead to undesired outcomes. Over time, the agent learns to take actions that maximize its rewards."
   ]
  },
  {
   "attachments": {},
   "cell_type": "markdown",
   "metadata": {},
   "source": [
    "### Q 7 | Ans:"
   ]
  },
  {
   "attachments": {},
   "cell_type": "markdown",
   "metadata": {},
   "source": [
    "I would use the k-means clustering algorithm to divide my customers into different groups. K-means is an unsupervised learning algorithm that groups data points into a predefined number of clusters. The algorithm is simple to understand and implement, and it can be used to cluster large datasets."
   ]
  },
  {
   "attachments": {},
   "cell_type": "markdown",
   "metadata": {},
   "source": [
    "### Q 8 | Ans:"
   ]
  },
  {
   "attachments": {},
   "cell_type": "markdown",
   "metadata": {},
   "source": [
    "Spam detection is a supervised learning problem. In supervised learning, we are given a set of training data that is labeled with the desired output. For example, if we are trying to train a spam filter, we would give the filter a set of emails that are labeled as spam or not spam. The filter would then learn to associate the features of an email with the label spam or not spam. Once the filter is trained, it can be used to classify new emails as spam or not spam."
   ]
  },
  {
   "attachments": {},
   "cell_type": "markdown",
   "metadata": {},
   "source": [
    "### Q 9 | Ans:"
   ]
  },
  {
   "attachments": {},
   "cell_type": "markdown",
   "metadata": {},
   "source": [
    "Online machine learning is a type of machine learning that continuously improves performance by processing new input in real-time."
   ]
  },
  {
   "attachments": {},
   "cell_type": "markdown",
   "metadata": {},
   "source": [
    "### Q 10 | Ans:"
   ]
  },
  {
   "attachments": {},
   "cell_type": "markdown",
   "metadata": {},
   "source": [
    "Out-of-core learning is used when a dataset is too large to fit into a computer's memory. The algorithm loads part of the data, runs a training step, then repeats the process until it has run on all the data."
   ]
  },
  {
   "attachments": {},
   "cell_type": "markdown",
   "metadata": {},
   "source": [
    "### Q 11 | Ans:"
   ]
  },
  {
   "attachments": {},
   "cell_type": "markdown",
   "metadata": {},
   "source": [
    "Instance-based algorithm"
   ]
  },
  {
   "attachments": {},
   "cell_type": "markdown",
   "metadata": {},
   "source": [
    "### Q 12 | Ans:"
   ]
  },
  {
   "attachments": {},
   "cell_type": "markdown",
   "metadata": {},
   "source": [
    "Model parameters are internal parameters that are learnt during machine learning process and hyper-parameters are manually specified.Hyper-parameters' values control the learning process and determine the final values of model parameters."
   ]
  },
  {
   "attachments": {},
   "cell_type": "markdown",
   "metadata": {},
   "source": [
    "### Q 13 | Ans:"
   ]
  },
  {
   "attachments": {},
   "cell_type": "markdown",
   "metadata": {},
   "source": [
    "A model-based approach aims to create a solution dedicated to each new application. Model-based machine learning does not require the problem to be transformed to fit standard algorithms, but provides custom algorithms tailored to the problem.\n",
    "\n"
   ]
  },
  {
   "attachments": {},
   "cell_type": "markdown",
   "metadata": {},
   "source": [
    "### Q 14 | Ans:"
   ]
  },
  {
   "attachments": {},
   "cell_type": "markdown",
   "metadata": {},
   "source": [
    "Overfitting is a problem that can occur in machine learning when the model learns the training data too well and is unable to generalize to new data. This can happen when the model is too complex or the training data is too small. Overfitting can be prevented by using a simpler model or by increasing the size of the training data.\n",
    "\n",
    "Quality of Data is an important factor in machine learning. The quality of the data can affect the accuracy of the model. Data that is noisy, incomplete, or biased can lead to inaccurate models. It is important to clean and prepare the data before training the model.\n",
    "\n",
    "Data that is nonrepresentative and produces less accurate predictions is a problem that can occur in machine learning. This can happen when the training data is not representative of the data that the model will be used on. For example, if the training data is all from one country, the model may not be able to generalize to data from other countries. It is important to use a training dataset that is representative of the data that the model will be used on.\n",
    "\n",
    "Underfitting is a problem that can occur in machine learning when the model does not learn the training data well enough. This can happen when the model is too simple or the training data is too large. Underfitting can be prevented by using a more complex model or by reducing the size of the training data."
   ]
  },
  {
   "attachments": {},
   "cell_type": "markdown",
   "metadata": {},
   "source": [
    "### Q 15 | Ans:"
   ]
  },
  {
   "attachments": {},
   "cell_type": "markdown",
   "metadata": {},
   "source": [
    "As said above , If the model has been trained too well on training data, it will be unable to generalize. It results due to overfitting. Another thing that can lead to this problem of not generalization is due to noise (redundancy) in data which confuses the model. Feeding irrelevant features to model is also an option and feature extraction is the solution to this problem."
   ]
  },
  {
   "attachments": {},
   "cell_type": "markdown",
   "metadata": {},
   "source": [
    "### Q 16 | Ans:"
   ]
  },
  {
   "attachments": {},
   "cell_type": "markdown",
   "metadata": {},
   "source": [
    "Testing data is used to check the accuracy of the model and to see how well it can predict new answers based on its training"
   ]
  },
  {
   "attachments": {},
   "cell_type": "markdown",
   "metadata": {},
   "source": [
    "### Q 17 | Ans:"
   ]
  },
  {
   "attachments": {},
   "cell_type": "markdown",
   "metadata": {},
   "source": [
    "This data set is used by ML engineers to fine-tune the model hyperparameters."
   ]
  },
  {
   "attachments": {},
   "cell_type": "markdown",
   "metadata": {},
   "source": [
    "### Q 18 | Ans:"
   ]
  },
  {
   "attachments": {},
   "cell_type": "markdown",
   "metadata": {},
   "source": [
    "Development set is just another name for validation set, which is used to tune the hyper-parameters i.e. architecture of your training algorithm, assess and inform your choice of algorithm and in a way guide it prevent over-fitting."
   ]
  },
  {
   "attachments": {},
   "cell_type": "markdown",
   "metadata": {},
   "source": [
    "### Q 19 | Ans:"
   ]
  },
  {
   "attachments": {},
   "cell_type": "markdown",
   "metadata": {},
   "source": [
    "You could risk overfitting the model because it's seen most of the test data already. It will create bias and model will also perform poorly on future, unseen data."
   ]
  },
  {
   "attachments": {},
   "cell_type": "markdown",
   "metadata": {},
   "source": [
    "### The End"
   ]
  }
 ],
 "metadata": {
  "language_info": {
   "name": "python"
  },
  "orig_nbformat": 4
 },
 "nbformat": 4,
 "nbformat_minor": 2
}
