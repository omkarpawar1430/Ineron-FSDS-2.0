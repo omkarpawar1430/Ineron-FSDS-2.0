{
  "cells": [
    {
      "cell_type": "markdown",
      "metadata": {
        "id": "cyOfbWCdOjEr"
      },
      "source": [
        "# ASSIGNMENTS - Compulsory\n",
        "## Send it before 0000 hrs IST or 12 AM Wednesday\n",
        "\n",
        "## NOTE: Evaluation will be done before next class.\n",
        "\n",
        "## HOW TO SUBMIT: -\n",
        "Download this notebook, Solve it and upload in the google form given in the mail."
      ]
    },
    {
      "attachments": {},
      "cell_type": "markdown",
      "metadata": {},
      "source": [
        "#### ## Python String Manipulation\n",
        "\n",
        "\n",
        "\n",
        "\n",
        "\n",
        "\n",
        "\n",
        "  ```\n",
        "\n"
      ]
    },
    {
      "attachments": {},
      "cell_type": "markdown",
      "metadata": {},
      "source": [
        "#### 1. Count the number of times `iNeuron` appears in the string.\n",
        "```python\n",
        "text = \"Welcome to iNeuron, You are a part of FSDS Bootcamp 2 in iNeuron. I hope you are enjoying the course by iNeuron\"\n",
        "```"
      ]
    },
    {
      "cell_type": "code",
      "execution_count": 4,
      "metadata": {
        "id": "KwVni9gipNi-"
      },
      "outputs": [
        {
          "name": "stdout",
          "output_type": "stream",
          "text": [
            " Word iNeuron appears in the given sentence for 3 times.\n"
          ]
        }
      ],
      "source": [
        "# To find the word iNeuron in the given sentence:\n",
        "\n",
        "text = \"Welcome to iNeuron, You are a part of FSDS Bootcamp 2 in iNeuron. I hope you are enjoying the course by iNeuron\"\n",
        "\n",
        "n = text.count(\"iNeuron\")\n",
        "print(f\" Word iNeuron appears in the given sentence for {n} times.\")"
      ]
    },
    {
      "attachments": {},
      "cell_type": "markdown",
      "metadata": {},
      "source": [
        "#### 2. Check if position `5` to `11` ends with the phrase `iNeuron.` in the string \n",
        "```python\n",
        "txt = \"Hello, welcome to FSDS 2.0 at iNeuron.\"\n",
        "```"
      ]
    },
    {
      "cell_type": "code",
      "execution_count": 7,
      "metadata": {},
      "outputs": [
        {
          "data": {
            "text/plain": [
              "True"
            ]
          },
          "execution_count": 7,
          "metadata": {},
          "output_type": "execute_result"
        }
      ],
      "source": [
        "txt = \"Hello, welcome to FSDS 2.0 at iNeuron.\"\n",
        "txt.endswith(\"iNeuron.\")"
      ]
    },
    {
      "attachments": {},
      "cell_type": "markdown",
      "metadata": {},
      "source": [
        "#### 3. Write a program that takes your full name as input and displays the abbreviations of the first and middle names except the last name which is displayed as it is. For example, if your name is Sunny Bhaveen Chandra, then the output should be S.B.Chandra."
      ]
    },
    {
      "cell_type": "code",
      "execution_count": 10,
      "metadata": {},
      "outputs": [
        {
          "name": "stdout",
          "output_type": "stream",
          "text": [
            "O. D. Pawar\n"
          ]
        }
      ],
      "source": [
        "name = input(\"Enter your name (fist name middle name last name):  \")\n",
        "print(f\"user input: {name}\")\n",
        "\n",
        "first_name, middle_name, last_name = name.split(\" \")\n",
        "\n",
        "print(f\"{first_name[0].upper()}. {middle_name[0].upper()}. {last_name}\")"
      ]
    },
    {
      "attachments": {},
      "cell_type": "markdown",
      "metadata": {},
      "source": [
        "#### 4. Join all items in a list into a string, using a hash(`#`) character as separator:\n",
        "```python\n",
        "LIST = [\"My\", \"name\", \"is\", \"Rishav\", \"Dash\"]\n",
        "```"
      ]
    },
    {
      "cell_type": "code",
      "execution_count": 18,
      "metadata": {},
      "outputs": [
        {
          "name": "stdout",
          "output_type": "stream",
          "text": [
            "My#name#is#Rishav#Dash\n"
          ]
        }
      ],
      "source": [
        "LIST = [\"My\", \"name\", \"is\", \"Rishav\", \"Dash\"]\n",
        "print(f\"{LIST[0]}#{LIST[1]}#{LIST[2]}#{LIST[3]}#{LIST[4]}\")"
      ]
    },
    {
      "attachments": {},
      "cell_type": "markdown",
      "metadata": {},
      "source": [
        "#### 5. Write example for the following string manipulation function,\n",
        "\n",
        "  ```\n",
        "  - isdecimal()\n",
        "  - islower()\n",
        "  - isupper()\n",
        "  - isalpha()\n",
        "  - isnumeric()"
      ]
    },
    {
      "cell_type": "code",
      "execution_count": 23,
      "metadata": {},
      "outputs": [
        {
          "name": "stdout",
          "output_type": "stream",
          "text": [
            "isdecimal: False\n",
            "islower: False\n",
            "isupper: True\n",
            "isalpha: True\n",
            "isnumeric: False\n"
          ]
        }
      ],
      "source": [
        "#isdecimal():\n",
        "x = input(\"Enter value:\")\n",
        "print(f\"isdecimal: {x.isdecimal()}\")\n",
        "print(f\"islower: {x.islower()}\")\n",
        "print(f\"isupper: {x.isupper()}\")\n",
        "print(f\"isalpha: {x.isalpha()}\")\n",
        "print(f\"isnumeric: {x.isnumeric()}\")"
      ]
    },
    {
      "attachments": {},
      "cell_type": "markdown",
      "metadata": {},
      "source": [
        "#### 6. Indian PAN card format follows the following formats - \n",
        "    - `AYEPC7894X`\n",
        "    - `ABCDE9999Y`\n",
        "  Take user input for PAN_CARD and validate as per the above example."
      ]
    },
    {
      "cell_type": "code",
      "execution_count": 42,
      "metadata": {},
      "outputs": [
        {
          "name": "stdout",
          "output_type": "stream",
          "text": [
            "User Input: ABCDE9999Y\n",
            "ABCDE9999Y is a valid pan number.\n"
          ]
        }
      ],
      "source": [
        "pan_number = input(\"Enter the number of your pan card:  \")\n",
        "print(f\"User Input: {pan_number}\")\n",
        "if len(pan_number) == 10 and pan_number[0:5].isupper() and pan_number[5:9].isdigit() and pan_number[9].isupper():\n",
        "    print(f\"{pan_number} is a valid pan number.\")\n",
        "else:\n",
        "    print(f\"{pan_number} is not a valid pan number.\")"
      ]
    }
  ],
  "metadata": {
    "colab": {
      "provenance": []
    },
    "kernelspec": {
      "display_name": "Python 3",
      "language": "python",
      "name": "python3"
    },
    "language_info": {
      "codemirror_mode": {
        "name": "ipython",
        "version": 3
      },
      "file_extension": ".py",
      "mimetype": "text/x-python",
      "name": "python",
      "nbconvert_exporter": "python",
      "pygments_lexer": "ipython3",
      "version": "3.10.2"
    },
    "vscode": {
      "interpreter": {
        "hash": "38519c3442d9f767135b0650f6935cb54106bd9267700919f92a37291a156600"
      }
    }
  },
  "nbformat": 4,
  "nbformat_minor": 0
}
