{
 "cells": [
  {
   "attachments": {},
   "cell_type": "markdown",
   "metadata": {},
   "source": [
    "# Python Programming Assignment 9"
   ]
  },
  {
   "attachments": {},
   "cell_type": "markdown",
   "metadata": {},
   "source": [
    "Link to [Questions](https://drive.google.com/file/d/1hdUGW5tzH08haEyPq8ttmK16I5POSlqp/view) "
   ]
  },
  {
   "attachments": {},
   "cell_type": "markdown",
   "metadata": {},
   "source": [
    "1. Write a Python program to check if the given number is a Disarium Number?\n",
    "2. Write a Python program to print all disarium numbers between 1 to 100?\n",
    "3. Write a Python program to check if the given number is Happy Number?\n",
    "4. Write a Python program to print all happy numbers between 1 and 100?\n",
    "5. Write a Python program to determine whether the given number is a Harshad Number?\n",
    "6. Write a Python program to print all pronic numbers between 1 and 100?"
   ]
  },
  {
   "attachments": {},
   "cell_type": "markdown",
   "metadata": {},
   "source": [
    "### Q 1 | Ans:"
   ]
  },
  {
   "attachments": {},
   "cell_type": "markdown",
   "metadata": {},
   "source": [
    "A Disarium number (also known as a digit power sum) is a type of number where the sum of its digits raised to their respective positions is equal to the number itself. In other words, a number is a disarium number if the sum of each digit raised to its position in the number is equal to the original number.\n",
    "\n",
    "For example, 175 is a disarium number because 1^1 + 7^2 + 5^3 = 1 + 49 + 125 = 175. Similarly, 89 is also a disarium number because 8^1 + 9^2 = 8 + 81 = 89.\n",
    "\n",
    "Not all numbers are disarium numbers, and they are relatively rare. The first few disarium numbers are 1, 2, 3, 4, 5, 6, 7, 8, 9, 89, 135, 175, 518, 598, 1306, 1676, 2427, 2646798, 134217728, and so on.\n",
    "\n",
    "- source ChatGPT\n"
   ]
  },
  {
   "cell_type": "code",
   "execution_count": 13,
   "metadata": {},
   "outputs": [
    {
     "name": "stdout",
     "output_type": "stream",
     "text": [
      "89 is a Disarium number.\n"
     ]
    }
   ],
   "source": [
    "# 8^1 + 9^2 = 8 + 81 = 89 ....(hence 89 is disarium number)\n",
    "# Take user input:\n",
    "# Keep it as string and iterate over it so we can access individual numbers... \n",
    "# Check if number fits in above criteria: \n",
    "# Test: \n",
    "\n",
    "def is_disarium_number(num):\n",
    "    num = str(num)\n",
    "    sum = 0\n",
    "    for i in range(len(num)):\n",
    "        sum = sum + (int(num[i]) ** (i + 1))\n",
    "    if int(num) == sum:\n",
    "        print(f'{num} is a Disarium number.')\n",
    "    else:\n",
    "        print(f'{num} is not a Disarium number.')\n",
    "\n",
    "is_disarium_number(89)"
   ]
  },
  {
   "attachments": {},
   "cell_type": "markdown",
   "metadata": {},
   "source": [
    "### Q 2 | Ans:"
   ]
  },
  {
   "cell_type": "code",
   "execution_count": 15,
   "metadata": {},
   "outputs": [
    {
     "name": "stdout",
     "output_type": "stream",
     "text": [
      "1 is a Disarium number.\n",
      "2 is a Disarium number.\n",
      "3 is a Disarium number.\n",
      "4 is a Disarium number.\n",
      "5 is a Disarium number.\n",
      "6 is a Disarium number.\n",
      "7 is a Disarium number.\n",
      "8 is a Disarium number.\n",
      "9 is a Disarium number.\n",
      "89 is a Disarium number.\n"
     ]
    }
   ],
   "source": [
    "def is_disarium_number(num):\n",
    "    num = str(num)\n",
    "    sum = 0\n",
    "    for i in range(len(num)):\n",
    "        sum = sum + (int(num[i]) ** (i + 1))\n",
    "    if int(num) == sum:\n",
    "        print(f'{num} is a Disarium number.')\n",
    "    # else:\n",
    "    #     print(f'{num} is not a Disarium number.')\n",
    "\n",
    "for i in range(1, 101):\n",
    "    is_disarium_number(i)"
   ]
  },
  {
   "attachments": {},
   "cell_type": "markdown",
   "metadata": {},
   "source": [
    "### Q 3 | Ans:"
   ]
  },
  {
   "attachments": {},
   "cell_type": "markdown",
   "metadata": {},
   "source": [
    "A happy number is a positive integer where the sum of the squares of its digits, when repeatedly calculated, eventually reaches 1. If the sum of squares of digits of a number does not equal 1, it is called a sad number.\n",
    "\n",
    "To check if a number is happy or not, we calculate the sum of squares of its digits and continue doing the same for the resulting sum, until we either get 1 or enter into a cycle of numbers. If we reach 1, then the number is a happy number, but if we get stuck in a cycle of numbers, then the number is a sad number.\n",
    "\n",
    "For example, let's consider the number 19:\n",
    "\n",
    "1^2 + 9^2 = 82\n",
    "\n",
    "8^2 + 2^2 = 68\n",
    "\n",
    "6^2 + 8^2 = 100\n",
    "\n",
    "1^2 + 0^2 + 0^2 = 1\n",
    "\n",
    "Since we have reached 1, we can conclude that 19 is a happy number.\n",
    "\n",
    "The first few happy numbers are: 1, 7, 10, 13, 19, 23, 28, 31, 32, 44, 49, 68, 70, 79, 82, 86, 91, 94, 97, 100, and so on.\n",
    "\n",
    "* source Internet"
   ]
  },
  {
   "cell_type": "code",
   "execution_count": 31,
   "metadata": {},
   "outputs": [
    {
     "data": {
      "text/plain": [
       "True"
      ]
     },
     "execution_count": 31,
     "metadata": {},
     "output_type": "execute_result"
    }
   ],
   "source": [
    "def is_happy_number(num):\n",
    "    num = str(num)\n",
    "    checked_num = set()\n",
    "    while True:\n",
    "        if num != '1' and num not in checked_num:\n",
    "            checked_num.add(num)\n",
    "            sum = 0\n",
    "            for i in range(len(num)):\n",
    "                sum = sum + (int(num[i])**2)\n",
    "            num = str(sum)\n",
    "        elif str(num) in checked_num:\n",
    "            return False\n",
    "        else:\n",
    "            return True\n",
    "\n",
    "is_happy_number(10)"
   ]
  },
  {
   "attachments": {},
   "cell_type": "markdown",
   "metadata": {},
   "source": [
    "### Q 4 | Ans:"
   ]
  },
  {
   "cell_type": "code",
   "execution_count": 32,
   "metadata": {},
   "outputs": [
    {
     "name": "stdout",
     "output_type": "stream",
     "text": [
      "[1, 7, 10, 13, 19, 23, 28, 31, 32, 44, 49, 68, 70, 79, 82, 86, 91, 94, 97, 100]\n"
     ]
    }
   ],
   "source": [
    "# Using above function\n",
    "\n",
    "happy_numbers = []\n",
    "for i in range(1, 101):\n",
    "    if is_happy_number(i):\n",
    "        happy_numbers.append(i)\n",
    "print(happy_numbers)\n"
   ]
  },
  {
   "attachments": {},
   "cell_type": "markdown",
   "metadata": {},
   "source": [
    "### Q 5 | Ans:"
   ]
  },
  {
   "cell_type": "code",
   "execution_count": 33,
   "metadata": {},
   "outputs": [
    {
     "name": "stdout",
     "output_type": "stream",
     "text": [
      "18 is a Harshad Number\n",
      "54 is a Harshad Number\n"
     ]
    }
   ],
   "source": [
    "def checkHarshadNumber():\n",
    "    in_num = input('Enter a Number: ')\n",
    "    sum = 0\n",
    "    for item in range(len(in_num)):\n",
    "        sum = sum + int(in_num[item])\n",
    "    if int(in_num)%sum == 0:\n",
    "        print(f'{in_num} is a Harshad Number')\n",
    "    else:\n",
    "        print(f'{in_num} is a Not Harshad Number')\n",
    "        \n",
    "checkHarshadNumber()\n",
    "checkHarshadNumber()"
   ]
  },
  {
   "attachments": {},
   "cell_type": "markdown",
   "metadata": {},
   "source": [
    "### Q6 | Ans:"
   ]
  },
  {
   "cell_type": "code",
   "execution_count": 19,
   "metadata": {},
   "outputs": [
    {
     "name": "stdout",
     "output_type": "stream",
     "text": [
      "[0, 2, 6, 12, 20, 30, 42, 56, 72, 90, 110, 132, 156, 182, 210, 240, 272, 306, 342, 380, 420, 462, 506, 552, 600, 650, 702, 756, 812, 870, 930, 992, 1056, 1122, 1190, 1260, 1332, 1406, 1482, 1560, 1640, 1722, 1806, 1892, 1980, 2070, 2162, 2256, 2352, 2450, 2550, 2652, 2756, 2862, 2970, 3080, 3192, 3306, 3422, 3540, 3660, 3782, 3906, 4032, 4160, 4290, 4422, 4556, 4692, 4830, 4970, 5112, 5256, 5402, 5550, 5700, 5852, 6006, 6162, 6320, 6480, 6642, 6806, 6972, 7140, 7310, 7482, 7656, 7832, 8010, 8190, 8372, 8556, 8742, 8930, 9120, 9312, 9506, 9702, 9900, 10100]\n"
     ]
    }
   ],
   "source": [
    "def printPronicNumbers(start=0,end=100):\n",
    "    outputList = []\n",
    "    for ele in range(start,end+1):\n",
    "        outputList.append((ele)*(ele+1))\n",
    "    print(outputList)\n",
    "                   \n",
    "printPronicNumbers()"
   ]
  },
  {
   "attachments": {},
   "cell_type": "markdown",
   "metadata": {},
   "source": [
    "### The End"
   ]
  }
 ],
 "metadata": {
  "kernelspec": {
   "display_name": "Python 3",
   "language": "python",
   "name": "python3"
  },
  "language_info": {
   "codemirror_mode": {
    "name": "ipython",
    "version": 3
   },
   "file_extension": ".py",
   "mimetype": "text/x-python",
   "name": "python",
   "nbconvert_exporter": "python",
   "pygments_lexer": "ipython3",
   "version": "3.10.6"
  },
  "orig_nbformat": 4
 },
 "nbformat": 4,
 "nbformat_minor": 2
}
