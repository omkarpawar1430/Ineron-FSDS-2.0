{
 "cells": [
  {
   "attachments": {},
   "cell_type": "markdown",
   "metadata": {},
   "source": [
    "# Python Programming Assignment 5"
   ]
  },
  {
   "attachments": {},
   "cell_type": "markdown",
   "metadata": {},
   "source": [
    "Link to [Questions](https://drive.google.com/file/d/1vjQLzHf3Cyr_pGAys0icHA_NcnHHlQ3e/view) "
   ]
  },
  {
   "attachments": {},
   "cell_type": "markdown",
   "metadata": {},
   "source": [
    "1. Write a Python Program to Find LCM?\n",
    "2. Write a Python Program to Find HCF?\n",
    "3. Write a Python Program to Convert Decimal to Binary, Octal and Hexadecimal?\n",
    "4. Write a Python Program To Find ASCII value of a character?\n",
    "5. Write a Python Program to Make a Simple Calculator with 4 basic mathematical operations?"
   ]
  },
  {
   "attachments": {},
   "cell_type": "markdown",
   "metadata": {},
   "source": [
    "### Q 1 | Ans:"
   ]
  },
  {
   "attachments": {},
   "cell_type": "markdown",
   "metadata": {},
   "source": [
    "LCM stands for Least Common Multiple. It is the smallest positive integer that is a multiple of two or more given numbers. In other words, it is the smallest number that is divisible by all the given numbers."
   ]
  },
  {
   "attachments": {},
   "cell_type": "markdown",
   "metadata": {},
   "source": [
    "Hint: https://www.mathsisfun.com/least-common-multiple.html"
   ]
  },
  {
   "cell_type": "code",
   "execution_count": 30,
   "metadata": {},
   "outputs": [
    {
     "name": "stdout",
     "output_type": "stream",
     "text": [
      "[12, 24, 36, 48, 60, 72, 84, 96, 108, 120, 132, 144, 156, 168, 180, 192, 204, 216, 228, 240, 252, 264, 276, 288, 300, 312, 324, 336, 348, 360, 372, 384, 396, 408, 420, 432, 444, 456, 468, 480, 492, 504, 516, 528, 540, 552, 564, 576, 588, 600, 612, 624, 636, 648, 660, 672, 684, 696, 708, 720, 732, 744, 756, 768, 780, 792, 804, 816, 828, 840, 852, 864, 876, 888, 900, 912, 924, 936, 948, 960, 972, 984, 996, 1008, 1020, 1032, 1044, 1056, 1068, 1080, 1092, 1104, 1116, 1128, 1140, 1152, 1164, 1176, 1188]\n",
      "[24, 48, 72, 96, 120, 144, 168, 192, 216, 240, 264, 288, 312, 336, 360, 384, 408, 432, 456, 480, 504, 528, 552, 576, 600, 624, 648, 672, 696, 720, 744, 768, 792, 816, 840, 864, 888, 912, 936, 960, 984, 1008, 1032, 1056, 1080, 1104, 1128, 1152, 1176, 1200, 1224, 1248, 1272, 1296, 1320, 1344, 1368, 1392, 1416, 1440, 1464, 1488, 1512, 1536, 1560, 1584, 1608, 1632, 1656, 1680, 1704, 1728, 1752, 1776, 1800, 1824, 1848, 1872, 1896, 1920, 1944, 1968, 1992, 2016, 2040, 2064, 2088, 2112, 2136, 2160, 2184, 2208, 2232, 2256, 2280, 2304, 2328, 2352, 2376]\n",
      "24\n"
     ]
    }
   ],
   "source": [
    "# To find LCM:\n",
    "\n",
    "def union_list(list_1, list_2):\n",
    "    # new_list = []\n",
    "    for i in range(len(list_1)):\n",
    "        if list_1[i] in list_2:\n",
    "            return print(list_1[i])\n",
    "            # new_list.append(list_1[i])\n",
    "    # return new_list       \n",
    "\n",
    "\n",
    "def lcm(a, b):\n",
    "    # new_list = [expression for item in iterable if condition]\n",
    "    list_1 = [a * i for i in range(1, 100)]\n",
    "    print(list_1)\n",
    "    list_2 = [b * i for i in range(1, 100)]\n",
    "    print(list_2)\n",
    "    #new_list = union_list(list_1, list_2)\n",
    "    # print(new_list[0])\n",
    "    return union_list(list_1, list_2)\n",
    "\n",
    "lcm(12, 24) "
   ]
  },
  {
   "cell_type": "code",
   "execution_count": 8,
   "metadata": {},
   "outputs": [
    {
     "name": "stdout",
     "output_type": "stream",
     "text": [
      "24\n"
     ]
    }
   ],
   "source": [
    "# Better approach:\n",
    "\n",
    "def gcd(a, b):\n",
    "    \"\"\"\n",
    "    Returns the GCD of two integers a and b using the Euclidean algorithm.\n",
    "    \"\"\"\n",
    "    if b == 0:\n",
    "        return a\n",
    "    else:\n",
    "        return gcd(b, a % b)\n",
    "\n",
    "def lcm(a, b):\n",
    "    return a * b // gcd(a, b)\n",
    "\n",
    "print(lcm(12, 24))"
   ]
  },
  {
   "attachments": {},
   "cell_type": "markdown",
   "metadata": {},
   "source": [
    "### Q 2 | Ans:"
   ]
  },
  {
   "cell_type": "code",
   "execution_count": null,
   "metadata": {},
   "outputs": [],
   "source": [
    "# To Find HCF:\n",
    "# HCF aka GCD :)\n",
    "def gcd(a, b):\n",
    "    \"\"\"\n",
    "    Returns the GCD of two integers a and b using the Euclidean algorithm.\n",
    "    \"\"\"\n",
    "    if b == 0:\n",
    "        return a\n",
    "    else:\n",
    "        return gcd(b, a % b)"
   ]
  },
  {
   "cell_type": "code",
   "execution_count": 10,
   "metadata": {},
   "outputs": [
    {
     "data": {
      "text/plain": [
       "2"
      ]
     },
     "execution_count": 10,
     "metadata": {},
     "output_type": "execute_result"
    }
   ],
   "source": [
    "6 % 4"
   ]
  },
  {
   "attachments": {},
   "cell_type": "markdown",
   "metadata": {},
   "source": [
    "### Q 3 | Ans:"
   ]
  },
  {
   "cell_type": "code",
   "execution_count": 11,
   "metadata": {},
   "outputs": [
    {
     "name": "stdout",
     "output_type": "stream",
     "text": [
      "Binary representation of 1234 is 0b10011010010\n",
      "Octal representation of 1234 is 0o2322\n",
      "Hexadecimal representation of 1234 is 0x4d2\n"
     ]
    }
   ],
   "source": [
    "decimal_number = 1234\n",
    "\n",
    "# decimal to binary:\n",
    "binary_number = bin(decimal_number)\n",
    "print(\"Binary representation of\", decimal_number, \"is\", binary_number)\n",
    "\n",
    "# decimal to octal:\n",
    "octal_number = oct(decimal_number)\n",
    "print(\"Octal representation of\", decimal_number, \"is\", octal_number)\n",
    "\n",
    "# decimal to hexadecimal:\n",
    "hexadecimal_number = hex(decimal_number)\n",
    "print(\"Hexadecimal representation of\", decimal_number, \"is\", hexadecimal_number)\n"
   ]
  },
  {
   "attachments": {},
   "cell_type": "markdown",
   "metadata": {},
   "source": [
    "### Q 4 | Ans:"
   ]
  },
  {
   "cell_type": "code",
   "execution_count": 12,
   "metadata": {},
   "outputs": [
    {
     "name": "stdout",
     "output_type": "stream",
     "text": [
      "97\n"
     ]
    }
   ],
   "source": [
    "# To get ASCII value:\n",
    "\n",
    "def get_ascii_value(char):\n",
    "    return ord(char)\n",
    "\n",
    "print(get_ascii_value('a'))"
   ]
  },
  {
   "attachments": {},
   "cell_type": "markdown",
   "metadata": {},
   "source": [
    "### Q 5 | Ans:"
   ]
  },
  {
   "cell_type": "code",
   "execution_count": 14,
   "metadata": {},
   "outputs": [
    {
     "data": {
      "text/plain": [
       "46"
      ]
     },
     "execution_count": 14,
     "metadata": {},
     "output_type": "execute_result"
    }
   ],
   "source": [
    "# Program for Simple Math Calculator:\n",
    "\n",
    "\n",
    "def simple_math_calculator(a, b, act):\n",
    "    if act == 'summation':\n",
    "        return a + b\n",
    "    elif act =='subtraction':\n",
    "        return a - b\n",
    "    elif act == 'division':\n",
    "        return a / b\n",
    "    elif act =='multiplication':\n",
    "            return a * b\n",
    "\n",
    "simple_math_calculator(23, 23, 'summation')"
   ]
  },
  {
   "attachments": {},
   "cell_type": "markdown",
   "metadata": {},
   "source": [
    "### The End"
   ]
  }
 ],
 "metadata": {
  "kernelspec": {
   "display_name": "Python 3",
   "language": "python",
   "name": "python3"
  },
  "language_info": {
   "codemirror_mode": {
    "name": "ipython",
    "version": 3
   },
   "file_extension": ".py",
   "mimetype": "text/x-python",
   "name": "python",
   "nbconvert_exporter": "python",
   "pygments_lexer": "ipython3",
   "version": "3.10.6"
  },
  "orig_nbformat": 4
 },
 "nbformat": 4,
 "nbformat_minor": 2
}
