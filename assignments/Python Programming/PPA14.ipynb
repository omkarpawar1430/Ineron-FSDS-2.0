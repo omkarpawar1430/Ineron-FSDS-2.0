{
 "cells": [
  {
   "attachments": {},
   "cell_type": "markdown",
   "metadata": {},
   "source": [
    "Question 1:\n",
    "Define a class with a generator which can iterate the numbers, which are divisible by\n",
    "7, between a given range 0 and n."
   ]
  },
  {
   "cell_type": "code",
   "execution_count": 1,
   "metadata": {},
   "outputs": [],
   "source": [
    "class Divisibility:\n",
    "    def __init__(self, num):\n",
    "        self.num = num\n",
    "\n",
    "    def divisibility_Generator(self):\n",
    "        '''It's a generator which are divisible from 0 to Infinity for given number'''\n",
    "        i = 0\n",
    "        while True:\n",
    "            i = i + 1\n",
    "            if i % self.num == 0:\n",
    "                yield i # yield keywords make your function as generator\n"
   ]
  },
  {
   "cell_type": "code",
   "execution_count": 2,
   "metadata": {},
   "outputs": [],
   "source": [
    "div_by_7 = Divisibility(7)\n"
   ]
  },
  {
   "cell_type": "code",
   "execution_count": 12,
   "metadata": {},
   "outputs": [],
   "source": [
    "# div_by_7.num\n",
    "gen_obj = div_by_7.divisibility_Generator()"
   ]
  },
  {
   "cell_type": "code",
   "execution_count": 11,
   "metadata": {},
   "outputs": [
    {
     "data": {
      "text/plain": [
       "28"
      ]
     },
     "execution_count": 11,
     "metadata": {},
     "output_type": "execute_result"
    }
   ],
   "source": [
    "gen_obj.__next__() # each time we run it it generates values works dynamically rather that storing all values.."
   ]
  },
  {
   "cell_type": "code",
   "execution_count": 15,
   "metadata": {},
   "outputs": [
    {
     "name": "stdout",
     "output_type": "stream",
     "text": [
      "[7, 14, 21, 28, 35, 42, 49, 56, 63, 70]\n"
     ]
    }
   ],
   "source": [
    "# extra: \n",
    "my_list = []\n",
    "for i in range(10):\n",
    "    my_list.append(gen_obj.__next__())\n",
    "print(my_list)"
   ]
  },
  {
   "attachments": {},
   "cell_type": "markdown",
   "metadata": {},
   "source": [
    "```\n",
    "Question 2:\n",
    "Write a program to compute the frequency of the words from the input. The output\n",
    "should output after sorting the key alphanumerically.\n",
    "Suppose the following input is supplied to the program:\n",
    "New to Python or choosing between Python 2 and Python 3? Read Python 2 or\n",
    "Python 3.\n",
    "Then, the output should be:\n",
    "2:2\n",
    "3.:1\n",
    "3?:1\n",
    "New:1\n",
    "Python:5\n",
    "Read:1\n",
    "and:1\n",
    "between:1\n",
    "choosing:1\n",
    "or:2\n",
    "to:1\n",
    "```\n"
   ]
  },
  {
   "cell_type": "code",
   "execution_count": 16,
   "metadata": {},
   "outputs": [
    {
     "name": "stdout",
     "output_type": "stream",
     "text": [
      "2:2\n",
      "3.:1\n",
      "3?:1\n",
      "New:1\n",
      "Python:5\n",
      "Read:1\n",
      "and:1\n",
      "between:1\n",
      "choosing:1\n",
      "or:2\n",
      "to:1\n"
     ]
    }
   ],
   "source": [
    "def word_frequency(input_text):\n",
    "    \n",
    "    words = input_text.split()\n",
    "    frequency = {}\n",
    "    for word in words:\n",
    "        if word in frequency:\n",
    "            frequency[word] += 1\n",
    "        else:\n",
    "            frequency[word] = 1\n",
    "    sorted_frequency = dict(sorted(frequency.items()))\n",
    "    for word, count in sorted_frequency.items():\n",
    "        print(f\"{word}:{count}\")\n",
    "\n",
    "input_text = \"New to Python or choosing between Python 2 and Python 3? Read Python 2 or Python 3.\"\n",
    "\n",
    "word_frequency(input_text)\n"
   ]
  },
  {
   "cell_type": "markdown",
   "metadata": {},
   "source": [
    "\n",
    "Question 3:\n",
    "\n",
    "Define a class Person and its two child classes: Male and Female. All classes have a\n",
    "method &quot;getGender&quot; which can print &quot;Male&quot; for Male class and &quot;Female&quot; for Female\n",
    "class.\n"
   ]
  },
  {
   "cell_type": "code",
   "execution_count": 19,
   "metadata": {},
   "outputs": [
    {
     "name": "stdout",
     "output_type": "stream",
     "text": [
      "Male\n",
      "Female\n"
     ]
    }
   ],
   "source": [
    "class Person:\n",
    "    def __init__(self, gender):\n",
    "        self.gender = gender\n",
    "    def get_Gender(self):\n",
    "        print(self.gender)\n",
    "\n",
    "male_obj = Person(\"Male\")\n",
    "female_obj = Person(\"Female\")\n",
    "\n",
    "male_obj.get_Gender()\n",
    "female_obj.get_Gender()"
   ]
  },
  {
   "cell_type": "markdown",
   "metadata": {},
   "source": [
    "\n",
    "Question 4:\n",
    "Please write a program to generate all sentences where subject is in [&quot;I&quot;, &quot;You&quot;] and\n",
    "verb is in [&quot;Play&quot;, &quot;Love&quot;] and the object is in [&quot;Hockey&quot;,&quot;Football&quot;].\n"
   ]
  },
  {
   "cell_type": "code",
   "execution_count": 20,
   "metadata": {},
   "outputs": [
    {
     "name": "stdout",
     "output_type": "stream",
     "text": [
      "I Play Hockey.\n",
      "I Play Football.\n",
      "I Love Hockey.\n",
      "I Love Football.\n",
      "You Play Hockey.\n",
      "You Play Football.\n",
      "You Love Hockey.\n",
      "You Love Football.\n"
     ]
    }
   ],
   "source": [
    "subject = ['I', \"You\"]\n",
    "verb = ['Play', \"Love\"]\n",
    "objects = ['Hockey', 'Football']\n",
    "\n",
    "for i in subject:\n",
    "    for j in verb:\n",
    "        for k in objects:\n",
    "            print(f\"{i} {j} {k}.\")"
   ]
  },
  {
   "cell_type": "markdown",
   "metadata": {},
   "source": [
    "\n",
    "Question 5:\n",
    "Please write a program to compress and decompress the string &quot;hello world!hello\n",
    "world!hello world!hello world!&quot;.\n"
   ]
  },
  {
   "cell_type": "code",
   "execution_count": 21,
   "metadata": {},
   "outputs": [
    {
     "name": "stdout",
     "output_type": "stream",
     "text": [
      "Original String: hello world!hello world!hello world!hello world!\n",
      "Compressed Data: b'x\\x9c\\xcbH\\xcd\\xc9\\xc9W(\\xcf/\\xcaIQ\\xcc \\x82\\r\\x00\\xbd[\\x11\\xf5'\n",
      "Decompressed String: hello world!hello world!hello world!hello world!\n"
     ]
    }
   ],
   "source": [
    "import zlib\n",
    "\n",
    "def compress_string(string):\n",
    "    compressed_data = zlib.compress(string.encode('utf-8'))\n",
    "    return compressed_data\n",
    "\n",
    "def decompress_string(compressed_data):\n",
    "    decompressed_string = zlib.decompress(compressed_data).decode('utf-8')\n",
    "    return decompressed_string\n",
    "\n",
    "# Original string\n",
    "original_string = \"hello world!hello world!hello world!hello world!\"\n",
    "print(\"Original String:\", original_string)\n",
    "\n",
    "# Compress the string\n",
    "compressed_data = compress_string(original_string)\n",
    "print(\"Compressed Data:\", compressed_data)\n",
    "\n",
    "# Decompress the string\n",
    "decompressed_string = decompress_string(compressed_data)\n",
    "print(\"Decompressed String:\", decompressed_string)\n"
   ]
  },
  {
   "cell_type": "markdown",
   "metadata": {},
   "source": [
    "\n",
    "Question 6:\n",
    "Please write a binary search function which searches an item in a sorted list. The\n",
    "function should return the index of element to be searched in the list."
   ]
  },
  {
   "cell_type": "code",
   "execution_count": 23,
   "metadata": {},
   "outputs": [
    {
     "name": "stdout",
     "output_type": "stream",
     "text": [
      "Element 7 found at index 3.\n"
     ]
    }
   ],
   "source": [
    "def binary_search(arr, target):\n",
    "    low = 0\n",
    "    high = len(arr) - 1\n",
    "\n",
    "    while low <= high:\n",
    "        mid = (low + high) // 2\n",
    "        if arr[mid] == target:\n",
    "            return mid\n",
    "        elif arr[mid] < target:\n",
    "            low = mid + 1\n",
    "        else:\n",
    "            high = mid - 1\n",
    "\n",
    "    return -1  # Element not found\n",
    "\n",
    "sorted_list = [1, 3, 5, 7, 9, 11, 13, 15]\n",
    "target = 7\n",
    "\n",
    "index = binary_search(sorted_list, target)\n",
    "if index != -1:\n",
    "    print(f\"Element {target} found at index {index}.\")\n",
    "else:\n",
    "    print(\"Element not found.\")\n"
   ]
  },
  {
   "attachments": {},
   "cell_type": "markdown",
   "metadata": {},
   "source": [
    "## The End"
   ]
  }
 ],
 "metadata": {
  "kernelspec": {
   "display_name": "Python 3",
   "language": "python",
   "name": "python3"
  },
  "language_info": {
   "codemirror_mode": {
    "name": "ipython",
    "version": 3
   },
   "file_extension": ".py",
   "mimetype": "text/x-python",
   "name": "python",
   "nbconvert_exporter": "python",
   "pygments_lexer": "ipython3",
   "version": "3.10.6"
  },
  "orig_nbformat": 4
 },
 "nbformat": 4,
 "nbformat_minor": 2
}
