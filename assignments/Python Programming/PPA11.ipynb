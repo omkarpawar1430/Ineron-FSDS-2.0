{
 "cells": [
  {
   "attachments": {},
   "cell_type": "markdown",
   "metadata": {},
   "source": [
    "# Python Programming Assignment 11"
   ]
  },
  {
   "attachments": {},
   "cell_type": "markdown",
   "metadata": {},
   "source": [
    "Link to [Questions](https://drive.google.com/file/d/1746HlOfuieTY61nVpgrfJJpcOY7IVlyW/view) "
   ]
  },
  {
   "attachments": {},
   "cell_type": "markdown",
   "metadata": {},
   "source": [
    "1. Write a Python program to find words which are greater than given length k?\n",
    "2. Write a Python program for removing i-th character from a string?\n",
    "3. Write a Python program to split and join a string?\n",
    "4. Write a Python to check if a given string is binary string or not?\n",
    "5. Write a Python program to find uncommon words from two Strings?\n",
    "6. Write a Python to find all duplicate characters in string?\n",
    "7. Write a Python Program to check if a string contains any special character?"
   ]
  },
  {
   "attachments": {},
   "cell_type": "markdown",
   "metadata": {},
   "source": [
    "### Q 1 | Ans:"
   ]
  },
  {
   "cell_type": "code",
   "execution_count": 5,
   "metadata": {},
   "outputs": [
    {
     "name": "stdout",
     "output_type": "stream",
     "text": [
      "Write\n",
      "Python\n",
      "program\n",
      "words\n",
      "which\n",
      "greater\n",
      "given\n",
      "length\n"
     ]
    }
   ],
   "source": [
    "# to find words which are greater than given length k:\n",
    "\n",
    "word_length = int(input('Set a word length: ')) # 4 \n",
    "\n",
    "sentence = 'Write a Python program to find words which are greater than given length k?'\n",
    "\n",
    "list_of_words = sentence.split(' ') # split gives list as output\n",
    "\n",
    "for i in list_of_words:\n",
    "    if len(i) > word_length:\n",
    "        print(i)\n",
    "\n"
   ]
  },
  {
   "attachments": {},
   "cell_type": "markdown",
   "metadata": {},
   "source": [
    "### Q 2 | Ans:"
   ]
  },
  {
   "cell_type": "code",
   "execution_count": 1,
   "metadata": {},
   "outputs": [
    {
     "name": "stdout",
     "output_type": "stream",
     "text": [
      "Omar\n"
     ]
    }
   ],
   "source": [
    "# Write a Python program for removing i-th character from a string?\n",
    "\n",
    "#string = input(\"Enter a String: \")\n",
    "#num = int(input(\"Enter number to remove ith character from a string: \"))\n",
    "string = 'Omkar'\n",
    "num = 2\n",
    "\n",
    "new_string = ''\n",
    "for i in range(len(string)):\n",
    "    if i == num:\n",
    "        continue\n",
    "    else:\n",
    "        new_string += string[i]\n",
    "print(new_string)"
   ]
  },
  {
   "attachments": {},
   "cell_type": "markdown",
   "metadata": {},
   "source": [
    "### Q 3 | Ans:"
   ]
  },
  {
   "cell_type": "code",
   "execution_count": 4,
   "metadata": {},
   "outputs": [
    {
     "data": {
      "text/plain": [
       "'hi how are you ?'"
      ]
     },
     "execution_count": 4,
     "metadata": {},
     "output_type": "execute_result"
    }
   ],
   "source": [
    "def split_N_join(string, delimiter):\n",
    "    list_of_substrings = string.split(delimiter)\n",
    "    delimiter = \" \"\n",
    "    joined_string = delimiter.join(list_of_substrings)\n",
    "    return(joined_string)\n",
    "\n",
    "split_N_join(\"hi,how,are,you,?\", \",\")"
   ]
  },
  {
   "attachments": {},
   "cell_type": "markdown",
   "metadata": {},
   "source": [
    "### Q 4 | Ans:"
   ]
  },
  {
   "cell_type": "code",
   "execution_count": 15,
   "metadata": {},
   "outputs": [
    {
     "data": {
      "text/plain": [
       "True"
      ]
     },
     "execution_count": 15,
     "metadata": {},
     "output_type": "execute_result"
    }
   ],
   "source": [
    "def is_binary_string(string):\n",
    "    for char in string:\n",
    "        if char != '0' and char != '1':\n",
    "            return False\n",
    "    return True\n",
    "\n",
    "is_binary_string(\"1010101\")\n"
   ]
  },
  {
   "attachments": {},
   "cell_type": "markdown",
   "metadata": {},
   "source": [
    "### Q 5 | Ans:"
   ]
  },
  {
   "cell_type": "code",
   "execution_count": 9,
   "metadata": {},
   "outputs": [
    {
     "name": "stdout",
     "output_type": "stream",
     "text": [
      "{'in', 'America', 'the', 'world.', 'India', 'every', 'country.', 'not', 'still'}\n"
     ]
    }
   ],
   "source": [
    "def find_uncommon_words(string1, string2):\n",
    "    words1 = string1.split()\n",
    "    words2 = string2.split()\n",
    "    set1 = set(words1)\n",
    "    set2 = set(words2)\n",
    "    uncommon_words = set1.symmetric_difference(set2)\n",
    "    return uncommon_words\n",
    "\n",
    "input_string1 = \"India is my country and I love my country.\"\n",
    "input_string2 = \"America is not my country and I still love every country in the world.\"\n",
    "uncommon_words = find_uncommon_words(input_string1, input_string2)\n",
    "print(uncommon_words)  \n"
   ]
  },
  {
   "attachments": {},
   "cell_type": "markdown",
   "metadata": {},
   "source": [
    "### Q 6 | Ans:"
   ]
  },
  {
   "cell_type": "code",
   "execution_count": 11,
   "metadata": {},
   "outputs": [
    {
     "name": "stdout",
     "output_type": "stream",
     "text": [
      "{'l', ' ', 'c', 'a', 'o', 'e'}\n"
     ]
    }
   ],
   "source": [
    "def find_dupl(string):\n",
    "    duplicates = set()\n",
    "    seen = set()\n",
    "    for char in string:\n",
    "        if char in seen:\n",
    "            duplicates.add(char)\n",
    "        else:\n",
    "            seen.add(char)\n",
    "    return duplicates\n",
    "\n",
    "input_string = \"Hello World of Data Science\"\n",
    "duplicate_chars = find_dupl(input_string)\n",
    "print(duplicate_chars)\n"
   ]
  },
  {
   "attachments": {},
   "cell_type": "markdown",
   "metadata": {},
   "source": [
    "### Q 7 | Ans:"
   ]
  },
  {
   "cell_type": "code",
   "execution_count": 14,
   "metadata": {},
   "outputs": [
    {
     "name": "stdout",
     "output_type": "stream",
     "text": [
      "True\n"
     ]
    }
   ],
   "source": [
    "import re\n",
    "\n",
    "def special_char_check(string):\n",
    "    pattern = r'[!@#$%^&*(),.?\":{}|<>]'\n",
    "    if re.search(pattern, string):\n",
    "        return True\n",
    "    else:\n",
    "        return False\n",
    "\n",
    "print(special_char_check(\"hello world!!!\"))\n"
   ]
  },
  {
   "attachments": {},
   "cell_type": "markdown",
   "metadata": {},
   "source": [
    "### The End"
   ]
  }
 ],
 "metadata": {
  "kernelspec": {
   "display_name": "Python 3",
   "language": "python",
   "name": "python3"
  },
  "language_info": {
   "codemirror_mode": {
    "name": "ipython",
    "version": 3
   },
   "file_extension": ".py",
   "mimetype": "text/x-python",
   "name": "python",
   "nbconvert_exporter": "python",
   "pygments_lexer": "ipython3",
   "version": "3.10.6"
  },
  "orig_nbformat": 4
 },
 "nbformat": 4,
 "nbformat_minor": 2
}
