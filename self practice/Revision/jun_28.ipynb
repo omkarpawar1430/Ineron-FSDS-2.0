{
 "cells": [
  {
   "cell_type": "markdown",
   "metadata": {},
   "source": [
    "Args, Inline, Closure, Decorator, Class, Duck_Type, Enum, Exception"
   ]
  },
  {
   "cell_type": "code",
   "execution_count": null,
   "metadata": {},
   "outputs": [],
   "source": [
    "def my_functions(parameters):\n",
    "    pass\n",
    "\n",
    "my_functions(parameters='Arguments')\n",
    "# When calling the function, you provide the actual values, known as arguments,\n",
    "#  that will be passed to the function for the respective parameters."
   ]
  },
  {
   "cell_type": "code",
   "execution_count": 7,
   "metadata": {},
   "outputs": [
    {
     "name": "stdout",
     "output_type": "stream",
     "text": [
      "<class 'tuple'>\n",
      "(23, 23, 2, 234)\n",
      "<class 'dict'>\n",
      "{'name': 'your_name', 'age': '343', 'gender': 'male'}\n"
     ]
    }
   ],
   "source": [
    "def print_my_values(*args, **kwargs): # The *args and **kwargs parameter allows us to pass any number of arguments to the function.\n",
    "    print(type(args)) # type of args in tuple... \n",
    "    print(args) \n",
    "    print(type(kwargs)) # type of kwargs is dict...\n",
    "    print(kwargs)\n",
    "\n",
    "print_my_values(23, 23, 2, 234, name='your_name', age = '343', gender = 'male')"
   ]
  },
  {
   "cell_type": "code",
   "execution_count": 1,
   "metadata": {},
   "outputs": [
    {
     "name": "stdout",
     "output_type": "stream",
     "text": [
      "text my text...\n"
     ]
    }
   ],
   "source": [
    "# closer : \n",
    "\n",
    "## nested function: \n",
    "# nested functions\n",
    "def outerFunction(text):\n",
    " \n",
    "    def innerFunction():\n",
    "        print(text)\n",
    " \n",
    "    innerFunction()\n",
    "# innerFunction() # inner function is not available outside of it's outer function\n",
    "outerFunction('text my text...')"
   ]
  },
  {
   "cell_type": "code",
   "execution_count": 7,
   "metadata": {},
   "outputs": [
    {
     "name": "stdout",
     "output_type": "stream",
     "text": [
      "<enum 'Color'>\n",
      "<class 'enum.EnumMeta'>\n",
      "Color.GREEN\n",
      "GREEN\n",
      "2\n"
     ]
    }
   ],
   "source": [
    "# enums:\n",
    "\n",
    "from enum import Enum\n",
    "\n",
    "class Color(Enum):\n",
    "    RED = 1\n",
    "    GREEN = 2\n",
    "    BLUE = 3\n",
    "\n",
    "print(Color)\n",
    "print(type(Color))\n",
    "print(Color.GREEN)\n",
    "print(Color.GREEN.name)\n",
    "print(Color.GREEN.value)"
   ]
  },
  {
   "cell_type": "code",
   "execution_count": null,
   "metadata": {},
   "outputs": [],
   "source": []
  },
  {
   "attachments": {},
   "cell_type": "markdown",
   "metadata": {},
   "source": [
    "Collections: [List, Dictionary, Set, Tuple, Range, Enumerate, Iterator, Generator]"
   ]
  },
  {
   "attachments": {},
   "cell_type": "markdown",
   "metadata": {},
   "source": [
    "Types:[Type, String, Regular_Exp, Format, Numbers, Combinatorics, Datetime]"
   ]
  },
  {
   "cell_type": "code",
   "execution_count": null,
   "metadata": {},
   "outputs": [],
   "source": []
  },
  {
   "cell_type": "code",
   "execution_count": null,
   "metadata": {},
   "outputs": [],
   "source": []
  }
 ],
 "metadata": {
  "kernelspec": {
   "display_name": "Python 3",
   "language": "python",
   "name": "python3"
  },
  "language_info": {
   "codemirror_mode": {
    "name": "ipython",
    "version": 3
   },
   "file_extension": ".py",
   "mimetype": "text/x-python",
   "name": "python",
   "nbconvert_exporter": "python",
   "pygments_lexer": "ipython3",
   "version": "3.10.6"
  },
  "orig_nbformat": 4
 },
 "nbformat": 4,
 "nbformat_minor": 2
}
