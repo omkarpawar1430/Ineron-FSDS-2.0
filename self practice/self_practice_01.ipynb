{
 "cells": [
  {
   "attachments": {},
   "cell_type": "markdown",
   "metadata": {},
   "source": [
    "# Self Practice:"
   ]
  },
  {
   "attachments": {},
   "cell_type": "markdown",
   "metadata": {},
   "source": [
    "### 1. Create a string made of the first, middle and last character"
   ]
  },
  {
   "cell_type": "code",
   "execution_count": 1,
   "metadata": {},
   "outputs": [
    {
     "name": "stdout",
     "output_type": "stream",
     "text": [
      "Okr\n"
     ]
    }
   ],
   "source": [
    "\n",
    "str1 = \"Omkar\"\n",
    "first = str1[0]\n",
    "middle = str1[int(len(str1)/2)]\n",
    "last = str1[-1]\n",
    "t = (first + middle + last)\n",
    "print(t)"
   ]
  },
  {
   "attachments": {},
   "cell_type": "markdown",
   "metadata": {},
   "source": [
    "### 2. How much time it will take for individual to complete data science course by ineuron?"
   ]
  },
  {
   "cell_type": "code",
   "execution_count": 9,
   "metadata": {},
   "outputs": [
    {
     "name": "stdout",
     "output_type": "stream",
     "text": [
      "daily_study_time: 8\n",
      "To complete Video Series: 131.25 days required\n",
      "To complete video and proper practice: 262.5 days required\n"
     ]
    }
   ],
   "source": [
    "course_duration = 1050\n",
    "daily_study_time = int(input('daily study time allocated *hrs: '))\n",
    "print(f\"daily_study_time: {daily_study_time}\")\n",
    "num_days_needed = course_duration/daily_study_time\n",
    "\n",
    "print(f\"To complete Video Series: {num_days_needed} days required\")\n",
    "print(f\"To complete video and proper practice: {num_days_needed * 2} days required\")"
   ]
  },
  {
   "attachments": {},
   "cell_type": "markdown",
   "metadata": {},
   "source": [
    "### 3. What is the use of `*args`? "
   ]
  },
  {
   "attachments": {},
   "cell_type": "markdown",
   "metadata": {},
   "source": [
    "Using `*args` allows us to pass a variable number of arguments to the function without having to explicitly specify how many arguments will be passed. This is particularly useful when we don't know in advance how many arguments the function will need to handle. By using *args, we can simply pass in any number of arguments, and they will all be collected into a tuple for the function to work with."
   ]
  },
  {
   "cell_type": "code",
   "execution_count": 2,
   "metadata": {},
   "outputs": [
    {
     "name": "stdout",
     "output_type": "stream",
     "text": [
      "1\n",
      "2\n",
      "3\n",
      "4\n",
      "5\n",
      "6\n",
      "7\n",
      "8\n",
      "9\n"
     ]
    }
   ],
   "source": [
    "def sum1(*args):\n",
    "    for i in args:\n",
    "        print(i)\n",
    "sum1(1, 2, 3, 4, 5, 6, 7, 8, 9)"
   ]
  },
  {
   "attachments": {},
   "cell_type": "markdown",
   "metadata": {},
   "source": [
    "### 4. Why we can't overwrite logging.basicConfig?\n",
    "\n"
   ]
  },
  {
   "attachments": {},
   "cell_type": "markdown",
   "metadata": {},
   "source": [
    "### 5. "
   ]
  }
 ],
 "metadata": {
  "kernelspec": {
   "display_name": "Python 3",
   "language": "python",
   "name": "python3"
  },
  "language_info": {
   "codemirror_mode": {
    "name": "ipython",
    "version": 3
   },
   "file_extension": ".py",
   "mimetype": "text/x-python",
   "name": "python",
   "nbconvert_exporter": "python",
   "pygments_lexer": "ipython3",
   "version": "3.10.2"
  },
  "orig_nbformat": 4,
  "vscode": {
   "interpreter": {
    "hash": "38519c3442d9f767135b0650f6935cb54106bd9267700919f92a37291a156600"
   }
  }
 },
 "nbformat": 4,
 "nbformat_minor": 2
}
