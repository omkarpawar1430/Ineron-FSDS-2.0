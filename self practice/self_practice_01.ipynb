{
 "cells": [
  {
   "attachments": {},
   "cell_type": "markdown",
   "metadata": {},
   "source": [
    "# Self Practice:"
   ]
  },
  {
   "attachments": {},
   "cell_type": "markdown",
   "metadata": {},
   "source": [
    "### 1. Create a string made of the first, middle and last character"
   ]
  },
  {
   "cell_type": "code",
   "execution_count": 1,
   "metadata": {},
   "outputs": [
    {
     "name": "stdout",
     "output_type": "stream",
     "text": [
      "Okr\n"
     ]
    }
   ],
   "source": [
    "\n",
    "str1 = \"Omkar\"\n",
    "first = str1[0]\n",
    "middle = str1[int(len(str1)/2)]\n",
    "last = str1[-1]\n",
    "t = (first + middle + last)\n",
    "print(t)"
   ]
  },
  {
   "attachments": {},
   "cell_type": "markdown",
   "metadata": {},
   "source": [
    "### 2. How much time it will take for individual to complete data science course by ineuron?"
   ]
  },
  {
   "cell_type": "code",
   "execution_count": 9,
   "metadata": {},
   "outputs": [
    {
     "name": "stdout",
     "output_type": "stream",
     "text": [
      "daily_study_time: 8\n",
      "To complete Video Series: 131.25 days required\n",
      "To complete video and proper practice: 262.5 days required\n"
     ]
    }
   ],
   "source": [
    "course_duration = 1050\n",
    "daily_study_time = int(input('daily study time allocated *hrs: '))\n",
    "print(f\"daily_study_time: {daily_study_time}\")\n",
    "num_days_needed = course_duration/daily_study_time\n",
    "\n",
    "print(f\"To complete Video Series: {num_days_needed} days required\")\n",
    "print(f\"To complete video and proper practice: {num_days_needed * 2} days required\")"
   ]
  },
  {
   "attachments": {},
   "cell_type": "markdown",
   "metadata": {},
   "source": [
    "### 3. What is the use of `*args`? "
   ]
  },
  {
   "attachments": {},
   "cell_type": "markdown",
   "metadata": {},
   "source": [
    "Using `*args` allows us to pass a variable number of arguments to the function without having to explicitly specify how many arguments will be passed. This is particularly useful when we don't know in advance how many arguments the function will need to handle. By using *args, we can simply pass in any number of arguments, and they will all be collected into a tuple for the function to work with."
   ]
  },
  {
   "cell_type": "code",
   "execution_count": 2,
   "metadata": {},
   "outputs": [
    {
     "name": "stdout",
     "output_type": "stream",
     "text": [
      "1\n",
      "2\n",
      "3\n",
      "4\n",
      "5\n",
      "6\n",
      "7\n",
      "8\n",
      "9\n"
     ]
    }
   ],
   "source": [
    "def sum1(*args):\n",
    "    for i in args:\n",
    "        print(i)\n",
    "sum1(1, 2, 3, 4, 5, 6, 7, 8, 9)"
   ]
  },
  {
   "attachments": {},
   "cell_type": "markdown",
   "metadata": {},
   "source": [
    "### 4. Why we can't overwrite logging.basicConfig?\n",
    "\n"
   ]
  },
  {
   "attachments": {},
   "cell_type": "markdown",
   "metadata": {},
   "source": [
    "### 5. Calculate power on Number:"
   ]
  },
  {
   "cell_type": "code",
   "execution_count": 36,
   "metadata": {},
   "outputs": [
    {
     "data": {
      "text/plain": [
       "81"
      ]
     },
     "execution_count": 36,
     "metadata": {},
     "output_type": "execute_result"
    }
   ],
   "source": [
    "def power(a, b):\n",
    "    x = a \n",
    "    if not b == 1:\n",
    "        for i in range(b-1):\n",
    "            a = a * x\n",
    "        return a\n",
    "    else:\n",
    "        return a\n",
    "\n",
    "\n",
    "power(9, 2)"
   ]
  },
  {
   "attachments": {},
   "cell_type": "markdown",
   "metadata": {},
   "source": [
    "Understand this code :"
   ]
  },
  {
   "cell_type": "code",
   "execution_count": 8,
   "metadata": {},
   "outputs": [
    {
     "name": "stdout",
     "output_type": "stream",
     "text": [
      "[2, 3, 5, 7]\n"
     ]
    }
   ],
   "source": [
    "def isPrime(n):\n",
    "\tif n==1:\n",
    "\t\treturn False\n",
    "\tif n==2 or n==3:\n",
    "\t\treturn True\n",
    "\tif n%2==0 or n%3==0:\n",
    "\t\treturn False\n",
    "\ti=5\n",
    "\twhile (i*i) <=n:\n",
    "\t\tif n%i ==0  or n%(i+2)==0:\n",
    "\t\t\treturn False\n",
    "\t\ti+=6 \n",
    "\treturn True\n",
    "\n",
    "def get_primes(n):\n",
    "    primes = []\n",
    "    for i in range(2, n+1):\n",
    "        if isPrime(i):\n",
    "            primes.append(i)\n",
    "    return primes\n",
    "\n",
    "\n",
    "n = 10\n",
    "\n",
    "primes = get_primes(n)\n",
    "print(primes)"
   ]
  },
  {
   "cell_type": "code",
   "execution_count": 3,
   "metadata": {},
   "outputs": [
    {
     "name": "stdout",
     "output_type": "stream",
     "text": [
      "4 23\n",
      "4 23\n",
      "4 23\n"
     ]
    },
    {
     "data": {
      "text/plain": [
       "True"
      ]
     },
     "execution_count": 3,
     "metadata": {},
     "output_type": "execute_result"
    }
   ],
   "source": [
    "def isPrime(n):\n",
    "    \"\"\"\n",
    "    Check if a number is prime or not\n",
    "    \"\"\"\n",
    "    if n < 2:\n",
    "        return False\n",
    "    for i in range(2, int(n**0.5) + 1):\n",
    "        print(int(n**0.5), n)\n",
    "        if n % i == 0:\n",
    "            return False\n",
    "    return True\n",
    "\n",
    "isPrime(3)"
   ]
  },
  {
   "cell_type": "code",
   "execution_count": 12,
   "metadata": {},
   "outputs": [
    {
     "name": "stdout",
     "output_type": "stream",
     "text": [
      "[1, 1, 2, 6, 24, 120]\n"
     ]
    }
   ],
   "source": [
    "def generate_factorials(n):\n",
    "    \"\"\"\n",
    "    Generates a list of factorials from 1 to n.\n",
    "    \"\"\"\n",
    "    factorials = [1]\n",
    "    for i in range(1, n+1):\n",
    "        factorials.append(factorials[-1] * i)\n",
    "    return factorials\n",
    "\n",
    "# Example usage:\n",
    "n = 5\n",
    "factorials = generate_factorials(n)\n",
    "print(factorials)\n"
   ]
  },
  {
   "attachments": {},
   "cell_type": "markdown",
   "metadata": {},
   "source": [
    "Genrators"
   ]
  },
  {
   "cell_type": "code",
   "execution_count": 10,
   "metadata": {},
   "outputs": [
    {
     "name": "stdout",
     "output_type": "stream",
     "text": [
      "[1, 2, 5, 10]\n"
     ]
    }
   ],
   "source": [
    "def generate_factors(n):\n",
    "    \"\"\"\n",
    "    Generates a list of factors for a given number.\n",
    "    \"\"\"\n",
    "    factors = []\n",
    "    for i in range(1, n+1):\n",
    "        if n % i == 0:\n",
    "            factors.append(i)\n",
    "    return factors\n",
    "\n",
    "# Example usage:\n",
    "n = 10\n",
    "factors = generate_factors(n)\n",
    "print(factors)\n"
   ]
  }
 ],
 "metadata": {
  "kernelspec": {
   "display_name": "Python 3",
   "language": "python",
   "name": "python3"
  },
  "language_info": {
   "codemirror_mode": {
    "name": "ipython",
    "version": 3
   },
   "file_extension": ".py",
   "mimetype": "text/x-python",
   "name": "python",
   "nbconvert_exporter": "python",
   "pygments_lexer": "ipython3",
   "version": "3.10.2"
  },
  "orig_nbformat": 4,
  "vscode": {
   "interpreter": {
    "hash": "38519c3442d9f767135b0650f6935cb54106bd9267700919f92a37291a156600"
   }
  }
 },
 "nbformat": 4,
 "nbformat_minor": 2
}
