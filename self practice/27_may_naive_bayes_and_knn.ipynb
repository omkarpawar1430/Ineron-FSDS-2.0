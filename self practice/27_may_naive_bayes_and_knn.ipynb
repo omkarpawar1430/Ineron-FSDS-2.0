{
 "cells": [
  {
   "cell_type": "code",
   "execution_count": 1,
   "metadata": {},
   "outputs": [
    {
     "name": "stdout",
     "output_type": "stream",
     "text": [
      "Probability of drawing a blue marble (P(B)): 0.33\n",
      "Probability of drawing a blue marble given that it's green (P(B|A)): 0.75\n"
     ]
    }
   ],
   "source": [
    "# Given data\n",
    "total_marbles = 10 + 15 + 20\n",
    "total_blue_marbles = 15\n",
    "total_green_marbles = 20\n",
    "\n",
    "# Calculate the probability of drawing a blue marble (P(B))\n",
    "probability_blue = total_blue_marbles / total_marbles\n",
    "\n",
    "# Calculate the probability of drawing a blue marble given that it's green (P(B|A))\n",
    "probability_blue_given_green = total_blue_marbles / total_green_marbles\n",
    "\n",
    "# Print the results\n",
    "print(\"Probability of drawing a blue marble (P(B)): {:.2f}\".format(probability_blue))\n",
    "print(\"Probability of drawing a blue marble given that it's green (P(B|A)): {:.2f}\".format(probability_blue_given_green))\n"
   ]
  },
  {
   "cell_type": "code",
   "execution_count": 2,
   "metadata": {},
   "outputs": [
    {
     "name": "stdout",
     "output_type": "stream",
     "text": [
      "   Gender_Female  Gender_Male  Education_Graduate  Education_Undergraduate\n",
      "0          False         True                True                    False\n",
      "1           True        False               False                     True\n",
      "2          False         True                True                    False\n",
      "3           True        False                True                    False\n",
      "4          False         True               False                     True\n"
     ]
    }
   ],
   "source": [
    "import pandas as pd\n",
    "\n",
    "# Sample data\n",
    "data = {'Gender': ['Male', 'Female', 'Male', 'Female', 'Male'],\n",
    "        'Education': ['Graduate', 'Undergraduate', 'Graduate', 'Graduate', 'Undergraduate']}\n",
    "df = pd.DataFrame(data)\n",
    "\n",
    "# Convert categorical variables into dummy variables\n",
    "dummies = pd.get_dummies(df, columns=['Gender', 'Education'])\n",
    "\n",
    "# Display the result\n",
    "print(dummies)\n"
   ]
  },
  {
   "cell_type": "code",
   "execution_count": null,
   "metadata": {},
   "outputs": [],
   "source": [
    "import "
   ]
  }
 ],
 "metadata": {
  "kernelspec": {
   "display_name": "Python 3",
   "language": "python",
   "name": "python3"
  },
  "language_info": {
   "codemirror_mode": {
    "name": "ipython",
    "version": 3
   },
   "file_extension": ".py",
   "mimetype": "text/x-python",
   "name": "python",
   "nbconvert_exporter": "python",
   "pygments_lexer": "ipython3",
   "version": "3.10.6"
  },
  "orig_nbformat": 4
 },
 "nbformat": 4,
 "nbformat_minor": 2
}
